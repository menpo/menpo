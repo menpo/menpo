{
 "metadata": {
  "name": ""
 },
 "nbformat": 3,
 "nbformat_minor": 0,
 "worksheets": [
  {
   "cells": [
    {
     "cell_type": "code",
     "collapsed": false,
     "input": [
      "from pybug.io import auto_import\n",
      "from pybug import data_path_to"
     ],
     "language": "python",
     "metadata": {},
     "outputs": []
    },
    {
     "cell_type": "code",
     "collapsed": false,
     "input": [
      "breakingbad = auto_import(data_path_to('breakingbad.jpg'))[0]\n",
      "einstein = auto_import(data_path_to('einstein.jpg'))[0]"
     ],
     "language": "python",
     "metadata": {},
     "outputs": []
    },
    {
     "cell_type": "code",
     "collapsed": false,
     "input": [
      "breakingbad.crop_to_landmarks()\n",
      "breakingbad.constrain_mask_to_landmarks()\n",
      "breakingbad.landmarks.view()"
     ],
     "language": "python",
     "metadata": {},
     "outputs": []
    },
    {
     "cell_type": "code",
     "collapsed": false,
     "input": [
      "einstein.crop_to_landmarks()\n",
      "einstein.constrain_mask_to_landmarks()\n",
      "einstein.landmarks.view()"
     ],
     "language": "python",
     "metadata": {},
     "outputs": []
    },
    {
     "cell_type": "code",
     "collapsed": false,
     "input": [
      "from pybug.transform.tps import TPS\n",
      "from pybug.transform.piecewiseaffine import PiecewiseAffineTransform\n",
      "\n",
      "tps_e_to_bb = TPS(einstein.landmarks['PTS'].lms, breakingbad.landmarks['PTS'].lms)\n",
      "pwa_e_to_bb = PiecewiseAffineTransform(einstein.landmarks['PTS'].lms, breakingbad.landmarks['PTS'].lms)\n",
      "\n",
      "pwa_bb_to_e = PiecewiseAffineTransform(breakingbad.landmarks['PTS'].lms, einstein.landmarks['PTS'].lms)"
     ],
     "language": "python",
     "metadata": {},
     "outputs": []
    },
    {
     "cell_type": "code",
     "collapsed": false,
     "input": [
      "warped_bb_to_e_pwa = breakingbad.warp_to(einstein.mask, pwa_e_to_bb)\n",
      "warped_bb_to_e_tps = breakingbad.warp_to(einstein.mask, tps_e_to_bb)"
     ],
     "language": "python",
     "metadata": {},
     "outputs": []
    },
    {
     "cell_type": "code",
     "collapsed": false,
     "input": [
      "warped_bb_to_e_pwa.view()"
     ],
     "language": "python",
     "metadata": {},
     "outputs": []
    },
    {
     "cell_type": "code",
     "collapsed": false,
     "input": [
      "warped_bb_to_e_tps.view()"
     ],
     "language": "python",
     "metadata": {},
     "outputs": []
    },
    {
     "cell_type": "code",
     "collapsed": false,
     "input": [
      "warped_e_to_bb_pwa = einstein.warp_to(breakingbad.mask, pwa_bb_to_e)"
     ],
     "language": "python",
     "metadata": {},
     "outputs": []
    },
    {
     "cell_type": "code",
     "collapsed": false,
     "input": [
      "warped_e_to_bb_pwa.view()"
     ],
     "language": "python",
     "metadata": {},
     "outputs": []
    },
    {
     "cell_type": "code",
     "collapsed": false,
     "input": [
      "warped_e_to_bb_pwa.view()"
     ],
     "language": "python",
     "metadata": {},
     "outputs": []
    }
   ],
   "metadata": {}
  }
 ]
}