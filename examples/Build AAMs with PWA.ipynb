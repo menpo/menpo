{
 "metadata": {
  "name": ""
 },
 "nbformat": 3,
 "nbformat_minor": 0,
 "worksheets": [
  {
   "cells": [
    {
     "cell_type": "markdown",
     "metadata": {},
     "source": [
      "## Build Active Appearance Models (AAMs) with Piece-Wise Affine (PWA) warps\n",
      "##### Version 0.1"
     ]
    },
    {
     "cell_type": "markdown",
     "metadata": {},
     "source": [
      "### 1 Load data"
     ]
    },
    {
     "cell_type": "markdown",
     "metadata": {
      "slideshow": {
       "slide_type": "-"
      }
     },
     "source": [
      "Use the **autoimporter** to automatically load the *annotated* training imagesof the *Labelled Faces Parts in the Wild (LFPW)* dataset."
     ]
    },
    {
     "cell_type": "code",
     "collapsed": false,
     "input": [
      "from pybug.io import auto_import\n",
      "from pybug.landmark.labels import ibug_68_points, ibug_68_contour, ibug_68_trimesh, labeller\n",
      "\n",
      "# load training images as landmarked images using the autoimporter\n",
      "images = auto_import('/vol/atlas/databases/lfpw/trainset/' + '*.png')\n",
      "\n",
      "# label landmarks using the ibug's \"standard\" 68 points mark-up\n",
      "labeller(images, 'PTS', ibug_68_points)\n",
      "labeller(images, 'PTS', ibug_68_contour)\n",
      "labeller(images, 'PTS', ibug_68_trimesh)"
     ],
     "language": "python",
     "metadata": {
      "slideshow": {
       "slide_type": "-"
      }
     },
     "outputs": [
      {
       "output_type": "stream",
       "stream": "stdout",
       "text": [
        "Found 811 files. (0/811) are importable\n",
        "\n"
       ]
      },
      {
       "output_type": "stream",
       "stream": "stdout",
       "text": [
        "Found 811 files. (811/811) are importable\n",
        "\r",
        "Creating importer for <pybug.io.image.PILImporter object at 0x8a6ab90> (1 of 811)"
       ]
      },
      {
       "output_type": "stream",
       "stream": "stdout",
       "text": [
        "\r",
        "Creating importer for <pybug.io.image.PILImporter object at 0x8b44050> (2 of 811)"
       ]
      },
      {
       "output_type": "stream",
       "stream": "stdout",
       "text": [
        "\r",
        "Creating importer for <pybug.io.image.PILImporter object at 0x8b44090> (3 of 811)"
       ]
      },
      {
       "output_type": "stream",
       "stream": "stdout",
       "text": [
        "\r",
        "Creating importer for <pybug.io.image.PILImporter object at 0x8b440d0> (4 of 811)"
       ]
      },
      {
       "output_type": "stream",
       "stream": "stdout",
       "text": [
        "\r",
        "Creating importer for <pybug.io.image.PILImporter object at 0x8b44110> (5 of 811)"
       ]
      },
      {
       "output_type": "stream",
       "stream": "stdout",
       "text": [
        "\r",
        "Creating importer for <pybug.io.image.PILImporter object at 0x8b44150> (6 of 811)"
       ]
      },
      {
       "output_type": "stream",
       "stream": "stdout",
       "text": [
        "\r",
        "Creating importer for <pybug.io.image.PILImporter object at 0x8b44190> (7 of 811)"
       ]
      },
      {
       "output_type": "stream",
       "stream": "stdout",
       "text": [
        "\r",
        "Creating importer for <pybug.io.image.PILImporter object at 0x8b441d0> (8 of 811)"
       ]
      },
      {
       "output_type": "stream",
       "stream": "stdout",
       "text": [
        "\r",
        "Creating importer for <pybug.io.image.PILImporter object at 0x8b44210> (9 of 811)"
       ]
      },
      {
       "output_type": "stream",
       "stream": "stdout",
       "text": [
        "\r",
        "Creating importer for <pybug.io.image.PILImporter object at 0x8b44250> (10 of 811)"
       ]
      },
      {
       "output_type": "stream",
       "stream": "stdout",
       "text": [
        "\r",
        "Creating importer for <pybug.io.image.PILImporter object at 0x8b44290> (11 of 811)"
       ]
      },
      {
       "output_type": "stream",
       "stream": "stdout",
       "text": [
        "\r",
        "Creating importer for <pybug.io.image.PILImporter object at 0x8b442d0> (12 of 811)"
       ]
      },
      {
       "output_type": "stream",
       "stream": "stdout",
       "text": [
        "\r",
        "Creating importer for <pybug.io.image.PILImporter object at 0x8b44310> (13 of 811)"
       ]
      },
      {
       "output_type": "stream",
       "stream": "stdout",
       "text": [
        "\r",
        "Creating importer for <pybug.io.image.PILImporter object at 0x8b44350> (14 of 811)"
       ]
      },
      {
       "output_type": "stream",
       "stream": "stdout",
       "text": [
        "\r",
        "Creating importer for <pybug.io.image.PILImporter object at 0x8b44390> (15 of 811)"
       ]
      },
      {
       "output_type": "stream",
       "stream": "stdout",
       "text": [
        "\r",
        "Creating importer for <pybug.io.image.PILImporter object at 0x8b443d0> (16 of 811)"
       ]
      },
      {
       "output_type": "stream",
       "stream": "stdout",
       "text": [
        "\r",
        "Creating importer for <pybug.io.image.PILImporter object at 0x8b44410> (17 of 811)"
       ]
      },
      {
       "output_type": "stream",
       "stream": "stdout",
       "text": [
        "\r",
        "Creating importer for <pybug.io.image.PILImporter object at 0x8b44450> (18 of 811)"
       ]
      },
      {
       "output_type": "stream",
       "stream": "stdout",
       "text": [
        "\r",
        "Creating importer for <pybug.io.image.PILImporter object at 0x8b44490> (19 of 811)"
       ]
      },
      {
       "output_type": "stream",
       "stream": "stdout",
       "text": [
        "\r",
        "Creating importer for <pybug.io.image.PILImporter object at 0x8b444d0> (20 of 811)"
       ]
      },
      {
       "output_type": "stream",
       "stream": "stdout",
       "text": [
        "\r",
        "Creating importer for <pybug.io.image.PILImporter object at 0x8b44510> (21 of 811)"
       ]
      },
      {
       "output_type": "stream",
       "stream": "stdout",
       "text": [
        "\r",
        "Creating importer for <pybug.io.image.PILImporter object at 0x8b44550> (22 of 811)"
       ]
      },
      {
       "output_type": "stream",
       "stream": "stdout",
       "text": [
        "\r",
        "Creating importer for <pybug.io.image.PILImporter object at 0x8b44590> (23 of 811)"
       ]
      },
      {
       "output_type": "stream",
       "stream": "stdout",
       "text": [
        "\r",
        "Creating importer for <pybug.io.image.PILImporter object at 0x8b445d0> (24 of 811)"
       ]
      },
      {
       "output_type": "stream",
       "stream": "stdout",
       "text": [
        "\r",
        "Creating importer for <pybug.io.image.PILImporter object at 0x8b44610> (25 of 811)"
       ]
      },
      {
       "output_type": "stream",
       "stream": "stdout",
       "text": [
        "\r",
        "Creating importer for <pybug.io.image.PILImporter object at 0x8b44650> (26 of 811)"
       ]
      },
      {
       "output_type": "stream",
       "stream": "stdout",
       "text": [
        "\r",
        "Creating importer for <pybug.io.image.PILImporter object at 0x8b44690> (27 of 811)"
       ]
      },
      {
       "output_type": "stream",
       "stream": "stdout",
       "text": [
        "\r",
        "Creating importer for <pybug.io.image.PILImporter object at 0x8b446d0> (28 of 811)"
       ]
      },
      {
       "output_type": "stream",
       "stream": "stdout",
       "text": [
        "\r",
        "Creating importer for <pybug.io.image.PILImporter object at 0x8b44710> (29 of 811)"
       ]
      },
      {
       "output_type": "stream",
       "stream": "stdout",
       "text": [
        "\r",
        "Creating importer for <pybug.io.image.PILImporter object at 0x8b44750> (30 of 811)"
       ]
      },
      {
       "output_type": "stream",
       "stream": "stdout",
       "text": [
        "\r",
        "Creating importer for <pybug.io.image.PILImporter object at 0x8b44790> (31 of 811)"
       ]
      },
      {
       "output_type": "stream",
       "stream": "stdout",
       "text": [
        "\r",
        "Creating importer for <pybug.io.image.PILImporter object at 0x8b447d0> (32 of 811)"
       ]
      },
      {
       "output_type": "stream",
       "stream": "stdout",
       "text": [
        "\r",
        "Creating importer for <pybug.io.image.PILImporter object at 0x8b44810> (33 of 811)"
       ]
      },
      {
       "output_type": "stream",
       "stream": "stdout",
       "text": [
        "\r",
        "Creating importer for <pybug.io.image.PILImporter object at 0x8b44850> (34 of 811)"
       ]
      },
      {
       "output_type": "stream",
       "stream": "stdout",
       "text": [
        "\r",
        "Creating importer for <pybug.io.image.PILImporter object at 0x8b44890> (35 of 811)"
       ]
      },
      {
       "output_type": "stream",
       "stream": "stdout",
       "text": [
        "\r",
        "Creating importer for <pybug.io.image.PILImporter object at 0x8b448d0> (36 of 811)"
       ]
      },
      {
       "output_type": "stream",
       "stream": "stdout",
       "text": [
        "\r",
        "Creating importer for <pybug.io.image.PILImporter object at 0x8b44910> (37 of 811)"
       ]
      },
      {
       "output_type": "stream",
       "stream": "stdout",
       "text": [
        "\r",
        "Creating importer for <pybug.io.image.PILImporter object at 0x8b44950> (38 of 811)"
       ]
      },
      {
       "output_type": "stream",
       "stream": "stdout",
       "text": [
        "\r",
        "Creating importer for <pybug.io.image.PILImporter object at 0x8b44990> (39 of 811)"
       ]
      },
      {
       "output_type": "stream",
       "stream": "stdout",
       "text": [
        "\r",
        "Creating importer for <pybug.io.image.PILImporter object at 0x8b449d0> (40 of 811)"
       ]
      },
      {
       "output_type": "stream",
       "stream": "stdout",
       "text": [
        "\r",
        "Creating importer for <pybug.io.image.PILImporter object at 0x8b44a10> (41 of 811)"
       ]
      },
      {
       "output_type": "stream",
       "stream": "stdout",
       "text": [
        "\r",
        "Creating importer for <pybug.io.image.PILImporter object at 0x8b44a50> (42 of 811)"
       ]
      },
      {
       "output_type": "stream",
       "stream": "stdout",
       "text": [
        "\r",
        "Creating importer for <pybug.io.image.PILImporter object at 0x8b44a90> (43 of 811)"
       ]
      },
      {
       "output_type": "stream",
       "stream": "stdout",
       "text": [
        "\r",
        "Creating importer for <pybug.io.image.PILImporter object at 0x8b44ad0> (44 of 811)"
       ]
      },
      {
       "output_type": "stream",
       "stream": "stdout",
       "text": [
        "\r",
        "Creating importer for <pybug.io.image.PILImporter object at 0x8b44b10> (45 of 811)"
       ]
      },
      {
       "output_type": "stream",
       "stream": "stdout",
       "text": [
        "\r",
        "Creating importer for <pybug.io.image.PILImporter object at 0x8b44b50> (46 of 811)"
       ]
      },
      {
       "output_type": "stream",
       "stream": "stdout",
       "text": [
        "\r",
        "Creating importer for <pybug.io.image.PILImporter object at 0x8b44b90> (47 of 811)"
       ]
      },
      {
       "output_type": "stream",
       "stream": "stdout",
       "text": [
        "\r",
        "Creating importer for <pybug.io.image.PILImporter object at 0x8b44bd0> (48 of 811)"
       ]
      },
      {
       "output_type": "stream",
       "stream": "stdout",
       "text": [
        "\r",
        "Creating importer for <pybug.io.image.PILImporter object at 0x8b44c10> (49 of 811)"
       ]
      },
      {
       "output_type": "stream",
       "stream": "stdout",
       "text": [
        "\r",
        "Creating importer for <pybug.io.image.PILImporter object at 0x8b44c50> (50 of 811)"
       ]
      },
      {
       "output_type": "stream",
       "stream": "stdout",
       "text": [
        "\r",
        "Creating importer for <pybug.io.image.PILImporter object at 0x8b44c90> (51 of 811)"
       ]
      },
      {
       "output_type": "stream",
       "stream": "stdout",
       "text": [
        "\r",
        "Creating importer for <pybug.io.image.PILImporter object at 0x8b44cd0> (52 of 811)"
       ]
      },
      {
       "output_type": "stream",
       "stream": "stdout",
       "text": [
        "\r",
        "Creating importer for <pybug.io.image.PILImporter object at 0x8b44d10> (53 of 811)"
       ]
      },
      {
       "output_type": "stream",
       "stream": "stdout",
       "text": [
        "\r",
        "Creating importer for <pybug.io.image.PILImporter object at 0x8b44d50> (54 of 811)"
       ]
      },
      {
       "output_type": "stream",
       "stream": "stdout",
       "text": [
        "\r",
        "Creating importer for <pybug.io.image.PILImporter object at 0x8b44d90> (55 of 811)"
       ]
      },
      {
       "output_type": "stream",
       "stream": "stdout",
       "text": [
        "\r",
        "Creating importer for <pybug.io.image.PILImporter object at 0x8b44dd0> (56 of 811)"
       ]
      },
      {
       "output_type": "stream",
       "stream": "stdout",
       "text": [
        "\r",
        "Creating importer for <pybug.io.image.PILImporter object at 0x8b44e10> (57 of 811)"
       ]
      },
      {
       "output_type": "stream",
       "stream": "stdout",
       "text": [
        "\r",
        "Creating importer for <pybug.io.image.PILImporter object at 0x8b44e50> (58 of 811)"
       ]
      },
      {
       "output_type": "stream",
       "stream": "stdout",
       "text": [
        "\r",
        "Creating importer for <pybug.io.image.PILImporter object at 0x8b44e90> (59 of 811)"
       ]
      },
      {
       "output_type": "stream",
       "stream": "stdout",
       "text": [
        "\r",
        "Creating importer for <pybug.io.image.PILImporter object at 0x8b44ed0> (60 of 811)"
       ]
      },
      {
       "output_type": "stream",
       "stream": "stdout",
       "text": [
        "\r",
        "Creating importer for <pybug.io.image.PILImporter object at 0x8b44f10> (61 of 811)"
       ]
      },
      {
       "output_type": "stream",
       "stream": "stdout",
       "text": [
        "\r",
        "Creating importer for <pybug.io.image.PILImporter object at 0x8b44f50> (62 of 811)"
       ]
      },
      {
       "output_type": "stream",
       "stream": "stdout",
       "text": [
        "\r",
        "Creating importer for <pybug.io.image.PILImporter object at 0x8b44f90> (63 of 811)"
       ]
      },
      {
       "output_type": "stream",
       "stream": "stdout",
       "text": [
        "\r",
        "Creating importer for <pybug.io.image.PILImporter object at 0x8b44fd0> (64 of 811)"
       ]
      },
      {
       "output_type": "stream",
       "stream": "stdout",
       "text": [
        "\r",
        "Creating importer for <pybug.io.image.PILImporter object at 0x8b32050> (65 of 811)"
       ]
      },
      {
       "output_type": "stream",
       "stream": "stdout",
       "text": [
        "\r",
        "Creating importer for <pybug.io.image.PILImporter object at 0x8b32090> (66 of 811)"
       ]
      },
      {
       "output_type": "stream",
       "stream": "stdout",
       "text": [
        "\r",
        "Creating importer for <pybug.io.image.PILImporter object at 0x8b320d0> (67 of 811)"
       ]
      },
      {
       "output_type": "stream",
       "stream": "stdout",
       "text": [
        "\r",
        "Creating importer for <pybug.io.image.PILImporter object at 0x8b32110> (68 of 811)"
       ]
      },
      {
       "output_type": "stream",
       "stream": "stdout",
       "text": [
        "\r",
        "Creating importer for <pybug.io.image.PILImporter object at 0x8b32150> (69 of 811)"
       ]
      },
      {
       "output_type": "stream",
       "stream": "stdout",
       "text": [
        "\r",
        "Creating importer for <pybug.io.image.PILImporter object at 0x8b32190> (70 of 811)"
       ]
      },
      {
       "output_type": "stream",
       "stream": "stdout",
       "text": [
        "\r",
        "Creating importer for <pybug.io.image.PILImporter object at 0x8b321d0> (71 of 811)"
       ]
      },
      {
       "output_type": "stream",
       "stream": "stdout",
       "text": [
        "\r",
        "Creating importer for <pybug.io.image.PILImporter object at 0x8b32210> (72 of 811)"
       ]
      },
      {
       "output_type": "stream",
       "stream": "stdout",
       "text": [
        "\r",
        "Creating importer for <pybug.io.image.PILImporter object at 0x8b32250> (73 of 811)"
       ]
      },
      {
       "output_type": "stream",
       "stream": "stdout",
       "text": [
        "\r",
        "Creating importer for <pybug.io.image.PILImporter object at 0x8b32290> (74 of 811)"
       ]
      },
      {
       "output_type": "stream",
       "stream": "stdout",
       "text": [
        "\r",
        "Creating importer for <pybug.io.image.PILImporter object at 0x8b322d0> (75 of 811)"
       ]
      },
      {
       "output_type": "stream",
       "stream": "stdout",
       "text": [
        "\r",
        "Creating importer for <pybug.io.image.PILImporter object at 0x8b32310> (76 of 811)"
       ]
      },
      {
       "output_type": "stream",
       "stream": "stdout",
       "text": [
        "\r",
        "Creating importer for <pybug.io.image.PILImporter object at 0x8b32350> (77 of 811)"
       ]
      },
      {
       "output_type": "stream",
       "stream": "stdout",
       "text": [
        "\r",
        "Creating importer for <pybug.io.image.PILImporter object at 0x8b32390> (78 of 811)"
       ]
      },
      {
       "output_type": "stream",
       "stream": "stdout",
       "text": [
        "\r",
        "Creating importer for <pybug.io.image.PILImporter object at 0x8b323d0> (79 of 811)"
       ]
      },
      {
       "output_type": "stream",
       "stream": "stdout",
       "text": [
        "\r",
        "Creating importer for <pybug.io.image.PILImporter object at 0x8b32410> (80 of 811)"
       ]
      },
      {
       "output_type": "stream",
       "stream": "stdout",
       "text": [
        "\r",
        "Creating importer for <pybug.io.image.PILImporter object at 0x8b32450> (81 of 811)"
       ]
      },
      {
       "output_type": "stream",
       "stream": "stdout",
       "text": [
        "\r",
        "Creating importer for <pybug.io.image.PILImporter object at 0x8b32490> (82 of 811)"
       ]
      },
      {
       "output_type": "stream",
       "stream": "stdout",
       "text": [
        "\r",
        "Creating importer for <pybug.io.image.PILImporter object at 0x8b324d0> (83 of 811)"
       ]
      },
      {
       "output_type": "stream",
       "stream": "stdout",
       "text": [
        "\r",
        "Creating importer for <pybug.io.image.PILImporter object at 0x8b32510> (84 of 811)"
       ]
      },
      {
       "output_type": "stream",
       "stream": "stdout",
       "text": [
        "\r",
        "Creating importer for <pybug.io.image.PILImporter object at 0x8b32550> (85 of 811)"
       ]
      },
      {
       "output_type": "stream",
       "stream": "stdout",
       "text": [
        "\r",
        "Creating importer for <pybug.io.image.PILImporter object at 0x8b32590> (86 of 811)"
       ]
      },
      {
       "output_type": "stream",
       "stream": "stdout",
       "text": [
        "\r",
        "Creating importer for <pybug.io.image.PILImporter object at 0x8b325d0> (87 of 811)"
       ]
      },
      {
       "output_type": "stream",
       "stream": "stdout",
       "text": [
        "\r",
        "Creating importer for <pybug.io.image.PILImporter object at 0x8b32610> (88 of 811)"
       ]
      },
      {
       "output_type": "stream",
       "stream": "stdout",
       "text": [
        "\r",
        "Creating importer for <pybug.io.image.PILImporter object at 0x8b32650> (89 of 811)"
       ]
      },
      {
       "output_type": "stream",
       "stream": "stdout",
       "text": [
        "\r",
        "Creating importer for <pybug.io.image.PILImporter object at 0x8b32690> (90 of 811)"
       ]
      },
      {
       "output_type": "stream",
       "stream": "stdout",
       "text": [
        "\r",
        "Creating importer for <pybug.io.image.PILImporter object at 0x8b326d0> (91 of 811)"
       ]
      },
      {
       "output_type": "stream",
       "stream": "stdout",
       "text": [
        "\r",
        "Creating importer for <pybug.io.image.PILImporter object at 0x8b32710> (92 of 811)"
       ]
      },
      {
       "output_type": "stream",
       "stream": "stdout",
       "text": [
        "\r",
        "Creating importer for <pybug.io.image.PILImporter object at 0x8b32750> (93 of 811)"
       ]
      },
      {
       "output_type": "stream",
       "stream": "stdout",
       "text": [
        "\r",
        "Creating importer for <pybug.io.image.PILImporter object at 0x8b32790> (94 of 811)"
       ]
      },
      {
       "output_type": "stream",
       "stream": "stdout",
       "text": [
        "\r",
        "Creating importer for <pybug.io.image.PILImporter object at 0x8b327d0> (95 of 811)"
       ]
      },
      {
       "output_type": "stream",
       "stream": "stdout",
       "text": [
        "\r",
        "Creating importer for <pybug.io.image.PILImporter object at 0x8b32810> (96 of 811)"
       ]
      },
      {
       "output_type": "stream",
       "stream": "stdout",
       "text": [
        "\r",
        "Creating importer for <pybug.io.image.PILImporter object at 0x8b32850> (97 of 811)"
       ]
      },
      {
       "output_type": "stream",
       "stream": "stdout",
       "text": [
        "\r",
        "Creating importer for <pybug.io.image.PILImporter object at 0x8b32890> (98 of 811)"
       ]
      },
      {
       "output_type": "stream",
       "stream": "stdout",
       "text": [
        "\r",
        "Creating importer for <pybug.io.image.PILImporter object at 0x8b328d0> (99 of 811)"
       ]
      },
      {
       "output_type": "stream",
       "stream": "stdout",
       "text": [
        "\r",
        "Creating importer for <pybug.io.image.PILImporter object at 0x8b32910> (100 of 811)"
       ]
      },
      {
       "output_type": "stream",
       "stream": "stdout",
       "text": [
        "\r",
        "Creating importer for <pybug.io.image.PILImporter object at 0x8b32950> (101 of 811)"
       ]
      },
      {
       "output_type": "stream",
       "stream": "stdout",
       "text": [
        "\r",
        "Creating importer for <pybug.io.image.PILImporter object at 0x8b32990> (102 of 811)"
       ]
      },
      {
       "output_type": "stream",
       "stream": "stdout",
       "text": [
        "\r",
        "Creating importer for <pybug.io.image.PILImporter object at 0x8b329d0> (103 of 811)"
       ]
      },
      {
       "output_type": "stream",
       "stream": "stdout",
       "text": [
        "\r",
        "Creating importer for <pybug.io.image.PILImporter object at 0x8b32a10> (104 of 811)"
       ]
      },
      {
       "output_type": "stream",
       "stream": "stdout",
       "text": [
        "\r",
        "Creating importer for <pybug.io.image.PILImporter object at 0x8b32a50> (105 of 811)"
       ]
      },
      {
       "output_type": "stream",
       "stream": "stdout",
       "text": [
        "\r",
        "Creating importer for <pybug.io.image.PILImporter object at 0x8b32a90> (106 of 811)"
       ]
      },
      {
       "output_type": "stream",
       "stream": "stdout",
       "text": [
        "\r",
        "Creating importer for <pybug.io.image.PILImporter object at 0x8b32ad0> (107 of 811)"
       ]
      },
      {
       "output_type": "stream",
       "stream": "stdout",
       "text": [
        "\r",
        "Creating importer for <pybug.io.image.PILImporter object at 0x8b32b10> (108 of 811)"
       ]
      },
      {
       "output_type": "stream",
       "stream": "stdout",
       "text": [
        "\r",
        "Creating importer for <pybug.io.image.PILImporter object at 0x8b32b50> (109 of 811)"
       ]
      },
      {
       "output_type": "stream",
       "stream": "stdout",
       "text": [
        "\r",
        "Creating importer for <pybug.io.image.PILImporter object at 0x8b32b90> (110 of 811)"
       ]
      },
      {
       "output_type": "stream",
       "stream": "stdout",
       "text": [
        "\r",
        "Creating importer for <pybug.io.image.PILImporter object at 0x8b32bd0> (111 of 811)"
       ]
      },
      {
       "output_type": "stream",
       "stream": "stdout",
       "text": [
        "\r",
        "Creating importer for <pybug.io.image.PILImporter object at 0x8b32c10> (112 of 811)"
       ]
      },
      {
       "output_type": "stream",
       "stream": "stdout",
       "text": [
        "\r",
        "Creating importer for <pybug.io.image.PILImporter object at 0x8b32c50> (113 of 811)"
       ]
      },
      {
       "output_type": "stream",
       "stream": "stdout",
       "text": [
        "\r",
        "Creating importer for <pybug.io.image.PILImporter object at 0x8b32c90> (114 of 811)"
       ]
      },
      {
       "output_type": "stream",
       "stream": "stdout",
       "text": [
        "\r",
        "Creating importer for <pybug.io.image.PILImporter object at 0x8b32cd0> (115 of 811)"
       ]
      },
      {
       "output_type": "stream",
       "stream": "stdout",
       "text": [
        "\r",
        "Creating importer for <pybug.io.image.PILImporter object at 0x8b32d10> (116 of 811)"
       ]
      },
      {
       "output_type": "stream",
       "stream": "stdout",
       "text": [
        "\r",
        "Creating importer for <pybug.io.image.PILImporter object at 0x8b32d50> (117 of 811)"
       ]
      },
      {
       "output_type": "stream",
       "stream": "stdout",
       "text": [
        "\r",
        "Creating importer for <pybug.io.image.PILImporter object at 0x8b32d90> (118 of 811)"
       ]
      },
      {
       "output_type": "stream",
       "stream": "stdout",
       "text": [
        "\r",
        "Creating importer for <pybug.io.image.PILImporter object at 0x8b32dd0> (119 of 811)"
       ]
      },
      {
       "output_type": "stream",
       "stream": "stdout",
       "text": [
        "\r",
        "Creating importer for <pybug.io.image.PILImporter object at 0x8b32e10> (120 of 811)"
       ]
      },
      {
       "output_type": "stream",
       "stream": "stdout",
       "text": [
        "\r",
        "Creating importer for <pybug.io.image.PILImporter object at 0x8b32e50> (121 of 811)"
       ]
      },
      {
       "output_type": "stream",
       "stream": "stdout",
       "text": [
        "\r",
        "Creating importer for <pybug.io.image.PILImporter object at 0x8b32e90> (122 of 811)"
       ]
      },
      {
       "output_type": "stream",
       "stream": "stdout",
       "text": [
        "\r",
        "Creating importer for <pybug.io.image.PILImporter object at 0x8b32ed0> (123 of 811)"
       ]
      },
      {
       "output_type": "stream",
       "stream": "stdout",
       "text": [
        "\r",
        "Creating importer for <pybug.io.image.PILImporter object at 0x8b32f10> (124 of 811)"
       ]
      },
      {
       "output_type": "stream",
       "stream": "stdout",
       "text": [
        "\r",
        "Creating importer for <pybug.io.image.PILImporter object at 0x8b32f50> (125 of 811)"
       ]
      },
      {
       "output_type": "stream",
       "stream": "stdout",
       "text": [
        "\r",
        "Creating importer for <pybug.io.image.PILImporter object at 0x8b32f90> (126 of 811)"
       ]
      },
      {
       "output_type": "stream",
       "stream": "stdout",
       "text": [
        "\r",
        "Creating importer for <pybug.io.image.PILImporter object at 0x8b32fd0> (127 of 811)"
       ]
      },
      {
       "output_type": "stream",
       "stream": "stdout",
       "text": [
        "\r",
        "Creating importer for <pybug.io.image.PILImporter object at 0x8cb6050> (128 of 811)"
       ]
      },
      {
       "output_type": "stream",
       "stream": "stdout",
       "text": [
        "\r",
        "Creating importer for <pybug.io.image.PILImporter object at 0x8cb6090> (129 of 811)"
       ]
      },
      {
       "output_type": "stream",
       "stream": "stdout",
       "text": [
        "\r",
        "Creating importer for <pybug.io.image.PILImporter object at 0x8cb60d0> (130 of 811)"
       ]
      },
      {
       "output_type": "stream",
       "stream": "stdout",
       "text": [
        "\r",
        "Creating importer for <pybug.io.image.PILImporter object at 0x8cb6110> (131 of 811)"
       ]
      },
      {
       "output_type": "stream",
       "stream": "stdout",
       "text": [
        "\r",
        "Creating importer for <pybug.io.image.PILImporter object at 0x8cb6150> (132 of 811)"
       ]
      },
      {
       "output_type": "stream",
       "stream": "stdout",
       "text": [
        "\r",
        "Creating importer for <pybug.io.image.PILImporter object at 0x8cb6190> (133 of 811)"
       ]
      },
      {
       "output_type": "stream",
       "stream": "stdout",
       "text": [
        "\r",
        "Creating importer for <pybug.io.image.PILImporter object at 0x8cb61d0> (134 of 811)"
       ]
      },
      {
       "output_type": "stream",
       "stream": "stdout",
       "text": [
        "\r",
        "Creating importer for <pybug.io.image.PILImporter object at 0x8cb6210> (135 of 811)"
       ]
      },
      {
       "output_type": "stream",
       "stream": "stdout",
       "text": [
        "\r",
        "Creating importer for <pybug.io.image.PILImporter object at 0x8cb6250> (136 of 811)"
       ]
      },
      {
       "output_type": "stream",
       "stream": "stdout",
       "text": [
        "\r",
        "Creating importer for <pybug.io.image.PILImporter object at 0x8cb6290> (137 of 811)"
       ]
      },
      {
       "output_type": "stream",
       "stream": "stdout",
       "text": [
        "\r",
        "Creating importer for <pybug.io.image.PILImporter object at 0x8cb62d0> (138 of 811)"
       ]
      },
      {
       "output_type": "stream",
       "stream": "stdout",
       "text": [
        "\r",
        "Creating importer for <pybug.io.image.PILImporter object at 0x8cb6310> (139 of 811)"
       ]
      },
      {
       "output_type": "stream",
       "stream": "stdout",
       "text": [
        "\r",
        "Creating importer for <pybug.io.image.PILImporter object at 0x8cb6350> (140 of 811)"
       ]
      },
      {
       "output_type": "stream",
       "stream": "stdout",
       "text": [
        "\r",
        "Creating importer for <pybug.io.image.PILImporter object at 0x8cb6390> (141 of 811)"
       ]
      },
      {
       "output_type": "stream",
       "stream": "stdout",
       "text": [
        "\r",
        "Creating importer for <pybug.io.image.PILImporter object at 0x8cb63d0> (142 of 811)"
       ]
      },
      {
       "output_type": "stream",
       "stream": "stdout",
       "text": [
        "\r",
        "Creating importer for <pybug.io.image.PILImporter object at 0x8cb6410> (143 of 811)"
       ]
      },
      {
       "output_type": "stream",
       "stream": "stdout",
       "text": [
        "\r",
        "Creating importer for <pybug.io.image.PILImporter object at 0x8cb6450> (144 of 811)"
       ]
      },
      {
       "output_type": "stream",
       "stream": "stdout",
       "text": [
        "\r",
        "Creating importer for <pybug.io.image.PILImporter object at 0x8cb6490> (145 of 811)"
       ]
      },
      {
       "output_type": "stream",
       "stream": "stdout",
       "text": [
        "\r",
        "Creating importer for <pybug.io.image.PILImporter object at 0x8cb64d0> (146 of 811)"
       ]
      },
      {
       "output_type": "stream",
       "stream": "stdout",
       "text": [
        "\r",
        "Creating importer for <pybug.io.image.PILImporter object at 0x8cb6510> (147 of 811)"
       ]
      },
      {
       "output_type": "stream",
       "stream": "stdout",
       "text": [
        "\r",
        "Creating importer for <pybug.io.image.PILImporter object at 0x8cb6550> (148 of 811)"
       ]
      },
      {
       "output_type": "stream",
       "stream": "stdout",
       "text": [
        "\r",
        "Creating importer for <pybug.io.image.PILImporter object at 0x8cb6590> (149 of 811)"
       ]
      },
      {
       "output_type": "stream",
       "stream": "stdout",
       "text": [
        "\r",
        "Creating importer for <pybug.io.image.PILImporter object at 0x8cb65d0> (150 of 811)"
       ]
      },
      {
       "output_type": "stream",
       "stream": "stdout",
       "text": [
        "\r",
        "Creating importer for <pybug.io.image.PILImporter object at 0x8cb6610> (151 of 811)"
       ]
      },
      {
       "output_type": "stream",
       "stream": "stdout",
       "text": [
        "\r",
        "Creating importer for <pybug.io.image.PILImporter object at 0x8cb6650> (152 of 811)"
       ]
      },
      {
       "output_type": "stream",
       "stream": "stdout",
       "text": [
        "\r",
        "Creating importer for <pybug.io.image.PILImporter object at 0x8cb6690> (153 of 811)"
       ]
      },
      {
       "output_type": "stream",
       "stream": "stdout",
       "text": [
        "\r",
        "Creating importer for <pybug.io.image.PILImporter object at 0x8cb66d0> (154 of 811)"
       ]
      },
      {
       "output_type": "stream",
       "stream": "stdout",
       "text": [
        "\r",
        "Creating importer for <pybug.io.image.PILImporter object at 0x8cb6710> (155 of 811)"
       ]
      },
      {
       "output_type": "stream",
       "stream": "stdout",
       "text": [
        "\r",
        "Creating importer for <pybug.io.image.PILImporter object at 0x8cb6750> (156 of 811)"
       ]
      },
      {
       "output_type": "stream",
       "stream": "stdout",
       "text": [
        "\r",
        "Creating importer for <pybug.io.image.PILImporter object at 0x8cb6790> (157 of 811)"
       ]
      },
      {
       "output_type": "stream",
       "stream": "stdout",
       "text": [
        "\r",
        "Creating importer for <pybug.io.image.PILImporter object at 0x8cb67d0> (158 of 811)"
       ]
      },
      {
       "output_type": "stream",
       "stream": "stdout",
       "text": [
        "\r",
        "Creating importer for <pybug.io.image.PILImporter object at 0x8cb6810> (159 of 811)"
       ]
      },
      {
       "output_type": "stream",
       "stream": "stdout",
       "text": [
        "\r",
        "Creating importer for <pybug.io.image.PILImporter object at 0x8cb6850> (160 of 811)"
       ]
      },
      {
       "output_type": "stream",
       "stream": "stdout",
       "text": [
        "\r",
        "Creating importer for <pybug.io.image.PILImporter object at 0x8cb6890> (161 of 811)"
       ]
      },
      {
       "output_type": "stream",
       "stream": "stdout",
       "text": [
        "\r",
        "Creating importer for <pybug.io.image.PILImporter object at 0x8cb68d0> (162 of 811)"
       ]
      },
      {
       "output_type": "stream",
       "stream": "stdout",
       "text": [
        "\r",
        "Creating importer for <pybug.io.image.PILImporter object at 0x8cb6910> (163 of 811)"
       ]
      },
      {
       "output_type": "stream",
       "stream": "stdout",
       "text": [
        "\r",
        "Creating importer for <pybug.io.image.PILImporter object at 0x8cb6950> (164 of 811)"
       ]
      },
      {
       "output_type": "stream",
       "stream": "stdout",
       "text": [
        "\r",
        "Creating importer for <pybug.io.image.PILImporter object at 0x8cb6990> (165 of 811)"
       ]
      },
      {
       "output_type": "stream",
       "stream": "stdout",
       "text": [
        "\r",
        "Creating importer for <pybug.io.image.PILImporter object at 0x8cb69d0> (166 of 811)"
       ]
      },
      {
       "output_type": "stream",
       "stream": "stdout",
       "text": [
        "\r",
        "Creating importer for <pybug.io.image.PILImporter object at 0x8cb6a10> (167 of 811)"
       ]
      },
      {
       "output_type": "stream",
       "stream": "stdout",
       "text": [
        "\r",
        "Creating importer for <pybug.io.image.PILImporter object at 0x8cb6a50> (168 of 811)"
       ]
      },
      {
       "output_type": "stream",
       "stream": "stdout",
       "text": [
        "\r",
        "Creating importer for <pybug.io.image.PILImporter object at 0x8cb6a90> (169 of 811)"
       ]
      },
      {
       "output_type": "stream",
       "stream": "stdout",
       "text": [
        "\r",
        "Creating importer for <pybug.io.image.PILImporter object at 0x8cb6ad0> (170 of 811)"
       ]
      },
      {
       "output_type": "stream",
       "stream": "stdout",
       "text": [
        "\r",
        "Creating importer for <pybug.io.image.PILImporter object at 0x8cb6b10> (171 of 811)"
       ]
      },
      {
       "output_type": "stream",
       "stream": "stdout",
       "text": [
        "\r",
        "Creating importer for <pybug.io.image.PILImporter object at 0x8cb6b50> (172 of 811)"
       ]
      },
      {
       "output_type": "stream",
       "stream": "stdout",
       "text": [
        "\r",
        "Creating importer for <pybug.io.image.PILImporter object at 0x8cb6b90> (173 of 811)"
       ]
      },
      {
       "output_type": "stream",
       "stream": "stdout",
       "text": [
        "\r",
        "Creating importer for <pybug.io.image.PILImporter object at 0x8cb6bd0> (174 of 811)"
       ]
      },
      {
       "output_type": "stream",
       "stream": "stdout",
       "text": [
        "\r",
        "Creating importer for <pybug.io.image.PILImporter object at 0x8cb6c10> (175 of 811)"
       ]
      },
      {
       "output_type": "stream",
       "stream": "stdout",
       "text": [
        "\r",
        "Creating importer for <pybug.io.image.PILImporter object at 0x8cb6c50> (176 of 811)"
       ]
      },
      {
       "output_type": "stream",
       "stream": "stdout",
       "text": [
        "\r",
        "Creating importer for <pybug.io.image.PILImporter object at 0x8cb6c90> (177 of 811)"
       ]
      },
      {
       "output_type": "stream",
       "stream": "stdout",
       "text": [
        "\r",
        "Creating importer for <pybug.io.image.PILImporter object at 0x8cb6cd0> (178 of 811)"
       ]
      },
      {
       "output_type": "stream",
       "stream": "stdout",
       "text": [
        "\r",
        "Creating importer for <pybug.io.image.PILImporter object at 0x8cb6d10> (179 of 811)"
       ]
      },
      {
       "output_type": "stream",
       "stream": "stdout",
       "text": [
        "\r",
        "Creating importer for <pybug.io.image.PILImporter object at 0x8cb6d50> (180 of 811)"
       ]
      },
      {
       "output_type": "stream",
       "stream": "stdout",
       "text": [
        "\r",
        "Creating importer for <pybug.io.image.PILImporter object at 0x8cb6d90> (181 of 811)"
       ]
      },
      {
       "output_type": "stream",
       "stream": "stdout",
       "text": [
        "\r",
        "Creating importer for <pybug.io.image.PILImporter object at 0x8cb6dd0> (182 of 811)"
       ]
      },
      {
       "output_type": "stream",
       "stream": "stdout",
       "text": [
        "\r",
        "Creating importer for <pybug.io.image.PILImporter object at 0x8cb6e10> (183 of 811)"
       ]
      },
      {
       "output_type": "stream",
       "stream": "stdout",
       "text": [
        "\r",
        "Creating importer for <pybug.io.image.PILImporter object at 0x8cb6e50> (184 of 811)"
       ]
      },
      {
       "output_type": "stream",
       "stream": "stdout",
       "text": [
        "\r",
        "Creating importer for <pybug.io.image.PILImporter object at 0x8cb6e90> (185 of 811)"
       ]
      },
      {
       "output_type": "stream",
       "stream": "stdout",
       "text": [
        "\r",
        "Creating importer for <pybug.io.image.PILImporter object at 0x8cb6ed0> (186 of 811)"
       ]
      },
      {
       "output_type": "stream",
       "stream": "stdout",
       "text": [
        "\r",
        "Creating importer for <pybug.io.image.PILImporter object at 0x8cb6f10> (187 of 811)"
       ]
      },
      {
       "output_type": "stream",
       "stream": "stdout",
       "text": [
        "\r",
        "Creating importer for <pybug.io.image.PILImporter object at 0x8cb6f50> (188 of 811)"
       ]
      },
      {
       "output_type": "stream",
       "stream": "stdout",
       "text": [
        "\r",
        "Creating importer for <pybug.io.image.PILImporter object at 0x8cb6f90> (189 of 811)"
       ]
      },
      {
       "output_type": "stream",
       "stream": "stdout",
       "text": [
        "\r",
        "Creating importer for <pybug.io.image.PILImporter object at 0x8cb6fd0> (190 of 811)"
       ]
      },
      {
       "output_type": "stream",
       "stream": "stdout",
       "text": [
        "\r",
        "Creating importer for <pybug.io.image.PILImporter object at 0x8cbc050> (191 of 811)"
       ]
      },
      {
       "output_type": "stream",
       "stream": "stdout",
       "text": [
        "\r",
        "Creating importer for <pybug.io.image.PILImporter object at 0x8cbc090> (192 of 811)"
       ]
      },
      {
       "output_type": "stream",
       "stream": "stdout",
       "text": [
        "\r",
        "Creating importer for <pybug.io.image.PILImporter object at 0x8cbc0d0> (193 of 811)"
       ]
      },
      {
       "output_type": "stream",
       "stream": "stdout",
       "text": [
        "\r",
        "Creating importer for <pybug.io.image.PILImporter object at 0x8cbc110> (194 of 811)"
       ]
      },
      {
       "output_type": "stream",
       "stream": "stdout",
       "text": [
        "\r",
        "Creating importer for <pybug.io.image.PILImporter object at 0x8cbc150> (195 of 811)"
       ]
      },
      {
       "output_type": "stream",
       "stream": "stdout",
       "text": [
        "\r",
        "Creating importer for <pybug.io.image.PILImporter object at 0x8cbc190> (196 of 811)"
       ]
      },
      {
       "output_type": "stream",
       "stream": "stdout",
       "text": [
        "\r",
        "Creating importer for <pybug.io.image.PILImporter object at 0x8cbc1d0> (197 of 811)"
       ]
      },
      {
       "output_type": "stream",
       "stream": "stdout",
       "text": [
        "\r",
        "Creating importer for <pybug.io.image.PILImporter object at 0x8cbc210> (198 of 811)"
       ]
      },
      {
       "output_type": "stream",
       "stream": "stdout",
       "text": [
        "\r",
        "Creating importer for <pybug.io.image.PILImporter object at 0x8cbc250> (199 of 811)"
       ]
      },
      {
       "output_type": "stream",
       "stream": "stdout",
       "text": [
        "\r",
        "Creating importer for <pybug.io.image.PILImporter object at 0x8cbc290> (200 of 811)"
       ]
      },
      {
       "output_type": "stream",
       "stream": "stdout",
       "text": [
        "\r",
        "Creating importer for <pybug.io.image.PILImporter object at 0x8cbc2d0> (201 of 811)"
       ]
      },
      {
       "output_type": "stream",
       "stream": "stdout",
       "text": [
        "\r",
        "Creating importer for <pybug.io.image.PILImporter object at 0x8cbc310> (202 of 811)"
       ]
      },
      {
       "output_type": "stream",
       "stream": "stdout",
       "text": [
        "\r",
        "Creating importer for <pybug.io.image.PILImporter object at 0x8cbc350> (203 of 811)"
       ]
      },
      {
       "output_type": "stream",
       "stream": "stdout",
       "text": [
        "\r",
        "Creating importer for <pybug.io.image.PILImporter object at 0x8cbc390> (204 of 811)"
       ]
      },
      {
       "output_type": "stream",
       "stream": "stdout",
       "text": [
        "\r",
        "Creating importer for <pybug.io.image.PILImporter object at 0x8cbc3d0> (205 of 811)"
       ]
      },
      {
       "output_type": "stream",
       "stream": "stdout",
       "text": [
        "\r",
        "Creating importer for <pybug.io.image.PILImporter object at 0x8cbc410> (206 of 811)"
       ]
      },
      {
       "output_type": "stream",
       "stream": "stdout",
       "text": [
        "\r",
        "Creating importer for <pybug.io.image.PILImporter object at 0x8cbc450> (207 of 811)"
       ]
      },
      {
       "output_type": "stream",
       "stream": "stdout",
       "text": [
        "\r",
        "Creating importer for <pybug.io.image.PILImporter object at 0x8cbc490> (208 of 811)"
       ]
      },
      {
       "output_type": "stream",
       "stream": "stdout",
       "text": [
        "\r",
        "Creating importer for <pybug.io.image.PILImporter object at 0x8cbc4d0> (209 of 811)"
       ]
      },
      {
       "output_type": "stream",
       "stream": "stdout",
       "text": [
        "\r",
        "Creating importer for <pybug.io.image.PILImporter object at 0x8cbc510> (210 of 811)"
       ]
      },
      {
       "output_type": "stream",
       "stream": "stdout",
       "text": [
        "\r",
        "Creating importer for <pybug.io.image.PILImporter object at 0x8cbc550> (211 of 811)"
       ]
      },
      {
       "output_type": "stream",
       "stream": "stdout",
       "text": [
        "\r",
        "Creating importer for <pybug.io.image.PILImporter object at 0x8cbc590> (212 of 811)"
       ]
      },
      {
       "output_type": "stream",
       "stream": "stdout",
       "text": [
        "\r",
        "Creating importer for <pybug.io.image.PILImporter object at 0x8cbc5d0> (213 of 811)"
       ]
      },
      {
       "output_type": "stream",
       "stream": "stdout",
       "text": [
        "\r",
        "Creating importer for <pybug.io.image.PILImporter object at 0x8cbc610> (214 of 811)"
       ]
      },
      {
       "output_type": "stream",
       "stream": "stdout",
       "text": [
        "\r",
        "Creating importer for <pybug.io.image.PILImporter object at 0x8cbc650> (215 of 811)"
       ]
      },
      {
       "output_type": "stream",
       "stream": "stdout",
       "text": [
        "\r",
        "Creating importer for <pybug.io.image.PILImporter object at 0x8cbc690> (216 of 811)"
       ]
      },
      {
       "output_type": "stream",
       "stream": "stdout",
       "text": [
        "\r",
        "Creating importer for <pybug.io.image.PILImporter object at 0x8cbc6d0> (217 of 811)"
       ]
      },
      {
       "output_type": "stream",
       "stream": "stdout",
       "text": [
        "\r",
        "Creating importer for <pybug.io.image.PILImporter object at 0x8cbc710> (218 of 811)"
       ]
      },
      {
       "output_type": "stream",
       "stream": "stdout",
       "text": [
        "\r",
        "Creating importer for <pybug.io.image.PILImporter object at 0x8cbc750> (219 of 811)"
       ]
      },
      {
       "output_type": "stream",
       "stream": "stdout",
       "text": [
        "\r",
        "Creating importer for <pybug.io.image.PILImporter object at 0x8cbc790> (220 of 811)"
       ]
      },
      {
       "output_type": "stream",
       "stream": "stdout",
       "text": [
        "\r",
        "Creating importer for <pybug.io.image.PILImporter object at 0x8cbc7d0> (221 of 811)"
       ]
      },
      {
       "output_type": "stream",
       "stream": "stdout",
       "text": [
        "\r",
        "Creating importer for <pybug.io.image.PILImporter object at 0x8cbc810> (222 of 811)"
       ]
      },
      {
       "output_type": "stream",
       "stream": "stdout",
       "text": [
        "\r",
        "Creating importer for <pybug.io.image.PILImporter object at 0x8cbc850> (223 of 811)"
       ]
      },
      {
       "output_type": "stream",
       "stream": "stdout",
       "text": [
        "\r",
        "Creating importer for <pybug.io.image.PILImporter object at 0x8cbc890> (224 of 811)"
       ]
      },
      {
       "output_type": "stream",
       "stream": "stdout",
       "text": [
        "\r",
        "Creating importer for <pybug.io.image.PILImporter object at 0x8cbc8d0> (225 of 811)"
       ]
      },
      {
       "output_type": "stream",
       "stream": "stdout",
       "text": [
        "\r",
        "Creating importer for <pybug.io.image.PILImporter object at 0x8cbc910> (226 of 811)"
       ]
      },
      {
       "output_type": "stream",
       "stream": "stdout",
       "text": [
        "\r",
        "Creating importer for <pybug.io.image.PILImporter object at 0x8cbc950> (227 of 811)"
       ]
      },
      {
       "output_type": "stream",
       "stream": "stdout",
       "text": [
        "\r",
        "Creating importer for <pybug.io.image.PILImporter object at 0x8cbc990> (228 of 811)"
       ]
      },
      {
       "output_type": "stream",
       "stream": "stdout",
       "text": [
        "\r",
        "Creating importer for <pybug.io.image.PILImporter object at 0x8cbc9d0> (229 of 811)"
       ]
      },
      {
       "output_type": "stream",
       "stream": "stdout",
       "text": [
        "\r",
        "Creating importer for <pybug.io.image.PILImporter object at 0x8cbca10> (230 of 811)"
       ]
      },
      {
       "output_type": "stream",
       "stream": "stdout",
       "text": [
        "\r",
        "Creating importer for <pybug.io.image.PILImporter object at 0x8cbca50> (231 of 811)"
       ]
      },
      {
       "output_type": "stream",
       "stream": "stdout",
       "text": [
        "\r",
        "Creating importer for <pybug.io.image.PILImporter object at 0x8cbca90> (232 of 811)"
       ]
      },
      {
       "output_type": "stream",
       "stream": "stdout",
       "text": [
        "\r",
        "Creating importer for <pybug.io.image.PILImporter object at 0x8cbcad0> (233 of 811)"
       ]
      },
      {
       "output_type": "stream",
       "stream": "stdout",
       "text": [
        "\r",
        "Creating importer for <pybug.io.image.PILImporter object at 0x8cbcb10> (234 of 811)"
       ]
      },
      {
       "output_type": "stream",
       "stream": "stdout",
       "text": [
        "\r",
        "Creating importer for <pybug.io.image.PILImporter object at 0x8cbcb50> (235 of 811)"
       ]
      },
      {
       "output_type": "stream",
       "stream": "stdout",
       "text": [
        "\r",
        "Creating importer for <pybug.io.image.PILImporter object at 0x8cbcb90> (236 of 811)"
       ]
      },
      {
       "output_type": "stream",
       "stream": "stdout",
       "text": [
        "\r",
        "Creating importer for <pybug.io.image.PILImporter object at 0x8cbcbd0> (237 of 811)"
       ]
      },
      {
       "output_type": "stream",
       "stream": "stdout",
       "text": [
        "\r",
        "Creating importer for <pybug.io.image.PILImporter object at 0x8cbcc10> (238 of 811)"
       ]
      },
      {
       "output_type": "stream",
       "stream": "stdout",
       "text": [
        "\r",
        "Creating importer for <pybug.io.image.PILImporter object at 0x8cbcc50> (239 of 811)"
       ]
      },
      {
       "output_type": "stream",
       "stream": "stdout",
       "text": [
        "\r",
        "Creating importer for <pybug.io.image.PILImporter object at 0x8cbcc90> (240 of 811)"
       ]
      },
      {
       "output_type": "stream",
       "stream": "stdout",
       "text": [
        "\r",
        "Creating importer for <pybug.io.image.PILImporter object at 0x8cbccd0> (241 of 811)"
       ]
      },
      {
       "output_type": "stream",
       "stream": "stdout",
       "text": [
        "\r",
        "Creating importer for <pybug.io.image.PILImporter object at 0x8cbcd10> (242 of 811)"
       ]
      },
      {
       "output_type": "stream",
       "stream": "stdout",
       "text": [
        "\r",
        "Creating importer for <pybug.io.image.PILImporter object at 0x8cbcd50> (243 of 811)"
       ]
      },
      {
       "output_type": "stream",
       "stream": "stdout",
       "text": [
        "\r",
        "Creating importer for <pybug.io.image.PILImporter object at 0x8cbcd90> (244 of 811)"
       ]
      },
      {
       "output_type": "stream",
       "stream": "stdout",
       "text": [
        "\r",
        "Creating importer for <pybug.io.image.PILImporter object at 0x8cbcdd0> (245 of 811)"
       ]
      },
      {
       "output_type": "stream",
       "stream": "stdout",
       "text": [
        "\r",
        "Creating importer for <pybug.io.image.PILImporter object at 0x8cbce10> (246 of 811)"
       ]
      },
      {
       "output_type": "stream",
       "stream": "stdout",
       "text": [
        "\r",
        "Creating importer for <pybug.io.image.PILImporter object at 0x8cbce50> (247 of 811)"
       ]
      },
      {
       "output_type": "stream",
       "stream": "stdout",
       "text": [
        "\r",
        "Creating importer for <pybug.io.image.PILImporter object at 0x8cbce90> (248 of 811)"
       ]
      },
      {
       "output_type": "stream",
       "stream": "stdout",
       "text": [
        "\r",
        "Creating importer for <pybug.io.image.PILImporter object at 0x8cbced0> (249 of 811)"
       ]
      },
      {
       "output_type": "stream",
       "stream": "stdout",
       "text": [
        "\r",
        "Creating importer for <pybug.io.image.PILImporter object at 0x8cbcf10> (250 of 811)"
       ]
      },
      {
       "output_type": "stream",
       "stream": "stdout",
       "text": [
        "\r",
        "Creating importer for <pybug.io.image.PILImporter object at 0x8cbcf50> (251 of 811)"
       ]
      },
      {
       "output_type": "stream",
       "stream": "stdout",
       "text": [
        "\r",
        "Creating importer for <pybug.io.image.PILImporter object at 0x8cbcf90> (252 of 811)"
       ]
      },
      {
       "output_type": "stream",
       "stream": "stdout",
       "text": [
        "\r",
        "Creating importer for <pybug.io.image.PILImporter object at 0x8cbcfd0> (253 of 811)"
       ]
      },
      {
       "output_type": "stream",
       "stream": "stdout",
       "text": [
        "\r",
        "Creating importer for <pybug.io.image.PILImporter object at 0x8cb4050> (254 of 811)"
       ]
      },
      {
       "output_type": "stream",
       "stream": "stdout",
       "text": [
        "\r",
        "Creating importer for <pybug.io.image.PILImporter object at 0x8cb4090> (255 of 811)"
       ]
      },
      {
       "output_type": "stream",
       "stream": "stdout",
       "text": [
        "\r",
        "Creating importer for <pybug.io.image.PILImporter object at 0x8cb40d0> (256 of 811)"
       ]
      },
      {
       "output_type": "stream",
       "stream": "stdout",
       "text": [
        "\r",
        "Creating importer for <pybug.io.image.PILImporter object at 0x8cb4110> (257 of 811)"
       ]
      },
      {
       "output_type": "stream",
       "stream": "stdout",
       "text": [
        "\r",
        "Creating importer for <pybug.io.image.PILImporter object at 0x8cb4150> (258 of 811)"
       ]
      },
      {
       "output_type": "stream",
       "stream": "stdout",
       "text": [
        "\r",
        "Creating importer for <pybug.io.image.PILImporter object at 0x8cb4190> (259 of 811)"
       ]
      },
      {
       "output_type": "stream",
       "stream": "stdout",
       "text": [
        "\r",
        "Creating importer for <pybug.io.image.PILImporter object at 0x8cb41d0> (260 of 811)"
       ]
      },
      {
       "output_type": "stream",
       "stream": "stdout",
       "text": [
        "\r",
        "Creating importer for <pybug.io.image.PILImporter object at 0x8cb4210> (261 of 811)"
       ]
      },
      {
       "output_type": "stream",
       "stream": "stdout",
       "text": [
        "\r",
        "Creating importer for <pybug.io.image.PILImporter object at 0x8cb4250> (262 of 811)"
       ]
      },
      {
       "output_type": "stream",
       "stream": "stdout",
       "text": [
        "\r",
        "Creating importer for <pybug.io.image.PILImporter object at 0x8cb4290> (263 of 811)"
       ]
      },
      {
       "output_type": "stream",
       "stream": "stdout",
       "text": [
        "\r",
        "Creating importer for <pybug.io.image.PILImporter object at 0x8cb42d0> (264 of 811)"
       ]
      },
      {
       "output_type": "stream",
       "stream": "stdout",
       "text": [
        "\r",
        "Creating importer for <pybug.io.image.PILImporter object at 0x8cb4310> (265 of 811)"
       ]
      },
      {
       "output_type": "stream",
       "stream": "stdout",
       "text": [
        "\r",
        "Creating importer for <pybug.io.image.PILImporter object at 0x8cb4350> (266 of 811)"
       ]
      },
      {
       "output_type": "stream",
       "stream": "stdout",
       "text": [
        "\r",
        "Creating importer for <pybug.io.image.PILImporter object at 0x8cb4390> (267 of 811)"
       ]
      },
      {
       "output_type": "stream",
       "stream": "stdout",
       "text": [
        "\r",
        "Creating importer for <pybug.io.image.PILImporter object at 0x8cb43d0> (268 of 811)"
       ]
      },
      {
       "output_type": "stream",
       "stream": "stdout",
       "text": [
        "\r",
        "Creating importer for <pybug.io.image.PILImporter object at 0x8cb4410> (269 of 811)"
       ]
      },
      {
       "output_type": "stream",
       "stream": "stdout",
       "text": [
        "\r",
        "Creating importer for <pybug.io.image.PILImporter object at 0x8cb4450> (270 of 811)"
       ]
      },
      {
       "output_type": "stream",
       "stream": "stdout",
       "text": [
        "\r",
        "Creating importer for <pybug.io.image.PILImporter object at 0x8cb4490> (271 of 811)"
       ]
      },
      {
       "output_type": "stream",
       "stream": "stdout",
       "text": [
        "\r",
        "Creating importer for <pybug.io.image.PILImporter object at 0x8cb44d0> (272 of 811)"
       ]
      },
      {
       "output_type": "stream",
       "stream": "stdout",
       "text": [
        "\r",
        "Creating importer for <pybug.io.image.PILImporter object at 0x8cb4510> (273 of 811)"
       ]
      },
      {
       "output_type": "stream",
       "stream": "stdout",
       "text": [
        "\r",
        "Creating importer for <pybug.io.image.PILImporter object at 0x8cb4550> (274 of 811)"
       ]
      },
      {
       "output_type": "stream",
       "stream": "stdout",
       "text": [
        "\r",
        "Creating importer for <pybug.io.image.PILImporter object at 0x8cb4590> (275 of 811)"
       ]
      },
      {
       "output_type": "stream",
       "stream": "stdout",
       "text": [
        "\r",
        "Creating importer for <pybug.io.image.PILImporter object at 0x8cb45d0> (276 of 811)"
       ]
      },
      {
       "output_type": "stream",
       "stream": "stdout",
       "text": [
        "\r",
        "Creating importer for <pybug.io.image.PILImporter object at 0x8cb4610> (277 of 811)"
       ]
      },
      {
       "output_type": "stream",
       "stream": "stdout",
       "text": [
        "\r",
        "Creating importer for <pybug.io.image.PILImporter object at 0x8cb4650> (278 of 811)"
       ]
      },
      {
       "output_type": "stream",
       "stream": "stdout",
       "text": [
        "\r",
        "Creating importer for <pybug.io.image.PILImporter object at 0x8cb4690> (279 of 811)"
       ]
      },
      {
       "output_type": "stream",
       "stream": "stdout",
       "text": [
        "\r",
        "Creating importer for <pybug.io.image.PILImporter object at 0x8cb46d0> (280 of 811)"
       ]
      },
      {
       "output_type": "stream",
       "stream": "stdout",
       "text": [
        "\r",
        "Creating importer for <pybug.io.image.PILImporter object at 0x8cb4710> (281 of 811)"
       ]
      },
      {
       "output_type": "stream",
       "stream": "stdout",
       "text": [
        "\r",
        "Creating importer for <pybug.io.image.PILImporter object at 0x8cb4750> (282 of 811)"
       ]
      },
      {
       "output_type": "stream",
       "stream": "stdout",
       "text": [
        "\r",
        "Creating importer for <pybug.io.image.PILImporter object at 0x8cb4790> (283 of 811)"
       ]
      },
      {
       "output_type": "stream",
       "stream": "stdout",
       "text": [
        "\r",
        "Creating importer for <pybug.io.image.PILImporter object at 0x8cb47d0> (284 of 811)"
       ]
      },
      {
       "output_type": "stream",
       "stream": "stdout",
       "text": [
        "\r",
        "Creating importer for <pybug.io.image.PILImporter object at 0x8cb4810> (285 of 811)"
       ]
      },
      {
       "output_type": "stream",
       "stream": "stdout",
       "text": [
        "\r",
        "Creating importer for <pybug.io.image.PILImporter object at 0x8cb4850> (286 of 811)"
       ]
      },
      {
       "output_type": "stream",
       "stream": "stdout",
       "text": [
        "\r",
        "Creating importer for <pybug.io.image.PILImporter object at 0x8cb4890> (287 of 811)"
       ]
      },
      {
       "output_type": "stream",
       "stream": "stdout",
       "text": [
        "\r",
        "Creating importer for <pybug.io.image.PILImporter object at 0x8cb48d0> (288 of 811)"
       ]
      },
      {
       "output_type": "stream",
       "stream": "stdout",
       "text": [
        "\r",
        "Creating importer for <pybug.io.image.PILImporter object at 0x8cb4910> (289 of 811)"
       ]
      },
      {
       "output_type": "stream",
       "stream": "stdout",
       "text": [
        "\r",
        "Creating importer for <pybug.io.image.PILImporter object at 0x8cb4950> (290 of 811)"
       ]
      },
      {
       "output_type": "stream",
       "stream": "stdout",
       "text": [
        "\r",
        "Creating importer for <pybug.io.image.PILImporter object at 0x8cb4990> (291 of 811)"
       ]
      },
      {
       "output_type": "stream",
       "stream": "stdout",
       "text": [
        "\r",
        "Creating importer for <pybug.io.image.PILImporter object at 0x8cb49d0> (292 of 811)"
       ]
      },
      {
       "output_type": "stream",
       "stream": "stdout",
       "text": [
        "\r",
        "Creating importer for <pybug.io.image.PILImporter object at 0x8cb4a10> (293 of 811)"
       ]
      },
      {
       "output_type": "stream",
       "stream": "stdout",
       "text": [
        "\r",
        "Creating importer for <pybug.io.image.PILImporter object at 0x8cb4a50> (294 of 811)"
       ]
      },
      {
       "output_type": "stream",
       "stream": "stdout",
       "text": [
        "\r",
        "Creating importer for <pybug.io.image.PILImporter object at 0x8cb4a90> (295 of 811)"
       ]
      },
      {
       "output_type": "stream",
       "stream": "stdout",
       "text": [
        "\r",
        "Creating importer for <pybug.io.image.PILImporter object at 0x8cb4ad0> (296 of 811)"
       ]
      },
      {
       "output_type": "stream",
       "stream": "stdout",
       "text": [
        "\r",
        "Creating importer for <pybug.io.image.PILImporter object at 0x8cb4b10> (297 of 811)"
       ]
      },
      {
       "output_type": "stream",
       "stream": "stdout",
       "text": [
        "\r",
        "Creating importer for <pybug.io.image.PILImporter object at 0x8cb4b50> (298 of 811)"
       ]
      },
      {
       "output_type": "stream",
       "stream": "stdout",
       "text": [
        "\r",
        "Creating importer for <pybug.io.image.PILImporter object at 0x8cb4b90> (299 of 811)"
       ]
      },
      {
       "output_type": "stream",
       "stream": "stdout",
       "text": [
        "\r",
        "Creating importer for <pybug.io.image.PILImporter object at 0x8cb4bd0> (300 of 811)"
       ]
      },
      {
       "output_type": "stream",
       "stream": "stdout",
       "text": [
        "\r",
        "Creating importer for <pybug.io.image.PILImporter object at 0x8cb4c10> (301 of 811)"
       ]
      },
      {
       "output_type": "stream",
       "stream": "stdout",
       "text": [
        "\r",
        "Creating importer for <pybug.io.image.PILImporter object at 0x8cb4c50> (302 of 811)"
       ]
      },
      {
       "output_type": "stream",
       "stream": "stdout",
       "text": [
        "\r",
        "Creating importer for <pybug.io.image.PILImporter object at 0x8cb4c90> (303 of 811)"
       ]
      },
      {
       "output_type": "stream",
       "stream": "stdout",
       "text": [
        "\r",
        "Creating importer for <pybug.io.image.PILImporter object at 0x8cb4cd0> (304 of 811)"
       ]
      },
      {
       "output_type": "stream",
       "stream": "stdout",
       "text": [
        "\r",
        "Creating importer for <pybug.io.image.PILImporter object at 0x8cb4d10> (305 of 811)"
       ]
      },
      {
       "output_type": "stream",
       "stream": "stdout",
       "text": [
        "\r",
        "Creating importer for <pybug.io.image.PILImporter object at 0x8cb4d50> (306 of 811)"
       ]
      },
      {
       "output_type": "stream",
       "stream": "stdout",
       "text": [
        "\r",
        "Creating importer for <pybug.io.image.PILImporter object at 0x8cb4d90> (307 of 811)"
       ]
      },
      {
       "output_type": "stream",
       "stream": "stdout",
       "text": [
        "\r",
        "Creating importer for <pybug.io.image.PILImporter object at 0x8cb4dd0> (308 of 811)"
       ]
      },
      {
       "output_type": "stream",
       "stream": "stdout",
       "text": [
        "\r",
        "Creating importer for <pybug.io.image.PILImporter object at 0x8cb4e10> (309 of 811)"
       ]
      },
      {
       "output_type": "stream",
       "stream": "stdout",
       "text": [
        "\r",
        "Creating importer for <pybug.io.image.PILImporter object at 0x8cb4e50> (310 of 811)"
       ]
      },
      {
       "output_type": "stream",
       "stream": "stdout",
       "text": [
        "\r",
        "Creating importer for <pybug.io.image.PILImporter object at 0x8cb4e90> (311 of 811)"
       ]
      },
      {
       "output_type": "stream",
       "stream": "stdout",
       "text": [
        "\r",
        "Creating importer for <pybug.io.image.PILImporter object at 0x8cb4ed0> (312 of 811)"
       ]
      },
      {
       "output_type": "stream",
       "stream": "stdout",
       "text": [
        "\r",
        "Creating importer for <pybug.io.image.PILImporter object at 0x8cb4f10> (313 of 811)"
       ]
      },
      {
       "output_type": "stream",
       "stream": "stdout",
       "text": [
        "\r",
        "Creating importer for <pybug.io.image.PILImporter object at 0x8cb4f50> (314 of 811)"
       ]
      },
      {
       "output_type": "stream",
       "stream": "stdout",
       "text": [
        "\r",
        "Creating importer for <pybug.io.image.PILImporter object at 0x8cb4f90> (315 of 811)"
       ]
      },
      {
       "output_type": "stream",
       "stream": "stdout",
       "text": [
        "\r",
        "Creating importer for <pybug.io.image.PILImporter object at 0x8cb4fd0> (316 of 811)"
       ]
      },
      {
       "output_type": "stream",
       "stream": "stdout",
       "text": [
        "\r",
        "Creating importer for <pybug.io.image.PILImporter object at 0x8cbe050> (317 of 811)"
       ]
      },
      {
       "output_type": "stream",
       "stream": "stdout",
       "text": [
        "\r",
        "Creating importer for <pybug.io.image.PILImporter object at 0x8cbe090> (318 of 811)"
       ]
      },
      {
       "output_type": "stream",
       "stream": "stdout",
       "text": [
        "\r",
        "Creating importer for <pybug.io.image.PILImporter object at 0x8cbe0d0> (319 of 811)"
       ]
      },
      {
       "output_type": "stream",
       "stream": "stdout",
       "text": [
        "\r",
        "Creating importer for <pybug.io.image.PILImporter object at 0x8cbe110> (320 of 811)"
       ]
      },
      {
       "output_type": "stream",
       "stream": "stdout",
       "text": [
        "\r",
        "Creating importer for <pybug.io.image.PILImporter object at 0x8cbe150> (321 of 811)"
       ]
      },
      {
       "output_type": "stream",
       "stream": "stdout",
       "text": [
        "\r",
        "Creating importer for <pybug.io.image.PILImporter object at 0x8cbe190> (322 of 811)"
       ]
      },
      {
       "output_type": "stream",
       "stream": "stdout",
       "text": [
        "\r",
        "Creating importer for <pybug.io.image.PILImporter object at 0x8cbe1d0> (323 of 811)"
       ]
      },
      {
       "output_type": "stream",
       "stream": "stdout",
       "text": [
        "\r",
        "Creating importer for <pybug.io.image.PILImporter object at 0x8cbe210> (324 of 811)"
       ]
      },
      {
       "output_type": "stream",
       "stream": "stdout",
       "text": [
        "\r",
        "Creating importer for <pybug.io.image.PILImporter object at 0x8cbe250> (325 of 811)"
       ]
      },
      {
       "output_type": "stream",
       "stream": "stdout",
       "text": [
        "\r",
        "Creating importer for <pybug.io.image.PILImporter object at 0x8cbe290> (326 of 811)"
       ]
      },
      {
       "output_type": "stream",
       "stream": "stdout",
       "text": [
        "\r",
        "Creating importer for <pybug.io.image.PILImporter object at 0x8cbe2d0> (327 of 811)"
       ]
      },
      {
       "output_type": "stream",
       "stream": "stdout",
       "text": [
        "\r",
        "Creating importer for <pybug.io.image.PILImporter object at 0x8cbe310> (328 of 811)"
       ]
      },
      {
       "output_type": "stream",
       "stream": "stdout",
       "text": [
        "\r",
        "Creating importer for <pybug.io.image.PILImporter object at 0x8cbe350> (329 of 811)"
       ]
      },
      {
       "output_type": "stream",
       "stream": "stdout",
       "text": [
        "\r",
        "Creating importer for <pybug.io.image.PILImporter object at 0x8cbe390> (330 of 811)"
       ]
      },
      {
       "output_type": "stream",
       "stream": "stdout",
       "text": [
        "\r",
        "Creating importer for <pybug.io.image.PILImporter object at 0x8cbe3d0> (331 of 811)"
       ]
      },
      {
       "output_type": "stream",
       "stream": "stdout",
       "text": [
        "\r",
        "Creating importer for <pybug.io.image.PILImporter object at 0x8cbe410> (332 of 811)"
       ]
      },
      {
       "output_type": "stream",
       "stream": "stdout",
       "text": [
        "\r",
        "Creating importer for <pybug.io.image.PILImporter object at 0x8cbe450> (333 of 811)"
       ]
      },
      {
       "output_type": "stream",
       "stream": "stdout",
       "text": [
        "\r",
        "Creating importer for <pybug.io.image.PILImporter object at 0x8cbe490> (334 of 811)"
       ]
      },
      {
       "output_type": "stream",
       "stream": "stdout",
       "text": [
        "\r",
        "Creating importer for <pybug.io.image.PILImporter object at 0x8cbe4d0> (335 of 811)"
       ]
      },
      {
       "output_type": "stream",
       "stream": "stdout",
       "text": [
        "\r",
        "Creating importer for <pybug.io.image.PILImporter object at 0x8cbe510> (336 of 811)"
       ]
      },
      {
       "output_type": "stream",
       "stream": "stdout",
       "text": [
        "\r",
        "Creating importer for <pybug.io.image.PILImporter object at 0x8cbe550> (337 of 811)"
       ]
      },
      {
       "output_type": "stream",
       "stream": "stdout",
       "text": [
        "\r",
        "Creating importer for <pybug.io.image.PILImporter object at 0x8cbe590> (338 of 811)"
       ]
      },
      {
       "output_type": "stream",
       "stream": "stdout",
       "text": [
        "\r",
        "Creating importer for <pybug.io.image.PILImporter object at 0x8cbe5d0> (339 of 811)"
       ]
      },
      {
       "output_type": "stream",
       "stream": "stdout",
       "text": [
        "\r",
        "Creating importer for <pybug.io.image.PILImporter object at 0x8cbe610> (340 of 811)"
       ]
      },
      {
       "output_type": "stream",
       "stream": "stdout",
       "text": [
        "\r",
        "Creating importer for <pybug.io.image.PILImporter object at 0x8cbe650> (341 of 811)"
       ]
      },
      {
       "output_type": "stream",
       "stream": "stdout",
       "text": [
        "\r",
        "Creating importer for <pybug.io.image.PILImporter object at 0x8cbe690> (342 of 811)"
       ]
      },
      {
       "output_type": "stream",
       "stream": "stdout",
       "text": [
        "\r",
        "Creating importer for <pybug.io.image.PILImporter object at 0x8cbe6d0> (343 of 811)"
       ]
      },
      {
       "output_type": "stream",
       "stream": "stdout",
       "text": [
        "\r",
        "Creating importer for <pybug.io.image.PILImporter object at 0x8cbe710> (344 of 811)"
       ]
      },
      {
       "output_type": "stream",
       "stream": "stdout",
       "text": [
        "\r",
        "Creating importer for <pybug.io.image.PILImporter object at 0x8cbe750> (345 of 811)"
       ]
      },
      {
       "output_type": "stream",
       "stream": "stdout",
       "text": [
        "\r",
        "Creating importer for <pybug.io.image.PILImporter object at 0x8cbe790> (346 of 811)"
       ]
      },
      {
       "output_type": "stream",
       "stream": "stdout",
       "text": [
        "\r",
        "Creating importer for <pybug.io.image.PILImporter object at 0x8cbe7d0> (347 of 811)"
       ]
      },
      {
       "output_type": "stream",
       "stream": "stdout",
       "text": [
        "\r",
        "Creating importer for <pybug.io.image.PILImporter object at 0x8cbe810> (348 of 811)"
       ]
      },
      {
       "output_type": "stream",
       "stream": "stdout",
       "text": [
        "\r",
        "Creating importer for <pybug.io.image.PILImporter object at 0x8cbe850> (349 of 811)"
       ]
      },
      {
       "output_type": "stream",
       "stream": "stdout",
       "text": [
        "\r",
        "Creating importer for <pybug.io.image.PILImporter object at 0x8cbe890> (350 of 811)"
       ]
      },
      {
       "output_type": "stream",
       "stream": "stdout",
       "text": [
        "\r",
        "Creating importer for <pybug.io.image.PILImporter object at 0x8cbe8d0> (351 of 811)"
       ]
      },
      {
       "output_type": "stream",
       "stream": "stdout",
       "text": [
        "\r",
        "Creating importer for <pybug.io.image.PILImporter object at 0x8cbe910> (352 of 811)"
       ]
      },
      {
       "output_type": "stream",
       "stream": "stdout",
       "text": [
        "\r",
        "Creating importer for <pybug.io.image.PILImporter object at 0x8cbe950> (353 of 811)"
       ]
      },
      {
       "output_type": "stream",
       "stream": "stdout",
       "text": [
        "\r",
        "Creating importer for <pybug.io.image.PILImporter object at 0x8cbe990> (354 of 811)"
       ]
      },
      {
       "output_type": "stream",
       "stream": "stdout",
       "text": [
        "\r",
        "Creating importer for <pybug.io.image.PILImporter object at 0x8cbe9d0> (355 of 811)"
       ]
      },
      {
       "output_type": "stream",
       "stream": "stdout",
       "text": [
        "\r",
        "Creating importer for <pybug.io.image.PILImporter object at 0x8cbea10> (356 of 811)"
       ]
      },
      {
       "output_type": "stream",
       "stream": "stdout",
       "text": [
        "\r",
        "Creating importer for <pybug.io.image.PILImporter object at 0x8cbea50> (357 of 811)"
       ]
      },
      {
       "output_type": "stream",
       "stream": "stdout",
       "text": [
        "\r",
        "Creating importer for <pybug.io.image.PILImporter object at 0x8cbea90> (358 of 811)"
       ]
      },
      {
       "output_type": "stream",
       "stream": "stdout",
       "text": [
        "\r",
        "Creating importer for <pybug.io.image.PILImporter object at 0x8cbead0> (359 of 811)"
       ]
      },
      {
       "output_type": "stream",
       "stream": "stdout",
       "text": [
        "\r",
        "Creating importer for <pybug.io.image.PILImporter object at 0x8cbeb10> (360 of 811)"
       ]
      },
      {
       "output_type": "stream",
       "stream": "stdout",
       "text": [
        "\r",
        "Creating importer for <pybug.io.image.PILImporter object at 0x8cbeb50> (361 of 811)"
       ]
      },
      {
       "output_type": "stream",
       "stream": "stdout",
       "text": [
        "\r",
        "Creating importer for <pybug.io.image.PILImporter object at 0x8cbeb90> (362 of 811)"
       ]
      },
      {
       "output_type": "stream",
       "stream": "stdout",
       "text": [
        "\r",
        "Creating importer for <pybug.io.image.PILImporter object at 0x8cbebd0> (363 of 811)"
       ]
      },
      {
       "output_type": "stream",
       "stream": "stdout",
       "text": [
        "\r",
        "Creating importer for <pybug.io.image.PILImporter object at 0x8cbec10> (364 of 811)"
       ]
      },
      {
       "output_type": "stream",
       "stream": "stdout",
       "text": [
        "\r",
        "Creating importer for <pybug.io.image.PILImporter object at 0x8cbec50> (365 of 811)"
       ]
      },
      {
       "output_type": "stream",
       "stream": "stdout",
       "text": [
        "\r",
        "Creating importer for <pybug.io.image.PILImporter object at 0x8cbec90> (366 of 811)"
       ]
      },
      {
       "output_type": "stream",
       "stream": "stdout",
       "text": [
        "\r",
        "Creating importer for <pybug.io.image.PILImporter object at 0x8cbecd0> (367 of 811)"
       ]
      },
      {
       "output_type": "stream",
       "stream": "stdout",
       "text": [
        "\r",
        "Creating importer for <pybug.io.image.PILImporter object at 0x8cbed10> (368 of 811)"
       ]
      },
      {
       "output_type": "stream",
       "stream": "stdout",
       "text": [
        "\r",
        "Creating importer for <pybug.io.image.PILImporter object at 0x8cbed50> (369 of 811)"
       ]
      },
      {
       "output_type": "stream",
       "stream": "stdout",
       "text": [
        "\r",
        "Creating importer for <pybug.io.image.PILImporter object at 0x8cbed90> (370 of 811)"
       ]
      },
      {
       "output_type": "stream",
       "stream": "stdout",
       "text": [
        "\r",
        "Creating importer for <pybug.io.image.PILImporter object at 0x8cbedd0> (371 of 811)"
       ]
      },
      {
       "output_type": "stream",
       "stream": "stdout",
       "text": [
        "\r",
        "Creating importer for <pybug.io.image.PILImporter object at 0x8cbee10> (372 of 811)"
       ]
      },
      {
       "output_type": "stream",
       "stream": "stdout",
       "text": [
        "\r",
        "Creating importer for <pybug.io.image.PILImporter object at 0x8cbee50> (373 of 811)"
       ]
      },
      {
       "output_type": "stream",
       "stream": "stdout",
       "text": [
        "\r",
        "Creating importer for <pybug.io.image.PILImporter object at 0x8cbee90> (374 of 811)"
       ]
      },
      {
       "output_type": "stream",
       "stream": "stdout",
       "text": [
        "\r",
        "Creating importer for <pybug.io.image.PILImporter object at 0x8cbeed0> (375 of 811)"
       ]
      },
      {
       "output_type": "stream",
       "stream": "stdout",
       "text": [
        "\r",
        "Creating importer for <pybug.io.image.PILImporter object at 0x8cbef10> (376 of 811)"
       ]
      },
      {
       "output_type": "stream",
       "stream": "stdout",
       "text": [
        "\r",
        "Creating importer for <pybug.io.image.PILImporter object at 0x8cbef50> (377 of 811)"
       ]
      },
      {
       "output_type": "stream",
       "stream": "stdout",
       "text": [
        "\r",
        "Creating importer for <pybug.io.image.PILImporter object at 0x8cbef90> (378 of 811)"
       ]
      },
      {
       "output_type": "stream",
       "stream": "stdout",
       "text": [
        "\r",
        "Creating importer for <pybug.io.image.PILImporter object at 0x8cbefd0> (379 of 811)"
       ]
      },
      {
       "output_type": "stream",
       "stream": "stdout",
       "text": [
        "\r",
        "Creating importer for <pybug.io.image.PILImporter object at 0x8cc4050> (380 of 811)"
       ]
      },
      {
       "output_type": "stream",
       "stream": "stdout",
       "text": [
        "\r",
        "Creating importer for <pybug.io.image.PILImporter object at 0x8cc4090> (381 of 811)"
       ]
      },
      {
       "output_type": "stream",
       "stream": "stdout",
       "text": [
        "\r",
        "Creating importer for <pybug.io.image.PILImporter object at 0x8cc40d0> (382 of 811)"
       ]
      },
      {
       "output_type": "stream",
       "stream": "stdout",
       "text": [
        "\r",
        "Creating importer for <pybug.io.image.PILImporter object at 0x8cc4110> (383 of 811)"
       ]
      },
      {
       "output_type": "stream",
       "stream": "stdout",
       "text": [
        "\r",
        "Creating importer for <pybug.io.image.PILImporter object at 0x8cc4150> (384 of 811)"
       ]
      },
      {
       "output_type": "stream",
       "stream": "stdout",
       "text": [
        "\r",
        "Creating importer for <pybug.io.image.PILImporter object at 0x8cc4190> (385 of 811)"
       ]
      },
      {
       "output_type": "stream",
       "stream": "stdout",
       "text": [
        "\r",
        "Creating importer for <pybug.io.image.PILImporter object at 0x8cc41d0> (386 of 811)"
       ]
      },
      {
       "output_type": "stream",
       "stream": "stdout",
       "text": [
        "\r",
        "Creating importer for <pybug.io.image.PILImporter object at 0x8cc4210> (387 of 811)"
       ]
      },
      {
       "output_type": "stream",
       "stream": "stdout",
       "text": [
        "\r",
        "Creating importer for <pybug.io.image.PILImporter object at 0x8cc4250> (388 of 811)"
       ]
      },
      {
       "output_type": "stream",
       "stream": "stdout",
       "text": [
        "\r",
        "Creating importer for <pybug.io.image.PILImporter object at 0x8cc4290> (389 of 811)"
       ]
      },
      {
       "output_type": "stream",
       "stream": "stdout",
       "text": [
        "\r",
        "Creating importer for <pybug.io.image.PILImporter object at 0x8cc42d0> (390 of 811)"
       ]
      },
      {
       "output_type": "stream",
       "stream": "stdout",
       "text": [
        "\r",
        "Creating importer for <pybug.io.image.PILImporter object at 0x8cc4310> (391 of 811)"
       ]
      },
      {
       "output_type": "stream",
       "stream": "stdout",
       "text": [
        "\r",
        "Creating importer for <pybug.io.image.PILImporter object at 0x8cc4350> (392 of 811)"
       ]
      },
      {
       "output_type": "stream",
       "stream": "stdout",
       "text": [
        "\r",
        "Creating importer for <pybug.io.image.PILImporter object at 0x8cc4390> (393 of 811)"
       ]
      },
      {
       "output_type": "stream",
       "stream": "stdout",
       "text": [
        "\r",
        "Creating importer for <pybug.io.image.PILImporter object at 0x8cc43d0> (394 of 811)"
       ]
      },
      {
       "output_type": "stream",
       "stream": "stdout",
       "text": [
        "\r",
        "Creating importer for <pybug.io.image.PILImporter object at 0x8cc4410> (395 of 811)"
       ]
      },
      {
       "output_type": "stream",
       "stream": "stdout",
       "text": [
        "\r",
        "Creating importer for <pybug.io.image.PILImporter object at 0x8cc4450> (396 of 811)"
       ]
      },
      {
       "output_type": "stream",
       "stream": "stdout",
       "text": [
        "\r",
        "Creating importer for <pybug.io.image.PILImporter object at 0x8cc4490> (397 of 811)"
       ]
      },
      {
       "output_type": "stream",
       "stream": "stdout",
       "text": [
        "\r",
        "Creating importer for <pybug.io.image.PILImporter object at 0x8cc44d0> (398 of 811)"
       ]
      },
      {
       "output_type": "stream",
       "stream": "stdout",
       "text": [
        "\r",
        "Creating importer for <pybug.io.image.PILImporter object at 0x8cc4510> (399 of 811)"
       ]
      },
      {
       "output_type": "stream",
       "stream": "stdout",
       "text": [
        "\r",
        "Creating importer for <pybug.io.image.PILImporter object at 0x8cc4550> (400 of 811)"
       ]
      },
      {
       "output_type": "stream",
       "stream": "stdout",
       "text": [
        "\r",
        "Creating importer for <pybug.io.image.PILImporter object at 0x8cc4590> (401 of 811)"
       ]
      },
      {
       "output_type": "stream",
       "stream": "stdout",
       "text": [
        "\r",
        "Creating importer for <pybug.io.image.PILImporter object at 0x8cc45d0> (402 of 811)"
       ]
      },
      {
       "output_type": "stream",
       "stream": "stdout",
       "text": [
        "\r",
        "Creating importer for <pybug.io.image.PILImporter object at 0x8cc4610> (403 of 811)"
       ]
      },
      {
       "output_type": "stream",
       "stream": "stdout",
       "text": [
        "\r",
        "Creating importer for <pybug.io.image.PILImporter object at 0x8cc4650> (404 of 811)"
       ]
      },
      {
       "output_type": "stream",
       "stream": "stdout",
       "text": [
        "\r",
        "Creating importer for <pybug.io.image.PILImporter object at 0x8cc4690> (405 of 811)"
       ]
      },
      {
       "output_type": "stream",
       "stream": "stdout",
       "text": [
        "\r",
        "Creating importer for <pybug.io.image.PILImporter object at 0x8cc46d0> (406 of 811)"
       ]
      },
      {
       "output_type": "stream",
       "stream": "stdout",
       "text": [
        "\r",
        "Creating importer for <pybug.io.image.PILImporter object at 0x8cc4710> (407 of 811)"
       ]
      },
      {
       "output_type": "stream",
       "stream": "stdout",
       "text": [
        "\r",
        "Creating importer for <pybug.io.image.PILImporter object at 0x8cc4750> (408 of 811)"
       ]
      },
      {
       "output_type": "stream",
       "stream": "stdout",
       "text": [
        "\r",
        "Creating importer for <pybug.io.image.PILImporter object at 0x8cc4790> (409 of 811)"
       ]
      },
      {
       "output_type": "stream",
       "stream": "stdout",
       "text": [
        "\r",
        "Creating importer for <pybug.io.image.PILImporter object at 0x8cc47d0> (410 of 811)"
       ]
      },
      {
       "output_type": "stream",
       "stream": "stdout",
       "text": [
        "\r",
        "Creating importer for <pybug.io.image.PILImporter object at 0x8cc4810> (411 of 811)"
       ]
      },
      {
       "output_type": "stream",
       "stream": "stdout",
       "text": [
        "\r",
        "Creating importer for <pybug.io.image.PILImporter object at 0x8cc4850> (412 of 811)"
       ]
      },
      {
       "output_type": "stream",
       "stream": "stdout",
       "text": [
        "\r",
        "Creating importer for <pybug.io.image.PILImporter object at 0x8cc4890> (413 of 811)"
       ]
      },
      {
       "output_type": "stream",
       "stream": "stdout",
       "text": [
        "\r",
        "Creating importer for <pybug.io.image.PILImporter object at 0x8cc48d0> (414 of 811)"
       ]
      },
      {
       "output_type": "stream",
       "stream": "stdout",
       "text": [
        "\r",
        "Creating importer for <pybug.io.image.PILImporter object at 0x8cc4910> (415 of 811)"
       ]
      },
      {
       "output_type": "stream",
       "stream": "stdout",
       "text": [
        "\r",
        "Creating importer for <pybug.io.image.PILImporter object at 0x8cc4950> (416 of 811)"
       ]
      },
      {
       "output_type": "stream",
       "stream": "stdout",
       "text": [
        "\r",
        "Creating importer for <pybug.io.image.PILImporter object at 0x8cc4990> (417 of 811)"
       ]
      },
      {
       "output_type": "stream",
       "stream": "stdout",
       "text": [
        "\r",
        "Creating importer for <pybug.io.image.PILImporter object at 0x8cc49d0> (418 of 811)"
       ]
      },
      {
       "output_type": "stream",
       "stream": "stdout",
       "text": [
        "\r",
        "Creating importer for <pybug.io.image.PILImporter object at 0x8cc4a10> (419 of 811)"
       ]
      },
      {
       "output_type": "stream",
       "stream": "stdout",
       "text": [
        "\r",
        "Creating importer for <pybug.io.image.PILImporter object at 0x8cc4a50> (420 of 811)"
       ]
      },
      {
       "output_type": "stream",
       "stream": "stdout",
       "text": [
        "\r",
        "Creating importer for <pybug.io.image.PILImporter object at 0x8cc4a90> (421 of 811)"
       ]
      },
      {
       "output_type": "stream",
       "stream": "stdout",
       "text": [
        "\r",
        "Creating importer for <pybug.io.image.PILImporter object at 0x8cc4ad0> (422 of 811)"
       ]
      },
      {
       "output_type": "stream",
       "stream": "stdout",
       "text": [
        "\r",
        "Creating importer for <pybug.io.image.PILImporter object at 0x8cc4b10> (423 of 811)"
       ]
      },
      {
       "output_type": "stream",
       "stream": "stdout",
       "text": [
        "\r",
        "Creating importer for <pybug.io.image.PILImporter object at 0x8cc4b50> (424 of 811)"
       ]
      },
      {
       "output_type": "stream",
       "stream": "stdout",
       "text": [
        "\r",
        "Creating importer for <pybug.io.image.PILImporter object at 0x8cc4b90> (425 of 811)"
       ]
      },
      {
       "output_type": "stream",
       "stream": "stdout",
       "text": [
        "\r",
        "Creating importer for <pybug.io.image.PILImporter object at 0x8cc4bd0> (426 of 811)"
       ]
      },
      {
       "output_type": "stream",
       "stream": "stdout",
       "text": [
        "\r",
        "Creating importer for <pybug.io.image.PILImporter object at 0x8cc4c10> (427 of 811)"
       ]
      },
      {
       "output_type": "stream",
       "stream": "stdout",
       "text": [
        "\r",
        "Creating importer for <pybug.io.image.PILImporter object at 0x8cc4c50> (428 of 811)"
       ]
      },
      {
       "output_type": "stream",
       "stream": "stdout",
       "text": [
        "\r",
        "Creating importer for <pybug.io.image.PILImporter object at 0x8cc4c90> (429 of 811)"
       ]
      },
      {
       "output_type": "stream",
       "stream": "stdout",
       "text": [
        "\r",
        "Creating importer for <pybug.io.image.PILImporter object at 0x8cc4cd0> (430 of 811)"
       ]
      },
      {
       "output_type": "stream",
       "stream": "stdout",
       "text": [
        "\r",
        "Creating importer for <pybug.io.image.PILImporter object at 0x8cc4d10> (431 of 811)"
       ]
      },
      {
       "output_type": "stream",
       "stream": "stdout",
       "text": [
        "\r",
        "Creating importer for <pybug.io.image.PILImporter object at 0x8cc4d50> (432 of 811)"
       ]
      },
      {
       "output_type": "stream",
       "stream": "stdout",
       "text": [
        "\r",
        "Creating importer for <pybug.io.image.PILImporter object at 0x8cc4d90> (433 of 811)"
       ]
      },
      {
       "output_type": "stream",
       "stream": "stdout",
       "text": [
        "\r",
        "Creating importer for <pybug.io.image.PILImporter object at 0x8cc4dd0> (434 of 811)"
       ]
      },
      {
       "output_type": "stream",
       "stream": "stdout",
       "text": [
        "\r",
        "Creating importer for <pybug.io.image.PILImporter object at 0x8cc4e10> (435 of 811)"
       ]
      },
      {
       "output_type": "stream",
       "stream": "stdout",
       "text": [
        "\r",
        "Creating importer for <pybug.io.image.PILImporter object at 0x8cc4e50> (436 of 811)"
       ]
      },
      {
       "output_type": "stream",
       "stream": "stdout",
       "text": [
        "\r",
        "Creating importer for <pybug.io.image.PILImporter object at 0x8cc4e90> (437 of 811)"
       ]
      },
      {
       "output_type": "stream",
       "stream": "stdout",
       "text": [
        "\r",
        "Creating importer for <pybug.io.image.PILImporter object at 0x8cc4ed0> (438 of 811)"
       ]
      },
      {
       "output_type": "stream",
       "stream": "stdout",
       "text": [
        "\r",
        "Creating importer for <pybug.io.image.PILImporter object at 0x8cc4f10> (439 of 811)"
       ]
      },
      {
       "output_type": "stream",
       "stream": "stdout",
       "text": [
        "\r",
        "Creating importer for <pybug.io.image.PILImporter object at 0x8cc4f50> (440 of 811)"
       ]
      },
      {
       "output_type": "stream",
       "stream": "stdout",
       "text": [
        "\r",
        "Creating importer for <pybug.io.image.PILImporter object at 0x8cc4f90> (441 of 811)"
       ]
      },
      {
       "output_type": "stream",
       "stream": "stdout",
       "text": [
        "\r",
        "Creating importer for <pybug.io.image.PILImporter object at 0x8cc4fd0> (442 of 811)"
       ]
      },
      {
       "output_type": "stream",
       "stream": "stdout",
       "text": [
        "\r",
        "Creating importer for <pybug.io.image.PILImporter object at 0x8cc8050> (443 of 811)"
       ]
      },
      {
       "output_type": "stream",
       "stream": "stdout",
       "text": [
        "\r",
        "Creating importer for <pybug.io.image.PILImporter object at 0x8cc8090> (444 of 811)"
       ]
      },
      {
       "output_type": "stream",
       "stream": "stdout",
       "text": [
        "\r",
        "Creating importer for <pybug.io.image.PILImporter object at 0x8cc80d0> (445 of 811)"
       ]
      },
      {
       "output_type": "stream",
       "stream": "stdout",
       "text": [
        "\r",
        "Creating importer for <pybug.io.image.PILImporter object at 0x8cc8110> (446 of 811)"
       ]
      },
      {
       "output_type": "stream",
       "stream": "stdout",
       "text": [
        "\r",
        "Creating importer for <pybug.io.image.PILImporter object at 0x8cc8150> (447 of 811)"
       ]
      },
      {
       "output_type": "stream",
       "stream": "stdout",
       "text": [
        "\r",
        "Creating importer for <pybug.io.image.PILImporter object at 0x8cc8190> (448 of 811)"
       ]
      },
      {
       "output_type": "stream",
       "stream": "stdout",
       "text": [
        "\r",
        "Creating importer for <pybug.io.image.PILImporter object at 0x8cc81d0> (449 of 811)"
       ]
      },
      {
       "output_type": "stream",
       "stream": "stdout",
       "text": [
        "\r",
        "Creating importer for <pybug.io.image.PILImporter object at 0x8cc8210> (450 of 811)"
       ]
      },
      {
       "output_type": "stream",
       "stream": "stdout",
       "text": [
        "\r",
        "Creating importer for <pybug.io.image.PILImporter object at 0x8cc8250> (451 of 811)"
       ]
      },
      {
       "output_type": "stream",
       "stream": "stdout",
       "text": [
        "\r",
        "Creating importer for <pybug.io.image.PILImporter object at 0x8cc8290> (452 of 811)"
       ]
      },
      {
       "output_type": "stream",
       "stream": "stdout",
       "text": [
        "\r",
        "Creating importer for <pybug.io.image.PILImporter object at 0x8cc82d0> (453 of 811)"
       ]
      },
      {
       "output_type": "stream",
       "stream": "stdout",
       "text": [
        "\r",
        "Creating importer for <pybug.io.image.PILImporter object at 0x8cc8310> (454 of 811)"
       ]
      },
      {
       "output_type": "stream",
       "stream": "stdout",
       "text": [
        "\r",
        "Creating importer for <pybug.io.image.PILImporter object at 0x8cc8350> (455 of 811)"
       ]
      },
      {
       "output_type": "stream",
       "stream": "stdout",
       "text": [
        "\r",
        "Creating importer for <pybug.io.image.PILImporter object at 0x8cc8390> (456 of 811)"
       ]
      },
      {
       "output_type": "stream",
       "stream": "stdout",
       "text": [
        "\r",
        "Creating importer for <pybug.io.image.PILImporter object at 0x8cc83d0> (457 of 811)"
       ]
      },
      {
       "output_type": "stream",
       "stream": "stdout",
       "text": [
        "\r",
        "Creating importer for <pybug.io.image.PILImporter object at 0x8cc8410> (458 of 811)"
       ]
      },
      {
       "output_type": "stream",
       "stream": "stdout",
       "text": [
        "\r",
        "Creating importer for <pybug.io.image.PILImporter object at 0x8cc8450> (459 of 811)"
       ]
      },
      {
       "output_type": "stream",
       "stream": "stdout",
       "text": [
        "\r",
        "Creating importer for <pybug.io.image.PILImporter object at 0x8cc8490> (460 of 811)"
       ]
      },
      {
       "output_type": "stream",
       "stream": "stdout",
       "text": [
        "\r",
        "Creating importer for <pybug.io.image.PILImporter object at 0x8cc84d0> (461 of 811)"
       ]
      },
      {
       "output_type": "stream",
       "stream": "stdout",
       "text": [
        "\r",
        "Creating importer for <pybug.io.image.PILImporter object at 0x8cc8510> (462 of 811)"
       ]
      },
      {
       "output_type": "stream",
       "stream": "stdout",
       "text": [
        "\r",
        "Creating importer for <pybug.io.image.PILImporter object at 0x8cc8550> (463 of 811)"
       ]
      },
      {
       "output_type": "stream",
       "stream": "stdout",
       "text": [
        "\r",
        "Creating importer for <pybug.io.image.PILImporter object at 0x8cc8590> (464 of 811)"
       ]
      },
      {
       "output_type": "stream",
       "stream": "stdout",
       "text": [
        "\r",
        "Creating importer for <pybug.io.image.PILImporter object at 0x8cc85d0> (465 of 811)"
       ]
      },
      {
       "output_type": "stream",
       "stream": "stdout",
       "text": [
        "\r",
        "Creating importer for <pybug.io.image.PILImporter object at 0x8cc8610> (466 of 811)"
       ]
      },
      {
       "output_type": "stream",
       "stream": "stdout",
       "text": [
        "\r",
        "Creating importer for <pybug.io.image.PILImporter object at 0x8cc8650> (467 of 811)"
       ]
      },
      {
       "output_type": "stream",
       "stream": "stdout",
       "text": [
        "\r",
        "Creating importer for <pybug.io.image.PILImporter object at 0x8cc8690> (468 of 811)"
       ]
      },
      {
       "output_type": "stream",
       "stream": "stdout",
       "text": [
        "\r",
        "Creating importer for <pybug.io.image.PILImporter object at 0x8cc86d0> (469 of 811)"
       ]
      },
      {
       "output_type": "stream",
       "stream": "stdout",
       "text": [
        "\r",
        "Creating importer for <pybug.io.image.PILImporter object at 0x8cc8710> (470 of 811)"
       ]
      },
      {
       "output_type": "stream",
       "stream": "stdout",
       "text": [
        "\r",
        "Creating importer for <pybug.io.image.PILImporter object at 0x8cc8750> (471 of 811)"
       ]
      },
      {
       "output_type": "stream",
       "stream": "stdout",
       "text": [
        "\r",
        "Creating importer for <pybug.io.image.PILImporter object at 0x8cc8790> (472 of 811)"
       ]
      },
      {
       "output_type": "stream",
       "stream": "stdout",
       "text": [
        "\r",
        "Creating importer for <pybug.io.image.PILImporter object at 0x8cc87d0> (473 of 811)"
       ]
      },
      {
       "output_type": "stream",
       "stream": "stdout",
       "text": [
        "\r",
        "Creating importer for <pybug.io.image.PILImporter object at 0x8cc8810> (474 of 811)"
       ]
      },
      {
       "output_type": "stream",
       "stream": "stdout",
       "text": [
        "\r",
        "Creating importer for <pybug.io.image.PILImporter object at 0x8cc8850> (475 of 811)"
       ]
      },
      {
       "output_type": "stream",
       "stream": "stdout",
       "text": [
        "\r",
        "Creating importer for <pybug.io.image.PILImporter object at 0x8cc8890> (476 of 811)"
       ]
      },
      {
       "output_type": "stream",
       "stream": "stdout",
       "text": [
        "\r",
        "Creating importer for <pybug.io.image.PILImporter object at 0x8cc88d0> (477 of 811)"
       ]
      },
      {
       "output_type": "stream",
       "stream": "stdout",
       "text": [
        "\r",
        "Creating importer for <pybug.io.image.PILImporter object at 0x8cc8910> (478 of 811)"
       ]
      },
      {
       "output_type": "stream",
       "stream": "stdout",
       "text": [
        "\r",
        "Creating importer for <pybug.io.image.PILImporter object at 0x8cc8950> (479 of 811)"
       ]
      },
      {
       "output_type": "stream",
       "stream": "stdout",
       "text": [
        "\r",
        "Creating importer for <pybug.io.image.PILImporter object at 0x8cc8990> (480 of 811)"
       ]
      },
      {
       "output_type": "stream",
       "stream": "stdout",
       "text": [
        "\r",
        "Creating importer for <pybug.io.image.PILImporter object at 0x8cc89d0> (481 of 811)"
       ]
      },
      {
       "output_type": "stream",
       "stream": "stdout",
       "text": [
        "\r",
        "Creating importer for <pybug.io.image.PILImporter object at 0x8cc8a10> (482 of 811)"
       ]
      },
      {
       "output_type": "stream",
       "stream": "stdout",
       "text": [
        "\r",
        "Creating importer for <pybug.io.image.PILImporter object at 0x8cc8a50> (483 of 811)"
       ]
      },
      {
       "output_type": "stream",
       "stream": "stdout",
       "text": [
        "\r",
        "Creating importer for <pybug.io.image.PILImporter object at 0x8cc8a90> (484 of 811)"
       ]
      },
      {
       "output_type": "stream",
       "stream": "stdout",
       "text": [
        "\r",
        "Creating importer for <pybug.io.image.PILImporter object at 0x8cc8ad0> (485 of 811)"
       ]
      },
      {
       "output_type": "stream",
       "stream": "stdout",
       "text": [
        "\r",
        "Creating importer for <pybug.io.image.PILImporter object at 0x8cc8b10> (486 of 811)"
       ]
      },
      {
       "output_type": "stream",
       "stream": "stdout",
       "text": [
        "\r",
        "Creating importer for <pybug.io.image.PILImporter object at 0x8cc8b50> (487 of 811)"
       ]
      },
      {
       "output_type": "stream",
       "stream": "stdout",
       "text": [
        "\r",
        "Creating importer for <pybug.io.image.PILImporter object at 0x8cc8b90> (488 of 811)"
       ]
      },
      {
       "output_type": "stream",
       "stream": "stdout",
       "text": [
        "\r",
        "Creating importer for <pybug.io.image.PILImporter object at 0x8cc8bd0> (489 of 811)"
       ]
      },
      {
       "output_type": "stream",
       "stream": "stdout",
       "text": [
        "\r",
        "Creating importer for <pybug.io.image.PILImporter object at 0x8cc8c10> (490 of 811)"
       ]
      },
      {
       "output_type": "stream",
       "stream": "stdout",
       "text": [
        "\r",
        "Creating importer for <pybug.io.image.PILImporter object at 0x8cc8c50> (491 of 811)"
       ]
      },
      {
       "output_type": "stream",
       "stream": "stdout",
       "text": [
        "\r",
        "Creating importer for <pybug.io.image.PILImporter object at 0x8cc8c90> (492 of 811)"
       ]
      },
      {
       "output_type": "stream",
       "stream": "stdout",
       "text": [
        "\r",
        "Creating importer for <pybug.io.image.PILImporter object at 0x8cc8cd0> (493 of 811)"
       ]
      },
      {
       "output_type": "stream",
       "stream": "stdout",
       "text": [
        "\r",
        "Creating importer for <pybug.io.image.PILImporter object at 0x8cc8d10> (494 of 811)"
       ]
      },
      {
       "output_type": "stream",
       "stream": "stdout",
       "text": [
        "\r",
        "Creating importer for <pybug.io.image.PILImporter object at 0x8cc8d50> (495 of 811)"
       ]
      },
      {
       "output_type": "stream",
       "stream": "stdout",
       "text": [
        "\r",
        "Creating importer for <pybug.io.image.PILImporter object at 0x8cc8d90> (496 of 811)"
       ]
      },
      {
       "output_type": "stream",
       "stream": "stdout",
       "text": [
        "\r",
        "Creating importer for <pybug.io.image.PILImporter object at 0x8cc8dd0> (497 of 811)"
       ]
      },
      {
       "output_type": "stream",
       "stream": "stdout",
       "text": [
        "\r",
        "Creating importer for <pybug.io.image.PILImporter object at 0x8cc8e10> (498 of 811)"
       ]
      },
      {
       "output_type": "stream",
       "stream": "stdout",
       "text": [
        "\r",
        "Creating importer for <pybug.io.image.PILImporter object at 0x8cc8e50> (499 of 811)"
       ]
      },
      {
       "output_type": "stream",
       "stream": "stdout",
       "text": [
        "\r",
        "Creating importer for <pybug.io.image.PILImporter object at 0x8cc8e90> (500 of 811)"
       ]
      },
      {
       "output_type": "stream",
       "stream": "stdout",
       "text": [
        "\r",
        "Creating importer for <pybug.io.image.PILImporter object at 0x8cc8ed0> (501 of 811)"
       ]
      },
      {
       "output_type": "stream",
       "stream": "stdout",
       "text": [
        "\r",
        "Creating importer for <pybug.io.image.PILImporter object at 0x8cc8f10> (502 of 811)"
       ]
      },
      {
       "output_type": "stream",
       "stream": "stdout",
       "text": [
        "\r",
        "Creating importer for <pybug.io.image.PILImporter object at 0x8cc8f50> (503 of 811)"
       ]
      },
      {
       "output_type": "stream",
       "stream": "stdout",
       "text": [
        "\r",
        "Creating importer for <pybug.io.image.PILImporter object at 0x8cc8f90> (504 of 811)"
       ]
      },
      {
       "output_type": "stream",
       "stream": "stdout",
       "text": [
        "\r",
        "Creating importer for <pybug.io.image.PILImporter object at 0x8cc8fd0> (505 of 811)"
       ]
      },
      {
       "output_type": "stream",
       "stream": "stdout",
       "text": [
        "\r",
        "Creating importer for <pybug.io.image.PILImporter object at 0x8c79050> (506 of 811)"
       ]
      },
      {
       "output_type": "stream",
       "stream": "stdout",
       "text": [
        "\r",
        "Creating importer for <pybug.io.image.PILImporter object at 0x8c79090> (507 of 811)"
       ]
      },
      {
       "output_type": "stream",
       "stream": "stdout",
       "text": [
        "\r",
        "Creating importer for <pybug.io.image.PILImporter object at 0x8c790d0> (508 of 811)"
       ]
      },
      {
       "output_type": "stream",
       "stream": "stdout",
       "text": [
        "\r",
        "Creating importer for <pybug.io.image.PILImporter object at 0x8c79110> (509 of 811)"
       ]
      },
      {
       "output_type": "stream",
       "stream": "stdout",
       "text": [
        "\r",
        "Creating importer for <pybug.io.image.PILImporter object at 0x8c79150> (510 of 811)"
       ]
      },
      {
       "output_type": "stream",
       "stream": "stdout",
       "text": [
        "\r",
        "Creating importer for <pybug.io.image.PILImporter object at 0x8c79190> (511 of 811)"
       ]
      },
      {
       "output_type": "stream",
       "stream": "stdout",
       "text": [
        "\r",
        "Creating importer for <pybug.io.image.PILImporter object at 0x8c791d0> (512 of 811)"
       ]
      },
      {
       "output_type": "stream",
       "stream": "stdout",
       "text": [
        "\r",
        "Creating importer for <pybug.io.image.PILImporter object at 0x8c79210> (513 of 811)"
       ]
      },
      {
       "output_type": "stream",
       "stream": "stdout",
       "text": [
        "\r",
        "Creating importer for <pybug.io.image.PILImporter object at 0x8c79250> (514 of 811)"
       ]
      },
      {
       "output_type": "stream",
       "stream": "stdout",
       "text": [
        "\r",
        "Creating importer for <pybug.io.image.PILImporter object at 0x8c79290> (515 of 811)"
       ]
      },
      {
       "output_type": "stream",
       "stream": "stdout",
       "text": [
        "\r",
        "Creating importer for <pybug.io.image.PILImporter object at 0x8c792d0> (516 of 811)"
       ]
      },
      {
       "output_type": "stream",
       "stream": "stdout",
       "text": [
        "\r",
        "Creating importer for <pybug.io.image.PILImporter object at 0x8c79310> (517 of 811)"
       ]
      },
      {
       "output_type": "stream",
       "stream": "stdout",
       "text": [
        "\r",
        "Creating importer for <pybug.io.image.PILImporter object at 0x8c79350> (518 of 811)"
       ]
      },
      {
       "output_type": "stream",
       "stream": "stdout",
       "text": [
        "\r",
        "Creating importer for <pybug.io.image.PILImporter object at 0x8c79390> (519 of 811)"
       ]
      },
      {
       "output_type": "stream",
       "stream": "stdout",
       "text": [
        "\r",
        "Creating importer for <pybug.io.image.PILImporter object at 0x8c793d0> (520 of 811)"
       ]
      },
      {
       "output_type": "stream",
       "stream": "stdout",
       "text": [
        "\r",
        "Creating importer for <pybug.io.image.PILImporter object at 0x8c79410> (521 of 811)"
       ]
      },
      {
       "output_type": "stream",
       "stream": "stdout",
       "text": [
        "\r",
        "Creating importer for <pybug.io.image.PILImporter object at 0x8c79450> (522 of 811)"
       ]
      },
      {
       "output_type": "stream",
       "stream": "stdout",
       "text": [
        "\r",
        "Creating importer for <pybug.io.image.PILImporter object at 0x8c79490> (523 of 811)"
       ]
      },
      {
       "output_type": "stream",
       "stream": "stdout",
       "text": [
        "\r",
        "Creating importer for <pybug.io.image.PILImporter object at 0x8c794d0> (524 of 811)"
       ]
      },
      {
       "output_type": "stream",
       "stream": "stdout",
       "text": [
        "\r",
        "Creating importer for <pybug.io.image.PILImporter object at 0x8c79510> (525 of 811)"
       ]
      },
      {
       "output_type": "stream",
       "stream": "stdout",
       "text": [
        "\r",
        "Creating importer for <pybug.io.image.PILImporter object at 0x8c79550> (526 of 811)"
       ]
      },
      {
       "output_type": "stream",
       "stream": "stdout",
       "text": [
        "\r",
        "Creating importer for <pybug.io.image.PILImporter object at 0x8c79590> (527 of 811)"
       ]
      },
      {
       "output_type": "stream",
       "stream": "stdout",
       "text": [
        "\r",
        "Creating importer for <pybug.io.image.PILImporter object at 0x8c795d0> (528 of 811)"
       ]
      },
      {
       "output_type": "stream",
       "stream": "stdout",
       "text": [
        "\r",
        "Creating importer for <pybug.io.image.PILImporter object at 0x8c79610> (529 of 811)"
       ]
      },
      {
       "output_type": "stream",
       "stream": "stdout",
       "text": [
        "\r",
        "Creating importer for <pybug.io.image.PILImporter object at 0x8c79650> (530 of 811)"
       ]
      },
      {
       "output_type": "stream",
       "stream": "stdout",
       "text": [
        "\r",
        "Creating importer for <pybug.io.image.PILImporter object at 0x8c79690> (531 of 811)"
       ]
      },
      {
       "output_type": "stream",
       "stream": "stdout",
       "text": [
        "\r",
        "Creating importer for <pybug.io.image.PILImporter object at 0x8c796d0> (532 of 811)"
       ]
      },
      {
       "output_type": "stream",
       "stream": "stdout",
       "text": [
        "\r",
        "Creating importer for <pybug.io.image.PILImporter object at 0x8c79710> (533 of 811)"
       ]
      },
      {
       "output_type": "stream",
       "stream": "stdout",
       "text": [
        "\r",
        "Creating importer for <pybug.io.image.PILImporter object at 0x8c79750> (534 of 811)"
       ]
      },
      {
       "output_type": "stream",
       "stream": "stdout",
       "text": [
        "\r",
        "Creating importer for <pybug.io.image.PILImporter object at 0x8c79790> (535 of 811)"
       ]
      },
      {
       "output_type": "stream",
       "stream": "stdout",
       "text": [
        "\r",
        "Creating importer for <pybug.io.image.PILImporter object at 0x8c797d0> (536 of 811)"
       ]
      },
      {
       "output_type": "stream",
       "stream": "stdout",
       "text": [
        "\r",
        "Creating importer for <pybug.io.image.PILImporter object at 0x8c79810> (537 of 811)"
       ]
      },
      {
       "output_type": "stream",
       "stream": "stdout",
       "text": [
        "\r",
        "Creating importer for <pybug.io.image.PILImporter object at 0x8c79850> (538 of 811)"
       ]
      },
      {
       "output_type": "stream",
       "stream": "stdout",
       "text": [
        "\r",
        "Creating importer for <pybug.io.image.PILImporter object at 0x8c79890> (539 of 811)"
       ]
      },
      {
       "output_type": "stream",
       "stream": "stdout",
       "text": [
        "\r",
        "Creating importer for <pybug.io.image.PILImporter object at 0x8c798d0> (540 of 811)"
       ]
      },
      {
       "output_type": "stream",
       "stream": "stdout",
       "text": [
        "\r",
        "Creating importer for <pybug.io.image.PILImporter object at 0x8c79910> (541 of 811)"
       ]
      },
      {
       "output_type": "stream",
       "stream": "stdout",
       "text": [
        "\r",
        "Creating importer for <pybug.io.image.PILImporter object at 0x8c79950> (542 of 811)"
       ]
      },
      {
       "output_type": "stream",
       "stream": "stdout",
       "text": [
        "\r",
        "Creating importer for <pybug.io.image.PILImporter object at 0x8c79990> (543 of 811)"
       ]
      },
      {
       "output_type": "stream",
       "stream": "stdout",
       "text": [
        "\r",
        "Creating importer for <pybug.io.image.PILImporter object at 0x8c799d0> (544 of 811)"
       ]
      },
      {
       "output_type": "stream",
       "stream": "stdout",
       "text": [
        "\r",
        "Creating importer for <pybug.io.image.PILImporter object at 0x8c79a10> (545 of 811)"
       ]
      },
      {
       "output_type": "stream",
       "stream": "stdout",
       "text": [
        "\r",
        "Creating importer for <pybug.io.image.PILImporter object at 0x8c79a50> (546 of 811)"
       ]
      },
      {
       "output_type": "stream",
       "stream": "stdout",
       "text": [
        "\r",
        "Creating importer for <pybug.io.image.PILImporter object at 0x8c79a90> (547 of 811)"
       ]
      },
      {
       "output_type": "stream",
       "stream": "stdout",
       "text": [
        "\r",
        "Creating importer for <pybug.io.image.PILImporter object at 0x8c79ad0> (548 of 811)"
       ]
      },
      {
       "output_type": "stream",
       "stream": "stdout",
       "text": [
        "\r",
        "Creating importer for <pybug.io.image.PILImporter object at 0x8c79b10> (549 of 811)"
       ]
      },
      {
       "output_type": "stream",
       "stream": "stdout",
       "text": [
        "\r",
        "Creating importer for <pybug.io.image.PILImporter object at 0x8c79b50> (550 of 811)"
       ]
      },
      {
       "output_type": "stream",
       "stream": "stdout",
       "text": [
        "\r",
        "Creating importer for <pybug.io.image.PILImporter object at 0x8c79b90> (551 of 811)"
       ]
      },
      {
       "output_type": "stream",
       "stream": "stdout",
       "text": [
        "\r",
        "Creating importer for <pybug.io.image.PILImporter object at 0x8c79bd0> (552 of 811)"
       ]
      },
      {
       "output_type": "stream",
       "stream": "stdout",
       "text": [
        "\r",
        "Creating importer for <pybug.io.image.PILImporter object at 0x8c79c10> (553 of 811)"
       ]
      },
      {
       "output_type": "stream",
       "stream": "stdout",
       "text": [
        "\r",
        "Creating importer for <pybug.io.image.PILImporter object at 0x8c79c50> (554 of 811)"
       ]
      },
      {
       "output_type": "stream",
       "stream": "stdout",
       "text": [
        "\r",
        "Creating importer for <pybug.io.image.PILImporter object at 0x8c79c90> (555 of 811)"
       ]
      },
      {
       "output_type": "stream",
       "stream": "stdout",
       "text": [
        "\r",
        "Creating importer for <pybug.io.image.PILImporter object at 0x8c79cd0> (556 of 811)"
       ]
      },
      {
       "output_type": "stream",
       "stream": "stdout",
       "text": [
        "\r",
        "Creating importer for <pybug.io.image.PILImporter object at 0x8c79d10> (557 of 811)"
       ]
      },
      {
       "output_type": "stream",
       "stream": "stdout",
       "text": [
        "\r",
        "Creating importer for <pybug.io.image.PILImporter object at 0x8c79d50> (558 of 811)"
       ]
      },
      {
       "output_type": "stream",
       "stream": "stdout",
       "text": [
        "\r",
        "Creating importer for <pybug.io.image.PILImporter object at 0x8c79d90> (559 of 811)"
       ]
      },
      {
       "output_type": "stream",
       "stream": "stdout",
       "text": [
        "\r",
        "Creating importer for <pybug.io.image.PILImporter object at 0x8c79dd0> (560 of 811)"
       ]
      },
      {
       "output_type": "stream",
       "stream": "stdout",
       "text": [
        "\r",
        "Creating importer for <pybug.io.image.PILImporter object at 0x8c79e10> (561 of 811)"
       ]
      },
      {
       "output_type": "stream",
       "stream": "stdout",
       "text": [
        "\r",
        "Creating importer for <pybug.io.image.PILImporter object at 0x8c79e50> (562 of 811)"
       ]
      },
      {
       "output_type": "stream",
       "stream": "stdout",
       "text": [
        "\r",
        "Creating importer for <pybug.io.image.PILImporter object at 0x8c79e90> (563 of 811)"
       ]
      },
      {
       "output_type": "stream",
       "stream": "stdout",
       "text": [
        "\r",
        "Creating importer for <pybug.io.image.PILImporter object at 0x8c79ed0> (564 of 811)"
       ]
      },
      {
       "output_type": "stream",
       "stream": "stdout",
       "text": [
        "\r",
        "Creating importer for <pybug.io.image.PILImporter object at 0x8c79f10> (565 of 811)"
       ]
      },
      {
       "output_type": "stream",
       "stream": "stdout",
       "text": [
        "\r",
        "Creating importer for <pybug.io.image.PILImporter object at 0x8c79f50> (566 of 811)"
       ]
      },
      {
       "output_type": "stream",
       "stream": "stdout",
       "text": [
        "\r",
        "Creating importer for <pybug.io.image.PILImporter object at 0x8c79f90> (567 of 811)"
       ]
      },
      {
       "output_type": "stream",
       "stream": "stdout",
       "text": [
        "\r",
        "Creating importer for <pybug.io.image.PILImporter object at 0x8c79fd0> (568 of 811)"
       ]
      },
      {
       "output_type": "stream",
       "stream": "stdout",
       "text": [
        "\r",
        "Creating importer for <pybug.io.image.PILImporter object at 0x8c45050> (569 of 811)"
       ]
      },
      {
       "output_type": "stream",
       "stream": "stdout",
       "text": [
        "\r",
        "Creating importer for <pybug.io.image.PILImporter object at 0x8c45090> (570 of 811)"
       ]
      },
      {
       "output_type": "stream",
       "stream": "stdout",
       "text": [
        "\r",
        "Creating importer for <pybug.io.image.PILImporter object at 0x8c450d0> (571 of 811)"
       ]
      },
      {
       "output_type": "stream",
       "stream": "stdout",
       "text": [
        "\r",
        "Creating importer for <pybug.io.image.PILImporter object at 0x8c45110> (572 of 811)"
       ]
      },
      {
       "output_type": "stream",
       "stream": "stdout",
       "text": [
        "\r",
        "Creating importer for <pybug.io.image.PILImporter object at 0x8c45150> (573 of 811)"
       ]
      },
      {
       "output_type": "stream",
       "stream": "stdout",
       "text": [
        "\r",
        "Creating importer for <pybug.io.image.PILImporter object at 0x8c45190> (574 of 811)"
       ]
      },
      {
       "output_type": "stream",
       "stream": "stdout",
       "text": [
        "\r",
        "Creating importer for <pybug.io.image.PILImporter object at 0x8c451d0> (575 of 811)"
       ]
      },
      {
       "output_type": "stream",
       "stream": "stdout",
       "text": [
        "\r",
        "Creating importer for <pybug.io.image.PILImporter object at 0x8c45210> (576 of 811)"
       ]
      },
      {
       "output_type": "stream",
       "stream": "stdout",
       "text": [
        "\r",
        "Creating importer for <pybug.io.image.PILImporter object at 0x8c45250> (577 of 811)"
       ]
      },
      {
       "output_type": "stream",
       "stream": "stdout",
       "text": [
        "\r",
        "Creating importer for <pybug.io.image.PILImporter object at 0x8c45290> (578 of 811)"
       ]
      },
      {
       "output_type": "stream",
       "stream": "stdout",
       "text": [
        "\r",
        "Creating importer for <pybug.io.image.PILImporter object at 0x8c452d0> (579 of 811)"
       ]
      },
      {
       "output_type": "stream",
       "stream": "stdout",
       "text": [
        "\r",
        "Creating importer for <pybug.io.image.PILImporter object at 0x8c45310> (580 of 811)"
       ]
      },
      {
       "output_type": "stream",
       "stream": "stdout",
       "text": [
        "\r",
        "Creating importer for <pybug.io.image.PILImporter object at 0x8c45350> (581 of 811)"
       ]
      },
      {
       "output_type": "stream",
       "stream": "stdout",
       "text": [
        "\r",
        "Creating importer for <pybug.io.image.PILImporter object at 0x8c45390> (582 of 811)"
       ]
      },
      {
       "output_type": "stream",
       "stream": "stdout",
       "text": [
        "\r",
        "Creating importer for <pybug.io.image.PILImporter object at 0x8c453d0> (583 of 811)"
       ]
      },
      {
       "output_type": "stream",
       "stream": "stdout",
       "text": [
        "\r",
        "Creating importer for <pybug.io.image.PILImporter object at 0x8c45410> (584 of 811)"
       ]
      },
      {
       "output_type": "stream",
       "stream": "stdout",
       "text": [
        "\r",
        "Creating importer for <pybug.io.image.PILImporter object at 0x8c45450> (585 of 811)"
       ]
      },
      {
       "output_type": "stream",
       "stream": "stdout",
       "text": [
        "\r",
        "Creating importer for <pybug.io.image.PILImporter object at 0x8c45490> (586 of 811)"
       ]
      },
      {
       "output_type": "stream",
       "stream": "stdout",
       "text": [
        "\r",
        "Creating importer for <pybug.io.image.PILImporter object at 0x8c454d0> (587 of 811)"
       ]
      },
      {
       "output_type": "stream",
       "stream": "stdout",
       "text": [
        "\r",
        "Creating importer for <pybug.io.image.PILImporter object at 0x8c45510> (588 of 811)"
       ]
      },
      {
       "output_type": "stream",
       "stream": "stdout",
       "text": [
        "\r",
        "Creating importer for <pybug.io.image.PILImporter object at 0x8c45550> (589 of 811)"
       ]
      },
      {
       "output_type": "stream",
       "stream": "stdout",
       "text": [
        "\r",
        "Creating importer for <pybug.io.image.PILImporter object at 0x8c45590> (590 of 811)"
       ]
      },
      {
       "output_type": "stream",
       "stream": "stdout",
       "text": [
        "\r",
        "Creating importer for <pybug.io.image.PILImporter object at 0x8c455d0> (591 of 811)"
       ]
      },
      {
       "output_type": "stream",
       "stream": "stdout",
       "text": [
        "\r",
        "Creating importer for <pybug.io.image.PILImporter object at 0x8c45610> (592 of 811)"
       ]
      },
      {
       "output_type": "stream",
       "stream": "stdout",
       "text": [
        "\r",
        "Creating importer for <pybug.io.image.PILImporter object at 0x8c45650> (593 of 811)"
       ]
      },
      {
       "output_type": "stream",
       "stream": "stdout",
       "text": [
        "\r",
        "Creating importer for <pybug.io.image.PILImporter object at 0x8c45690> (594 of 811)"
       ]
      },
      {
       "output_type": "stream",
       "stream": "stdout",
       "text": [
        "\r",
        "Creating importer for <pybug.io.image.PILImporter object at 0x8c456d0> (595 of 811)"
       ]
      },
      {
       "output_type": "stream",
       "stream": "stdout",
       "text": [
        "\r",
        "Creating importer for <pybug.io.image.PILImporter object at 0x8c45710> (596 of 811)"
       ]
      },
      {
       "output_type": "stream",
       "stream": "stdout",
       "text": [
        "\r",
        "Creating importer for <pybug.io.image.PILImporter object at 0x8c45750> (597 of 811)"
       ]
      },
      {
       "output_type": "stream",
       "stream": "stdout",
       "text": [
        "\r",
        "Creating importer for <pybug.io.image.PILImporter object at 0x8c45790> (598 of 811)"
       ]
      },
      {
       "output_type": "stream",
       "stream": "stdout",
       "text": [
        "\r",
        "Creating importer for <pybug.io.image.PILImporter object at 0x8c457d0> (599 of 811)"
       ]
      },
      {
       "output_type": "stream",
       "stream": "stdout",
       "text": [
        "\r",
        "Creating importer for <pybug.io.image.PILImporter object at 0x8c45810> (600 of 811)"
       ]
      },
      {
       "output_type": "stream",
       "stream": "stdout",
       "text": [
        "\r",
        "Creating importer for <pybug.io.image.PILImporter object at 0x8c45850> (601 of 811)"
       ]
      },
      {
       "output_type": "stream",
       "stream": "stdout",
       "text": [
        "\r",
        "Creating importer for <pybug.io.image.PILImporter object at 0x8c45890> (602 of 811)"
       ]
      },
      {
       "output_type": "stream",
       "stream": "stdout",
       "text": [
        "\r",
        "Creating importer for <pybug.io.image.PILImporter object at 0x8c458d0> (603 of 811)"
       ]
      },
      {
       "output_type": "stream",
       "stream": "stdout",
       "text": [
        "\r",
        "Creating importer for <pybug.io.image.PILImporter object at 0x8c45910> (604 of 811)"
       ]
      },
      {
       "output_type": "stream",
       "stream": "stdout",
       "text": [
        "\r",
        "Creating importer for <pybug.io.image.PILImporter object at 0x8c45950> (605 of 811)"
       ]
      },
      {
       "output_type": "stream",
       "stream": "stdout",
       "text": [
        "\r",
        "Creating importer for <pybug.io.image.PILImporter object at 0x8c45990> (606 of 811)"
       ]
      },
      {
       "output_type": "stream",
       "stream": "stdout",
       "text": [
        "\r",
        "Creating importer for <pybug.io.image.PILImporter object at 0x8c459d0> (607 of 811)"
       ]
      },
      {
       "output_type": "stream",
       "stream": "stdout",
       "text": [
        "\r",
        "Creating importer for <pybug.io.image.PILImporter object at 0x8c45a10> (608 of 811)"
       ]
      },
      {
       "output_type": "stream",
       "stream": "stdout",
       "text": [
        "\r",
        "Creating importer for <pybug.io.image.PILImporter object at 0x8c45a50> (609 of 811)"
       ]
      },
      {
       "output_type": "stream",
       "stream": "stdout",
       "text": [
        "\r",
        "Creating importer for <pybug.io.image.PILImporter object at 0x8c45a90> (610 of 811)"
       ]
      },
      {
       "output_type": "stream",
       "stream": "stdout",
       "text": [
        "\r",
        "Creating importer for <pybug.io.image.PILImporter object at 0x8c45ad0> (611 of 811)"
       ]
      },
      {
       "output_type": "stream",
       "stream": "stdout",
       "text": [
        "\r",
        "Creating importer for <pybug.io.image.PILImporter object at 0x8c45b10> (612 of 811)"
       ]
      },
      {
       "output_type": "stream",
       "stream": "stdout",
       "text": [
        "\r",
        "Creating importer for <pybug.io.image.PILImporter object at 0x8c45b50> (613 of 811)"
       ]
      },
      {
       "output_type": "stream",
       "stream": "stdout",
       "text": [
        "\r",
        "Creating importer for <pybug.io.image.PILImporter object at 0x8c45b90> (614 of 811)"
       ]
      },
      {
       "output_type": "stream",
       "stream": "stdout",
       "text": [
        "\r",
        "Creating importer for <pybug.io.image.PILImporter object at 0x8c45bd0> (615 of 811)"
       ]
      },
      {
       "output_type": "stream",
       "stream": "stdout",
       "text": [
        "\r",
        "Creating importer for <pybug.io.image.PILImporter object at 0x8c45c10> (616 of 811)"
       ]
      },
      {
       "output_type": "stream",
       "stream": "stdout",
       "text": [
        "\r",
        "Creating importer for <pybug.io.image.PILImporter object at 0x8c45c50> (617 of 811)"
       ]
      },
      {
       "output_type": "stream",
       "stream": "stdout",
       "text": [
        "\r",
        "Creating importer for <pybug.io.image.PILImporter object at 0x8c45c90> (618 of 811)"
       ]
      },
      {
       "output_type": "stream",
       "stream": "stdout",
       "text": [
        "\r",
        "Creating importer for <pybug.io.image.PILImporter object at 0x8c45cd0> (619 of 811)"
       ]
      },
      {
       "output_type": "stream",
       "stream": "stdout",
       "text": [
        "\r",
        "Creating importer for <pybug.io.image.PILImporter object at 0x8c45d10> (620 of 811)"
       ]
      },
      {
       "output_type": "stream",
       "stream": "stdout",
       "text": [
        "\r",
        "Creating importer for <pybug.io.image.PILImporter object at 0x8c45d50> (621 of 811)"
       ]
      },
      {
       "output_type": "stream",
       "stream": "stdout",
       "text": [
        "\r",
        "Creating importer for <pybug.io.image.PILImporter object at 0x8c45d90> (622 of 811)"
       ]
      },
      {
       "output_type": "stream",
       "stream": "stdout",
       "text": [
        "\r",
        "Creating importer for <pybug.io.image.PILImporter object at 0x8c45dd0> (623 of 811)"
       ]
      },
      {
       "output_type": "stream",
       "stream": "stdout",
       "text": [
        "\r",
        "Creating importer for <pybug.io.image.PILImporter object at 0x8c45e10> (624 of 811)"
       ]
      },
      {
       "output_type": "stream",
       "stream": "stdout",
       "text": [
        "\r",
        "Creating importer for <pybug.io.image.PILImporter object at 0x8c45e50> (625 of 811)"
       ]
      },
      {
       "output_type": "stream",
       "stream": "stdout",
       "text": [
        "\r",
        "Creating importer for <pybug.io.image.PILImporter object at 0x8c45e90> (626 of 811)"
       ]
      },
      {
       "output_type": "stream",
       "stream": "stdout",
       "text": [
        "\r",
        "Creating importer for <pybug.io.image.PILImporter object at 0x8c45ed0> (627 of 811)"
       ]
      },
      {
       "output_type": "stream",
       "stream": "stdout",
       "text": [
        "\r",
        "Creating importer for <pybug.io.image.PILImporter object at 0x8c45f10> (628 of 811)"
       ]
      },
      {
       "output_type": "stream",
       "stream": "stdout",
       "text": [
        "\r",
        "Creating importer for <pybug.io.image.PILImporter object at 0x8c45f50> (629 of 811)"
       ]
      },
      {
       "output_type": "stream",
       "stream": "stdout",
       "text": [
        "\r",
        "Creating importer for <pybug.io.image.PILImporter object at 0x8c45f90> (630 of 811)"
       ]
      },
      {
       "output_type": "stream",
       "stream": "stdout",
       "text": [
        "\r",
        "Creating importer for <pybug.io.image.PILImporter object at 0x8c45fd0> (631 of 811)"
       ]
      },
      {
       "output_type": "stream",
       "stream": "stdout",
       "text": [
        "\r",
        "Creating importer for <pybug.io.image.PILImporter object at 0x8c4a050> (632 of 811)"
       ]
      },
      {
       "output_type": "stream",
       "stream": "stdout",
       "text": [
        "\r",
        "Creating importer for <pybug.io.image.PILImporter object at 0x8c4a090> (633 of 811)"
       ]
      },
      {
       "output_type": "stream",
       "stream": "stdout",
       "text": [
        "\r",
        "Creating importer for <pybug.io.image.PILImporter object at 0x8c4a0d0> (634 of 811)"
       ]
      },
      {
       "output_type": "stream",
       "stream": "stdout",
       "text": [
        "\r",
        "Creating importer for <pybug.io.image.PILImporter object at 0x8c4a110> (635 of 811)"
       ]
      },
      {
       "output_type": "stream",
       "stream": "stdout",
       "text": [
        "\r",
        "Creating importer for <pybug.io.image.PILImporter object at 0x8c4a150> (636 of 811)"
       ]
      },
      {
       "output_type": "stream",
       "stream": "stdout",
       "text": [
        "\r",
        "Creating importer for <pybug.io.image.PILImporter object at 0x8c4a190> (637 of 811)"
       ]
      },
      {
       "output_type": "stream",
       "stream": "stdout",
       "text": [
        "\r",
        "Creating importer for <pybug.io.image.PILImporter object at 0x8c4a1d0> (638 of 811)"
       ]
      },
      {
       "output_type": "stream",
       "stream": "stdout",
       "text": [
        "\r",
        "Creating importer for <pybug.io.image.PILImporter object at 0x8c4a210> (639 of 811)"
       ]
      },
      {
       "output_type": "stream",
       "stream": "stdout",
       "text": [
        "\r",
        "Creating importer for <pybug.io.image.PILImporter object at 0x8c4a250> (640 of 811)"
       ]
      },
      {
       "output_type": "stream",
       "stream": "stdout",
       "text": [
        "\r",
        "Creating importer for <pybug.io.image.PILImporter object at 0x8c4a290> (641 of 811)"
       ]
      },
      {
       "output_type": "stream",
       "stream": "stdout",
       "text": [
        "\r",
        "Creating importer for <pybug.io.image.PILImporter object at 0x8c4a2d0> (642 of 811)"
       ]
      },
      {
       "output_type": "stream",
       "stream": "stdout",
       "text": [
        "\r",
        "Creating importer for <pybug.io.image.PILImporter object at 0x8c4a310> (643 of 811)"
       ]
      },
      {
       "output_type": "stream",
       "stream": "stdout",
       "text": [
        "\r",
        "Creating importer for <pybug.io.image.PILImporter object at 0x8c4a350> (644 of 811)"
       ]
      },
      {
       "output_type": "stream",
       "stream": "stdout",
       "text": [
        "\r",
        "Creating importer for <pybug.io.image.PILImporter object at 0x8c4a390> (645 of 811)"
       ]
      },
      {
       "output_type": "stream",
       "stream": "stdout",
       "text": [
        "\r",
        "Creating importer for <pybug.io.image.PILImporter object at 0x8c4a3d0> (646 of 811)"
       ]
      },
      {
       "output_type": "stream",
       "stream": "stdout",
       "text": [
        "\r",
        "Creating importer for <pybug.io.image.PILImporter object at 0x8c4a410> (647 of 811)"
       ]
      },
      {
       "output_type": "stream",
       "stream": "stdout",
       "text": [
        "\r",
        "Creating importer for <pybug.io.image.PILImporter object at 0x8c4a450> (648 of 811)"
       ]
      },
      {
       "output_type": "stream",
       "stream": "stdout",
       "text": [
        "\r",
        "Creating importer for <pybug.io.image.PILImporter object at 0x8c4a490> (649 of 811)"
       ]
      },
      {
       "output_type": "stream",
       "stream": "stdout",
       "text": [
        "\r",
        "Creating importer for <pybug.io.image.PILImporter object at 0x8c4a4d0> (650 of 811)"
       ]
      },
      {
       "output_type": "stream",
       "stream": "stdout",
       "text": [
        "\r",
        "Creating importer for <pybug.io.image.PILImporter object at 0x8c4a510> (651 of 811)"
       ]
      },
      {
       "output_type": "stream",
       "stream": "stdout",
       "text": [
        "\r",
        "Creating importer for <pybug.io.image.PILImporter object at 0x8c4a550> (652 of 811)"
       ]
      },
      {
       "output_type": "stream",
       "stream": "stdout",
       "text": [
        "\r",
        "Creating importer for <pybug.io.image.PILImporter object at 0x8c4a590> (653 of 811)"
       ]
      },
      {
       "output_type": "stream",
       "stream": "stdout",
       "text": [
        "\r",
        "Creating importer for <pybug.io.image.PILImporter object at 0x8c4a5d0> (654 of 811)"
       ]
      },
      {
       "output_type": "stream",
       "stream": "stdout",
       "text": [
        "\r",
        "Creating importer for <pybug.io.image.PILImporter object at 0x8c4a610> (655 of 811)"
       ]
      },
      {
       "output_type": "stream",
       "stream": "stdout",
       "text": [
        "\r",
        "Creating importer for <pybug.io.image.PILImporter object at 0x8c4a650> (656 of 811)"
       ]
      },
      {
       "output_type": "stream",
       "stream": "stdout",
       "text": [
        "\r",
        "Creating importer for <pybug.io.image.PILImporter object at 0x8c4a690> (657 of 811)"
       ]
      },
      {
       "output_type": "stream",
       "stream": "stdout",
       "text": [
        "\r",
        "Creating importer for <pybug.io.image.PILImporter object at 0x8c4a6d0> (658 of 811)"
       ]
      },
      {
       "output_type": "stream",
       "stream": "stdout",
       "text": [
        "\r",
        "Creating importer for <pybug.io.image.PILImporter object at 0x8c4a710> (659 of 811)"
       ]
      },
      {
       "output_type": "stream",
       "stream": "stdout",
       "text": [
        "\r",
        "Creating importer for <pybug.io.image.PILImporter object at 0x8c4a750> (660 of 811)"
       ]
      },
      {
       "output_type": "stream",
       "stream": "stdout",
       "text": [
        "\r",
        "Creating importer for <pybug.io.image.PILImporter object at 0x8c4a790> (661 of 811)"
       ]
      },
      {
       "output_type": "stream",
       "stream": "stdout",
       "text": [
        "\r",
        "Creating importer for <pybug.io.image.PILImporter object at 0x8c4a7d0> (662 of 811)"
       ]
      },
      {
       "output_type": "stream",
       "stream": "stdout",
       "text": [
        "\r",
        "Creating importer for <pybug.io.image.PILImporter object at 0x8c4a810> (663 of 811)"
       ]
      },
      {
       "output_type": "stream",
       "stream": "stdout",
       "text": [
        "\r",
        "Creating importer for <pybug.io.image.PILImporter object at 0x8c4a850> (664 of 811)"
       ]
      },
      {
       "output_type": "stream",
       "stream": "stdout",
       "text": [
        "\r",
        "Creating importer for <pybug.io.image.PILImporter object at 0x8c4a890> (665 of 811)"
       ]
      },
      {
       "output_type": "stream",
       "stream": "stdout",
       "text": [
        "\r",
        "Creating importer for <pybug.io.image.PILImporter object at 0x8c4a8d0> (666 of 811)"
       ]
      },
      {
       "output_type": "stream",
       "stream": "stdout",
       "text": [
        "\r",
        "Creating importer for <pybug.io.image.PILImporter object at 0x8c4a910> (667 of 811)"
       ]
      },
      {
       "output_type": "stream",
       "stream": "stdout",
       "text": [
        "\r",
        "Creating importer for <pybug.io.image.PILImporter object at 0x8c4a950> (668 of 811)"
       ]
      },
      {
       "output_type": "stream",
       "stream": "stdout",
       "text": [
        "\r",
        "Creating importer for <pybug.io.image.PILImporter object at 0x8c4a990> (669 of 811)"
       ]
      },
      {
       "output_type": "stream",
       "stream": "stdout",
       "text": [
        "\r",
        "Creating importer for <pybug.io.image.PILImporter object at 0x8c4a9d0> (670 of 811)"
       ]
      },
      {
       "output_type": "stream",
       "stream": "stdout",
       "text": [
        "\r",
        "Creating importer for <pybug.io.image.PILImporter object at 0x8c4aa10> (671 of 811)"
       ]
      },
      {
       "output_type": "stream",
       "stream": "stdout",
       "text": [
        "\r",
        "Creating importer for <pybug.io.image.PILImporter object at 0x8c4aa50> (672 of 811)"
       ]
      },
      {
       "output_type": "stream",
       "stream": "stdout",
       "text": [
        "\r",
        "Creating importer for <pybug.io.image.PILImporter object at 0x8c4aa90> (673 of 811)"
       ]
      },
      {
       "output_type": "stream",
       "stream": "stdout",
       "text": [
        "\r",
        "Creating importer for <pybug.io.image.PILImporter object at 0x8c4aad0> (674 of 811)"
       ]
      },
      {
       "output_type": "stream",
       "stream": "stdout",
       "text": [
        "\r",
        "Creating importer for <pybug.io.image.PILImporter object at 0x8c4ab10> (675 of 811)"
       ]
      },
      {
       "output_type": "stream",
       "stream": "stdout",
       "text": [
        "\r",
        "Creating importer for <pybug.io.image.PILImporter object at 0x8c4ab50> (676 of 811)"
       ]
      },
      {
       "output_type": "stream",
       "stream": "stdout",
       "text": [
        "\r",
        "Creating importer for <pybug.io.image.PILImporter object at 0x8c4ab90> (677 of 811)"
       ]
      },
      {
       "output_type": "stream",
       "stream": "stdout",
       "text": [
        "\r",
        "Creating importer for <pybug.io.image.PILImporter object at 0x8c4abd0> (678 of 811)"
       ]
      },
      {
       "output_type": "stream",
       "stream": "stdout",
       "text": [
        "\r",
        "Creating importer for <pybug.io.image.PILImporter object at 0x8c4ac10> (679 of 811)"
       ]
      },
      {
       "output_type": "stream",
       "stream": "stdout",
       "text": [
        "\r",
        "Creating importer for <pybug.io.image.PILImporter object at 0x8c4ac50> (680 of 811)"
       ]
      },
      {
       "output_type": "stream",
       "stream": "stdout",
       "text": [
        "\r",
        "Creating importer for <pybug.io.image.PILImporter object at 0x8c4ac90> (681 of 811)"
       ]
      },
      {
       "output_type": "stream",
       "stream": "stdout",
       "text": [
        "\r",
        "Creating importer for <pybug.io.image.PILImporter object at 0x8c4acd0> (682 of 811)"
       ]
      },
      {
       "output_type": "stream",
       "stream": "stdout",
       "text": [
        "\r",
        "Creating importer for <pybug.io.image.PILImporter object at 0x8c4ad10> (683 of 811)"
       ]
      },
      {
       "output_type": "stream",
       "stream": "stdout",
       "text": [
        "\r",
        "Creating importer for <pybug.io.image.PILImporter object at 0x8c4ad50> (684 of 811)"
       ]
      },
      {
       "output_type": "stream",
       "stream": "stdout",
       "text": [
        "\r",
        "Creating importer for <pybug.io.image.PILImporter object at 0x8c4ad90> (685 of 811)"
       ]
      },
      {
       "output_type": "stream",
       "stream": "stdout",
       "text": [
        "\r",
        "Creating importer for <pybug.io.image.PILImporter object at 0x8c4add0> (686 of 811)"
       ]
      },
      {
       "output_type": "stream",
       "stream": "stdout",
       "text": [
        "\r",
        "Creating importer for <pybug.io.image.PILImporter object at 0x8c4ae10> (687 of 811)"
       ]
      },
      {
       "output_type": "stream",
       "stream": "stdout",
       "text": [
        "\r",
        "Creating importer for <pybug.io.image.PILImporter object at 0x8c4ae50> (688 of 811)"
       ]
      },
      {
       "output_type": "stream",
       "stream": "stdout",
       "text": [
        "\r",
        "Creating importer for <pybug.io.image.PILImporter object at 0x8c4ae90> (689 of 811)"
       ]
      },
      {
       "output_type": "stream",
       "stream": "stdout",
       "text": [
        "\r",
        "Creating importer for <pybug.io.image.PILImporter object at 0x8c4aed0> (690 of 811)"
       ]
      },
      {
       "output_type": "stream",
       "stream": "stdout",
       "text": [
        "\r",
        "Creating importer for <pybug.io.image.PILImporter object at 0x8c4af10> (691 of 811)"
       ]
      },
      {
       "output_type": "stream",
       "stream": "stdout",
       "text": [
        "\r",
        "Creating importer for <pybug.io.image.PILImporter object at 0x8c4af50> (692 of 811)"
       ]
      },
      {
       "output_type": "stream",
       "stream": "stdout",
       "text": [
        "\r",
        "Creating importer for <pybug.io.image.PILImporter object at 0x8c4af90> (693 of 811)"
       ]
      },
      {
       "output_type": "stream",
       "stream": "stdout",
       "text": [
        "\r",
        "Creating importer for <pybug.io.image.PILImporter object at 0x8c4afd0> (694 of 811)"
       ]
      },
      {
       "output_type": "stream",
       "stream": "stdout",
       "text": [
        "\r",
        "Creating importer for <pybug.io.image.PILImporter object at 0x8c4e050> (695 of 811)"
       ]
      },
      {
       "output_type": "stream",
       "stream": "stdout",
       "text": [
        "\r",
        "Creating importer for <pybug.io.image.PILImporter object at 0x8c4e090> (696 of 811)"
       ]
      },
      {
       "output_type": "stream",
       "stream": "stdout",
       "text": [
        "\r",
        "Creating importer for <pybug.io.image.PILImporter object at 0x8c4e0d0> (697 of 811)"
       ]
      },
      {
       "output_type": "stream",
       "stream": "stdout",
       "text": [
        "\r",
        "Creating importer for <pybug.io.image.PILImporter object at 0x8c4e110> (698 of 811)"
       ]
      },
      {
       "output_type": "stream",
       "stream": "stdout",
       "text": [
        "\r",
        "Creating importer for <pybug.io.image.PILImporter object at 0x8c4e150> (699 of 811)"
       ]
      },
      {
       "output_type": "stream",
       "stream": "stdout",
       "text": [
        "\r",
        "Creating importer for <pybug.io.image.PILImporter object at 0x8c4e190> (700 of 811)"
       ]
      },
      {
       "output_type": "stream",
       "stream": "stdout",
       "text": [
        "\r",
        "Creating importer for <pybug.io.image.PILImporter object at 0x8c4e1d0> (701 of 811)"
       ]
      },
      {
       "output_type": "stream",
       "stream": "stdout",
       "text": [
        "\r",
        "Creating importer for <pybug.io.image.PILImporter object at 0x8c4e210> (702 of 811)"
       ]
      },
      {
       "output_type": "stream",
       "stream": "stdout",
       "text": [
        "\r",
        "Creating importer for <pybug.io.image.PILImporter object at 0x8c4e250> (703 of 811)"
       ]
      },
      {
       "output_type": "stream",
       "stream": "stdout",
       "text": [
        "\r",
        "Creating importer for <pybug.io.image.PILImporter object at 0x8c4e290> (704 of 811)"
       ]
      },
      {
       "output_type": "stream",
       "stream": "stdout",
       "text": [
        "\r",
        "Creating importer for <pybug.io.image.PILImporter object at 0x8c4e2d0> (705 of 811)"
       ]
      },
      {
       "output_type": "stream",
       "stream": "stdout",
       "text": [
        "\r",
        "Creating importer for <pybug.io.image.PILImporter object at 0x8c4e310> (706 of 811)"
       ]
      },
      {
       "output_type": "stream",
       "stream": "stdout",
       "text": [
        "\r",
        "Creating importer for <pybug.io.image.PILImporter object at 0x8c4e350> (707 of 811)"
       ]
      },
      {
       "output_type": "stream",
       "stream": "stdout",
       "text": [
        "\r",
        "Creating importer for <pybug.io.image.PILImporter object at 0x8c4e390> (708 of 811)"
       ]
      },
      {
       "output_type": "stream",
       "stream": "stdout",
       "text": [
        "\r",
        "Creating importer for <pybug.io.image.PILImporter object at 0x8c4e3d0> (709 of 811)"
       ]
      },
      {
       "output_type": "stream",
       "stream": "stdout",
       "text": [
        "\r",
        "Creating importer for <pybug.io.image.PILImporter object at 0x8c4e410> (710 of 811)"
       ]
      },
      {
       "output_type": "stream",
       "stream": "stdout",
       "text": [
        "\r",
        "Creating importer for <pybug.io.image.PILImporter object at 0x8c4e450> (711 of 811)"
       ]
      },
      {
       "output_type": "stream",
       "stream": "stdout",
       "text": [
        "\r",
        "Creating importer for <pybug.io.image.PILImporter object at 0x8c4e490> (712 of 811)"
       ]
      },
      {
       "output_type": "stream",
       "stream": "stdout",
       "text": [
        "\r",
        "Creating importer for <pybug.io.image.PILImporter object at 0x8c4e4d0> (713 of 811)"
       ]
      },
      {
       "output_type": "stream",
       "stream": "stdout",
       "text": [
        "\r",
        "Creating importer for <pybug.io.image.PILImporter object at 0x8c4e510> (714 of 811)"
       ]
      },
      {
       "output_type": "stream",
       "stream": "stdout",
       "text": [
        "\r",
        "Creating importer for <pybug.io.image.PILImporter object at 0x8c4e550> (715 of 811)"
       ]
      },
      {
       "output_type": "stream",
       "stream": "stdout",
       "text": [
        "\r",
        "Creating importer for <pybug.io.image.PILImporter object at 0x8c4e590> (716 of 811)"
       ]
      },
      {
       "output_type": "stream",
       "stream": "stdout",
       "text": [
        "\r",
        "Creating importer for <pybug.io.image.PILImporter object at 0x8c4e5d0> (717 of 811)"
       ]
      },
      {
       "output_type": "stream",
       "stream": "stdout",
       "text": [
        "\r",
        "Creating importer for <pybug.io.image.PILImporter object at 0x8c4e610> (718 of 811)"
       ]
      },
      {
       "output_type": "stream",
       "stream": "stdout",
       "text": [
        "\r",
        "Creating importer for <pybug.io.image.PILImporter object at 0x8c4e650> (719 of 811)"
       ]
      },
      {
       "output_type": "stream",
       "stream": "stdout",
       "text": [
        "\r",
        "Creating importer for <pybug.io.image.PILImporter object at 0x8c4e690> (720 of 811)"
       ]
      },
      {
       "output_type": "stream",
       "stream": "stdout",
       "text": [
        "\r",
        "Creating importer for <pybug.io.image.PILImporter object at 0x8c4e6d0> (721 of 811)"
       ]
      },
      {
       "output_type": "stream",
       "stream": "stdout",
       "text": [
        "\r",
        "Creating importer for <pybug.io.image.PILImporter object at 0x8c4e710> (722 of 811)"
       ]
      },
      {
       "output_type": "stream",
       "stream": "stdout",
       "text": [
        "\r",
        "Creating importer for <pybug.io.image.PILImporter object at 0x8c4e750> (723 of 811)"
       ]
      },
      {
       "output_type": "stream",
       "stream": "stdout",
       "text": [
        "\r",
        "Creating importer for <pybug.io.image.PILImporter object at 0x8c4e790> (724 of 811)"
       ]
      },
      {
       "output_type": "stream",
       "stream": "stdout",
       "text": [
        "\r",
        "Creating importer for <pybug.io.image.PILImporter object at 0x8c4e7d0> (725 of 811)"
       ]
      },
      {
       "output_type": "stream",
       "stream": "stdout",
       "text": [
        "\r",
        "Creating importer for <pybug.io.image.PILImporter object at 0x8c4e810> (726 of 811)"
       ]
      },
      {
       "output_type": "stream",
       "stream": "stdout",
       "text": [
        "\r",
        "Creating importer for <pybug.io.image.PILImporter object at 0x8c4e850> (727 of 811)"
       ]
      },
      {
       "output_type": "stream",
       "stream": "stdout",
       "text": [
        "\r",
        "Creating importer for <pybug.io.image.PILImporter object at 0x8c4e890> (728 of 811)"
       ]
      },
      {
       "output_type": "stream",
       "stream": "stdout",
       "text": [
        "\r",
        "Creating importer for <pybug.io.image.PILImporter object at 0x8c4e8d0> (729 of 811)"
       ]
      },
      {
       "output_type": "stream",
       "stream": "stdout",
       "text": [
        "\r",
        "Creating importer for <pybug.io.image.PILImporter object at 0x8c4e910> (730 of 811)"
       ]
      },
      {
       "output_type": "stream",
       "stream": "stdout",
       "text": [
        "\r",
        "Creating importer for <pybug.io.image.PILImporter object at 0x8c4e950> (731 of 811)"
       ]
      },
      {
       "output_type": "stream",
       "stream": "stdout",
       "text": [
        "\r",
        "Creating importer for <pybug.io.image.PILImporter object at 0x8c4e990> (732 of 811)"
       ]
      },
      {
       "output_type": "stream",
       "stream": "stdout",
       "text": [
        "\r",
        "Creating importer for <pybug.io.image.PILImporter object at 0x8c4e9d0> (733 of 811)"
       ]
      },
      {
       "output_type": "stream",
       "stream": "stdout",
       "text": [
        "\r",
        "Creating importer for <pybug.io.image.PILImporter object at 0x8c4ea10> (734 of 811)"
       ]
      },
      {
       "output_type": "stream",
       "stream": "stdout",
       "text": [
        "\r",
        "Creating importer for <pybug.io.image.PILImporter object at 0x8c4ea50> (735 of 811)"
       ]
      },
      {
       "output_type": "stream",
       "stream": "stdout",
       "text": [
        "\r",
        "Creating importer for <pybug.io.image.PILImporter object at 0x8c4ea90> (736 of 811)"
       ]
      },
      {
       "output_type": "stream",
       "stream": "stdout",
       "text": [
        "\r",
        "Creating importer for <pybug.io.image.PILImporter object at 0x8c4ead0> (737 of 811)"
       ]
      },
      {
       "output_type": "stream",
       "stream": "stdout",
       "text": [
        "\r",
        "Creating importer for <pybug.io.image.PILImporter object at 0x8c4eb10> (738 of 811)"
       ]
      },
      {
       "output_type": "stream",
       "stream": "stdout",
       "text": [
        "\r",
        "Creating importer for <pybug.io.image.PILImporter object at 0x8c4eb50> (739 of 811)"
       ]
      },
      {
       "output_type": "stream",
       "stream": "stdout",
       "text": [
        "\r",
        "Creating importer for <pybug.io.image.PILImporter object at 0x8c4eb90> (740 of 811)"
       ]
      },
      {
       "output_type": "stream",
       "stream": "stdout",
       "text": [
        "\r",
        "Creating importer for <pybug.io.image.PILImporter object at 0x8c4ebd0> (741 of 811)"
       ]
      },
      {
       "output_type": "stream",
       "stream": "stdout",
       "text": [
        "\r",
        "Creating importer for <pybug.io.image.PILImporter object at 0x8c4ec10> (742 of 811)"
       ]
      },
      {
       "output_type": "stream",
       "stream": "stdout",
       "text": [
        "\r",
        "Creating importer for <pybug.io.image.PILImporter object at 0x8c4ec50> (743 of 811)"
       ]
      },
      {
       "output_type": "stream",
       "stream": "stdout",
       "text": [
        "\r",
        "Creating importer for <pybug.io.image.PILImporter object at 0x8c4ec90> (744 of 811)"
       ]
      },
      {
       "output_type": "stream",
       "stream": "stdout",
       "text": [
        "\r",
        "Creating importer for <pybug.io.image.PILImporter object at 0x8c4ecd0> (745 of 811)"
       ]
      },
      {
       "output_type": "stream",
       "stream": "stdout",
       "text": [
        "\r",
        "Creating importer for <pybug.io.image.PILImporter object at 0x8c4ed10> (746 of 811)"
       ]
      },
      {
       "output_type": "stream",
       "stream": "stdout",
       "text": [
        "\r",
        "Creating importer for <pybug.io.image.PILImporter object at 0x8c4ed50> (747 of 811)"
       ]
      },
      {
       "output_type": "stream",
       "stream": "stdout",
       "text": [
        "\r",
        "Creating importer for <pybug.io.image.PILImporter object at 0x8c4ed90> (748 of 811)"
       ]
      },
      {
       "output_type": "stream",
       "stream": "stdout",
       "text": [
        "\r",
        "Creating importer for <pybug.io.image.PILImporter object at 0x8c4edd0> (749 of 811)"
       ]
      },
      {
       "output_type": "stream",
       "stream": "stdout",
       "text": [
        "\r",
        "Creating importer for <pybug.io.image.PILImporter object at 0x8c4ee10> (750 of 811)"
       ]
      },
      {
       "output_type": "stream",
       "stream": "stdout",
       "text": [
        "\r",
        "Creating importer for <pybug.io.image.PILImporter object at 0x8c4ee50> (751 of 811)"
       ]
      },
      {
       "output_type": "stream",
       "stream": "stdout",
       "text": [
        "\r",
        "Creating importer for <pybug.io.image.PILImporter object at 0x8c4ee90> (752 of 811)"
       ]
      },
      {
       "output_type": "stream",
       "stream": "stdout",
       "text": [
        "\r",
        "Creating importer for <pybug.io.image.PILImporter object at 0x8c4eed0> (753 of 811)"
       ]
      },
      {
       "output_type": "stream",
       "stream": "stdout",
       "text": [
        "\r",
        "Creating importer for <pybug.io.image.PILImporter object at 0x8c4ef10> (754 of 811)"
       ]
      },
      {
       "output_type": "stream",
       "stream": "stdout",
       "text": [
        "\r",
        "Creating importer for <pybug.io.image.PILImporter object at 0x8c4ef50> (755 of 811)"
       ]
      },
      {
       "output_type": "stream",
       "stream": "stdout",
       "text": [
        "\r",
        "Creating importer for <pybug.io.image.PILImporter object at 0x8c4ef90> (756 of 811)"
       ]
      },
      {
       "output_type": "stream",
       "stream": "stdout",
       "text": [
        "\r",
        "Creating importer for <pybug.io.image.PILImporter object at 0x8c4efd0> (757 of 811)"
       ]
      },
      {
       "output_type": "stream",
       "stream": "stdout",
       "text": [
        "\r",
        "Creating importer for <pybug.io.image.PILImporter object at 0x8c54050> (758 of 811)"
       ]
      },
      {
       "output_type": "stream",
       "stream": "stdout",
       "text": [
        "\r",
        "Creating importer for <pybug.io.image.PILImporter object at 0x8c54090> (759 of 811)"
       ]
      },
      {
       "output_type": "stream",
       "stream": "stdout",
       "text": [
        "\r",
        "Creating importer for <pybug.io.image.PILImporter object at 0x8c540d0> (760 of 811)"
       ]
      },
      {
       "output_type": "stream",
       "stream": "stdout",
       "text": [
        "\r",
        "Creating importer for <pybug.io.image.PILImporter object at 0x8c54110> (761 of 811)"
       ]
      },
      {
       "output_type": "stream",
       "stream": "stdout",
       "text": [
        "\r",
        "Creating importer for <pybug.io.image.PILImporter object at 0x8c54150> (762 of 811)"
       ]
      },
      {
       "output_type": "stream",
       "stream": "stdout",
       "text": [
        "\r",
        "Creating importer for <pybug.io.image.PILImporter object at 0x8c54190> (763 of 811)"
       ]
      },
      {
       "output_type": "stream",
       "stream": "stdout",
       "text": [
        "\r",
        "Creating importer for <pybug.io.image.PILImporter object at 0x8c541d0> (764 of 811)"
       ]
      },
      {
       "output_type": "stream",
       "stream": "stdout",
       "text": [
        "\r",
        "Creating importer for <pybug.io.image.PILImporter object at 0x8c54210> (765 of 811)"
       ]
      },
      {
       "output_type": "stream",
       "stream": "stdout",
       "text": [
        "\r",
        "Creating importer for <pybug.io.image.PILImporter object at 0x8c54250> (766 of 811)"
       ]
      },
      {
       "output_type": "stream",
       "stream": "stdout",
       "text": [
        "\r",
        "Creating importer for <pybug.io.image.PILImporter object at 0x8c54290> (767 of 811)"
       ]
      },
      {
       "output_type": "stream",
       "stream": "stdout",
       "text": [
        "\r",
        "Creating importer for <pybug.io.image.PILImporter object at 0x8c542d0> (768 of 811)"
       ]
      },
      {
       "output_type": "stream",
       "stream": "stdout",
       "text": [
        "\r",
        "Creating importer for <pybug.io.image.PILImporter object at 0x8c54310> (769 of 811)"
       ]
      },
      {
       "output_type": "stream",
       "stream": "stdout",
       "text": [
        "\r",
        "Creating importer for <pybug.io.image.PILImporter object at 0x8c54350> (770 of 811)"
       ]
      },
      {
       "output_type": "stream",
       "stream": "stdout",
       "text": [
        "\r",
        "Creating importer for <pybug.io.image.PILImporter object at 0x8c54390> (771 of 811)"
       ]
      },
      {
       "output_type": "stream",
       "stream": "stdout",
       "text": [
        "\r",
        "Creating importer for <pybug.io.image.PILImporter object at 0x8c543d0> (772 of 811)"
       ]
      },
      {
       "output_type": "stream",
       "stream": "stdout",
       "text": [
        "\r",
        "Creating importer for <pybug.io.image.PILImporter object at 0x8c54410> (773 of 811)"
       ]
      },
      {
       "output_type": "stream",
       "stream": "stdout",
       "text": [
        "\r",
        "Creating importer for <pybug.io.image.PILImporter object at 0x8c54450> (774 of 811)"
       ]
      },
      {
       "output_type": "stream",
       "stream": "stdout",
       "text": [
        "\r",
        "Creating importer for <pybug.io.image.PILImporter object at 0x8c54490> (775 of 811)"
       ]
      },
      {
       "output_type": "stream",
       "stream": "stdout",
       "text": [
        "\r",
        "Creating importer for <pybug.io.image.PILImporter object at 0x8c544d0> (776 of 811)"
       ]
      },
      {
       "output_type": "stream",
       "stream": "stdout",
       "text": [
        "\r",
        "Creating importer for <pybug.io.image.PILImporter object at 0x8c54510> (777 of 811)"
       ]
      },
      {
       "output_type": "stream",
       "stream": "stdout",
       "text": [
        "\r",
        "Creating importer for <pybug.io.image.PILImporter object at 0x8c54550> (778 of 811)"
       ]
      },
      {
       "output_type": "stream",
       "stream": "stdout",
       "text": [
        "\r",
        "Creating importer for <pybug.io.image.PILImporter object at 0x8c54590> (779 of 811)"
       ]
      },
      {
       "output_type": "stream",
       "stream": "stdout",
       "text": [
        "\r",
        "Creating importer for <pybug.io.image.PILImporter object at 0x8c545d0> (780 of 811)"
       ]
      },
      {
       "output_type": "stream",
       "stream": "stdout",
       "text": [
        "\r",
        "Creating importer for <pybug.io.image.PILImporter object at 0x8c54610> (781 of 811)"
       ]
      },
      {
       "output_type": "stream",
       "stream": "stdout",
       "text": [
        "\r",
        "Creating importer for <pybug.io.image.PILImporter object at 0x8c54650> (782 of 811)"
       ]
      },
      {
       "output_type": "stream",
       "stream": "stdout",
       "text": [
        "\r",
        "Creating importer for <pybug.io.image.PILImporter object at 0x8c54690> (783 of 811)"
       ]
      },
      {
       "output_type": "stream",
       "stream": "stdout",
       "text": [
        "\r",
        "Creating importer for <pybug.io.image.PILImporter object at 0x8c546d0> (784 of 811)"
       ]
      },
      {
       "output_type": "stream",
       "stream": "stdout",
       "text": [
        "\r",
        "Creating importer for <pybug.io.image.PILImporter object at 0x8c54710> (785 of 811)"
       ]
      },
      {
       "output_type": "stream",
       "stream": "stdout",
       "text": [
        "\r",
        "Creating importer for <pybug.io.image.PILImporter object at 0x8c54750> (786 of 811)"
       ]
      },
      {
       "output_type": "stream",
       "stream": "stdout",
       "text": [
        "\r",
        "Creating importer for <pybug.io.image.PILImporter object at 0x8c54790> (787 of 811)"
       ]
      },
      {
       "output_type": "stream",
       "stream": "stdout",
       "text": [
        "\r",
        "Creating importer for <pybug.io.image.PILImporter object at 0x8c547d0> (788 of 811)"
       ]
      },
      {
       "output_type": "stream",
       "stream": "stdout",
       "text": [
        "\r",
        "Creating importer for <pybug.io.image.PILImporter object at 0x8c54810> (789 of 811)"
       ]
      },
      {
       "output_type": "stream",
       "stream": "stdout",
       "text": [
        "\r",
        "Creating importer for <pybug.io.image.PILImporter object at 0x8c54850> (790 of 811)"
       ]
      },
      {
       "output_type": "stream",
       "stream": "stdout",
       "text": [
        "\r",
        "Creating importer for <pybug.io.image.PILImporter object at 0x8c54890> (791 of 811)"
       ]
      },
      {
       "output_type": "stream",
       "stream": "stdout",
       "text": [
        "\r",
        "Creating importer for <pybug.io.image.PILImporter object at 0x8c548d0> (792 of 811)"
       ]
      },
      {
       "output_type": "stream",
       "stream": "stdout",
       "text": [
        "\r",
        "Creating importer for <pybug.io.image.PILImporter object at 0x8c54910> (793 of 811)"
       ]
      },
      {
       "output_type": "stream",
       "stream": "stdout",
       "text": [
        "\r",
        "Creating importer for <pybug.io.image.PILImporter object at 0x8c54950> (794 of 811)"
       ]
      },
      {
       "output_type": "stream",
       "stream": "stdout",
       "text": [
        "\r",
        "Creating importer for <pybug.io.image.PILImporter object at 0x8c54990> (795 of 811)"
       ]
      },
      {
       "output_type": "stream",
       "stream": "stdout",
       "text": [
        "\r",
        "Creating importer for <pybug.io.image.PILImporter object at 0x8c549d0> (796 of 811)"
       ]
      },
      {
       "output_type": "stream",
       "stream": "stdout",
       "text": [
        "\r",
        "Creating importer for <pybug.io.image.PILImporter object at 0x8c54a10> (797 of 811)"
       ]
      },
      {
       "output_type": "stream",
       "stream": "stdout",
       "text": [
        "\r",
        "Creating importer for <pybug.io.image.PILImporter object at 0x8c54a50> (798 of 811)"
       ]
      },
      {
       "output_type": "stream",
       "stream": "stdout",
       "text": [
        "\r",
        "Creating importer for <pybug.io.image.PILImporter object at 0x8c54a90> (799 of 811)"
       ]
      },
      {
       "output_type": "stream",
       "stream": "stdout",
       "text": [
        "\r",
        "Creating importer for <pybug.io.image.PILImporter object at 0x8c54ad0> (800 of 811)"
       ]
      },
      {
       "output_type": "stream",
       "stream": "stdout",
       "text": [
        "\r",
        "Creating importer for <pybug.io.image.PILImporter object at 0x8c54b10> (801 of 811)"
       ]
      },
      {
       "output_type": "stream",
       "stream": "stdout",
       "text": [
        "\r",
        "Creating importer for <pybug.io.image.PILImporter object at 0x8c54b50> (802 of 811)"
       ]
      },
      {
       "output_type": "stream",
       "stream": "stdout",
       "text": [
        "\r",
        "Creating importer for <pybug.io.image.PILImporter object at 0x8c54b90> (803 of 811)"
       ]
      },
      {
       "output_type": "stream",
       "stream": "stdout",
       "text": [
        "\r",
        "Creating importer for <pybug.io.image.PILImporter object at 0x8c54bd0> (804 of 811)"
       ]
      },
      {
       "output_type": "stream",
       "stream": "stdout",
       "text": [
        "\r",
        "Creating importer for <pybug.io.image.PILImporter object at 0x8c54c10> (805 of 811)"
       ]
      },
      {
       "output_type": "stream",
       "stream": "stdout",
       "text": [
        "\r",
        "Creating importer for <pybug.io.image.PILImporter object at 0x8c54c50> (806 of 811)"
       ]
      },
      {
       "output_type": "stream",
       "stream": "stdout",
       "text": [
        "\r",
        "Creating importer for <pybug.io.image.PILImporter object at 0x8c54c90> (807 of 811)"
       ]
      },
      {
       "output_type": "stream",
       "stream": "stdout",
       "text": [
        "\r",
        "Creating importer for <pybug.io.image.PILImporter object at 0x8c54cd0> (808 of 811)"
       ]
      },
      {
       "output_type": "stream",
       "stream": "stdout",
       "text": [
        "\r",
        "Creating importer for <pybug.io.image.PILImporter object at 0x8c54d10> (809 of 811)"
       ]
      },
      {
       "output_type": "stream",
       "stream": "stdout",
       "text": [
        "\r",
        "Creating importer for <pybug.io.image.PILImporter object at 0x8c54d50> (810 of 811)"
       ]
      },
      {
       "output_type": "stream",
       "stream": "stdout",
       "text": [
        "\r",
        "Creating importer for <pybug.io.image.PILImporter object at 0x8c54d90> (811 of 811)"
       ]
      },
      {
       "output_type": "stream",
       "stream": "stdout",
       "text": [
        "\n"
       ]
      },
      {
       "metadata": {},
       "output_type": "pyout",
       "prompt_number": 3,
       "text": [
        "[<pybug.image.base.Image at 0x8c61f50>,\n",
        " <pybug.image.base.Image at 0x8c6c890>,\n",
        " <pybug.image.base.Image at 0x8c6ca50>,\n",
        " <pybug.image.base.Image at 0x8c6cbd0>,\n",
        " <pybug.image.base.Image at 0x8c6cd50>,\n",
        " <pybug.image.base.Image at 0x8c6ced0>,\n",
        " <pybug.image.base.Image at 0x8c72090>,\n",
        " <pybug.image.base.Image at 0x8c72210>,\n",
        " <pybug.image.base.Image at 0x8c72390>,\n",
        " <pybug.image.base.Image at 0x8c72510>,\n",
        " <pybug.image.base.Image at 0x8c72690>,\n",
        " <pybug.image.base.Image at 0x8c72810>,\n",
        " <pybug.image.base.Image at 0x8c72990>,\n",
        " <pybug.image.base.Image at 0x8c72b10>,\n",
        " <pybug.image.base.Image at 0x8c72c90>,\n",
        " <pybug.image.base.Image at 0x8c72e10>,\n",
        " <pybug.image.base.Image at 0x8c72f90>,\n",
        " <pybug.image.base.Image at 0x8c70150>,\n",
        " <pybug.image.base.Image at 0x8c702d0>,\n",
        " <pybug.image.base.Image at 0x8c70450>,\n",
        " <pybug.image.base.Image at 0x8c705d0>,\n",
        " <pybug.image.base.Image at 0x8c70750>,\n",
        " <pybug.image.base.Image at 0x8c708d0>,\n",
        " <pybug.image.base.Image at 0x8c70a50>,\n",
        " <pybug.image.base.Image at 0x8c70bd0>,\n",
        " <pybug.image.base.Image at 0x8c70d50>,\n",
        " <pybug.image.base.Image at 0x8c70ed0>,\n",
        " <pybug.image.base.Image at 0x8c75090>,\n",
        " <pybug.image.base.Image at 0x8c75210>,\n",
        " <pybug.image.base.Image at 0x8c75390>,\n",
        " <pybug.image.base.Image at 0x8c75510>,\n",
        " <pybug.image.base.Image at 0x8c75690>,\n",
        " <pybug.image.base.Image at 0x8c75810>,\n",
        " <pybug.image.base.Image at 0x8c75990>,\n",
        " <pybug.image.base.Image at 0x8c75b10>,\n",
        " <pybug.image.base.Image at 0x8c75c90>,\n",
        " <pybug.image.base.Image at 0x8c75e10>,\n",
        " <pybug.image.base.Image at 0x8c75f90>,\n",
        " <pybug.image.base.Image at 0x8c77150>,\n",
        " <pybug.image.base.Image at 0x8c772d0>,\n",
        " <pybug.image.base.Image at 0x8c77450>,\n",
        " <pybug.image.base.Image at 0x8c775d0>,\n",
        " <pybug.image.base.Image at 0x8c77750>,\n",
        " <pybug.image.base.Image at 0x8c778d0>,\n",
        " <pybug.image.base.Image at 0x8c77a50>,\n",
        " <pybug.image.base.Image at 0x8c77bd0>,\n",
        " <pybug.image.base.Image at 0x8c77d50>,\n",
        " <pybug.image.base.Image at 0x8c77ed0>,\n",
        " <pybug.image.base.Image at 0x8c74090>,\n",
        " <pybug.image.base.Image at 0x8c74210>,\n",
        " <pybug.image.base.Image at 0x8c74390>,\n",
        " <pybug.image.base.Image at 0x8c74510>,\n",
        " <pybug.image.base.Image at 0x8c74690>,\n",
        " <pybug.image.base.Image at 0x8c74810>,\n",
        " <pybug.image.base.Image at 0x8c74990>,\n",
        " <pybug.image.base.Image at 0x8c74b10>,\n",
        " <pybug.image.base.Image at 0x8c74c90>,\n",
        " <pybug.image.base.Image at 0x8c74e10>,\n",
        " <pybug.image.base.Image at 0x8c74f90>,\n",
        " <pybug.image.base.Image at 0x8c78150>,\n",
        " <pybug.image.base.Image at 0x8c782d0>,\n",
        " <pybug.image.base.Image at 0x8c78450>,\n",
        " <pybug.image.base.Image at 0x8c785d0>,\n",
        " <pybug.image.base.Image at 0x8c78750>,\n",
        " <pybug.image.base.Image at 0x8c788d0>,\n",
        " <pybug.image.base.Image at 0x8c78a50>,\n",
        " <pybug.image.base.Image at 0x8c78bd0>,\n",
        " <pybug.image.base.Image at 0x8c78d50>,\n",
        " <pybug.image.base.Image at 0x8c78ed0>,\n",
        " <pybug.image.base.Image at 0x8c7e090>,\n",
        " <pybug.image.base.Image at 0x8c7e210>,\n",
        " <pybug.image.base.Image at 0x8c7e390>,\n",
        " <pybug.image.base.Image at 0x8c7e510>,\n",
        " <pybug.image.base.Image at 0x8c7e690>,\n",
        " <pybug.image.base.Image at 0x8c7e810>,\n",
        " <pybug.image.base.Image at 0x8c7e990>,\n",
        " <pybug.image.base.Image at 0x8c7eb10>,\n",
        " <pybug.image.base.Image at 0x8c7ec90>,\n",
        " <pybug.image.base.Image at 0x8c7ee10>,\n",
        " <pybug.image.base.Image at 0x8c7ef90>,\n",
        " <pybug.image.base.Image at 0x8c71150>,\n",
        " <pybug.image.base.Image at 0x8c712d0>,\n",
        " <pybug.image.base.Image at 0x8c71450>,\n",
        " <pybug.image.base.Image at 0x8c715d0>,\n",
        " <pybug.image.base.Image at 0x8c71750>,\n",
        " <pybug.image.base.Image at 0x8c718d0>,\n",
        " <pybug.image.base.Image at 0x8c71a50>,\n",
        " <pybug.image.base.Image at 0x8c71bd0>,\n",
        " <pybug.image.base.Image at 0x8c71d50>,\n",
        " <pybug.image.base.Image at 0x8c71ed0>,\n",
        " <pybug.image.base.Image at 0x94d4090>,\n",
        " <pybug.image.base.Image at 0x94d4210>,\n",
        " <pybug.image.base.Image at 0x94d4390>,\n",
        " <pybug.image.base.Image at 0x8c6c7d0>,\n",
        " <pybug.image.base.Image at 0x2c5dd50>,\n",
        " <pybug.image.base.Image at 0x8c72bd0>,\n",
        " <pybug.image.base.Image at 0x8c72750>,\n",
        " <pybug.image.base.Image at 0x8c75bd0>,\n",
        " <pybug.image.base.Image at 0x8c78210>,\n",
        " <pybug.image.base.Image at 0x8c78e10>,\n",
        " <pybug.image.base.Image at 0x8c70810>,\n",
        " <pybug.image.base.Image at 0x8c70510>,\n",
        " <pybug.image.base.Image at 0x8c77510>,\n",
        " <pybug.image.base.Image at 0x8c77c90>,\n",
        " <pybug.image.base.Image at 0x8c74bd0>,\n",
        " <pybug.image.base.Image at 0x8c748d0>,\n",
        " <pybug.image.base.Image at 0x94d4590>,\n",
        " <pybug.image.base.Image at 0x94d4710>,\n",
        " <pybug.image.base.Image at 0x94d4890>,\n",
        " <pybug.image.base.Image at 0x94d4a10>,\n",
        " <pybug.image.base.Image at 0x94d4b90>,\n",
        " <pybug.image.base.Image at 0x94d4d10>,\n",
        " <pybug.image.base.Image at 0x94d4e90>,\n",
        " <pybug.image.base.Image at 0x94ee050>,\n",
        " <pybug.image.base.Image at 0x94ee1d0>,\n",
        " <pybug.image.base.Image at 0x94ee350>,\n",
        " <pybug.image.base.Image at 0x94ee4d0>,\n",
        " <pybug.image.base.Image at 0x94ee650>,\n",
        " <pybug.image.base.Image at 0x94ee7d0>,\n",
        " <pybug.image.base.Image at 0x94ee950>,\n",
        " <pybug.image.base.Image at 0x94eead0>,\n",
        " <pybug.image.base.Image at 0x94eec50>,\n",
        " <pybug.image.base.Image at 0x94eedd0>,\n",
        " <pybug.image.base.Image at 0x94eef50>,\n",
        " <pybug.image.base.Image at 0x94f4110>,\n",
        " <pybug.image.base.Image at 0x94f4290>,\n",
        " <pybug.image.base.Image at 0x94f4410>,\n",
        " <pybug.image.base.Image at 0x94f4590>,\n",
        " <pybug.image.base.Image at 0x94f4710>,\n",
        " <pybug.image.base.Image at 0x94f4890>,\n",
        " <pybug.image.base.Image at 0x94f4a10>,\n",
        " <pybug.image.base.Image at 0x94f4b90>,\n",
        " <pybug.image.base.Image at 0x94f4d10>,\n",
        " <pybug.image.base.Image at 0x94f4e90>,\n",
        " <pybug.image.base.Image at 0x94f7050>,\n",
        " <pybug.image.base.Image at 0x94f71d0>,\n",
        " <pybug.image.base.Image at 0x94f7350>,\n",
        " <pybug.image.base.Image at 0x94f74d0>,\n",
        " <pybug.image.base.Image at 0x8c6c6d0>,\n",
        " <pybug.image.base.Image at 0x94f7650>,\n",
        " <pybug.image.base.Image at 0x94f77d0>,\n",
        " <pybug.image.base.Image at 0x94f7950>,\n",
        " <pybug.image.base.Image at 0x94f7ad0>,\n",
        " <pybug.image.base.Image at 0x94f7c50>,\n",
        " <pybug.image.base.Image at 0x94f7dd0>,\n",
        " <pybug.image.base.Image at 0x94f7f50>,\n",
        " <pybug.image.base.Image at 0x8b56110>,\n",
        " <pybug.image.base.Image at 0x8b56290>,\n",
        " <pybug.image.base.Image at 0x8b56410>,\n",
        " <pybug.image.base.Image at 0x8b56590>,\n",
        " <pybug.image.base.Image at 0x8b56710>,\n",
        " <pybug.image.base.Image at 0x8b56890>,\n",
        " <pybug.image.base.Image at 0x8b56a10>,\n",
        " <pybug.image.base.Image at 0x8b56b90>,\n",
        " <pybug.image.base.Image at 0x8b56d10>,\n",
        " <pybug.image.base.Image at 0x8b56e90>,\n",
        " <pybug.image.base.Image at 0x8bde050>,\n",
        " <pybug.image.base.Image at 0x8bde1d0>,\n",
        " <pybug.image.base.Image at 0x8bde350>,\n",
        " <pybug.image.base.Image at 0x8bde4d0>,\n",
        " <pybug.image.base.Image at 0x8bde650>,\n",
        " <pybug.image.base.Image at 0x8bde7d0>,\n",
        " <pybug.image.base.Image at 0x8bde950>,\n",
        " <pybug.image.base.Image at 0x8bdead0>,\n",
        " <pybug.image.base.Image at 0x8bdec50>,\n",
        " <pybug.image.base.Image at 0x8bdedd0>,\n",
        " <pybug.image.base.Image at 0x8bdef50>,\n",
        " <pybug.image.base.Image at 0x8b53110>,\n",
        " <pybug.image.base.Image at 0x8b53290>,\n",
        " <pybug.image.base.Image at 0x8b53410>,\n",
        " <pybug.image.base.Image at 0x8b53590>,\n",
        " <pybug.image.base.Image at 0x8c7e450>,\n",
        " <pybug.image.base.Image at 0x8c7e750>,\n",
        " <pybug.image.base.Image at 0x8c71e10>,\n",
        " <pybug.image.base.Image at 0x8c71990>,\n",
        " <pybug.image.base.Image at 0x8b53790>,\n",
        " <pybug.image.base.Image at 0x8b53910>,\n",
        " <pybug.image.base.Image at 0x8b53a90>,\n",
        " <pybug.image.base.Image at 0x8b53c10>,\n",
        " <pybug.image.base.Image at 0x8b53d90>,\n",
        " <pybug.image.base.Image at 0x8b53f10>,\n",
        " <pybug.image.base.Image at 0x8b2c0d0>,\n",
        " <pybug.image.base.Image at 0x8b2c250>,\n",
        " <pybug.image.base.Image at 0x8b2c3d0>,\n",
        " <pybug.image.base.Image at 0x8b2c550>,\n",
        " <pybug.image.base.Image at 0x8b2c6d0>,\n",
        " <pybug.image.base.Image at 0x8b2c850>,\n",
        " <pybug.image.base.Image at 0x8b2c9d0>,\n",
        " <pybug.image.base.Image at 0x8b2cb50>,\n",
        " <pybug.image.base.Image at 0x8b2ccd0>,\n",
        " <pybug.image.base.Image at 0x8b2ce50>,\n",
        " <pybug.image.base.Image at 0x8b2cfd0>,\n",
        " <pybug.image.base.Image at 0x8b2a190>,\n",
        " <pybug.image.base.Image at 0x8c74a50>,\n",
        " <pybug.image.base.Image at 0x94eed10>,\n",
        " <pybug.image.base.Image at 0x94ee290>,\n",
        " <pybug.image.base.Image at 0x8c78510>,\n",
        " <pybug.image.base.Image at 0x94f4950>,\n",
        " <pybug.image.base.Image at 0x94f4f50>,\n",
        " <pybug.image.base.Image at 0x94d4f50>,\n",
        " <pybug.image.base.Image at 0x8b53350>,\n",
        " <pybug.image.base.Image at 0x8bde110>,\n",
        " <pybug.image.base.Image at 0x94f7110>,\n",
        " <pybug.image.base.Image at 0x94f7890>,\n",
        " <pybug.image.base.Image at 0x8b56950>,\n",
        " <pybug.image.base.Image at 0x8b56050>,\n",
        " <pybug.image.base.Image at 0x8b2a310>,\n",
        " <pybug.image.base.Image at 0x8b2a490>,\n",
        " <pybug.image.base.Image at 0x8b2a610>,\n",
        " <pybug.image.base.Image at 0x8b2a790>,\n",
        " <pybug.image.base.Image at 0x8b2a910>,\n",
        " <pybug.image.base.Image at 0x8b2aa90>,\n",
        " <pybug.image.base.Image at 0x8b2ac10>,\n",
        " <pybug.image.base.Image at 0x8b2ad90>,\n",
        " <pybug.image.base.Image at 0x8b2af10>,\n",
        " <pybug.image.base.Image at 0x8ca70d0>,\n",
        " <pybug.image.base.Image at 0x8ca7250>,\n",
        " <pybug.image.base.Image at 0x8ca73d0>,\n",
        " <pybug.image.base.Image at 0x8ca7550>,\n",
        " <pybug.image.base.Image at 0x8ca76d0>,\n",
        " <pybug.image.base.Image at 0x8ca7850>,\n",
        " <pybug.image.base.Image at 0x8ca79d0>,\n",
        " <pybug.image.base.Image at 0x8ca7b50>,\n",
        " <pybug.image.base.Image at 0x8ca7cd0>,\n",
        " <pybug.image.base.Image at 0x8ca7e50>,\n",
        " <pybug.image.base.Image at 0x8ca7fd0>,\n",
        " <pybug.image.base.Image at 0x8c9b190>,\n",
        " <pybug.image.base.Image at 0x8c9b310>,\n",
        " <pybug.image.base.Image at 0x8c9b490>,\n",
        " <pybug.image.base.Image at 0x8c9b610>,\n",
        " <pybug.image.base.Image at 0x8c9b790>,\n",
        " <pybug.image.base.Image at 0x8c9b910>,\n",
        " <pybug.image.base.Image at 0x8c9ba90>,\n",
        " <pybug.image.base.Image at 0x8c9bc10>,\n",
        " <pybug.image.base.Image at 0x8c9bd90>,\n",
        " <pybug.image.base.Image at 0x8c9bf10>,\n",
        " <pybug.image.base.Image at 0x8c9e0d0>,\n",
        " <pybug.image.base.Image at 0x8c9e250>,\n",
        " <pybug.image.base.Image at 0x8c9e3d0>,\n",
        " <pybug.image.base.Image at 0x8c9e550>,\n",
        " <pybug.image.base.Image at 0x8c9e6d0>,\n",
        " <pybug.image.base.Image at 0x8c9e850>,\n",
        " <pybug.image.base.Image at 0x8c9e9d0>,\n",
        " <pybug.image.base.Image at 0x8c9eb50>,\n",
        " <pybug.image.base.Image at 0x8c9ecd0>,\n",
        " <pybug.image.base.Image at 0x8c9ee50>,\n",
        " <pybug.image.base.Image at 0x8c9efd0>,\n",
        " <pybug.image.base.Image at 0x8c99190>,\n",
        " <pybug.image.base.Image at 0x8c99310>,\n",
        " <pybug.image.base.Image at 0x8c99490>,\n",
        " <pybug.image.base.Image at 0x8c99610>,\n",
        " <pybug.image.base.Image at 0x8c99790>,\n",
        " <pybug.image.base.Image at 0x8c99910>,\n",
        " <pybug.image.base.Image at 0x8c99a90>,\n",
        " <pybug.image.base.Image at 0x8c99c10>,\n",
        " <pybug.image.base.Image at 0x8c99d90>,\n",
        " <pybug.image.base.Image at 0x8c99f10>,\n",
        " <pybug.image.base.Image at 0x8c8f0d0>,\n",
        " <pybug.image.base.Image at 0x8c8f250>,\n",
        " <pybug.image.base.Image at 0x8c8f3d0>,\n",
        " <pybug.image.base.Image at 0x8c8f550>,\n",
        " <pybug.image.base.Image at 0x8c8f6d0>,\n",
        " <pybug.image.base.Image at 0x8c8f850>,\n",
        " <pybug.image.base.Image at 0x8c8f9d0>,\n",
        " <pybug.image.base.Image at 0x8c8fb50>,\n",
        " <pybug.image.base.Image at 0x8c8fcd0>,\n",
        " <pybug.image.base.Image at 0x8c8fe50>,\n",
        " <pybug.image.base.Image at 0x8c8ffd0>,\n",
        " <pybug.image.base.Image at 0x8b5c190>,\n",
        " <pybug.image.base.Image at 0x8b5c310>,\n",
        " <pybug.image.base.Image at 0x8b5c490>,\n",
        " <pybug.image.base.Image at 0x8c71090>,\n",
        " <pybug.image.base.Image at 0x8b2c310>,\n",
        " <pybug.image.base.Image at 0x8b539d0>,\n",
        " <pybug.image.base.Image at 0x8b53650>,\n",
        " <pybug.image.base.Image at 0x8b5c690>,\n",
        " <pybug.image.base.Image at 0x8b5c810>,\n",
        " <pybug.image.base.Image at 0x8b5c990>,\n",
        " <pybug.image.base.Image at 0x8b5cb10>,\n",
        " <pybug.image.base.Image at 0x8b5cc90>,\n",
        " <pybug.image.base.Image at 0x8b5ce10>,\n",
        " <pybug.image.base.Image at 0x8b5cf90>,\n",
        " <pybug.image.base.Image at 0x8b59150>,\n",
        " <pybug.image.base.Image at 0x8b592d0>,\n",
        " <pybug.image.base.Image at 0x8b59450>,\n",
        " <pybug.image.base.Image at 0x8b595d0>,\n",
        " <pybug.image.base.Image at 0x8b59750>,\n",
        " <pybug.image.base.Image at 0x8b598d0>,\n",
        " <pybug.image.base.Image at 0x8b59a50>,\n",
        " <pybug.image.base.Image at 0x8b59bd0>,\n",
        " <pybug.image.base.Image at 0x8b59d50>,\n",
        " <pybug.image.base.Image at 0x8b59ed0>,\n",
        " <pybug.image.base.Image at 0x8b52090>,\n",
        " <pybug.image.base.Image at 0x8b56dd0>,\n",
        " <pybug.image.base.Image at 0x8c8f790>,\n",
        " <pybug.image.base.Image at 0x8c8fd90>,\n",
        " <pybug.image.base.Image at 0x8c9bb50>,\n",
        " <pybug.image.base.Image at 0x8c9b6d0>,\n",
        " <pybug.image.base.Image at 0x8b5c0d0>,\n",
        " <pybug.image.base.Image at 0x8c993d0>,\n",
        " <pybug.image.base.Image at 0x8ca7190>,\n",
        " <pybug.image.base.Image at 0x8ca7610>,\n",
        " <pybug.image.base.Image at 0x8c9e190>,\n",
        " <pybug.image.base.Image at 0x8c9ea90>,\n",
        " <pybug.image.base.Image at 0x8b2afd0>,\n",
        " <pybug.image.base.Image at 0x8b2a850>,\n",
        " <pybug.image.base.Image at 0x8b52210>,\n",
        " <pybug.image.base.Image at 0x8b52390>,\n",
        " <pybug.image.base.Image at 0x8b52510>,\n",
        " <pybug.image.base.Image at 0x8b52690>,\n",
        " <pybug.image.base.Image at 0x8b52810>,\n",
        " <pybug.image.base.Image at 0x8b52990>,\n",
        " <pybug.image.base.Image at 0x8b52b10>,\n",
        " <pybug.image.base.Image at 0x8b52c90>,\n",
        " <pybug.image.base.Image at 0x8b52e10>,\n",
        " <pybug.image.base.Image at 0x8b52f90>,\n",
        " <pybug.image.base.Image at 0x8b55150>,\n",
        " <pybug.image.base.Image at 0x8b552d0>,\n",
        " <pybug.image.base.Image at 0x8b55450>,\n",
        " <pybug.image.base.Image at 0x8b555d0>,\n",
        " <pybug.image.base.Image at 0x8b55750>,\n",
        " <pybug.image.base.Image at 0x8b558d0>,\n",
        " <pybug.image.base.Image at 0x8b55a50>,\n",
        " <pybug.image.base.Image at 0x8b55bd0>,\n",
        " <pybug.image.base.Image at 0x8b55d50>,\n",
        " <pybug.image.base.Image at 0x8b55ed0>,\n",
        " <pybug.image.base.Image at 0x8b57090>,\n",
        " <pybug.image.base.Image at 0x8b57210>,\n",
        " <pybug.image.base.Image at 0x8b57390>,\n",
        " <pybug.image.base.Image at 0x8b57510>,\n",
        " <pybug.image.base.Image at 0x8b57690>,\n",
        " <pybug.image.base.Image at 0x8b57810>,\n",
        " <pybug.image.base.Image at 0x8b57990>,\n",
        " <pybug.image.base.Image at 0x8b57b10>,\n",
        " <pybug.image.base.Image at 0x8b57c90>,\n",
        " <pybug.image.base.Image at 0x8b57e10>,\n",
        " <pybug.image.base.Image at 0x8b57f90>,\n",
        " <pybug.image.base.Image at 0x8b50150>,\n",
        " <pybug.image.base.Image at 0x8b502d0>,\n",
        " <pybug.image.base.Image at 0x8b50450>,\n",
        " <pybug.image.base.Image at 0x8b505d0>,\n",
        " <pybug.image.base.Image at 0x8b50750>,\n",
        " <pybug.image.base.Image at 0x8b508d0>,\n",
        " <pybug.image.base.Image at 0x8b50a50>,\n",
        " <pybug.image.base.Image at 0x8b50bd0>,\n",
        " <pybug.image.base.Image at 0x8b50d50>,\n",
        " <pybug.image.base.Image at 0x8b50ed0>,\n",
        " <pybug.image.base.Image at 0x8b4e090>,\n",
        " <pybug.image.base.Image at 0x8b4e210>,\n",
        " <pybug.image.base.Image at 0x8b4e390>,\n",
        " <pybug.image.base.Image at 0x8b4e510>,\n",
        " <pybug.image.base.Image at 0x8b4e690>,\n",
        " <pybug.image.base.Image at 0x8b4e810>,\n",
        " <pybug.image.base.Image at 0x8b4e990>,\n",
        " <pybug.image.base.Image at 0x8b4eb10>,\n",
        " <pybug.image.base.Image at 0x8b4ec90>,\n",
        " <pybug.image.base.Image at 0x8b4ee10>,\n",
        " <pybug.image.base.Image at 0x8b4ef90>,\n",
        " <pybug.image.base.Image at 0x8b51150>,\n",
        " <pybug.image.base.Image at 0x8b512d0>,\n",
        " <pybug.image.base.Image at 0x8b51450>,\n",
        " <pybug.image.base.Image at 0x8b515d0>,\n",
        " <pybug.image.base.Image at 0x8b51750>,\n",
        " <pybug.image.base.Image at 0x8b518d0>,\n",
        " <pybug.image.base.Image at 0x8b51a50>,\n",
        " <pybug.image.base.Image at 0x8b51bd0>,\n",
        " <pybug.image.base.Image at 0x8b51d50>,\n",
        " <pybug.image.base.Image at 0x8b51ed0>,\n",
        " <pybug.image.base.Image at 0x8b5b090>,\n",
        " <pybug.image.base.Image at 0x8b5b210>,\n",
        " <pybug.image.base.Image at 0x8b5b390>,\n",
        " <pybug.image.base.Image at 0x8b5c550>,\n",
        " <pybug.image.base.Image at 0x8b5c8d0>,\n",
        " <pybug.image.base.Image at 0x8b59210>,\n",
        " <pybug.image.base.Image at 0x8b59090>,\n",
        " <pybug.image.base.Image at 0x8b5b590>,\n",
        " <pybug.image.base.Image at 0x8b5b710>,\n",
        " <pybug.image.base.Image at 0x8b5b890>,\n",
        " <pybug.image.base.Image at 0x8b5ba10>,\n",
        " <pybug.image.base.Image at 0x8b5bb90>,\n",
        " <pybug.image.base.Image at 0x8b5bd10>,\n",
        " <pybug.image.base.Image at 0x8b5be90>,\n",
        " <pybug.image.base.Image at 0x9501050>,\n",
        " <pybug.image.base.Image at 0x95011d0>,\n",
        " <pybug.image.base.Image at 0x9501350>,\n",
        " <pybug.image.base.Image at 0x95014d0>,\n",
        " <pybug.image.base.Image at 0x9501650>,\n",
        " <pybug.image.base.Image at 0x95017d0>,\n",
        " <pybug.image.base.Image at 0x9501950>,\n",
        " <pybug.image.base.Image at 0x9501ad0>,\n",
        " <pybug.image.base.Image at 0x9501c50>,\n",
        " <pybug.image.base.Image at 0x9501dd0>,\n",
        " <pybug.image.base.Image at 0x9501f50>,\n",
        " <pybug.image.base.Image at 0x8c99cd0>,\n",
        " <pybug.image.base.Image at 0x8b4ebd0>,\n",
        " <pybug.image.base.Image at 0x8b4e5d0>,\n",
        " <pybug.image.base.Image at 0x8b51e10>,\n",
        " <pybug.image.base.Image at 0x8b51f90>,\n",
        " <pybug.image.base.Image at 0x8b57450>,\n",
        " <pybug.image.base.Image at 0x8b57ed0>,\n",
        " <pybug.image.base.Image at 0x8b528d0>,\n",
        " <pybug.image.base.Image at 0x8b5b150>,\n",
        " <pybug.image.base.Image at 0x8b55090>,\n",
        " <pybug.image.base.Image at 0x8b55390>,\n",
        " <pybug.image.base.Image at 0x8b50810>,\n",
        " <pybug.image.base.Image at 0x8b50e10>,\n",
        " <pybug.image.base.Image at 0x9508110>,\n",
        " <pybug.image.base.Image at 0x9508290>,\n",
        " <pybug.image.base.Image at 0x9508410>,\n",
        " <pybug.image.base.Image at 0x9508590>,\n",
        " <pybug.image.base.Image at 0x9508710>,\n",
        " <pybug.image.base.Image at 0x9508890>,\n",
        " <pybug.image.base.Image at 0x9508a10>,\n",
        " <pybug.image.base.Image at 0x9508b90>,\n",
        " <pybug.image.base.Image at 0x9508d10>,\n",
        " <pybug.image.base.Image at 0x9508e90>,\n",
        " <pybug.image.base.Image at 0x94f8050>,\n",
        " <pybug.image.base.Image at 0x94f81d0>,\n",
        " <pybug.image.base.Image at 0x94f8350>,\n",
        " <pybug.image.base.Image at 0x94f84d0>,\n",
        " <pybug.image.base.Image at 0x94f8650>,\n",
        " <pybug.image.base.Image at 0x94f87d0>,\n",
        " <pybug.image.base.Image at 0x94f8950>,\n",
        " <pybug.image.base.Image at 0x94f8ad0>,\n",
        " <pybug.image.base.Image at 0x94f8c50>,\n",
        " <pybug.image.base.Image at 0x94f8dd0>,\n",
        " <pybug.image.base.Image at 0x94f8f50>,\n",
        " <pybug.image.base.Image at 0x950d110>,\n",
        " <pybug.image.base.Image at 0x950d290>,\n",
        " <pybug.image.base.Image at 0x950d410>,\n",
        " <pybug.image.base.Image at 0x950d590>,\n",
        " <pybug.image.base.Image at 0x950d710>,\n",
        " <pybug.image.base.Image at 0x950d890>,\n",
        " <pybug.image.base.Image at 0x950da10>,\n",
        " <pybug.image.base.Image at 0x950db90>,\n",
        " <pybug.image.base.Image at 0x950dd10>,\n",
        " <pybug.image.base.Image at 0x950de90>,\n",
        " <pybug.image.base.Image at 0x94e2050>,\n",
        " <pybug.image.base.Image at 0x94e21d0>,\n",
        " <pybug.image.base.Image at 0x94e2350>,\n",
        " <pybug.image.base.Image at 0x94e24d0>,\n",
        " <pybug.image.base.Image at 0x94e2650>,\n",
        " <pybug.image.base.Image at 0x94e27d0>,\n",
        " <pybug.image.base.Image at 0x94e2950>,\n",
        " <pybug.image.base.Image at 0x94e2ad0>,\n",
        " <pybug.image.base.Image at 0x94e2c50>,\n",
        " <pybug.image.base.Image at 0x94e2dd0>,\n",
        " <pybug.image.base.Image at 0x94e2f50>,\n",
        " <pybug.image.base.Image at 0xc68c6110>,\n",
        " <pybug.image.base.Image at 0xc68c6290>,\n",
        " <pybug.image.base.Image at 0xc68c6410>,\n",
        " <pybug.image.base.Image at 0xc68c6590>,\n",
        " <pybug.image.base.Image at 0xc68c6710>,\n",
        " <pybug.image.base.Image at 0xc68c6890>,\n",
        " <pybug.image.base.Image at 0xc68c6a10>,\n",
        " <pybug.image.base.Image at 0xc68c6b90>,\n",
        " <pybug.image.base.Image at 0xc68c6d10>,\n",
        " <pybug.image.base.Image at 0xc68c6e90>,\n",
        " <pybug.image.base.Image at 0x94fa050>,\n",
        " <pybug.image.base.Image at 0x94fa1d0>,\n",
        " <pybug.image.base.Image at 0x94fa350>,\n",
        " <pybug.image.base.Image at 0x94fa4d0>,\n",
        " <pybug.image.base.Image at 0x94fa650>,\n",
        " <pybug.image.base.Image at 0x94fa7d0>,\n",
        " <pybug.image.base.Image at 0x94fa950>,\n",
        " <pybug.image.base.Image at 0x94faad0>,\n",
        " <pybug.image.base.Image at 0x94fac50>,\n",
        " <pybug.image.base.Image at 0x94fadd0>,\n",
        " <pybug.image.base.Image at 0x94faf50>,\n",
        " <pybug.image.base.Image at 0xc68ca110>,\n",
        " <pybug.image.base.Image at 0xc68ca290>,\n",
        " <pybug.image.base.Image at 0x8b5b450>,\n",
        " <pybug.image.base.Image at 0x8b5b650>,\n",
        " <pybug.image.base.Image at 0x9501890>,\n",
        " <pybug.image.base.Image at 0x9501710>,\n",
        " <pybug.image.base.Image at 0xc68ca490>,\n",
        " <pybug.image.base.Image at 0xc68ca610>,\n",
        " <pybug.image.base.Image at 0xc68ca790>,\n",
        " <pybug.image.base.Image at 0xc68ca910>,\n",
        " <pybug.image.base.Image at 0xc68caa90>,\n",
        " <pybug.image.base.Image at 0xc68cac10>,\n",
        " <pybug.image.base.Image at 0xc68cad90>,\n",
        " <pybug.image.base.Image at 0xc68caf10>,\n",
        " <pybug.image.base.Image at 0x95090d0>,\n",
        " <pybug.image.base.Image at 0x9509250>,\n",
        " <pybug.image.base.Image at 0x95093d0>,\n",
        " <pybug.image.base.Image at 0x9509550>,\n",
        " <pybug.image.base.Image at 0x95096d0>,\n",
        " <pybug.image.base.Image at 0x9509850>,\n",
        " <pybug.image.base.Image at 0x95099d0>,\n",
        " <pybug.image.base.Image at 0x9509b50>,\n",
        " <pybug.image.base.Image at 0x9509cd0>,\n",
        " <pybug.image.base.Image at 0x9509e50>,\n",
        " <pybug.image.base.Image at 0x8b4eed0>,\n",
        " <pybug.image.base.Image at 0x8b57a50>,\n",
        " <pybug.image.base.Image at 0x94fa290>,\n",
        " <pybug.image.base.Image at 0x94fa410>,\n",
        " <pybug.image.base.Image at 0xc68c61d0>,\n",
        " <pybug.image.base.Image at 0x8ca7d90>,\n",
        " <pybug.image.base.Image at 0x94e2a10>,\n",
        " <pybug.image.base.Image at 0x94f8e90>,\n",
        " <pybug.image.base.Image at 0x94f8590>,\n",
        " <pybug.image.base.Image at 0x95087d0>,\n",
        " <pybug.image.base.Image at 0x9508ad0>,\n",
        " <pybug.image.base.Image at 0x950d7d0>,\n",
        " <pybug.image.base.Image at 0x950d4d0>,\n",
        " <pybug.image.base.Image at 0x9509fd0>,\n",
        " <pybug.image.base.Image at 0x94d3190>,\n",
        " <pybug.image.base.Image at 0x94d3310>,\n",
        " <pybug.image.base.Image at 0x94d3490>,\n",
        " <pybug.image.base.Image at 0x94d3610>,\n",
        " <pybug.image.base.Image at 0x94d3790>,\n",
        " <pybug.image.base.Image at 0x94d3910>,\n",
        " <pybug.image.base.Image at 0x94d3a90>,\n",
        " <pybug.image.base.Image at 0x94d3c10>,\n",
        " <pybug.image.base.Image at 0x94d3d90>,\n",
        " <pybug.image.base.Image at 0x94d3f10>,\n",
        " <pybug.image.base.Image at 0x94ec0d0>,\n",
        " <pybug.image.base.Image at 0x94ec250>,\n",
        " <pybug.image.base.Image at 0x94ec3d0>,\n",
        " <pybug.image.base.Image at 0x94ec550>,\n",
        " <pybug.image.base.Image at 0x94ec6d0>,\n",
        " <pybug.image.base.Image at 0x94ec850>,\n",
        " <pybug.image.base.Image at 0x94ec9d0>,\n",
        " <pybug.image.base.Image at 0x94ecb50>,\n",
        " <pybug.image.base.Image at 0x94eccd0>,\n",
        " <pybug.image.base.Image at 0x94ece50>,\n",
        " <pybug.image.base.Image at 0x94ecfd0>,\n",
        " <pybug.image.base.Image at 0x94d7190>,\n",
        " <pybug.image.base.Image at 0x94d7310>,\n",
        " <pybug.image.base.Image at 0x94d7490>,\n",
        " <pybug.image.base.Image at 0x94d7610>,\n",
        " <pybug.image.base.Image at 0x94d7790>,\n",
        " <pybug.image.base.Image at 0x94d7910>,\n",
        " <pybug.image.base.Image at 0x94d7a90>,\n",
        " <pybug.image.base.Image at 0x94d7c10>,\n",
        " <pybug.image.base.Image at 0x94d7d90>,\n",
        " <pybug.image.base.Image at 0x94d7f10>,\n",
        " <pybug.image.base.Image at 0x94f50d0>,\n",
        " <pybug.image.base.Image at 0x94f5250>,\n",
        " <pybug.image.base.Image at 0x94f53d0>,\n",
        " <pybug.image.base.Image at 0x94f5550>,\n",
        " <pybug.image.base.Image at 0x94f56d0>,\n",
        " <pybug.image.base.Image at 0x94f5850>,\n",
        " <pybug.image.base.Image at 0x94f59d0>,\n",
        " <pybug.image.base.Image at 0x94f5b50>,\n",
        " <pybug.image.base.Image at 0x94f5cd0>,\n",
        " <pybug.image.base.Image at 0x94f5e50>,\n",
        " <pybug.image.base.Image at 0x94f5fd0>,\n",
        " <pybug.image.base.Image at 0x950c190>,\n",
        " <pybug.image.base.Image at 0x950c310>,\n",
        " <pybug.image.base.Image at 0x950c490>,\n",
        " <pybug.image.base.Image at 0x950c610>,\n",
        " <pybug.image.base.Image at 0x950c790>,\n",
        " <pybug.image.base.Image at 0x950c910>,\n",
        " <pybug.image.base.Image at 0x950ca90>,\n",
        " <pybug.image.base.Image at 0x950cc10>,\n",
        " <pybug.image.base.Image at 0x950cd90>,\n",
        " <pybug.image.base.Image at 0x950cf10>,\n",
        " <pybug.image.base.Image at 0x94ea0d0>,\n",
        " <pybug.image.base.Image at 0x94ea250>,\n",
        " <pybug.image.base.Image at 0x94ea3d0>,\n",
        " <pybug.image.base.Image at 0x94ea550>,\n",
        " <pybug.image.base.Image at 0x94ea6d0>,\n",
        " <pybug.image.base.Image at 0x94ea850>,\n",
        " <pybug.image.base.Image at 0x94ea9d0>,\n",
        " <pybug.image.base.Image at 0x94eab50>,\n",
        " <pybug.image.base.Image at 0x94eacd0>,\n",
        " <pybug.image.base.Image at 0x94eae50>,\n",
        " <pybug.image.base.Image at 0x94eafd0>,\n",
        " <pybug.image.base.Image at 0x9506190>,\n",
        " <pybug.image.base.Image at 0x9509a90>,\n",
        " <pybug.image.base.Image at 0x9509490>,\n",
        " <pybug.image.base.Image at 0xc68cafd0>,\n",
        " <pybug.image.base.Image at 0xc68cacd0>,\n",
        " <pybug.image.base.Image at 0x9506390>,\n",
        " <pybug.image.base.Image at 0x9506510>,\n",
        " <pybug.image.base.Image at 0x9506690>,\n",
        " <pybug.image.base.Image at 0x9506810>,\n",
        " <pybug.image.base.Image at 0x9506990>,\n",
        " <pybug.image.base.Image at 0x9506b10>,\n",
        " <pybug.image.base.Image at 0x9506c90>,\n",
        " <pybug.image.base.Image at 0x9506e10>,\n",
        " <pybug.image.base.Image at 0x9506f90>,\n",
        " <pybug.image.base.Image at 0xc68da150>,\n",
        " <pybug.image.base.Image at 0xc68da2d0>,\n",
        " <pybug.image.base.Image at 0xc68da450>,\n",
        " <pybug.image.base.Image at 0xc68da5d0>,\n",
        " <pybug.image.base.Image at 0xc68da750>,\n",
        " <pybug.image.base.Image at 0xc68da8d0>,\n",
        " <pybug.image.base.Image at 0xc68daa50>,\n",
        " <pybug.image.base.Image at 0xc68dabd0>,\n",
        " <pybug.image.base.Image at 0xc68dad50>,\n",
        " <pybug.image.base.Image at 0x95060d0>,\n",
        " <pybug.image.base.Image at 0x94fa590>,\n",
        " <pybug.image.base.Image at 0x94f5d90>,\n",
        " <pybug.image.base.Image at 0x94f5310>,\n",
        " <pybug.image.base.Image at 0x94ec490>,\n",
        " <pybug.image.base.Image at 0xc68c6c50>,\n",
        " <pybug.image.base.Image at 0x94eaf10>,\n",
        " <pybug.image.base.Image at 0x94d33d0>,\n",
        " <pybug.image.base.Image at 0x94d3fd0>,\n",
        " <pybug.image.base.Image at 0x94d73d0>,\n",
        " <pybug.image.base.Image at 0x94d7550>,\n",
        " <pybug.image.base.Image at 0x950c850>,\n",
        " <pybug.image.base.Image at 0x950ccd0>,\n",
        " <pybug.image.base.Image at 0xc68daed0>,\n",
        " <pybug.image.base.Image at 0xc68e2090>,\n",
        " <pybug.image.base.Image at 0xc68e2210>,\n",
        " <pybug.image.base.Image at 0xc68e2390>,\n",
        " <pybug.image.base.Image at 0xc68e2510>,\n",
        " <pybug.image.base.Image at 0xc68e2690>,\n",
        " <pybug.image.base.Image at 0xc68e2810>,\n",
        " <pybug.image.base.Image at 0xc68e2990>,\n",
        " <pybug.image.base.Image at 0xc68e2b10>,\n",
        " <pybug.image.base.Image at 0xc68e2c90>,\n",
        " <pybug.image.base.Image at 0xc68e2e10>,\n",
        " <pybug.image.base.Image at 0xc68e2f90>,\n",
        " <pybug.image.base.Image at 0xc68e3150>,\n",
        " <pybug.image.base.Image at 0xc68e32d0>,\n",
        " <pybug.image.base.Image at 0xc68e3450>,\n",
        " <pybug.image.base.Image at 0xc68e35d0>,\n",
        " <pybug.image.base.Image at 0xc68e3750>,\n",
        " <pybug.image.base.Image at 0xc68e38d0>,\n",
        " <pybug.image.base.Image at 0xc68e3a50>,\n",
        " <pybug.image.base.Image at 0xc68e3bd0>,\n",
        " <pybug.image.base.Image at 0xc68e3d50>,\n",
        " <pybug.image.base.Image at 0xc68e3ed0>,\n",
        " <pybug.image.base.Image at 0xc68cb090>,\n",
        " <pybug.image.base.Image at 0xc68cb210>,\n",
        " <pybug.image.base.Image at 0xc68cb390>,\n",
        " <pybug.image.base.Image at 0xc68cb510>,\n",
        " <pybug.image.base.Image at 0xc68cb690>,\n",
        " <pybug.image.base.Image at 0xc68cb810>,\n",
        " <pybug.image.base.Image at 0xc68cb990>,\n",
        " <pybug.image.base.Image at 0xc68cbb10>,\n",
        " <pybug.image.base.Image at 0xc68cbc90>,\n",
        " <pybug.image.base.Image at 0xc68cbe10>,\n",
        " <pybug.image.base.Image at 0xc68cbf90>,\n",
        " <pybug.image.base.Image at 0xc68d1150>,\n",
        " <pybug.image.base.Image at 0xc68d12d0>,\n",
        " <pybug.image.base.Image at 0xc68d1450>,\n",
        " <pybug.image.base.Image at 0xc68d15d0>,\n",
        " <pybug.image.base.Image at 0xc68d1750>,\n",
        " <pybug.image.base.Image at 0xc68d18d0>,\n",
        " <pybug.image.base.Image at 0xc68d1a50>,\n",
        " <pybug.image.base.Image at 0xc68d1bd0>,\n",
        " <pybug.image.base.Image at 0xc68d1d50>,\n",
        " <pybug.image.base.Image at 0xc68d1ed0>,\n",
        " <pybug.image.base.Image at 0xc68de090>,\n",
        " <pybug.image.base.Image at 0xc68de210>,\n",
        " <pybug.image.base.Image at 0xc68de390>,\n",
        " <pybug.image.base.Image at 0xc68de510>,\n",
        " <pybug.image.base.Image at 0xc68de690>,\n",
        " <pybug.image.base.Image at 0xc68de810>,\n",
        " <pybug.image.base.Image at 0xc68de990>,\n",
        " <pybug.image.base.Image at 0xc68deb10>,\n",
        " <pybug.image.base.Image at 0xc68dec90>,\n",
        " <pybug.image.base.Image at 0xc68dee10>,\n",
        " <pybug.image.base.Image at 0xc68def90>,\n",
        " <pybug.image.base.Image at 0xc68e6150>,\n",
        " <pybug.image.base.Image at 0xc68e62d0>,\n",
        " <pybug.image.base.Image at 0xc68e6450>,\n",
        " <pybug.image.base.Image at 0xc68e65d0>,\n",
        " <pybug.image.base.Image at 0xc68e6750>,\n",
        " <pybug.image.base.Image at 0xc68e68d0>,\n",
        " <pybug.image.base.Image at 0xc68e6a50>,\n",
        " <pybug.image.base.Image at 0xc68e6bd0>,\n",
        " <pybug.image.base.Image at 0xc68e6d50>,\n",
        " <pybug.image.base.Image at 0xc68e6ed0>,\n",
        " <pybug.image.base.Image at 0xc68e8090>,\n",
        " <pybug.image.base.Image at 0xc68da690>,\n",
        " <pybug.image.base.Image at 0xc68da990>,\n",
        " <pybug.image.base.Image at 0x9506bd0>,\n",
        " <pybug.image.base.Image at 0x95068d0>,\n",
        " <pybug.image.base.Image at 0xc68e8290>,\n",
        " <pybug.image.base.Image at 0xc68e8410>,\n",
        " <pybug.image.base.Image at 0xc68e8590>,\n",
        " <pybug.image.base.Image at 0xc68e8710>,\n",
        " <pybug.image.base.Image at 0xc68e8890>,\n",
        " <pybug.image.base.Image at 0xc68e8a10>,\n",
        " <pybug.image.base.Image at 0xc68e8b90>,\n",
        " <pybug.image.base.Image at 0xc68e8d10>,\n",
        " <pybug.image.base.Image at 0xc68e8e90>,\n",
        " <pybug.image.base.Image at 0xc68f0050>,\n",
        " <pybug.image.base.Image at 0xc68f01d0>,\n",
        " <pybug.image.base.Image at 0xc68f0350>,\n",
        " <pybug.image.base.Image at 0xc68f04d0>,\n",
        " <pybug.image.base.Image at 0xc68f0650>,\n",
        " <pybug.image.base.Image at 0xc68f07d0>,\n",
        " <pybug.image.base.Image at 0xc68f0950>,\n",
        " <pybug.image.base.Image at 0xc68f0ad0>,\n",
        " <pybug.image.base.Image at 0xc68f0c50>,\n",
        " <pybug.image.base.Image at 0x94ec190>,\n",
        " <pybug.image.base.Image at 0xc68e2150>,\n",
        " <pybug.image.base.Image at 0xc68e2750>,\n",
        " <pybug.image.base.Image at 0xc68de750>,\n",
        " <pybug.image.base.Image at 0xc68de2d0>,\n",
        " <pybug.image.base.Image at 0xc68dadd0>,\n",
        " <pybug.image.base.Image at 0xc68e3c90>,\n",
        " <pybug.image.base.Image at 0xc68cbd50>,\n",
        " <pybug.image.base.Image at 0xc68cb5d0>,\n",
        " <pybug.image.base.Image at 0xc68d1690>,\n",
        " <pybug.image.base.Image at 0xc68d1c90>,\n",
        " <pybug.image.base.Image at 0xc68e6e10>,\n",
        " <pybug.image.base.Image at 0xc68e6690>,\n",
        " <pybug.image.base.Image at 0xc68f0dd0>,\n",
        " <pybug.image.base.Image at 0xc68f0f50>,\n",
        " <pybug.image.base.Image at 0xc68e5110>,\n",
        " <pybug.image.base.Image at 0xc68e5290>,\n",
        " <pybug.image.base.Image at 0xc68e5410>,\n",
        " <pybug.image.base.Image at 0xc68e5590>,\n",
        " <pybug.image.base.Image at 0xc68e5710>,\n",
        " <pybug.image.base.Image at 0xc68e5890>,\n",
        " <pybug.image.base.Image at 0xc68e5a10>,\n",
        " <pybug.image.base.Image at 0xc68e5b90>,\n",
        " <pybug.image.base.Image at 0xc68e5d10>,\n",
        " <pybug.image.base.Image at 0xc68e5e90>,\n",
        " <pybug.image.base.Image at 0xc68f6050>,\n",
        " <pybug.image.base.Image at 0xc68f61d0>,\n",
        " <pybug.image.base.Image at 0xc68f6350>,\n",
        " <pybug.image.base.Image at 0xc68f64d0>,\n",
        " <pybug.image.base.Image at 0xc68f6650>,\n",
        " <pybug.image.base.Image at 0xc68f67d0>,\n",
        " <pybug.image.base.Image at 0xc68f6950>,\n",
        " <pybug.image.base.Image at 0xc68f6ad0>,\n",
        " <pybug.image.base.Image at 0xc68f6c50>,\n",
        " <pybug.image.base.Image at 0xc68f6dd0>,\n",
        " <pybug.image.base.Image at 0xc68f6f50>,\n",
        " <pybug.image.base.Image at 0xc6902110>,\n",
        " <pybug.image.base.Image at 0xc6902290>,\n",
        " <pybug.image.base.Image at 0xc6902410>,\n",
        " <pybug.image.base.Image at 0xc6902590>,\n",
        " <pybug.image.base.Image at 0xc6902710>,\n",
        " <pybug.image.base.Image at 0xc6902890>,\n",
        " <pybug.image.base.Image at 0xc6902a10>,\n",
        " <pybug.image.base.Image at 0xc6902b90>,\n",
        " <pybug.image.base.Image at 0xc6902d10>,\n",
        " <pybug.image.base.Image at 0xc6902e90>,\n",
        " <pybug.image.base.Image at 0xc68c4050>,\n",
        " <pybug.image.base.Image at 0xc68c41d0>,\n",
        " <pybug.image.base.Image at 0xc68c4350>,\n",
        " <pybug.image.base.Image at 0xc68c44d0>,\n",
        " <pybug.image.base.Image at 0xc68c4650>,\n",
        " <pybug.image.base.Image at 0xc68c47d0>,\n",
        " <pybug.image.base.Image at 0xc68c4950>,\n",
        " <pybug.image.base.Image at 0xc68c4ad0>,\n",
        " <pybug.image.base.Image at 0xc68c4c50>,\n",
        " <pybug.image.base.Image at 0xc68c4dd0>,\n",
        " <pybug.image.base.Image at 0xc68c4f50>,\n",
        " <pybug.image.base.Image at 0x13cfc4110>,\n",
        " <pybug.image.base.Image at 0x13cfc4290>,\n",
        " <pybug.image.base.Image at 0x13cfc4410>,\n",
        " <pybug.image.base.Image at 0x13cfc4590>,\n",
        " <pybug.image.base.Image at 0x13cfc4710>,\n",
        " <pybug.image.base.Image at 0x13cfc4890>,\n",
        " <pybug.image.base.Image at 0x13cfc4a10>,\n",
        " <pybug.image.base.Image at 0x13cfc4b90>,\n",
        " <pybug.image.base.Image at 0x13cfc4d10>,\n",
        " <pybug.image.base.Image at 0x13cfc4e90>,\n",
        " <pybug.image.base.Image at 0xc68fa050>,\n",
        " <pybug.image.base.Image at 0xc68fa1d0>,\n",
        " <pybug.image.base.Image at 0xc68fa350>,\n",
        " <pybug.image.base.Image at 0xc68fa4d0>,\n",
        " <pybug.image.base.Image at 0xc68fa650>,\n",
        " <pybug.image.base.Image at 0xc68fa7d0>,\n",
        " <pybug.image.base.Image at 0xc68fa950>,\n",
        " <pybug.image.base.Image at 0xc68faad0>,\n",
        " <pybug.image.base.Image at 0xc68fac50>,\n",
        " <pybug.image.base.Image at 0xc68fadd0>,\n",
        " <pybug.image.base.Image at 0xc68faf50>,\n",
        " <pybug.image.base.Image at 0x9506750>,\n",
        " <pybug.image.base.Image at 0xc68e84d0>,\n",
        " <pybug.image.base.Image at 0xc68f0110>,\n",
        " <pybug.image.base.Image at 0xc68f0a10>,\n",
        " <pybug.image.base.Image at 0x13cfca190>,\n",
        " <pybug.image.base.Image at 0x13cfca310>,\n",
        " <pybug.image.base.Image at 0x13cfca490>,\n",
        " <pybug.image.base.Image at 0x13cfca610>,\n",
        " <pybug.image.base.Image at 0x13cfca790>,\n",
        " <pybug.image.base.Image at 0x13cfca910>,\n",
        " <pybug.image.base.Image at 0x13cfcaa90>,\n",
        " <pybug.image.base.Image at 0x13cfcac10>,\n",
        " <pybug.image.base.Image at 0x13cfcad90>,\n",
        " <pybug.image.base.Image at 0x13cfcaf10>,\n",
        " <pybug.image.base.Image at 0xc68ec0d0>,\n",
        " <pybug.image.base.Image at 0xc68ec250>,\n",
        " <pybug.image.base.Image at 0xc68ec3d0>,\n",
        " <pybug.image.base.Image at 0xc68ec550>,\n",
        " <pybug.image.base.Image at 0xc68ec6d0>,\n",
        " <pybug.image.base.Image at 0xc68ec850>,\n",
        " <pybug.image.base.Image at 0xc68ec9d0>,\n",
        " <pybug.image.base.Image at 0xc68ecb50>,\n",
        " <pybug.image.base.Image at 0xc68e2450>,\n",
        " <pybug.image.base.Image at 0xc68f0cd0>,\n",
        " <pybug.image.base.Image at 0xc68faa10>,\n",
        " <pybug.image.base.Image at 0xc68fa410>,\n",
        " <pybug.image.base.Image at 0xc68f6a10>,\n",
        " <pybug.image.base.Image at 0xc68f6290>,\n",
        " <pybug.image.base.Image at 0xc68c4b90>,\n",
        " <pybug.image.base.Image at 0xc68e5950>,\n",
        " <pybug.image.base.Image at 0xc68e5c50>,\n",
        " <pybug.image.base.Image at 0xc69021d0>,\n",
        " <pybug.image.base.Image at 0xc6902f50>,\n",
        " <pybug.image.base.Image at 0x13cfc44d0>,\n",
        " <pybug.image.base.Image at 0x13cfc4dd0>,\n",
        " <pybug.image.base.Image at 0xc68eccd0>,\n",
        " <pybug.image.base.Image at 0xc68ece50>,\n",
        " <pybug.image.base.Image at 0xc68ecfd0>,\n",
        " <pybug.image.base.Image at 0xc68f4190>,\n",
        " <pybug.image.base.Image at 0xc68f4310>]"
       ]
      }
     ],
     "prompt_number": 3
    },
    {
     "cell_type": "code",
     "collapsed": false,
     "input": [
      "img = images[0]\n",
      "\n",
      "# visualize first image\n",
      "img.view()\n",
      "img.get_landmark_set('ibug_68_points').view()\n",
      "img.get_landmark_set('ibug_68_contour').view()\n",
      "img.get_landmark_set('ibug_68_trimesh').view()"
     ],
     "language": "python",
     "metadata": {},
     "outputs": [
      {
       "metadata": {},
       "output_type": "pyout",
       "prompt_number": 4,
       "text": [
        "<pybug.visualize.viewmatplotlib.MatplotlibLandmarkViewer2dImage at 0x41385190>"
       ]
      },
      {
       "metadata": {},
       "output_type": "display_data",
       "png": "[encoded data removed]",
       "text": [
        "<matplotlib.figure.Figure at 0x94d4f90>"
       ]
      }
     ],
     "prompt_number": 4
    },
    {
     "cell_type": "markdown",
     "metadata": {},
     "source": [
      "We have now loaded enough data to create a meaninful **Active Appearance Model (AAM)** from the LFPW database."
     ]
    },
    {
     "cell_type": "markdown",
     "metadata": {},
     "source": [
      "### 2. Build Reference Frame (RF)\n",
      "\n",
      "We start by centereing all shapes around the origin (0,0)."
     ]
    },
    {
     "cell_type": "code",
     "collapsed": false,
     "input": [
      "from pybug.shape import PointCloud\n",
      "\n",
      "points = [img.landmarks['PTS'].all_landmarks.points - 1  for img in images]\n",
      "shapes = [PointCloud(p) for p in points]\n",
      "\n",
      "centralized_points = [p - np.mean(p, axis=0) for p in points]\n",
      "centralized_shapes = [PointCloud(p) for p in points]"
     ],
     "language": "python",
     "metadata": {},
     "outputs": [],
     "prompt_number": 5
    },
    {
     "cell_type": "markdown",
     "metadata": {},
     "source": [
      "We can visualy check that indeed they are now centered."
     ]
    },
    {
     "cell_type": "code",
     "collapsed": false,
     "input": [
      "centralized_shapes[0].view()"
     ],
     "language": "python",
     "metadata": {},
     "outputs": [
      {
       "metadata": {},
       "output_type": "pyout",
       "prompt_number": 6,
       "text": [
        "<pybug.visualize.viewmatplotlib.MatplotlibPointCloudViewer2d at 0x413910d0>"
       ]
      },
      {
       "metadata": {},
       "output_type": "display_data",
       "png": "[encoded data removed]",
       "text": [
        "<matplotlib.figure.Figure at 0x41391150>"
       ]
      }
     ],
     "prompt_number": 6
    },
    {
     "cell_type": "markdown",
     "metadata": {},
     "source": [
      "Normalize the centered shapes up to a similarity transform by performing Procrustes Analysis."
     ]
    },
    {
     "cell_type": "code",
     "collapsed": false,
     "input": [
      "from pybug.align import GeneralizedProcrustesAnalysis\n",
      "\n",
      "gpa = GeneralizedProcrustesAnalysis(centralized_points)\n",
      "aligned_points = [p[-1].aligned_source for p in gpa.procrustes]\n",
      "aligned_shapes = [PointCloud(p) for p in aligned_points]"
     ],
     "language": "python",
     "metadata": {},
     "outputs": [
      {
       "output_type": "stream",
       "stream": "stdout",
       "text": [
        "at iteration 1, the delta_target is 1.562696\n",
        "at iteration 2, the delta_target is 0.003704"
       ]
      },
      {
       "output_type": "stream",
       "stream": "stdout",
       "text": [
        "\n",
        "at iteration 3, the delta_target is 0.000030"
       ]
      },
      {
       "output_type": "stream",
       "stream": "stdout",
       "text": [
        "\n",
        "at iteration 4, the delta_target is 0.000000"
       ]
      },
      {
       "output_type": "stream",
       "stream": "stdout",
       "text": [
        "\n",
        "delta_target sufficiently small, stopping.\n"
       ]
      }
     ],
     "prompt_number": 11
    },
    {
     "cell_type": "code",
     "collapsed": false,
     "input": [
      "%load_ext autoreload\n",
      "%autoreload 2"
     ],
     "language": "python",
     "metadata": {},
     "outputs": [
      {
       "output_type": "stream",
       "stream": "stdout",
       "text": [
        "The autoreload extension is already loaded. To reload it, use:\n",
        "  %reload_ext autoreload\n"
       ]
      }
     ],
     "prompt_number": 12
    },
    {
     "cell_type": "markdown",
     "metadata": {},
     "source": [
      "In order to define the template frame, we will need a function that checks if a particular point is inside a given convex polygon. We define this function."
     ]
    },
    {
     "cell_type": "markdown",
     "metadata": {},
     "source": [
      "Define the reference frame."
     ]
    },
    {
     "cell_type": "code",
     "collapsed": false,
     "input": [
      "from pybug.image.base import Image\n",
      "\n",
      "mean_points = np.mean(aligned_points, axis=0)\n",
      "margin = 3\n",
      "template_landmarks = PointCloud(mean_points - np.min(mean_points, axis=0) + margin)\n",
      "\n",
      "# the resolution of the template is typically related to the size of the mean shape\n",
      "scale = 1\n",
      "template_resolution = scale * np.ceil(np.max(template_landmarks.points, axis=0) + margin)\n",
      "\n",
      "template_data = np.zeros(template_resolution)\n",
      "\n",
      "# this looks a bit overcomplicated for what I end up doing... \n",
      "template_landmarks.add_landmark_set('PTS', {'all': template_landmarks})\n",
      "labeller([template_landmarks], 'PTS', ibug_68_contour)"
     ],
     "language": "python",
     "metadata": {},
     "outputs": [
      {
       "metadata": {},
       "output_type": "pyout",
       "prompt_number": 13,
       "text": [
        "[<pybug.shape.pointcloud.PointCloud at 0x1105f4110>]"
       ]
      }
     ],
     "prompt_number": 13
    },
    {
     "cell_type": "code",
     "collapsed": false,
     "input": [
      "from pybug.image.base import MaskImage\n",
      "from skimage.morphology._pnpoly import points_inside_poly\n",
      "\n",
      "# same here...\n",
      "convex_hull = template_landmarks.get_landmark_set('ibug_68_contour').all_landmarks.points\n",
      "plot(convex_hull[:,0],convex_hull[:,1])\n",
      "\n",
      "y = np.arange(template_resolution[1], dtype=np.int)\n",
      "x = np.arange(template_resolution[0],  dtype=np.int)\n",
      "yv, xv = np.meshgrid(y, x)\n",
      "\n",
      "mask_data = np.zeros(template_resolution, dtype=np.bool)\n",
      "\n",
      "positions = np.array([xv.flatten(), yv.flatten()]).T\n",
      "mask_data = points_inside_poly(positions, convex_hull)\n",
      "mask_data = mask_data.reshape(template_resolution)\n",
      "\n",
      "mask = MaskImage(mask_data)"
     ],
     "language": "python",
     "metadata": {},
     "outputs": [
      {
       "metadata": {},
       "output_type": "display_data",
       "png": "[encoded data removed]",
       "text": [
        "<matplotlib.figure.Figure at 0x1105f4a90>"
       ]
      }
     ],
     "prompt_number": 14
    },
    {
     "cell_type": "code",
     "collapsed": false,
     "input": [
      "from pybug.image.base import Image\n",
      "\n",
      "template = Image(template_data, mask=mask)\n",
      "\n",
      "template.add_landmark_set('PTS', {'all': template_landmarks})\n",
      "labeller([template], 'PTS', ibug_68_points)\n",
      "labeller([template], 'PTS', ibug_68_contour)\n",
      "labeller([template], 'PTS', ibug_68_trimesh)"
     ],
     "language": "python",
     "metadata": {},
     "outputs": [
      {
       "metadata": {},
       "output_type": "pyout",
       "prompt_number": 15,
       "text": [
        "[<pybug.image.base.Image at 0x4379b10>]"
       ]
      }
     ],
     "prompt_number": 15
    },
    {
     "cell_type": "code",
     "collapsed": false,
     "input": [
      "template.get_landmark_set('ibug_68_points').view()\n",
      "template.get_landmark_set('ibug_68_contour').view()\n",
      "template.get_landmark_set('ibug_68_trimesh').view()\n",
      "\n",
      "template.mask.view()"
     ],
     "language": "python",
     "metadata": {},
     "outputs": [
      {
       "metadata": {},
       "output_type": "pyout",
       "prompt_number": 16,
       "text": [
        "<pybug.visualize.viewmatplotlib.MatplotlibImageViewer2d at 0x413aac10>"
       ]
      },
      {
       "metadata": {},
       "output_type": "display_data",
       "png": "[encoded data removed]",
       "text": [
        "<matplotlib.figure.Figure at 0x7befea50>"
       ]
      }
     ],
     "prompt_number": 16
    },
    {
     "cell_type": "code",
     "collapsed": false,
     "input": [
      "def build_template(points, label_func=ibug_68_contour, margin=3, scale=1):\n",
      "    template_landmarks = PointCloud(points - np.min(points, axis=0) + margin)\n",
      "    template_resolution = scale * np.ceil(np.max(template_landmarks.points, axis=0) + margin)\n",
      "    template_data = np.zeros(template_resolution)\n",
      "    y = np.arange(template_resolution[1], dtype=np.int)\n",
      "    x = np.arange(template_resolution[0], dtype=np.int)\n",
      "    yv, xv = np.meshgrid(y, x)\n",
      "    mask_data = np.zeros(template_resolution, dtype=np.bool)\n",
      "    template_landmarks.add_landmark_set('PTS', {'all': template_landmarks})\n",
      "    labeller([template_landmarks], 'PTS', label_func)\n",
      "    convex_hull = template_landmarks.get_landmark_set('ibug_68_contour').all_landmarks.points\n",
      "    plot(convex_hull[:,0],convex_hull[:,1])\n",
      "    positions = np.array([xv.flatten(), yv.flatten()]).T\n",
      "    mask_data = points_inside_poly(positions, convex_hull)\n",
      "    mask_data = mask_data.reshape(template_resolution)\n",
      "    mask = MaskImage(mask_data)\n",
      "    template = Image(template_data, mask=mask)\n",
      "    return template, template_landmarks"
     ],
     "language": "python",
     "metadata": {},
     "outputs": [],
     "prompt_number": 17
    },
    {
     "cell_type": "markdown",
     "metadata": {},
     "source": [
      "### 3. Warp the Images\n",
      "\n",
      "The next step consists of *warping* the original LFPW images onto the *reference frame* using the correspondances between their *landmarks* and the *texture coordinates* on the reference frame. We can either use **Piece Wise Affine ** (PWA) or **Thin Plate Spline ** (TPS) for this purpose. The differences between the two families of warps can be observed by visualizing the obtained warped images."
     ]
    },
    {
     "cell_type": "code",
     "collapsed": false,
     "input": [
      "from pybug.transform.piecewiseaffine import PiecewiseAffineTransform\n",
      "from pybug.warp import scipy_warp\n",
      "\n",
      "trilist = template.get_landmark_set('ibug_68_trimesh').landmark_dict['tri'].trilist\n",
      "\n",
      "pwa = [PiecewiseAffineTransform(template_landmarks.points, s.points, trilist) for s in shapes]\n",
      "warped_images = [scipy_warp(img, template, t) for img, t in zip(images, pwa)]"
     ],
     "language": "python",
     "metadata": {},
     "outputs": [],
     "prompt_number": 18
    },
    {
     "cell_type": "code",
     "collapsed": false,
     "input": [
      "warped_images[0].view()"
     ],
     "language": "python",
     "metadata": {},
     "outputs": [
      {
       "metadata": {},
       "output_type": "pyout",
       "prompt_number": 19,
       "text": [
        "<pybug.visualize.viewmatplotlib.MatplotlibImageViewer2d at 0x2d9fadd0>"
       ]
      },
      {
       "metadata": {},
       "output_type": "display_data",
       "png": "[encoded data removed]",
       "text": [
        "<matplotlib.figure.Figure at 0x2d9fac10>"
       ]
      }
     ],
     "prompt_number": 19
    },
    {
     "cell_type": "code",
     "collapsed": false,
     "input": [
      "%load_ext autoreload\n",
      "%autoreload 2"
     ],
     "language": "python",
     "metadata": {},
     "outputs": [
      {
       "output_type": "stream",
       "stream": "stdout",
       "text": [
        "The autoreload extension is already loaded. To reload it, use:\n",
        "  %reload_ext autoreload\n"
       ]
      }
     ],
     "prompt_number": 97
    },
    {
     "cell_type": "markdown",
     "metadata": {},
     "source": [
      "### 4. Build the Appearance Model\n",
      "The AAM's *appearance model* is typically build by applying **Principal Component Analysis** (PCA) to the previously warped images."
     ]
    },
    {
     "cell_type": "code",
     "collapsed": false,
     "input": [
      "from pybug.model.linear import PCAModel\n",
      "\n",
      "# transform all warped images to graysacale\n",
      "grayscale_warped_images = [img.as_greyscale() for img in warped_images] \n",
      "\n",
      "# this would perfectly work in rgb space provided that all original images had rgb color channels (which is not the \n",
      "# case for the LFPW training dataset)\n",
      "appearance_model = PCAModel(grayscale_warped_images, n_components=50)"
     ],
     "language": "python",
     "metadata": {},
     "outputs": [],
     "prompt_number": 132
    },
    {
     "cell_type": "code",
     "collapsed": false,
     "input": [
      "from sklearn.decomposition import PCA as SklearnPCA\n",
      "\n",
      "appearance_model2 = PCAModel(grayscale_warped_images, n_components=50, PCA=SklearnPCA)"
     ],
     "language": "python",
     "metadata": {},
     "outputs": [
      {
       "ename": "AttributeError",
       "evalue": "'PCA' object has no attribute 'noise_variance_'",
       "output_type": "pyerr",
       "traceback": [
        "\u001b[1;31m---------------------------------------------------------------------------\u001b[0m\n\u001b[1;31mAttributeError\u001b[0m                            Traceback (most recent call last)",
        "\u001b[1;32m<ipython-input-95-04482451fddc>\u001b[0m in \u001b[0;36m<module>\u001b[1;34m()\u001b[0m\n\u001b[0;32m      1\u001b[0m \u001b[1;32mfrom\u001b[0m \u001b[0msklearn\u001b[0m\u001b[1;33m.\u001b[0m\u001b[0mdecomposition\u001b[0m \u001b[1;32mimport\u001b[0m \u001b[0mPCA\u001b[0m \u001b[1;32mas\u001b[0m \u001b[0mSklearnPCA\u001b[0m\u001b[1;33m\u001b[0m\u001b[0m\n\u001b[0;32m      2\u001b[0m \u001b[1;33m\u001b[0m\u001b[0m\n\u001b[1;32m----> 3\u001b[1;33m \u001b[0mappearance_model2\u001b[0m \u001b[1;33m=\u001b[0m \u001b[0mPCAModel\u001b[0m\u001b[1;33m(\u001b[0m\u001b[0mgrayscale_warped_images\u001b[0m\u001b[1;33m,\u001b[0m \u001b[0mn_components\u001b[0m\u001b[1;33m=\u001b[0m\u001b[1;36m50\u001b[0m\u001b[1;33m,\u001b[0m \u001b[0mPCA\u001b[0m\u001b[1;33m=\u001b[0m\u001b[0mSklearnPCA\u001b[0m\u001b[1;33m)\u001b[0m\u001b[1;33m\u001b[0m\u001b[0m\n\u001b[0m",
        "\u001b[1;32m/vol/atlas/homes/ja310/.virtualenvs/pybug/src/pybug/pybug/model/linear.py\u001b[0m in \u001b[0;36m__init__\u001b[1;34m(self, samples, n_components, PCA)\u001b[0m\n\u001b[0;32m    334\u001b[0m \u001b[1;33m\u001b[0m\u001b[0m\n\u001b[0;32m    335\u001b[0m         \u001b[1;31m# store inverse noise variance\u001b[0m\u001b[1;33m\u001b[0m\u001b[1;33m\u001b[0m\u001b[0m\n\u001b[1;32m--> 336\u001b[1;33m         \u001b[0mself\u001b[0m\u001b[1;33m.\u001b[0m\u001b[0minv_noise_variance\u001b[0m \u001b[1;33m=\u001b[0m \u001b[1;36m1\u001b[0m \u001b[1;33m/\u001b[0m \u001b[0mself\u001b[0m\u001b[1;33m.\u001b[0m\u001b[0mnoise_variance\u001b[0m\u001b[1;33m\u001b[0m\u001b[0m\n\u001b[0m\u001b[0;32m    337\u001b[0m         \u001b[1;31m# pre-compute weighted components: U * L\u001b[0m\u001b[1;33m\u001b[0m\u001b[1;33m\u001b[0m\u001b[0m\n\u001b[0;32m    338\u001b[0m         self.weighted_components = ((1 / self.eigenvalues)[..., None] *\n",
        "\u001b[1;32m/vol/atlas/homes/ja310/.virtualenvs/pybug/src/pybug/pybug/model/linear.py\u001b[0m in \u001b[0;36mnoise_variance\u001b[1;34m(self)\u001b[0m\n\u001b[0;32m    368\u001b[0m     \u001b[1;33m@\u001b[0m\u001b[0mproperty\u001b[0m\u001b[1;33m\u001b[0m\u001b[0m\n\u001b[0;32m    369\u001b[0m     \u001b[1;32mdef\u001b[0m \u001b[0mnoise_variance\u001b[0m\u001b[1;33m(\u001b[0m\u001b[0mself\u001b[0m\u001b[1;33m)\u001b[0m\u001b[1;33m:\u001b[0m\u001b[1;33m\u001b[0m\u001b[0m\n\u001b[1;32m--> 370\u001b[1;33m         \u001b[1;32mreturn\u001b[0m \u001b[0mself\u001b[0m\u001b[1;33m.\u001b[0m\u001b[0m_pca\u001b[0m\u001b[1;33m.\u001b[0m\u001b[0mnoise_variance_\u001b[0m\u001b[1;33m\u001b[0m\u001b[0m\n\u001b[0m\u001b[0;32m    371\u001b[0m \u001b[1;33m\u001b[0m\u001b[0m\n\u001b[0;32m    372\u001b[0m     \u001b[1;33m@\u001b[0m\u001b[0mproperty\u001b[0m\u001b[1;33m\u001b[0m\u001b[0m\n",
        "\u001b[1;31mAttributeError\u001b[0m: 'PCA' object has no attribute 'noise_variance_'"
       ]
      }
     ],
     "prompt_number": 95
    },
    {
     "cell_type": "code",
     "collapsed": false,
     "input": [],
     "language": "python",
     "metadata": {},
     "outputs": []
    },
    {
     "cell_type": "code",
     "collapsed": false,
     "input": [
      "a = appearance_model.to_subspace(grayscale_warped_images[0]).pixels\n",
      "b = appearance_model.within_subspace(grayscale_warped_images[0]).pixels\n",
      "\n",
      "d = b+appearance_model.mean.pixels\n",
      "\n",
      "Image(d).view()\n",
      "Image(np.sqrt(a**2+b**2)).view_new()\n",
      "\n",
      "Image(a).view_new()\n",
      "\n",
      "c = appearance_model.reconstruct(grayscale_warped_images[0], 50)\n",
      "Image(grayscale_warped_images[0].pixels -appearance_model.mean.pixels).view_new()\n",
      "\n",
      "print np.linalg.norm(a)\n",
      "print np.linalg.norm(b)\n",
      "print np.linalg.norm(c.pixels)"
     ],
     "language": "python",
     "metadata": {},
     "outputs": [
      {
       "output_type": "stream",
       "stream": "stdout",
       "text": [
        "68.0806752327\n",
        "3.34539226145\n",
        "94.1024237065"
       ]
      },
      {
       "output_type": "stream",
       "stream": "stdout",
       "text": [
        "\n"
       ]
      },
      {
       "metadata": {},
       "output_type": "display_data",
       "png": "[encoded data removed]",
       "text": [
        "<matplotlib.figure.Figure at 0xe72b5610>"
       ]
      },
      {
       "metadata": {},
       "output_type": "display_data",
       "png": "[encoded data removed]",
       "text": [
        "<matplotlib.figure.Figure at 0xe72b5090>"
       ]
      },
      {
       "metadata": {},
       "output_type": "display_data",
       "png": "[encoded data removed]",
       "text": [
        "<matplotlib.figure.Figure at 0x157ee7ed0>"
       ]
      },
      {
       "metadata": {},
       "output_type": "display_data",
       "png": "[encoded data removed]",
       "text": [
        "<matplotlib.figure.Figure at 0x157e6edd0>"
       ]
      }
     ],
     "prompt_number": 144
    },
    {
     "cell_type": "code",
     "collapsed": false,
     "input": [
      "a = appearance_model.to_subspace(Image(grayscale_warped_images[0].pixels-appearance_model.mean.pixels))\n"
     ],
     "language": "python",
     "metadata": {},
     "outputs": [
      {
       "ename": "ValueError",
       "evalue": "operands could not be broadcast together with shapes (30624) (22380) ",
       "output_type": "pyerr",
       "traceback": [
        "\u001b[1;31m---------------------------------------------------------------------------\u001b[0m\n\u001b[1;31mValueError\u001b[0m                                Traceback (most recent call last)",
        "\u001b[1;32m<ipython-input-120-8a1b26e4b154>\u001b[0m in \u001b[0;36m<module>\u001b[1;34m()\u001b[0m\n\u001b[1;32m----> 1\u001b[1;33m \u001b[0ma\u001b[0m \u001b[1;33m=\u001b[0m \u001b[0mappearance_model\u001b[0m\u001b[1;33m.\u001b[0m\u001b[0mto_subspace\u001b[0m\u001b[1;33m(\u001b[0m\u001b[0mImage\u001b[0m\u001b[1;33m(\u001b[0m\u001b[0mgrayscale_warped_images\u001b[0m\u001b[1;33m[\u001b[0m\u001b[1;36m0\u001b[0m\u001b[1;33m]\u001b[0m\u001b[1;33m.\u001b[0m\u001b[0mpixels\u001b[0m\u001b[1;33m-\u001b[0m\u001b[0mappearance_model\u001b[0m\u001b[1;33m.\u001b[0m\u001b[0mmean\u001b[0m\u001b[1;33m.\u001b[0m\u001b[0mpixels\u001b[0m\u001b[1;33m)\u001b[0m\u001b[1;33m)\u001b[0m\u001b[1;33m\u001b[0m\u001b[0m\n\u001b[0m",
        "\u001b[1;32m/vol/atlas/homes/ja310/.virtualenvs/pybug/src/pybug/pybug/model/linear.py\u001b[0m in \u001b[0;36mto_subspace\u001b[1;34m(self, instance)\u001b[0m\n\u001b[0;32m    199\u001b[0m             \u001b[1;32mand\u001b[0m \u001b[0mscaled\u001b[0m \u001b[0mby\u001b[0m \u001b[0mthe\u001b[0m \u001b[0minverse\u001b[0m \u001b[0mof\u001b[0m \u001b[0mthe\u001b[0m \u001b[1;33m`\u001b[0m\u001b[1;33m`\u001b[0m\u001b[0mnoise_variance\u001b[0m\u001b[1;33m`\u001b[0m\u001b[1;33m`\u001b[0m\u001b[1;33m.\u001b[0m\u001b[1;33m\u001b[0m\u001b[0m\n\u001b[0;32m    200\u001b[0m         \"\"\"\n\u001b[1;32m--> 201\u001b[1;33m         \u001b[0mvec_instance\u001b[0m \u001b[1;33m=\u001b[0m \u001b[0mself\u001b[0m\u001b[1;33m.\u001b[0m\u001b[0m_to_subspace\u001b[0m\u001b[1;33m(\u001b[0m\u001b[0minstance\u001b[0m\u001b[1;33m.\u001b[0m\u001b[0mas_vector\u001b[0m\u001b[1;33m(\u001b[0m\u001b[1;33m)\u001b[0m\u001b[1;33m)\u001b[0m\u001b[1;33m\u001b[0m\u001b[0m\n\u001b[0m\u001b[0;32m    202\u001b[0m         \u001b[1;32mreturn\u001b[0m \u001b[0minstance\u001b[0m\u001b[1;33m.\u001b[0m\u001b[0mfrom_vector\u001b[0m\u001b[1;33m(\u001b[0m\u001b[0mvec_instance\u001b[0m\u001b[1;33m)\u001b[0m\u001b[1;33m\u001b[0m\u001b[0m\n\u001b[0;32m    203\u001b[0m \u001b[1;33m\u001b[0m\u001b[0m\n",
        "\u001b[1;32m/vol/atlas/homes/ja310/.virtualenvs/pybug/src/pybug/pybug/model/linear.py\u001b[0m in \u001b[0;36m_to_subspace\u001b[1;34m(self, vec_instance)\u001b[0m\n\u001b[0;32m    419\u001b[0m \u001b[1;33m\u001b[0m\u001b[0m\n\u001b[0;32m    420\u001b[0m     \u001b[1;32mdef\u001b[0m \u001b[0m_to_subspace\u001b[0m\u001b[1;33m(\u001b[0m\u001b[0mself\u001b[0m\u001b[1;33m,\u001b[0m \u001b[0mvec_instance\u001b[0m\u001b[1;33m)\u001b[0m\u001b[1;33m:\u001b[0m\u001b[1;33m\u001b[0m\u001b[0m\n\u001b[1;32m--> 421\u001b[1;33m         \u001b[1;32mreturn\u001b[0m \u001b[0mself\u001b[0m\u001b[1;33m.\u001b[0m\u001b[0minv_noise_variance\u001b[0m \u001b[1;33m*\u001b[0m \u001b[0mself\u001b[0m\u001b[1;33m.\u001b[0m\u001b[0m_project_out\u001b[0m\u001b[1;33m(\u001b[0m\u001b[0mvec_instance\u001b[0m\u001b[1;33m)\u001b[0m\u001b[1;33m\u001b[0m\u001b[0m\n\u001b[0m\u001b[0;32m    422\u001b[0m \u001b[1;33m\u001b[0m\u001b[0m\n\u001b[0;32m    423\u001b[0m     \u001b[1;32mdef\u001b[0m \u001b[0m_within_subspace\u001b[0m\u001b[1;33m(\u001b[0m\u001b[0mself\u001b[0m\u001b[1;33m,\u001b[0m \u001b[0mvec_instance\u001b[0m\u001b[1;33m)\u001b[0m\u001b[1;33m:\u001b[0m\u001b[1;33m\u001b[0m\u001b[0m\n",
        "\u001b[1;32m/vol/atlas/homes/ja310/.virtualenvs/pybug/src/pybug/pybug/model/linear.py\u001b[0m in \u001b[0;36m_project_out\u001b[1;34m(self, vec_instance)\u001b[0m\n\u001b[0;32m    416\u001b[0m \u001b[1;33m\u001b[0m\u001b[0m\n\u001b[0;32m    417\u001b[0m     \u001b[1;32mdef\u001b[0m \u001b[0m_project_out\u001b[0m\u001b[1;33m(\u001b[0m\u001b[0mself\u001b[0m\u001b[1;33m,\u001b[0m \u001b[0mvec_instance\u001b[0m\u001b[1;33m)\u001b[0m\u001b[1;33m:\u001b[0m\u001b[1;33m\u001b[0m\u001b[0m\n\u001b[1;32m--> 418\u001b[1;33m         \u001b[1;32mreturn\u001b[0m \u001b[0mvec_instance\u001b[0m \u001b[1;33m-\u001b[0m \u001b[0mself\u001b[0m\u001b[1;33m.\u001b[0m\u001b[0m_reconstruct\u001b[0m\u001b[1;33m(\u001b[0m\u001b[0mvec_instance\u001b[0m\u001b[1;33m)\u001b[0m\u001b[1;33m\u001b[0m\u001b[0m\n\u001b[0m\u001b[0;32m    419\u001b[0m \u001b[1;33m\u001b[0m\u001b[0m\n\u001b[0;32m    420\u001b[0m     \u001b[1;32mdef\u001b[0m \u001b[0m_to_subspace\u001b[0m\u001b[1;33m(\u001b[0m\u001b[0mself\u001b[0m\u001b[1;33m,\u001b[0m \u001b[0mvec_instance\u001b[0m\u001b[1;33m)\u001b[0m\u001b[1;33m:\u001b[0m\u001b[1;33m\u001b[0m\u001b[0m\n",
        "\u001b[1;32m/vol/atlas/homes/ja310/.virtualenvs/pybug/src/pybug/pybug/model/linear.py\u001b[0m in \u001b[0;36m_reconstruct\u001b[1;34m(self, vec_instance, n_components)\u001b[0m\n\u001b[0;32m    140\u001b[0m             \u001b[0mThe\u001b[0m \u001b[0mreconstructed\u001b[0m \u001b[0mvector\u001b[0m\u001b[1;33m.\u001b[0m\u001b[1;33m\u001b[0m\u001b[0m\n\u001b[0;32m    141\u001b[0m         \"\"\"\n\u001b[1;32m--> 142\u001b[1;33m         \u001b[0mweights\u001b[0m \u001b[1;33m=\u001b[0m \u001b[0mself\u001b[0m\u001b[1;33m.\u001b[0m\u001b[0m_project\u001b[0m\u001b[1;33m(\u001b[0m\u001b[0mvec_instance\u001b[0m\u001b[1;33m)\u001b[0m\u001b[1;33m\u001b[0m\u001b[0m\n\u001b[0m\u001b[0;32m    143\u001b[0m         \u001b[1;32mif\u001b[0m \u001b[0mn_components\u001b[0m \u001b[1;32mis\u001b[0m \u001b[1;32mnot\u001b[0m \u001b[0mNone\u001b[0m\u001b[1;33m:\u001b[0m\u001b[1;33m\u001b[0m\u001b[0m\n\u001b[0;32m    144\u001b[0m             \u001b[0mweights\u001b[0m \u001b[1;33m=\u001b[0m \u001b[0mweights\u001b[0m\u001b[1;33m[\u001b[0m\u001b[1;33m.\u001b[0m\u001b[1;33m.\u001b[0m\u001b[1;33m.\u001b[0m\u001b[1;33m,\u001b[0m \u001b[1;33m:\u001b[0m\u001b[0mn_components\u001b[0m\u001b[1;33m]\u001b[0m\u001b[1;33m\u001b[0m\u001b[0m\n",
        "\u001b[1;32m/vol/atlas/homes/ja310/.virtualenvs/pybug/src/pybug/pybug/model/linear.py\u001b[0m in \u001b[0;36m_project\u001b[1;34m(self, vec_instance)\u001b[0m\n\u001b[0;32m    413\u001b[0m \u001b[1;33m\u001b[0m\u001b[0m\n\u001b[0;32m    414\u001b[0m     \u001b[1;32mdef\u001b[0m \u001b[0m_project\u001b[0m\u001b[1;33m(\u001b[0m\u001b[0mself\u001b[0m\u001b[1;33m,\u001b[0m \u001b[0mvec_instance\u001b[0m\u001b[1;33m)\u001b[0m\u001b[1;33m:\u001b[0m\u001b[1;33m\u001b[0m\u001b[0m\n\u001b[1;32m--> 415\u001b[1;33m         \u001b[1;32mreturn\u001b[0m \u001b[0mself\u001b[0m\u001b[1;33m.\u001b[0m\u001b[0m_pca\u001b[0m\u001b[1;33m.\u001b[0m\u001b[0mtransform\u001b[0m\u001b[1;33m(\u001b[0m\u001b[0mvec_instance\u001b[0m\u001b[1;33m)\u001b[0m\u001b[1;33m\u001b[0m\u001b[0m\n\u001b[0m\u001b[0;32m    416\u001b[0m \u001b[1;33m\u001b[0m\u001b[0m\n\u001b[0;32m    417\u001b[0m     \u001b[1;32mdef\u001b[0m \u001b[0m_project_out\u001b[0m\u001b[1;33m(\u001b[0m\u001b[0mself\u001b[0m\u001b[1;33m,\u001b[0m \u001b[0mvec_instance\u001b[0m\u001b[1;33m)\u001b[0m\u001b[1;33m:\u001b[0m\u001b[1;33m\u001b[0m\u001b[0m\n",
        "\u001b[1;32m/vol/atlas/homes/ja310/.virtualenvs/pybug/src/pybug/pybug/decomposition/PCA.py\u001b[0m in \u001b[0;36mtransform\u001b[1;34m(self, X)\u001b[0m\n\u001b[0;32m    146\u001b[0m         \"\"\"\n\u001b[0;32m    147\u001b[0m         \u001b[1;32mif\u001b[0m \u001b[0mself\u001b[0m\u001b[1;33m.\u001b[0m\u001b[0mcenter\u001b[0m\u001b[1;33m:\u001b[0m\u001b[1;33m\u001b[0m\u001b[0m\n\u001b[1;32m--> 148\u001b[1;33m             \u001b[0mX\u001b[0m \u001b[1;33m=\u001b[0m \u001b[0mX\u001b[0m \u001b[1;33m-\u001b[0m \u001b[0mself\u001b[0m\u001b[1;33m.\u001b[0m\u001b[0mmean_\u001b[0m\u001b[1;33m\u001b[0m\u001b[0m\n\u001b[0m\u001b[0;32m    149\u001b[0m         \u001b[1;31m# Z = np.dot(X, self.components_.T)\u001b[0m\u001b[1;33m\u001b[0m\u001b[1;33m\u001b[0m\u001b[0m\n\u001b[0;32m    150\u001b[0m         \u001b[0mZ\u001b[0m \u001b[1;33m=\u001b[0m \u001b[0mdgemm\u001b[0m\u001b[1;33m(\u001b[0m\u001b[0malpha\u001b[0m\u001b[1;33m=\u001b[0m\u001b[1;36m1.0\u001b[0m\u001b[1;33m,\u001b[0m \u001b[0ma\u001b[0m\u001b[1;33m=\u001b[0m\u001b[0mX\u001b[0m\u001b[1;33m.\u001b[0m\u001b[0mT\u001b[0m\u001b[1;33m,\u001b[0m \u001b[0mb\u001b[0m\u001b[1;33m=\u001b[0m\u001b[0mself\u001b[0m\u001b[1;33m.\u001b[0m\u001b[0mcomponents_\u001b[0m\u001b[1;33m.\u001b[0m\u001b[0mT\u001b[0m\u001b[1;33m,\u001b[0m \u001b[0mtrans_a\u001b[0m\u001b[1;33m=\u001b[0m\u001b[0mTrue\u001b[0m\u001b[1;33m)\u001b[0m\u001b[1;33m\u001b[0m\u001b[0m\n",
        "\u001b[1;31mValueError\u001b[0m: operands could not be broadcast together with shapes (30624) (22380) "
       ]
      }
     ],
     "prompt_number": 120
    },
    {
     "cell_type": "code",
     "collapsed": false,
     "input": [
      "n_instances = 10\n",
      "appearance_parameters = [np.random.randn(appearance_model.n_components) for i in range(n_instances)]"
     ],
     "language": "python",
     "metadata": {},
     "outputs": []
    },
    {
     "cell_type": "code",
     "collapsed": false,
     "input": [
      "x_axis = range(appearance_model.n_components)\n",
      "cumulative_variance = [np.sum(appearance_model.explained_variance_ratio[:i]) for i in x_axis]\n",
      "\n",
      "appearance_instances = [appearance_model.instance(appearance_parameters[i] * \n",
      "                        np.sqrt(appearance_model.explained_variance)) for i in range(n_instances)]\n",
      "\n",
      "subplot(1,2,1)\n",
      "plot(x_axis, cumulative_variance)\n",
      "subplot(1,2,2)\n",
      "appearance_instances[0].view()"
     ],
     "language": "python",
     "metadata": {},
     "outputs": []
    },
    {
     "cell_type": "markdown",
     "metadata": {},
     "source": [
      "### 5. Build the Shape Model\n",
      "Similarly, the shape model of the AAM is tipically build by applying PCA to the aligned shapes obtained from GPA. At this point, it is interesting to see the differences between the sets of original, centralized and aligned shapes."
     ]
    },
    {
     "cell_type": "code",
     "collapsed": false,
     "input": [
      "#for s in shapes:\n",
      "#    s.view()\n",
      "#for p in centralized_points:\n",
      "#    PointCloud(p).view()\n",
      "#for s in aligned_shapes:\n",
      "#    s.view()"
     ],
     "language": "python",
     "metadata": {},
     "outputs": []
    },
    {
     "cell_type": "code",
     "collapsed": false,
     "input": [
      "from pybug.model.linear import PCAModel\n",
      "\n",
      "shape_model = PCAModel(aligned_shapes, n_components=10)"
     ],
     "language": "python",
     "metadata": {},
     "outputs": []
    },
    {
     "cell_type": "code",
     "collapsed": false,
     "input": [
      "n_instances = 10\n",
      "shape_parameters = [np.random.randn(shape_model.n_components) for i in range(n_instances)]\n",
      "\n",
      "x_axis = range(shape_model.n_components)\n",
      "cumulative_variance = [np.sum(shape_model.explained_variance_ratio[:i]) for i in x_axis]\n",
      "\n",
      "shape_instances = [shape_model.instance(shape_parameters[i] * np.sqrt(shape_model.explained_variance)) \n",
      "    for i in range(n_instances)]\n",
      "\n",
      "subplot(1,2,1)\n",
      "plot(x_axis, cumulative_variance)\n",
      "subplot(1,2,2)\n",
      "shape_instances[0].view()"
     ],
     "language": "python",
     "metadata": {},
     "outputs": []
    },
    {
     "cell_type": "markdown",
     "metadata": {},
     "source": [
      "### 6. Generate an AAM instance"
     ]
    },
    {
     "cell_type": "code",
     "collapsed": false,
     "input": [
      "i = np.random.randint(n_instances)\n",
      "\n",
      "shape_instance = shape_instances[i]\n",
      "\n",
      "# build a template for the chosen shape instance\n",
      "instance_template, instance_landmarks = build_template(shape_instance.points)"
     ],
     "language": "python",
     "metadata": {},
     "outputs": []
    },
    {
     "cell_type": "code",
     "collapsed": false,
     "input": [
      "instance = PiecewiseAffineTransform(instance_landmarks.points, template_landmarks.points, trilist)\n",
      "model_instance = scipy_warp(appearance_instances[i], instance_template, instance_tps.transform)"
     ],
     "language": "python",
     "metadata": {},
     "outputs": []
    },
    {
     "cell_type": "code",
     "collapsed": false,
     "input": [
      "model_instance.view()"
     ],
     "language": "python",
     "metadata": {},
     "outputs": []
    },
    {
     "cell_type": "markdown",
     "metadata": {},
     "source": [
      "### 7. Save the AAM"
     ]
    },
    {
     "cell_type": "code",
     "collapsed": false,
     "input": [
      "import pickle\n",
      "\n",
      "pickle.dump({'shape_model': shape_model, \n",
      "             'appearance_model': appearance_model,\n",
      "             'template': template,\n",
      "             'template_landmarks': template_landmarks}, open( \"/vol/atlas/aams/lfpw_pwa\", \"wb\" ))"
     ],
     "language": "python",
     "metadata": {},
     "outputs": []
    },
    {
     "cell_type": "code",
     "collapsed": false,
     "input": [],
     "language": "python",
     "metadata": {},
     "outputs": []
    }
   ],
   "metadata": {}
  }
 ]
}