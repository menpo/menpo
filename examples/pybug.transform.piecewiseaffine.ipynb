{
 "metadata": {
  "name": ""
 },
 "nbformat": 3,
 "nbformat_minor": 0,
 "worksheets": [
  {
   "cells": [
    {
     "cell_type": "code",
     "collapsed": false,
     "input": [
      "import numpy as np\n",
      "from pybug.transform.piecewiseaffine import PiecewiseAffineTransform"
     ],
     "language": "python",
     "metadata": {},
     "outputs": []
    },
    {
     "cell_type": "markdown",
     "metadata": {},
     "source": [
      "We build a `PiecewiseAffineTransform` by supplying two sets of points and a shared triangle list"
     ]
    },
    {
     "cell_type": "code",
     "collapsed": false,
     "input": [
      "a = np.array([[0,0], [1, 0], [0, 1], [1, 1]])\n",
      "b = np.array([[0,0], [2, 0], [-1, 3], [2, 6]])\n",
      "tl = np.array([[0,2,1], [1,3,2]])\n",
      "\n",
      "pwa = PiecewiseAffineTransform(a,b,tl)\n",
      "# lets check the transform between the 0'th triangles...\n",
      "print pwa.transforms[0]"
     ],
     "language": "python",
     "metadata": {},
     "outputs": []
    },
    {
     "cell_type": "markdown",
     "metadata": {},
     "source": [
      "Lets make a random 5000 point `PointCloud` in the unit square and view it "
     ]
    },
    {
     "cell_type": "code",
     "collapsed": false,
     "input": [
      "from pybug.shape import PointCloud\n",
      "points = PointCloud(np.random.rand(10000).reshape([-1,2]))\n",
      "points.view();"
     ],
     "language": "python",
     "metadata": {},
     "outputs": []
    },
    {
     "cell_type": "markdown",
     "metadata": {},
     "source": [
      "Now lets see the effect having warped"
     ]
    },
    {
     "cell_type": "code",
     "collapsed": false,
     "input": [
      "pwa.apply(points)\n",
      "points.view();"
     ],
     "language": "python",
     "metadata": {},
     "outputs": []
    }
   ],
   "metadata": {}
  }
 ]
}