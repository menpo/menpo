{
 "metadata": {
  "name": ""
 },
 "nbformat": 3,
 "nbformat_minor": 0,
 "worksheets": [
  {
   "cells": [
    {
     "cell_type": "code",
     "collapsed": false,
     "input": [
      "import numpy as np\n",
      "from pybug.transform.piecewiseaffine import DiscreteAffinePWATransform, \\\n",
      "CachedPWATransform, TriangleContainmentError, PiecewiseAffineTransform"
     ],
     "language": "python",
     "metadata": {},
     "outputs": []
    },
    {
     "cell_type": "markdown",
     "metadata": {},
     "source": [
      "We build a `PiecewiseAffineTransform` by supplying two sets of points and a shared triangle list"
     ]
    },
    {
     "cell_type": "code",
     "collapsed": false,
     "input": [
      "a = np.array([[0, 0], [1, 0], [0, 1], [1, 1],\n",
      "              [-0.5, -0.7], [0.8, -0.4], [0.9, -2.1]])\n",
      "b = np.array([[0,0], [2, 0], [-1, 3], [2, 6],\n",
      "              [-1.0, -0.01], [1.0, -0.4], [0.8, -1.6]])\n",
      "tl = np.array([[0,2,1], [1,3,2]])\n",
      "\n",
      "slow_pwa = DiscreteAffinePWATransform(a, b,tl)\n",
      "fast_pwa = CachedPWATransform(a, b, tl)\n",
      "# pwa is just a CachedPWATransform alias\n",
      "# no trilist results in Delaunay being used.\n",
      "pwa = PiecewiseAffineTransform(a, b)"
     ],
     "language": "python",
     "metadata": {},
     "outputs": []
    },
    {
     "cell_type": "markdown",
     "metadata": {},
     "source": [
      "Note that if the trilist is omitted, a Delaunay triangulation of the source points is used instead."
     ]
    },
    {
     "cell_type": "markdown",
     "metadata": {},
     "source": [
      "Lets make a random 5000 point `PointCloud` in the unit square and view it "
     ]
    },
    {
     "cell_type": "code",
     "collapsed": false,
     "input": [
      "from pybug.shape import PointCloud\n",
      "points_s = PointCloud(np.random.rand(10000).reshape([-1,2]))\n",
      "points_f = PointCloud(np.random.rand(10000).reshape([-1,2]))"
     ],
     "language": "python",
     "metadata": {},
     "outputs": []
    },
    {
     "cell_type": "markdown",
     "metadata": {},
     "source": [
      "Now lets see the effect having warped"
     ]
    },
    {
     "cell_type": "code",
     "collapsed": false,
     "input": [
      "slow_pwa.apply(points_s);\n",
      "fast_pwa.apply(points_f);"
     ],
     "language": "python",
     "metadata": {},
     "outputs": []
    },
    {
     "cell_type": "code",
     "collapsed": false,
     "input": [
      "test = np.array([[0.1,0.1], [0.7, 0.9], \n",
      "                 [0.2,0.3], [0.5, 0.6]])"
     ],
     "language": "python",
     "metadata": {},
     "outputs": []
    },
    {
     "cell_type": "code",
     "collapsed": false,
     "input": [
      "slow_pwa.index_alpha_beta(test)\n",
      "fast_pwa.index_alpha_beta(test)"
     ],
     "language": "python",
     "metadata": {},
     "outputs": []
    },
    {
     "cell_type": "code",
     "collapsed": false,
     "input": [
      "slow_pwa.apply(test)\n",
      "fast_pwa.apply(test)"
     ],
     "language": "python",
     "metadata": {},
     "outputs": []
    }
   ],
   "metadata": {}
  }
 ]
}