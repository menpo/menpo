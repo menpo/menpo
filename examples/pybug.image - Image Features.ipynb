{
 "metadata": {
  "name": ""
 },
 "nbformat": 3,
 "nbformat_minor": 0,
 "worksheets": [
  {
   "cells": [
    {
     "cell_type": "markdown",
     "metadata": {},
     "source": [
      "Import all needed packages:"
     ]
    },
    {
     "cell_type": "code",
     "collapsed": false,
     "input": [
      "from pybug import data_path_to\n",
      "from pybug.io import auto_import"
     ],
     "language": "python",
     "metadata": {},
     "outputs": []
    },
    {
     "cell_type": "markdown",
     "metadata": {},
     "source": [
      "Load and plot an image:"
     ]
    },
    {
     "cell_type": "code",
     "collapsed": false,
     "input": [
      "breaking_bad = auto_import(data_path_to('breakingbad.jpg'))[0]\n",
      "breaking_bad.crop_to_landmarks(boundary=20)\n",
      "breaking_bad.constrain_mask_to_landmarks()\n",
      "breaking_bad.view(masked=False)"
     ],
     "language": "python",
     "metadata": {},
     "outputs": []
    },
    {
     "cell_type": "markdown",
     "metadata": {},
     "source": [
      "Also visualize the landmarks:"
     ]
    },
    {
     "cell_type": "code",
     "collapsed": false,
     "input": [
      "breaking_bad.landmarks.view()"
     ],
     "language": "python",
     "metadata": {},
     "outputs": []
    },
    {
     "cell_type": "markdown",
     "metadata": {},
     "source": [
      "Otherwise, visualize each channel separately:"
     ]
    },
    {
     "cell_type": "code",
     "collapsed": false,
     "input": [
      "breaking_bad.view(channels='all')"
     ],
     "language": "python",
     "metadata": {},
     "outputs": []
    },
    {
     "cell_type": "heading",
     "level": 1,
     "metadata": {},
     "source": [
      "1 HOG Features"
     ]
    },
    {
     "cell_type": "markdown",
     "metadata": {},
     "source": [
      "The HOG (Histogram of Oriented Gradients) descriptors method clusters gradient orientations in different bins for localized sub-windows of the input image, resulting in counting occurences of the orientations."
     ]
    },
    {
     "cell_type": "heading",
     "level": 3,
     "metadata": {},
     "source": [
      "1.1 Dense HOGs"
     ]
    },
    {
     "cell_type": "markdown",
     "metadata": {},
     "source": [
      "This is an example of dense HOG (step of 3 pixels horizontally and vertically). It also includes all possible parameters."
     ]
    },
    {
     "cell_type": "code",
     "collapsed": false,
     "input": [
      "%%time\n",
      "hog = breaking_bad.features.hog(mode='dense',\n",
      "                                algorithm='dalaltriggs',\n",
      "                                cell_size=8,\n",
      "                                block_size=2,\n",
      "                                num_bins=9,\n",
      "                                signed_gradient=True,\n",
      "                                l2_norm_clip=0.2,\n",
      "                                window_height=1, window_width=1, window_unit='blocks',\n",
      "                                window_step_vertical=3, window_step_horizontal=3, window_step_unit='pixels',\n",
      "                                padding=True,\n",
      "                                verbose=True)"
     ],
     "language": "python",
     "metadata": {},
     "outputs": []
    },
    {
     "cell_type": "markdown",
     "metadata": {},
     "source": [
      "Visualize with and without mandmarks and either in glyph or image mode:"
     ]
    },
    {
     "cell_type": "code",
     "collapsed": false,
     "input": [
      "hog.view(masked=False)"
     ],
     "language": "python",
     "metadata": {},
     "outputs": []
    },
    {
     "cell_type": "code",
     "collapsed": false,
     "input": [
      "hog.landmarks.view(masked=False, glyph=False)"
     ],
     "language": "python",
     "metadata": {},
     "outputs": []
    },
    {
     "cell_type": "markdown",
     "metadata": {},
     "source": [
      "or a visualization that I really like:"
     ]
    },
    {
     "cell_type": "code",
     "collapsed": false,
     "input": [
      "hog.landmarks.view(vectors_block_size=1, channels='all')"
     ],
     "language": "python",
     "metadata": {},
     "outputs": []
    },
    {
     "cell_type": "heading",
     "level": 3,
     "metadata": {},
     "source": [
      "1.2 Sparse HOGs"
     ]
    },
    {
     "cell_type": "markdown",
     "metadata": {},
     "source": [
      "Setting mode to sparse returns the traditional sparsely-sampled HOGs:"
     ]
    },
    {
     "cell_type": "code",
     "collapsed": false,
     "input": [
      "%%time\n",
      "hog = breaking_bad.features.hog(mode='sparse',\n",
      "                                algorithm='zhuramanan',\n",
      "                                verbose=True)\n",
      "hog.view(vectors_block_size=4)"
     ],
     "language": "python",
     "metadata": {},
     "outputs": []
    },
    {
     "cell_type": "markdown",
     "metadata": {},
     "source": [
      "and with landmarks:"
     ]
    },
    {
     "cell_type": "code",
     "collapsed": false,
     "input": [
      "hog.landmarks.view(masked=False, glyph=False)"
     ],
     "language": "python",
     "metadata": {},
     "outputs": []
    },
    {
     "cell_type": "heading",
     "level": 3,
     "metadata": {},
     "source": [
      "1.3 Default Options"
     ]
    },
    {
     "cell_type": "markdown",
     "metadata": {},
     "source": [
      "The default HOG options:"
     ]
    },
    {
     "cell_type": "code",
     "collapsed": false,
     "input": [
      "%%time\n",
      "hog = breaking_bad.features.hog()"
     ],
     "language": "python",
     "metadata": {},
     "outputs": []
    },
    {
     "cell_type": "markdown",
     "metadata": {},
     "source": [
      "are the most dense and of course slowest..."
     ]
    },
    {
     "cell_type": "code",
     "collapsed": false,
     "input": [
      "print hog"
     ],
     "language": "python",
     "metadata": {},
     "outputs": []
    },
    {
     "cell_type": "markdown",
     "metadata": {},
     "source": [
      "They return a HOG image with the same width and height as the input image."
     ]
    },
    {
     "cell_type": "code",
     "collapsed": false,
     "input": [
      "hog.view(glyph=False, channels=range(9))"
     ],
     "language": "python",
     "metadata": {},
     "outputs": []
    },
    {
     "cell_type": "code",
     "collapsed": false,
     "input": [
      "hog.landmarks.view(vectors_block_size=1, masked=False, channels='all')"
     ],
     "language": "python",
     "metadata": {},
     "outputs": []
    },
    {
     "cell_type": "heading",
     "level": 3,
     "metadata": {},
     "source": [
      "1.4 Windows Centres"
     ]
    },
    {
     "cell_type": "markdown",
     "metadata": {},
     "source": [
      "The HOGs always return a matrix with the coordinates of the windows centers on which they were computed:"
     ]
    },
    {
     "cell_type": "code",
     "collapsed": false,
     "input": [
      "hog = breaking_bad.features.hog(mode='sparse')\n",
      "print hog.pixels.shape\n",
      "print hog.window_centres.shape"
     ],
     "language": "python",
     "metadata": {},
     "outputs": []
    },
    {
     "cell_type": "heading",
     "level": 1,
     "metadata": {},
     "source": [
      "2 IGO Features"
     ]
    },
    {
     "cell_type": "heading",
     "level": 3,
     "metadata": {},
     "source": [
      "2.1 Single angles"
     ]
    },
    {
     "cell_type": "markdown",
     "metadata": {},
     "source": [
      "Example of such computation. This is the default:"
     ]
    },
    {
     "cell_type": "code",
     "collapsed": false,
     "input": [
      "%%time\n",
      "igo_single = breaking_bad.features.igo()"
     ],
     "language": "python",
     "metadata": {},
     "outputs": []
    },
    {
     "cell_type": "code",
     "collapsed": false,
     "input": [
      "print igo_single"
     ],
     "language": "python",
     "metadata": {},
     "outputs": []
    },
    {
     "cell_type": "code",
     "collapsed": false,
     "input": [
      "igo_single.view(channels='all')"
     ],
     "language": "python",
     "metadata": {},
     "outputs": []
    },
    {
     "cell_type": "markdown",
     "metadata": {},
     "source": [
      "or"
     ]
    },
    {
     "cell_type": "code",
     "collapsed": false,
     "input": [
      "igo_single.view(glyph=False,channels='all')"
     ],
     "language": "python",
     "metadata": {},
     "outputs": []
    },
    {
     "cell_type": "heading",
     "level": 3,
     "metadata": {},
     "source": [
      "2.2 Double angles"
     ]
    },
    {
     "cell_type": "code",
     "collapsed": false,
     "input": [
      "%%time\n",
      "igo = breaking_bad.features.igo(double_angles=True, verbose=True)"
     ],
     "language": "python",
     "metadata": {},
     "outputs": []
    },
    {
     "cell_type": "code",
     "collapsed": false,
     "input": [
      "igo.view(glyph=False,channels='all')"
     ],
     "language": "python",
     "metadata": {},
     "outputs": []
    },
    {
     "cell_type": "code",
     "collapsed": false,
     "input": [
      "igo.view(glyph=True,channels='all',vectors_block_size=1,masked=False)"
     ],
     "language": "python",
     "metadata": {},
     "outputs": []
    }
   ],
   "metadata": {}
  }
 ]
}