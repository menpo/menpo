{
 "metadata": {
  "name": "pybug.align.nonrigid.tps_derivative"
 },
 "nbformat": 3,
 "nbformat_minor": 0,
 "worksheets": [
  {
   "cells": [
    {
     "cell_type": "markdown",
     "metadata": {},
     "source": [
      "Derivative of a TPS warp wrt to its source landmarks"
     ]
    },
    {
     "cell_type": "code",
     "collapsed": false,
     "input": [
      "import numpy as np\n",
      "from pybug.align import TPS"
     ],
     "language": "python",
     "metadata": {},
     "outputs": []
    },
    {
     "cell_type": "markdown",
     "metadata": {},
     "source": [
      "We start by defining the source and target landmarks. Notice that, in this first example source = target!!!"
     ]
    },
    {
     "cell_type": "code",
     "collapsed": false,
     "input": [
      "src_landmarks = np.array([[-1, -1],\n",
      "                          [-1,  1],\n",
      "                          [ 1, -1],\n",
      "                          [ 1,  1]])\n",
      "\n",
      "tgt_landmarks = np.array([[-1, -1],\n",
      "                          [-1,  1],\n",
      "                          [ 1, -1],\n",
      "                          [ 1,  1]])"
     ],
     "language": "python",
     "metadata": {},
     "outputs": []
    },
    {
     "cell_type": "markdown",
     "metadata": {},
     "source": [
      "The warp can be effectively computed, although the rendering will not appear to be correct..."
     ]
    },
    {
     "cell_type": "code",
     "collapsed": false,
     "input": [
      "tps = TPS(src_landmarks, tgt_landmarks)\n",
      "np.allclose(tps.transform.apply(src_landmarks), tgt_landmarks)\n",
      "#figure(1)\n",
      "#tps.view()"
     ],
     "language": "python",
     "metadata": {},
     "outputs": []
    },
    {
     "cell_type": "markdown",
     "metadata": {},
     "source": [
      "The next step is to define the set of points at which the derivative of the previous TPS warp must be evaluated. In this case, we use the function meshgrid to generate points inside the convex hull defined by the source landmarks."
     ]
    },
    {
     "cell_type": "code",
     "collapsed": false,
     "input": [
      "x = np.arange(-1, 1, 0.01)\n",
      "y = np.arange(-1, 1, 0.01)\n",
      "xx, yy = np.meshgrid(x, y)\n",
      "points = np.array([xx.flatten(1), yy.flatten(1)]).T"
     ],
     "language": "python",
     "metadata": {},
     "outputs": []
    },
    {
     "cell_type": "markdown",
     "metadata": {},
     "source": [
      "We evaluate the derivative, reshape the output, and visualize the result."
     ]
    },
    {
     "cell_type": "code",
     "collapsed": false,
     "input": [
      "dW_dxy = tps.transform.jacobian_source(points)\n",
      "reshaped = dW_dxy.reshape(xx.shape + (4,2))\n",
      "\n",
      "figure(2)\n",
      "#dW_dx\n",
      "subplot(240)\n",
      "imshow(reshaped[:,:,0,0])\n",
      "subplot(241)\n",
      "imshow(reshaped[:,:,1,0])\n",
      "subplot(242)\n",
      "imshow(reshaped[:,:,2,0])\n",
      "subplot(243)\n",
      "imshow(reshaped[:,:,3,0])\n",
      "#dW_dy\n",
      "subplot(244)\n",
      "imshow(reshaped[:,:,0,1])\n",
      "subplot(245)\n",
      "imshow(reshaped[:,:,1,1])\n",
      "subplot(246)\n",
      "imshow(reshaped[:,:,2,1])\n",
      "subplot(247)\n",
      "imshow(reshaped[:,:,3,1])"
     ],
     "language": "python",
     "metadata": {},
     "outputs": []
    },
    {
     "cell_type": "markdown",
     "metadata": {},
     "source": [
      "If everything goes as expected, the upper corner of the images defining the derivative of the warp wrt the x and y coordinates of the first of the source landmarks should both contain values close to 1. "
     ]
    },
    {
     "cell_type": "code",
     "collapsed": false,
     "input": [
      "print reshaped[1:5,1:5,0,0]\n",
      "print reshaped[1:5,1:5,0,1]"
     ],
     "language": "python",
     "metadata": {},
     "outputs": []
    },
    {
     "cell_type": "markdown",
     "metadata": {},
     "source": [
      "The sum of all the derivatives wrt the x coordinates should produce an all 1 image"
     ]
    },
    {
     "cell_type": "code",
     "collapsed": false,
     "input": [
      "summed_x = np.sum(reshaped[:,:,:,0], axis=-1)\n",
      "np.allclose(np.ones(xx.shape), summed_x)"
     ],
     "language": "python",
     "metadata": {},
     "outputs": []
    },
    {
     "cell_type": "code",
     "collapsed": false,
     "input": [
      "figure(3)\n",
      "imshow(summed_x)"
     ],
     "language": "python",
     "metadata": {},
     "outputs": []
    },
    {
     "cell_type": "markdown",
     "metadata": {},
     "source": [
      "and so should the sum of all derivatives wrt the y coordinates."
     ]
    },
    {
     "cell_type": "code",
     "collapsed": false,
     "input": [
      "summed_y = np.sum(reshaped[:,:,:,1], axis=-1)\n",
      "np.allclose(np.ones(xx.shape), summed_y)"
     ],
     "language": "python",
     "metadata": {},
     "outputs": []
    },
    {
     "cell_type": "code",
     "collapsed": false,
     "input": [
      "figure(4)\n",
      "imshow(summed_y)"
     ],
     "language": "python",
     "metadata": {},
     "outputs": []
    },
    {
     "cell_type": "markdown",
     "metadata": {},
     "source": [
      "Finally, the derivatives with respect to the x and y coordinates should be in this case exactly the same!!!"
     ]
    },
    {
     "cell_type": "code",
     "collapsed": false,
     "input": [
      "np.allclose(reshaped[:,:,:,0], reshaped[:,:,:,1])"
     ],
     "language": "python",
     "metadata": {},
     "outputs": []
    },
    {
     "cell_type": "markdown",
     "metadata": {},
     "source": [
      "We now show that when source != target things are a bit different."
     ]
    },
    {
     "cell_type": "code",
     "collapsed": false,
     "input": [
      "tgt_landmarks = np.array([[-0.6, -1.3],\n",
      "                          [-0.8,  1.2],\n",
      "                          [ 0.7, -0.8],\n",
      "                          [ 1.3,  0.5]])"
     ],
     "language": "python",
     "metadata": {},
     "outputs": []
    },
    {
     "cell_type": "markdown",
     "metadata": {},
     "source": [
      "The warp can be computed and visualized."
     ]
    },
    {
     "cell_type": "code",
     "collapsed": false,
     "input": [
      "tps = TPS(src_landmarks, tgt_landmarks)\n",
      "np.allclose(tps.transform.apply(src_landmarks), tgt_landmarks)\n",
      "figure(5)\n",
      "tps.view()"
     ],
     "language": "python",
     "metadata": {},
     "outputs": []
    },
    {
     "cell_type": "markdown",
     "metadata": {},
     "source": [
      "and so can its derivative, which we evaluate using the the same set of points used in the first example."
     ]
    },
    {
     "cell_type": "code",
     "collapsed": false,
     "input": [
      "dW_dxy = tps.transform.jacobian_source(points)\n",
      "reshaped = dW_dxy.reshape(xx.shape + (4,2))\n",
      "\n",
      "figure(6)\n",
      "#dW_dx\n",
      "subplot(240)\n",
      "imshow(reshaped[:,:,0,0])\n",
      "subplot(241)\n",
      "imshow(reshaped[:,:,1,0])\n",
      "subplot(242)\n",
      "imshow(reshaped[:,:,2,0])\n",
      "subplot(243)\n",
      "imshow(reshaped[:,:,3,0])\n",
      "#dW_dy\n",
      "subplot(244)\n",
      "imshow(reshaped[:,:,0,1])\n",
      "subplot(245)\n",
      "imshow(reshaped[:,:,1,1])\n",
      "subplot(246)\n",
      "imshow(reshaped[:,:,2,1])\n",
      "subplot(247)\n",
      "imshow(reshaped[:,:,3,1])"
     ],
     "language": "python",
     "metadata": {},
     "outputs": []
    },
    {
     "cell_type": "markdown",
     "metadata": {},
     "source": [
      "We can be easily see that, in this case, the derivatives wrt the x and y coordinates are not equal!!!"
     ]
    }
   ],
   "metadata": {}
  }
 ]
}