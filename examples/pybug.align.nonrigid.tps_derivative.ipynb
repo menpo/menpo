{
 "metadata": {
  "name": "pybug.align.nonrigid.tps_derivative"
 },
 "nbformat": 3,
 "nbformat_minor": 0,
 "worksheets": [
  {
   "cells": [
    {
     "cell_type": "code",
     "collapsed": false,
     "input": [
      "import numpy as np\n",
      "from pybug.align import TPS"
     ],
     "language": "python",
     "metadata": {},
     "outputs": [],
     "prompt_number": 1
    },
    {
     "cell_type": "code",
     "collapsed": false,
     "input": [
      "# deformed diamond\n",
      "src_landmarks = np.array([[-1, -1],\n",
      "                          [-1, 1],\n",
      "                          [ 1, -1],\n",
      "                          [ 1, 1]])\n",
      "\n",
      "tgt_landmarks = np.array([[-1, -1],\n",
      "                          [-1, 1],\n",
      "                          [ 1, -1],\n",
      "                          [ 1, 1]])"
     ],
     "language": "python",
     "metadata": {},
     "outputs": [],
     "prompt_number": 2
    },
    {
     "cell_type": "code",
     "collapsed": false,
     "input": [
      "tps = TPS(src_landmarks, tgt_landmarks)"
     ],
     "language": "python",
     "metadata": {},
     "outputs": [],
     "prompt_number": 3
    },
    {
     "cell_type": "code",
     "collapsed": false,
     "input": [
      "np.allclose(tps.transform.apply(src_landmarks), tgt_landmarks)"
     ],
     "language": "python",
     "metadata": {},
     "outputs": [
      {
       "output_type": "pyout",
       "prompt_number": 4,
       "text": [
        "True"
       ]
      }
     ],
     "prompt_number": 4
    },
    {
     "cell_type": "code",
     "collapsed": false,
     "input": [
      "tps.view()"
     ],
     "language": "python",
     "metadata": {},
     "outputs": [],
     "prompt_number": 5
    },
    {
     "cell_type": "code",
     "collapsed": false,
     "input": [
      "x = np.arange(-2, 2, 0.1)\n",
      "y = np.arange(-2, 2, 0.1)\n",
      "xx, yy = np.meshgrid(x, y)\n",
      "points = np.array([xx.flatten(1), yy.flatten(1)]).T"
     ],
     "language": "python",
     "metadata": {},
     "outputs": [],
     "prompt_number": 9
    },
    {
     "cell_type": "code",
     "collapsed": false,
     "input": [
      "xx.shape"
     ],
     "language": "python",
     "metadata": {},
     "outputs": [
      {
       "output_type": "pyout",
       "prompt_number": 10,
       "text": [
        "(40, 40)"
       ]
      }
     ],
     "prompt_number": 10
    },
    {
     "cell_type": "code",
     "collapsed": false,
     "input": [
      "dWdx = tps.transform.jacobian_source(points)"
     ],
     "language": "python",
     "metadata": {},
     "outputs": [],
     "prompt_number": 11
    },
    {
     "cell_type": "code",
     "collapsed": false,
     "input": [
      "figure(1)\n",
      "subplot(140)\n",
      "imshow(dWdx[:,0].reshape((40,40)))\n",
      "subplot(141)\n",
      "imshow(dWdx[:,1].reshape((40,40)))\n",
      "subplot(142)\n",
      "imshow(dWdx[:,2].reshape((40,40)))\n",
      "subplot(143)\n",
      "imshow(dWdx[:,3].reshape((40,40)))"
     ],
     "language": "python",
     "metadata": {},
     "outputs": [
      {
       "output_type": "pyout",
       "prompt_number": 19,
       "text": [
        "<matplotlib.image.AxesImage at 0x65229d0>"
       ]
      }
     ],
     "prompt_number": 19
    },
    {
     "cell_type": "code",
     "collapsed": false,
     "input": [],
     "language": "python",
     "metadata": {},
     "outputs": []
    }
   ],
   "metadata": {}
  }
 ]
}