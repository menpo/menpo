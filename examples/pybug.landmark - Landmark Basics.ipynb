{
 "metadata": {
  "name": ""
 },
 "nbformat": 3,
 "nbformat_minor": 0,
 "worksheets": [
  {
   "cells": [
    {
     "cell_type": "markdown",
     "metadata": {},
     "source": [
      "Landmarks\n",
      "--------\n",
      "\n",
      "---"
     ]
    },
    {
     "cell_type": "markdown",
     "metadata": {},
     "source": [
      "In order to demonstrate the functionality of the landmark package we will start by loading a couple of landmarked images using the autoimporter."
     ]
    },
    {
     "cell_type": "code",
     "collapsed": false,
     "input": [
      "from pybug.io import auto_import\n",
      "\n",
      "images = auto_import('/vol/atlas/databases/lfpw/trainset/*.png', max_images=2)\n",
      "img = images[0]\n"
     ],
     "language": "python",
     "metadata": {},
     "outputs": []
    },
    {
     "cell_type": "markdown",
     "metadata": {},
     "source": [
      "In this case, images have been automatically loaded with some landmark information attached. We can confirm that by accessing the property *.landmarks* on the images."
     ]
    },
    {
     "cell_type": "code",
     "collapsed": false,
     "input": [
      "print 'Is img landmarked?'\n",
      "print ' - {}'.format(img.landmarks.has_landmarks) \n",
      "\n",
      "print 'How many landmark groups does it have?'\n",
      "print ' - {}'.format(img.landmarks.n_groups) \n",
      "    \n",
      "print 'What labels do these groups have?'\n",
      "for g in img.landmarks.group_labels:\n",
      "    print ' - {}'.format(g)\n"
     ],
     "language": "python",
     "metadata": {},
     "outputs": []
    },
    {
     "cell_type": "markdown",
     "metadata": {},
     "source": [
      "The semantic meaning of landmarks is given by the different the property labels of each landmark group: \n",
      "\n",
      " - Landmarks with no particular semantic meaning are given the label \"all\" by default. "
     ]
    },
    {
     "cell_type": "code",
     "collapsed": false,
     "input": [
      "print 'PTS semantic labels is?'\n",
      "for l in img.landmarks['PTS'].labels:\n",
      "    print ' - {}'.format(l)"
     ],
     "language": "python",
     "metadata": {},
     "outputs": []
    },
    {
     "cell_type": "markdown",
     "metadata": {},
     "source": [
      "As a shortcut, we can use `None` as a key value if it is unambiguous."
     ]
    },
    {
     "cell_type": "code",
     "collapsed": false,
     "input": [
      "l_None = img.landmarks[None]\n",
      "l_PTS = img.landmarks['PTS']\n",
      "print 'Does None perform the same as the explicit key if there is no ambiguity? : {}'.format(l_None is l_PTS)"
     ],
     "language": "python",
     "metadata": {},
     "outputs": []
    },
    {
     "cell_type": "markdown",
     "metadata": {},
     "source": [
      "- New semantic meaning can be added to a group of existing landmarks by labelling them with a predefined labelling function. This will effectively create a new landmark group with the appropiate semantic labels."
     ]
    },
    {
     "cell_type": "code",
     "collapsed": false,
     "input": [
      "from pybug.landmark.labels import labeller, ibug_68_points\n",
      "\n",
      "# Label some landmarks\n",
      "images = labeller(images, 'PTS', ibug_68_points)\n",
      "\n",
      "print 'How many landmark groups does it have?'\n",
      "print ' - {}'.format(img.landmarks.n_groups) \n",
      "    \n",
      "print 'What labels do these groups have?'\n",
      "for g in img.landmarks.group_labels:\n",
      "    print ' - {}'.format(g)\n",
      "\n",
      "print 'ibug_68_points semantic labels are?'\n",
      "for l in img.landmarks['ibug_68_points'].labels:\n",
      "    print ' - {}'.format(l)"
     ],
     "language": "python",
     "metadata": {},
     "outputs": []
    },
    {
     "cell_type": "markdown",
     "metadata": {},
     "source": [
      "We can view particular landmark groups and their particular labels."
     ]
    },
    {
     "cell_type": "code",
     "collapsed": false,
     "input": [
      "# View a particular group\n",
      "img.landmarks['PTS'].view_new()\n",
      "\n",
      "# View a particular group\n",
      "a = img.landmarks['ibug_68_points']['reye'].view_new()"
     ],
     "language": "python",
     "metadata": {},
     "outputs": []
    },
    {
     "cell_type": "markdown",
     "metadata": {},
     "source": [
      "Note that now we can't use the `None` trick "
     ]
    },
    {
     "cell_type": "code",
     "collapsed": false,
     "input": [
      "img.landmarks[None]"
     ],
     "language": "python",
     "metadata": {},
     "outputs": []
    },
    {
     "cell_type": "code",
     "collapsed": false,
     "input": [
      "from pybug.landmark.labels import ibug_68_trimesh\n",
      "\n",
      "# Label some landmarks\n",
      "images = labeller(images, 'PTS', ibug_68_trimesh)\n",
      "\n",
      "import numpy as np\n",
      "from pybug.shape import PointCloud\n",
      "\n",
      "# Set a new set of landmarks via a PointCloud\n",
      "new_points = PointCloud(np.random.random([100, 2]) * np.max(img.shape))\n",
      "img.landmarks['new_points'] = new_points\n",
      "img.landmarks.view()\n",
      "\n",
      "# Look at the group labels\n",
      "print img.landmarks.group_labels\n",
      "\n",
      "# Look at labels inside a group\n",
      "print img.landmarks['ibug_68_trimesh'].labels\n",
      "\n",
      "# View a particular label - a PointCloud\n",
      "img.landmarks['ibug_68_trimesh']['tri'].view()\n",
      "\n",
      "# Copy some landmarks\n",
      "img.landmarks = images[1].landmarks\n",
      "print img.landmarks.group_labels\n",
      "img.landmarks['ibug_68_trimesh'] = images[0].landmarks['PTS']\n",
      "print img.landmarks['ibug_68_trimesh']._target is img"
     ],
     "language": "python",
     "metadata": {},
     "outputs": []
    }
   ],
   "metadata": {}
  }
 ]
}