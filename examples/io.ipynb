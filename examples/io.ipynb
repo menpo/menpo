{
 "metadata": {
  "name": "io"
 },
 "nbformat": 3,
 "nbformat_minor": 0,
 "worksheets": [
  {
   "cells": [
    {
     "cell_type": "code",
     "collapsed": false,
     "input": [
      "from pybug.io import smartimport"
     ],
     "language": "python",
     "metadata": {},
     "outputs": []
    },
    {
     "cell_type": "code",
     "collapsed": false,
     "input": [
      "james_h = smartimport('/home/jab08/Dropbox/testData/james_h.obj')\n",
      "james_m = smartimport('/home/jab08/Dropbox/testData/james_m.obj')\n",
      "james_h_no_m_no_j = smartimport('/home/jab08/Dropbox/testData/james_h_no_mouth_no_jaw.obj')"
     ],
     "language": "python",
     "metadata": {},
     "outputs": []
    },
    {
     "cell_type": "code",
     "collapsed": false,
     "input": [
      "from pybug.transform import Translation"
     ],
     "language": "python",
     "metadata": {},
     "outputs": []
    },
    {
     "cell_type": "code",
     "collapsed": false,
     "input": [
      "t = Translation(np.array([10,0,0]))"
     ],
     "language": "python",
     "metadata": {},
     "outputs": []
    },
    {
     "cell_type": "code",
     "collapsed": false,
     "input": [
      "james_h_no_m_no_j._transform(t)"
     ],
     "language": "python",
     "metadata": {},
     "outputs": []
    },
    {
     "cell_type": "code",
     "collapsed": false,
     "input": [
      "james_h_no_m_no_j.landmarks.view(textured=False)"
     ],
     "language": "python",
     "metadata": {},
     "outputs": []
    }
   ],
   "metadata": {}
  }
 ]
}