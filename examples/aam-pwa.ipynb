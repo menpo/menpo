{
 "metadata": {
  "name": ""
 },
 "nbformat": 3,
 "nbformat_minor": 0,
 "worksheets": [
  {
   "cells": [
    {
     "cell_type": "heading",
     "level": 1,
     "metadata": {},
     "source": [
      "Active Appearance Model (AAM)"
     ]
    },
    {
     "cell_type": "markdown",
     "metadata": {},
     "source": [
      "Load the aligned bw faces image from the data directory using the auto importer."
     ]
    },
    {
     "cell_type": "code",
     "collapsed": false,
     "input": [
      "import scipy.io as sio\n",
      "import numpy as np\n",
      "from pybug.image import Image\n",
      "from pybug.shape import PointCloud\n",
      "from pybug.warp import scipy_warp\n",
      "\n",
      "from pybug import data_path_to\n",
      "model = sio.loadmat(data_path_to('alignedshapetexture.mat'))\n",
      "\n",
      "old_mask  = model['mask']\n",
      "textures = model['textures'].astype(np.float64)\n",
      "t_coords = model['texturecoords'].astype(np.uint32)\n",
      "shapes = model['shapes'].astype(np.float64)\n",
      "\n",
      "# make a template for storing out image pixels to\n",
      "image_template = np.zeros_like(old_mask, dtype=np.float64)\n",
      "# create the mask by filling all coordinate squares with True\n",
      "np_mask = np.zeros_like(old_mask, dtype=np.bool)\n",
      "np_mask[t_coords[:,1], t_coords[:,0]] = True\n",
      "# loop through building complete images + masks\n",
      "images = []\n",
      "for i in range(textures.shape[-1]):\n",
      "    image_template[t_coords[:,1], t_coords[:,0]]  = textures[...,i]\n",
      "    images.append(Image(image_template, mask=np_mask))\n",
      "# note that we flip the x,y ordering of landmarks that we import.\n",
      "# we always consider the first dim to index axis 0 of the image (commonly \n",
      "# refered to as y).\n",
      "pointclouds = []\n",
      "for i in range(shapes.shape[-1]):\n",
      "    pointclouds.append(PointCloud(shapes[...,i][...,::-1]))"
     ],
     "language": "python",
     "metadata": {},
     "outputs": []
    },
    {
     "cell_type": "markdown",
     "metadata": {},
     "source": [
      "Correct for PWA mask (hacky!) and errode by the structure element"
     ]
    },
    {
     "cell_type": "code",
     "collapsed": false,
     "input": [
      "from pybug.transform.piecewiseaffine import PiecewiseAffineTransform\n",
      "from scipy.spatial import Delaunay\n",
      "from pybug.image.base import MaskImage\n",
      "from scipy.ndimage import morphology\n",
      "import numpy as np\n",
      "\n",
      "# grab an image and point cloud\n",
      "image = images[0]\n",
      "pc = pointclouds[0]\n",
      "template = Image.blank(image.shape) # make a blank template\n",
      "tri = Delaunay(pc.points)\n",
      "pwa = PiecewiseAffineTransform(pc.points, pc.points, tri.simplices)\n",
      "# we don't care about the target points! Just doing this to find\n",
      "# where the source points are in triangles or aren't.\n",
      "\n",
      "points_to_sample = template.mask.true_indices\n",
      "warped_points = pwa.apply(points_to_sample)\n",
      "# can't just pass the nan's into image (Image aggesively ensures that data\n",
      "# is floating point [0,1]) so we convert to a boolean before\n",
      "np_mask_pwl = ~np.any(np.isnan(warped_points), axis=1).reshape(image.shape)\n",
      "\n",
      "# define an erosion structure\n",
      "structure_el = np.zeros([5,5],dtype=np.bool)\n",
      "structure_el[1:4, 1:4] = True\n",
      "structure_el[2] = True\n",
      "structure_el[:, 2] = True\n",
      "# erode the mask to allow for successful gradient calcs\n",
      "# note we have to errode a few times to make sure we are within the boundaries of np_mask completely! (see below)\n",
      "np_mask_pwl_err = morphology.binary_erosion(np_mask_pwl, structure=structure_el)\n",
      "# repeat the erosion\n",
      "for i in range(4):\n",
      "    np_mask_pwl_err = morphology.binary_erosion(np_mask_pwl_err, structure=structure_el)\n",
      "\n",
      "mask_pwl_err = MaskImage(np_mask_pwl_err) # our pwa mask with erroded piecewise linear edges\n",
      "ax = subplot(1,2,1)\n",
      "mask_pwl_err.view()\n",
      "ax = subplot(1,2,2)\n",
      "image.mask.view()\n",
      "# give all the images this new mask\n",
      "for i in images:\n",
      "    i.mask = mask_pwl_err"
     ],
     "language": "python",
     "metadata": {},
     "outputs": []
    },
    {
     "cell_type": "markdown",
     "metadata": {},
     "source": [
      "**Motivation for erosion**"
     ]
    },
    {
     "cell_type": "markdown",
     "metadata": {},
     "source": [
      "What is in the original mask and NOT in the PWA mask (i.e. parts of the original mask the PWA mask lopped off)"
     ]
    },
    {
     "cell_type": "code",
     "collapsed": false,
     "input": [
      "imshow(np.logical_and(np_mask, ~np_mask_pwl))"
     ],
     "language": "python",
     "metadata": {},
     "outputs": []
    },
    {
     "cell_type": "markdown",
     "metadata": {},
     "source": [
      "Looks good! But there is another question - what is in the PWL mask and NOT in the original mask (i.e. does the piecewise linear mask go outside the bounds of the original?)"
     ]
    },
    {
     "cell_type": "code",
     "collapsed": false,
     "input": [
      "imshow(np.logical_and(~np_mask, np_mask_pwl))"
     ],
     "language": "python",
     "metadata": {},
     "outputs": []
    },
    {
     "cell_type": "markdown",
     "metadata": {},
     "source": [
      "yes! shit thats bad. This is why we erode 4 times, to ensure this goes to zero."
     ]
    },
    {
     "cell_type": "code",
     "collapsed": false,
     "input": [
      "print 'is the erroded mask entirely within the pixels of the face?'\n",
      "np.all(np.logical_and(~np_mask, np_mask_pwl_err) == False)"
     ],
     "language": "python",
     "metadata": {},
     "outputs": []
    },
    {
     "cell_type": "markdown",
     "metadata": {},
     "source": [
      "What is in the original mask and NOT in the new mask (should be a full boarder around the face"
     ]
    },
    {
     "cell_type": "code",
     "collapsed": false,
     "input": [
      "imshow(np.logical_and(np_mask, ~np_mask_pwl_err))"
     ],
     "language": "python",
     "metadata": {},
     "outputs": []
    },
    {
     "cell_type": "markdown",
     "metadata": {},
     "source": [
      "nice! we are good to go."
     ]
    },
    {
     "cell_type": "markdown",
     "metadata": {},
     "source": [
      "Split our data into test and sample for both shape and appearance"
     ]
    },
    {
     "cell_type": "code",
     "collapsed": false,
     "input": [
      "n_samples = 1 \n",
      "sample_images = images[:-n_samples]\n",
      "test_images = images[-n_samples:]\n",
      "sample_shapes = pointclouds[:-n_samples]\n",
      "test_shapes = pointclouds[-n_samples:]"
     ],
     "language": "python",
     "metadata": {},
     "outputs": []
    },
    {
     "cell_type": "markdown",
     "metadata": {},
     "source": [
      "Build the appearance model and shape model, saving one pointcloud and one image as an out of sample test"
     ]
    },
    {
     "cell_type": "code",
     "collapsed": false,
     "input": [
      "from pybug.model.linear import PCAModel\n",
      "from pybug.align.nonrigid.tps import TPS\n",
      "from pybug.transform.piecewiseaffine import PiecewiseAffineTransform\n",
      "from pybug.transform.statisticallydriven import StatisticallyDrivenTransform\n",
      "from scipy.spatial import Delaunay\n",
      "\n",
      "appearance_model = PCAModel(sample_images)\n",
      "shape_model = PCAModel(sample_shapes, n_components=5)\n",
      "\n",
      "def tps_constructor(src_landmarks, tgt_landmarks):\n",
      "    tps = TPS(src_landmarks, tgt_landmarks)\n",
      "    return tps.transform\n",
      "\n",
      "def pwa_constructor(src_landmarks, tgt_landmarks):\n",
      "    tri = Delaunay(src_landmarks)\n",
      "    return PiecewiseAffineTransform(src_landmarks, tgt_landmarks, tri.simplices)\n",
      "\n",
      "transform = StatisticallyDrivenTransform(shape_model, pwa_constructor)"
     ],
     "language": "python",
     "metadata": {},
     "outputs": []
    },
    {
     "cell_type": "markdown",
     "metadata": {},
     "source": [
      "We now need some test data to check the AAM is working. We make a novel shape from the `shape_model` and make a `TPS` object that will warp an appearance into this shape, visualizating how the TPS will work."
     ]
    },
    {
     "cell_type": "code",
     "collapsed": false,
     "input": [
      "fig = matplotlib.pyplot.gcf()\n",
      "fig.set_size_inches(12.0, 5.0)\n",
      "\n",
      "# build a test shape that we know is sensible from the shape model\n",
      "test_shape = shape_model.instance(np.array([50, 10]))\n",
      "\n",
      "# make a TPS that warps from the test shape to the mean shape\n",
      "tri = Delaunay(test_shape.points)\n",
      "pwa = PiecewiseAffineTransform(test_shape.points, shape_model.mean.points, tri.simplices)\n",
      "\n",
      "#ax = subplot(1,3,1)\n",
      "#ax.set_title('PWA Warp')\n",
      "#pwa.view(image=True)\n",
      "\n",
      "ax = subplot(1,3,2)\n",
      "ax.set_title('Mean face')\n",
      "appearance_model.mean.view()\n",
      "shape_model.mean.view()\n",
      "\n",
      "# building the test image\n",
      "test_appearance = test_images[0]\n",
      "# make a blank template\n",
      "template = Image.blank(test_appearance.shape)\n",
      "# warp the appearance sample to create the test face\n",
      "test_face = scipy_warp(appearance_model.mean, template, pwa, mode='wrap', warp_mask=True)\n",
      "ax = subplot(1,3,3)\n",
      "ax.set_title('Test face')\n",
      "test_face.view()\n",
      "#test_shape.view()\n",
      "\n",
      "# finally we want to know what the shape model parameters are that best produce this model.\n",
      "params = shape_model.project(test_shape)\n",
      "print 'weightings we hope to find are {}'.format(params)"
     ],
     "language": "python",
     "metadata": {},
     "outputs": []
    },
    {
     "cell_type": "markdown",
     "metadata": {},
     "source": [
      "Align the image to the AAM"
     ]
    },
    {
     "cell_type": "code",
     "collapsed": false,
     "input": [
      "from pybug.align.lucaskanade.residual import LSIntensity\n",
      "from pybug.align.lucaskanade.base import ProjectOutAppearanceForwardAdditive\n",
      "\n",
      "residual = LSIntensity()\n",
      "project_out = ProjectOutAppearanceForwardAdditive(test_face, appearance_model, residual, transform)\n",
      "images = project_out.align()"
     ],
     "language": "python",
     "metadata": {},
     "outputs": []
    }
   ],
   "metadata": {}
  }
 ]
}