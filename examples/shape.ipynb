{
 "metadata": {
  "name": "shape"
 },
 "nbformat": 3,
 "nbformat_minor": 0,
 "worksheets": [
  {
   "cells": [
    {
     "cell_type": "markdown",
     "metadata": {},
     "source": [
      "**SPATIALDATA BASICS**\n",
      "\n",
      "Walks through the basic abstract `spatialdata` classes and what they can do."
     ]
    },
    {
     "cell_type": "code",
     "collapsed": false,
     "input": [
      "import numpy as np"
     ],
     "language": "python",
     "metadata": {},
     "outputs": []
    },
    {
     "cell_type": "markdown",
     "metadata": {},
     "source": [
      "**POINTCLOUDS**\n",
      "\n",
      "At the top of our Shape Hierarachy is the `PointCloud` class. This is a representation of an n-dimensional point cloud. It can be coerced into a Point Cloud Library `PointCloud` class for use in any of the PCL algorithms. To define a `PointCloud`, we use a 2 dimentional `ndarray`. The length of first dimension is the number of points, the second dimension the dimensionality of the space. "
     ]
    },
    {
     "cell_type": "code",
     "collapsed": false,
     "input": [
      "from pybug.spatialdata import PointCloud3d, LandmarkManager, ReferenceLandmark"
     ],
     "language": "python",
     "metadata": {},
     "outputs": []
    },
    {
     "cell_type": "code",
     "collapsed": false,
     "input": [
      "points = np.random.rand(5, 3)"
     ],
     "language": "python",
     "metadata": {},
     "outputs": []
    },
    {
     "cell_type": "code",
     "collapsed": false,
     "input": [
      "pc = PointCloud3d(points)\n",
      "print pc"
     ],
     "language": "python",
     "metadata": {},
     "outputs": []
    },
    {
     "cell_type": "markdown",
     "metadata": {},
     "source": [
      "as you can see, printing a `PointCloud` lists the dimentionality and number of points. A `PointCloud` can have attached to it an arbitrary number of fields, each one of arbitrary dimension. The only constraint is that each field must specify a value for each `point`. Here, we attach a 1D field that represents color, and a 3D field for normal vectors. The input data is of the same format as we used previously. Notice that `print`ing a `PointCloud` will include information about the fields we have attached."
     ]
    },
    {
     "cell_type": "code",
     "collapsed": false,
     "input": [
      "pc.add_pointfield('color', np.array([1,1,1,1,1]))\n",
      "pc.add_pointfield('normals', np.array([0,0,0.5,0,0.5,1,1,1,1,0]).reshape([5,2]))\n",
      "print pc"
     ],
     "language": "python",
     "metadata": {},
     "outputs": []
    },
    {
     "cell_type": "markdown",
     "metadata": {},
     "source": [
      "**LANDMARKS**\n",
      "All `PointCloud` instances (and any subclass there of) has attached to it a `LandmarkManager` object at `self.landmarks` to allow for annotation of the data. An instance of `Landmarks` is constructed by taking an instance of the shape class it refers to in the first arguement, and a dictionary of indexes into the shape classes _allpoints variable. The keys of this dictionary are labels, the values lists of indices. This is much clearer with an example:"
     ]
    },
    {
     "cell_type": "code",
     "collapsed": false,
     "input": [
      "pc.landmarks = Landmarks(pc, {'mouth':[0,1,2], 'l_eye':[3,4]})"
     ],
     "language": "python",
     "metadata": {},
     "outputs": []
    },
    {
     "cell_type": "markdown",
     "metadata": {},
     "source": [
      "this dictionary is stored on the `Landmarks` instance at `indexes`:"
     ]
    },
    {
     "cell_type": "code",
     "collapsed": false,
     "input": [
      "print pc.landmarks.indexes"
     ],
     "language": "python",
     "metadata": {},
     "outputs": []
    },
    {
     "cell_type": "markdown",
     "metadata": {},
     "source": [
      "Note that this is represented as an `OrderedDict`, to enforce consistency in how accessing all landmarks is handled:"
     ]
    },
    {
     "cell_type": "code",
     "collapsed": false,
     "input": [
      "lm, labels = pc.landmarks.all(withlabels=True)\n",
      "print lm\n",
      "print labels"
     ],
     "language": "python",
     "metadata": {},
     "outputs": []
    },
    {
     "cell_type": "markdown",
     "metadata": {},
     "source": [
      "Thanks to the `OrderedDict` (and the fact that the class sorts by keys on construction) we have a guarantee that any shapes with the same configuration of landmarks will have a consistent ordering when invoking `all()`. The configuration itself is stored in `config`:"
     ]
    },
    {
     "cell_type": "code",
     "collapsed": false,
     "input": [
      "print pc.landmarks.config"
     ],
     "language": "python",
     "metadata": {},
     "outputs": []
    },
    {
     "cell_type": "markdown",
     "metadata": {},
     "source": [
      "this `config` comes in handy when we want to build a shape model, to give us a safety net in ensuring that all shapes have at least the same configuration of landmarks."
     ]
    },
    {
     "cell_type": "markdown",
     "metadata": {},
     "source": [
      "**VISUALIZATION**"
     ]
    },
    {
     "cell_type": "markdown",
     "metadata": {},
     "source": [
      "2D and 3D `PointCloud`s know how to render themselves. If you are working locally, the `view()` method on all 2D and 3D decendents of `PointCloud` will open a new window to view the data in the most appropriate way. If you are working remotely, you can still get a basic appricaition for the data by using IPythons rich display mechanism. To use it, just call the object (no `print`) in the notebook:"
     ]
    },
    {
     "cell_type": "code",
     "collapsed": false,
     "input": [
      "pc"
     ],
     "language": "python",
     "metadata": {},
     "outputs": []
    },
    {
     "cell_type": "code",
     "collapsed": false,
     "input": [
      "pc.view()"
     ],
     "language": "python",
     "metadata": {},
     "outputs": []
    },
    {
     "cell_type": "markdown",
     "metadata": {},
     "source": [
      "**MESH BASICS**"
     ]
    },
    {
     "cell_type": "code",
     "collapsed": false,
     "input": [
      "from pybug.shape.representation.mesh import TriMesh, FastTriMesh"
     ],
     "language": "python",
     "metadata": {},
     "outputs": []
    },
    {
     "cell_type": "code",
     "collapsed": false,
     "input": [
      "points = np.array([[0.0, 0.0, 0.0],\n",
      "                   [1.0, 0.0, 0.0],\n",
      "                   [1.0, 1.0, 0.0],\n",
      "                   [0.0, 1.0, 0.0]])\n",
      "\n",
      "trilist = np.array([[0, 1, 3],\n",
      "                    [2, 3, 1]], dtype=np.uint32)"
     ],
     "language": "python",
     "metadata": {},
     "outputs": []
    },
    {
     "cell_type": "markdown",
     "metadata": {},
     "source": [
      "A `TriMesh` is the basic implimentation of a triangular mesh. It is strictly a 3D object, and is constructed in an analogous way to the `PointCloud`, taking a single additional argument, a triangle list, listing how the points are joined into trianglular surfaces. Basic `TriMesh` objects aren't fussy about the quality of the data they are built from - they will happily handle unreferenced points, zero area faces, reversed faces, and non-contiguous meshes without kicking up a fuss. They are perfectly suited to 90% of the tasks that you may wish to perform with triagulated data. "
     ]
    },
    {
     "cell_type": "code",
     "collapsed": false,
     "input": [
      "trimesh = TriMesh(points, trilist)"
     ],
     "language": "python",
     "metadata": {},
     "outputs": []
    },
    {
     "cell_type": "markdown",
     "metadata": {},
     "source": [
      "The `FastTriMesh` is a direct subclass of `TriMesh` that adds a C++ representation of the topology of the mesh. This allows for fast iteration around the Mesh structure without having to write C++ code, however it comes at a cost of flexibility - for now, building a `FastTriMesh` without perfectly formatted input data will lead to nasty segfaults."
     ]
    },
    {
     "cell_type": "code",
     "collapsed": false,
     "input": [
      "fasttrimesh = FastTriMesh(points, trilist)"
     ],
     "language": "python",
     "metadata": {},
     "outputs": []
    },
    {
     "cell_type": "markdown",
     "metadata": {},
     "source": [
      "Importantly, meshes are just specializations of PointClouds. They have the same visualization, landmarking, and field adding capabilities as we've seen before:"
     ]
    },
    {
     "cell_type": "code",
     "collapsed": false,
     "input": [
      "fasttrimesh.add_pointfield('tc', np.array([0,0,0,0]))\n",
      "print fasttrimesh\n",
      "fasttrimesh.view()"
     ],
     "language": "python",
     "metadata": {},
     "outputs": []
    }
   ],
   "metadata": {}
  }
 ]
}