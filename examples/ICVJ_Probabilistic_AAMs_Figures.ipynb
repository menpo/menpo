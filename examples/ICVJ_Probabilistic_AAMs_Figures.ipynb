{
 "metadata": {
  "name": ""
 },
 "nbformat": 3,
 "nbformat_minor": 0,
 "worksheets": [
  {
   "cells": [
    {
     "cell_type": "code",
     "collapsed": false,
     "input": [
      "from mpl_toolkits.mplot3d import Axes3D\n",
      "import numpy as np\n",
      "import matplotlib.pyplot as plt\n",
      "\n",
      "def gaussian_2d(x, y, x0, y0, xsig, ysig):\n",
      "    return np.exp(-0.5*(((x-x0) / xsig)**2 + ((y-y0) / ysig)**2))\n",
      "\n",
      "fig = plt.figure()\n",
      "ax = fig.add_subplot(111, projection='3d')\n",
      "vals = np.linspace(-35, 35)\n",
      "x,y = np.meshgrid(vals, vals)\n",
      "z = gaussian_2d(x, y, 0, 0, 10, 5)*0.5\n",
      "\n",
      "ax.plot_surface(x, y, z, rstride=1, cstride=1, alpha=0.5, cmap='jet', linewidth=0)\n",
      "ax.plot([0,0],[0,0],[0,1], 'black')\n",
      "ax.plot([0,35],[0,0],[0,0], 'black')\n",
      "ax.plot([0,0],[0,35],[0,0], 'black')\n",
      "\n",
      "ax.scatter3D(15,15,0.5)\n",
      "ax.plot([15,15],[15,15],[0,0.5], 'r--')\n",
      "\n",
      "xx = np.arange(0,15,0.01)\n",
      "\n",
      "zz = gaussian_2d(xx, xx, 0, 0, 10, 5)*0.5\n",
      "ax.plot(xx, xx, zz, 'r--')\n",
      "             \n",
      "ax.axis('off')\n",
      "plt.show()\n"
     ],
     "language": "python",
     "metadata": {},
     "outputs": [],
     "prompt_number": 127
    },
    {
     "cell_type": "code",
     "collapsed": false,
     "input": [
      "|CS = plt.contour(, y, np.ones_like(x"
     ],
     "language": "python",
     "metadata": {},
     "outputs": [],
     "prompt_number": 55
    },
    {
     "cell_type": "code",
     "collapsed": false,
     "input": [
      "plt.contour(x,y,z)\n",
      "plt.show()"
     ],
     "language": "python",
     "metadata": {},
     "outputs": [],
     "prompt_number": 45
    },
    {
     "cell_type": "code",
     "collapsed": false,
     "input": [
      "ax.plot3D([0],[0],[1])"
     ],
     "language": "python",
     "metadata": {},
     "outputs": [
      {
       "metadata": {},
       "output_type": "pyout",
       "prompt_number": 92,
       "text": [
        "[<mpl_toolkits.mplot3d.art3d.Line3D at 0x4049ad0>]"
       ]
      }
     ],
     "prompt_number": 92
    },
    {
     "cell_type": "code",
     "collapsed": false,
     "input": [
      "plt.show()"
     ],
     "language": "python",
     "metadata": {},
     "outputs": [],
     "prompt_number": 93
    },
    {
     "cell_type": "code",
     "collapsed": false,
     "input": [
      "from mayavi import mlab\n",
      "import numpy as np\n",
      "\n",
      "def gaussian_2d(x, y, x0, y0, xsig, ysig):\n",
      "    return np.exp(-0.5*(((x-x0) / xsig)**2 + ((y-y0) / ysig)**2))\n",
      "\n",
      "vals = np.linspace(-20, 20)\n",
      "x,y = np.meshgrid(vals, vals)\n",
      "z = gaussian_2d(x, y, 0, 0, 10, 5)*5\n",
      "\n",
      "\n",
      "s = mlab.mesh(x,y,z, representation='wireframe')\n",
      "\n",
      "mlab.axes()\n",
      "\n",
      "mlab.quiver3d(0,0,1, scale_factor=10)\n",
      "mlab.quiver3d(0,1,0, scale_factor=10)\n",
      "mlab.quiver3d(1,0,0, scale_factor=10)\n",
      "\n",
      "\n",
      "mlab.show()"
     ],
     "language": "python",
     "metadata": {},
     "outputs": [],
     "prompt_number": 78
    },
    {
     "cell_type": "code",
     "collapsed": false,
     "input": [],
     "language": "python",
     "metadata": {},
     "outputs": []
    }
   ],
   "metadata": {}
  }
 ]
}