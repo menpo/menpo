{
 "metadata": {
  "name": "matlab_import"
 },
 "nbformat": 3,
 "nbformat_minor": 0,
 "worksheets": [
  {
   "cells": [
    {
     "cell_type": "code",
     "collapsed": false,
     "input": [
      "import scipy.io as sio"
     ],
     "language": "python",
     "metadata": {},
     "outputs": []
    },
    {
     "cell_type": "code",
     "collapsed": false,
     "input": [
      "medmat = sio.loadmat('/home/jab08/Dropbox/medicaldata/medical_model.mat')"
     ],
     "language": "python",
     "metadata": {},
     "outputs": []
    },
    {
     "cell_type": "code",
     "collapsed": false,
     "input": [
      "# elements are accessable as a dictionary. \n",
      "# Keys are the names of the objects at save time in the matlab workspace.\n",
      "Scoord = medmat['Scoord']\n",
      "Pcoord = medmat['Pcoord']\n",
      "Ycoord = medmat['Ycoord']\n",
      "Stextor = medmat['Stextor']\n",
      "Ptextor = medmat['Ptextor']\n",
      "Ytextor = medmat['Ytextor']\n",
      "coord = medmat['coord']\n",
      "textor = medmat['textor']\n",
      "coord_m = medmat['coord_m']\n",
      "textor_m = medmat['textor_m']\n",
      "faceMask = medmat['faceMask']\n",
      "PCmask = medmat['PCmask']\n",
      "faceMaskV = medmat['faceMaskV']"
     ],
     "language": "python",
     "metadata": {},
     "outputs": []
    }
   ],
   "metadata": {}
  }
 ]
}