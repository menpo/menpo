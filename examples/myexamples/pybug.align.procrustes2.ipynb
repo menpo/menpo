{
 "metadata": {
  "name": "pybug.align.procrustes2"
 },
 "nbformat": 3,
 "nbformat_minor": 0,
 "worksheets": [
  {
   "cells": [
    {
     "cell_type": "code",
     "collapsed": false,
     "input": [
      "import numpy as np\n",
      "from pybug.align import GeneralizedProcrustesAnalysis\n",
      "\n",
      "import os\n",
      "\n",
      "from pybug.mypackage.io import functions as myfn"
     ],
     "language": "python",
     "metadata": {},
     "outputs": [],
     "prompt_number": 1
    },
    {
     "cell_type": "code",
     "collapsed": false,
     "input": [
      "flr0 = '/data'\n",
      "flr1 = 'db'\n",
      "flr2 = 'lfpw'\n",
      "flr3 = 'train'\n",
      "path = os.path.join(flr0, flr1, flr2, flr3, '')"
     ],
     "language": "python",
     "metadata": {},
     "outputs": [],
     "prompt_number": 2
    },
    {
     "cell_type": "code",
     "collapsed": false,
     "input": [
      "ext = ['.pts', '.txt']"
     ],
     "language": "python",
     "metadata": {},
     "outputs": [],
     "prompt_number": 3
    },
    {
     "cell_type": "code",
     "collapsed": false,
     "input": [
      "lan_list = [myfn.laread(os.path.join(path,f)) for f in os.listdir(path) if os.path.splitext(f)[-1] in ext]"
     ],
     "language": "python",
     "metadata": {},
     "outputs": [],
     "prompt_number": 4
    },
    {
     "cell_type": "code",
     "collapsed": false,
     "input": [
      "gpa = GeneralizedProcrustesAnalysis(lan_list)"
     ],
     "language": "python",
     "metadata": {},
     "outputs": [
      {
       "output_type": "stream",
       "stream": "stdout",
       "text": [
        "at iteration 1, the delta_target is 11.196320\n",
        "at iteration 2, the delta_target is 3.937161"
       ]
      },
      {
       "output_type": "stream",
       "stream": "stdout",
       "text": [
        "\n",
        "at iteration 3, the delta_target is 3.907773"
       ]
      },
      {
       "output_type": "stream",
       "stream": "stdout",
       "text": [
        "\n",
        "at iteration 4, the delta_target is 3.878608"
       ]
      },
      {
       "output_type": "stream",
       "stream": "stdout",
       "text": [
        "\n",
        "at iteration 5, the delta_target is 3.849662"
       ]
      },
      {
       "output_type": "stream",
       "stream": "stdout",
       "text": [
        "\n",
        "at iteration 6, the delta_target is 3.820931"
       ]
      },
      {
       "output_type": "stream",
       "stream": "stdout",
       "text": [
        "\n",
        "at iteration 7, the delta_target is 3.792415"
       ]
      },
      {
       "output_type": "stream",
       "stream": "stdout",
       "text": [
        "\n",
        "at iteration 8, the delta_target is 3.764111"
       ]
      },
      {
       "output_type": "stream",
       "stream": "stdout",
       "text": [
        "\n",
        "at iteration 9, the delta_target is 3.736019"
       ]
      },
      {
       "output_type": "stream",
       "stream": "stdout",
       "text": [
        "\n",
        "at iteration 10, the delta_target is 3.708136"
       ]
      },
      {
       "output_type": "stream",
       "stream": "stdout",
       "text": [
        "\n",
        "at iteration 11, the delta_target is 3.680462"
       ]
      },
      {
       "output_type": "stream",
       "stream": "stdout",
       "text": [
        "\n",
        "at iteration 12, the delta_target is 3.652994"
       ]
      },
      {
       "output_type": "stream",
       "stream": "stdout",
       "text": [
        "\n",
        "at iteration 13, the delta_target is 3.625731"
       ]
      },
      {
       "output_type": "stream",
       "stream": "stdout",
       "text": [
        "\n",
        "at iteration 14, the delta_target is 3.598671"
       ]
      },
      {
       "output_type": "stream",
       "stream": "stdout",
       "text": [
        "\n",
        "at iteration 15, the delta_target is 3.571814"
       ]
      },
      {
       "output_type": "stream",
       "stream": "stdout",
       "text": [
        "\n",
        "at iteration 16, the delta_target is 3.545157"
       ]
      },
      {
       "output_type": "stream",
       "stream": "stdout",
       "text": [
        "\n",
        "at iteration 17, the delta_target is 3.518699"
       ]
      },
      {
       "output_type": "stream",
       "stream": "stdout",
       "text": [
        "\n",
        "at iteration 18, the delta_target is 3.492438"
       ]
      },
      {
       "output_type": "stream",
       "stream": "stdout",
       "text": [
        "\n",
        "at iteration 19, the delta_target is 3.466373"
       ]
      },
      {
       "output_type": "stream",
       "stream": "stdout",
       "text": [
        "\n",
        "at iteration 20, the delta_target is 3.440503"
       ]
      },
      {
       "output_type": "stream",
       "stream": "stdout",
       "text": [
        "\n",
        "at iteration 21, the delta_target is 3.414826"
       ]
      },
      {
       "output_type": "stream",
       "stream": "stdout",
       "text": [
        "\n",
        "at iteration 22, the delta_target is 3.389340"
       ]
      },
      {
       "output_type": "stream",
       "stream": "stdout",
       "text": [
        "\n",
        "at iteration 23, the delta_target is 3.364045"
       ]
      },
      {
       "output_type": "stream",
       "stream": "stdout",
       "text": [
        "\n",
        "at iteration 24, the delta_target is 3.338939"
       ]
      },
      {
       "output_type": "stream",
       "stream": "stdout",
       "text": [
        "\n",
        "at iteration 25, the delta_target is 3.314020"
       ]
      },
      {
       "output_type": "stream",
       "stream": "stdout",
       "text": [
        "\n",
        "at iteration 26, the delta_target is 3.289286"
       ]
      },
      {
       "output_type": "stream",
       "stream": "stdout",
       "text": [
        "\n",
        "at iteration 27, the delta_target is 3.264738"
       ]
      },
      {
       "output_type": "stream",
       "stream": "stdout",
       "text": [
        "\n",
        "at iteration 28, the delta_target is 3.240373"
       ]
      },
      {
       "output_type": "stream",
       "stream": "stdout",
       "text": [
        "\n",
        "at iteration 29, the delta_target is 3.216189"
       ]
      },
      {
       "output_type": "stream",
       "stream": "stdout",
       "text": [
        "\n",
        "at iteration 30, the delta_target is 3.192186"
       ]
      },
      {
       "output_type": "stream",
       "stream": "stdout",
       "text": [
        "\n",
        "at iteration 31, the delta_target is 3.168362"
       ]
      },
      {
       "output_type": "stream",
       "stream": "stdout",
       "text": [
        "\n",
        "at iteration 32, the delta_target is 3.144716"
       ]
      },
      {
       "output_type": "stream",
       "stream": "stdout",
       "text": [
        "\n",
        "at iteration 33, the delta_target is 3.121246"
       ]
      },
      {
       "output_type": "stream",
       "stream": "stdout",
       "text": [
        "\n",
        "at iteration 34, the delta_target is 3.097952"
       ]
      },
      {
       "output_type": "stream",
       "stream": "stdout",
       "text": [
        "\n",
        "at iteration 35, the delta_target is 3.074831"
       ]
      },
      {
       "output_type": "stream",
       "stream": "stdout",
       "text": [
        "\n",
        "at iteration 36, the delta_target is 3.051883"
       ]
      },
      {
       "output_type": "stream",
       "stream": "stdout",
       "text": [
        "\n",
        "at iteration 37, the delta_target is 3.029107"
       ]
      },
      {
       "output_type": "stream",
       "stream": "stdout",
       "text": [
        "\n",
        "at iteration 38, the delta_target is 3.006500"
       ]
      },
      {
       "output_type": "stream",
       "stream": "stdout",
       "text": [
        "\n",
        "at iteration 39, the delta_target is 2.984062"
       ]
      },
      {
       "output_type": "stream",
       "stream": "stdout",
       "text": [
        "\n",
        "at iteration 40, the delta_target is 2.961791"
       ]
      },
      {
       "output_type": "stream",
       "stream": "stdout",
       "text": [
        "\n",
        "at iteration 41, the delta_target is 2.939687"
       ]
      },
      {
       "output_type": "stream",
       "stream": "stdout",
       "text": [
        "\n",
        "at iteration 42, the delta_target is 2.917747"
       ]
      },
      {
       "output_type": "stream",
       "stream": "stdout",
       "text": [
        "\n",
        "at iteration 43, the delta_target is 2.895972"
       ]
      },
      {
       "output_type": "stream",
       "stream": "stdout",
       "text": [
        "\n",
        "at iteration 44, the delta_target is 2.874359"
       ]
      },
      {
       "output_type": "stream",
       "stream": "stdout",
       "text": [
        "\n",
        "at iteration 45, the delta_target is 2.852907"
       ]
      },
      {
       "output_type": "stream",
       "stream": "stdout",
       "text": [
        "\n",
        "at iteration 46, the delta_target is 2.831615"
       ]
      },
      {
       "output_type": "stream",
       "stream": "stdout",
       "text": [
        "\n",
        "at iteration 47, the delta_target is 2.810482"
       ]
      },
      {
       "output_type": "stream",
       "stream": "stdout",
       "text": [
        "\n",
        "at iteration 48, the delta_target is 2.789507"
       ]
      },
      {
       "output_type": "stream",
       "stream": "stdout",
       "text": [
        "\n",
        "at iteration 49, the delta_target is 2.768688"
       ]
      },
      {
       "output_type": "stream",
       "stream": "stdout",
       "text": [
        "\n",
        "at iteration 50, the delta_target is 2.748025"
       ]
      },
      {
       "output_type": "stream",
       "stream": "stdout",
       "text": [
        "\n",
        "at iteration 51, the delta_target is 2.727516"
       ]
      },
      {
       "output_type": "stream",
       "stream": "stdout",
       "text": [
        "\n",
        "at iteration 52, the delta_target is 2.707160"
       ]
      },
      {
       "output_type": "stream",
       "stream": "stdout",
       "text": [
        "\n",
        "at iteration 53, the delta_target is 2.686956"
       ]
      },
      {
       "output_type": "stream",
       "stream": "stdout",
       "text": [
        "\n",
        "at iteration 54, the delta_target is 2.666903"
       ]
      },
      {
       "output_type": "stream",
       "stream": "stdout",
       "text": [
        "\n",
        "at iteration 55, the delta_target is 2.646999"
       ]
      },
      {
       "output_type": "stream",
       "stream": "stdout",
       "text": [
        "\n",
        "at iteration 56, the delta_target is 2.627244"
       ]
      },
      {
       "output_type": "stream",
       "stream": "stdout",
       "text": [
        "\n",
        "at iteration 57, the delta_target is 2.607637"
       ]
      },
      {
       "output_type": "stream",
       "stream": "stdout",
       "text": [
        "\n",
        "at iteration 58, the delta_target is 2.588175"
       ]
      },
      {
       "output_type": "stream",
       "stream": "stdout",
       "text": [
        "\n",
        "at iteration 59, the delta_target is 2.568859"
       ]
      },
      {
       "output_type": "stream",
       "stream": "stdout",
       "text": [
        "\n",
        "at iteration 60, the delta_target is 2.549687"
       ]
      },
      {
       "output_type": "stream",
       "stream": "stdout",
       "text": [
        "\n",
        "at iteration 61, the delta_target is 2.530659"
       ]
      },
      {
       "output_type": "stream",
       "stream": "stdout",
       "text": [
        "\n",
        "at iteration 62, the delta_target is 2.511772"
       ]
      },
      {
       "output_type": "stream",
       "stream": "stdout",
       "text": [
        "\n",
        "at iteration 63, the delta_target is 2.493026"
       ]
      },
      {
       "output_type": "stream",
       "stream": "stdout",
       "text": [
        "\n",
        "at iteration 64, the delta_target is 2.474420"
       ]
      },
      {
       "output_type": "stream",
       "stream": "stdout",
       "text": [
        "\n",
        "at iteration 65, the delta_target is 2.455953"
       ]
      },
      {
       "output_type": "stream",
       "stream": "stdout",
       "text": [
        "\n",
        "at iteration 66, the delta_target is 2.437624"
       ]
      },
      {
       "output_type": "stream",
       "stream": "stdout",
       "text": [
        "\n",
        "at iteration 67, the delta_target is 2.419431"
       ]
      },
      {
       "output_type": "stream",
       "stream": "stdout",
       "text": [
        "\n",
        "at iteration 68, the delta_target is 2.401375"
       ]
      },
      {
       "output_type": "stream",
       "stream": "stdout",
       "text": [
        "\n",
        "at iteration 69, the delta_target is 2.383453"
       ]
      },
      {
       "output_type": "stream",
       "stream": "stdout",
       "text": [
        "\n",
        "at iteration 70, the delta_target is 2.365665"
       ]
      },
      {
       "output_type": "stream",
       "stream": "stdout",
       "text": [
        "\n",
        "at iteration 71, the delta_target is 2.348009"
       ]
      },
      {
       "output_type": "stream",
       "stream": "stdout",
       "text": [
        "\n",
        "at iteration 72, the delta_target is 2.330486"
       ]
      },
      {
       "output_type": "stream",
       "stream": "stdout",
       "text": [
        "\n",
        "at iteration 73, the delta_target is 2.313093"
       ]
      },
      {
       "output_type": "stream",
       "stream": "stdout",
       "text": [
        "\n",
        "at iteration 74, the delta_target is 2.295830"
       ]
      },
      {
       "output_type": "stream",
       "stream": "stdout",
       "text": [
        "\n",
        "at iteration 75, the delta_target is 2.278696"
       ]
      },
      {
       "output_type": "stream",
       "stream": "stdout",
       "text": [
        "\n",
        "at iteration 76, the delta_target is 2.261689"
       ]
      },
      {
       "output_type": "stream",
       "stream": "stdout",
       "text": [
        "\n",
        "at iteration 77, the delta_target is 2.244810"
       ]
      },
      {
       "output_type": "stream",
       "stream": "stdout",
       "text": [
        "\n",
        "at iteration 78, the delta_target is 2.228056"
       ]
      },
      {
       "output_type": "stream",
       "stream": "stdout",
       "text": [
        "\n",
        "at iteration 79, the delta_target is 2.211428"
       ]
      },
      {
       "output_type": "stream",
       "stream": "stdout",
       "text": [
        "\n",
        "at iteration 80, the delta_target is 2.194924"
       ]
      },
      {
       "output_type": "stream",
       "stream": "stdout",
       "text": [
        "\n",
        "at iteration 81, the delta_target is 2.178543"
       ]
      },
      {
       "output_type": "stream",
       "stream": "stdout",
       "text": [
        "\n",
        "at iteration 82, the delta_target is 2.162284"
       ]
      },
      {
       "output_type": "stream",
       "stream": "stdout",
       "text": [
        "\n",
        "at iteration 83, the delta_target is 2.146146"
       ]
      },
      {
       "output_type": "stream",
       "stream": "stdout",
       "text": [
        "\n",
        "at iteration 84, the delta_target is 2.130129"
       ]
      },
      {
       "output_type": "stream",
       "stream": "stdout",
       "text": [
        "\n",
        "at iteration 85, the delta_target is 2.114232"
       ]
      },
      {
       "output_type": "stream",
       "stream": "stdout",
       "text": [
        "\n",
        "at iteration 86, the delta_target is 2.098453"
       ]
      },
      {
       "output_type": "stream",
       "stream": "stdout",
       "text": [
        "\n",
        "at iteration 87, the delta_target is 2.082792"
       ]
      },
      {
       "output_type": "stream",
       "stream": "stdout",
       "text": [
        "\n",
        "at iteration 88, the delta_target is 2.067247"
       ]
      },
      {
       "output_type": "stream",
       "stream": "stdout",
       "text": [
        "\n",
        "at iteration 89, the delta_target is 2.051819"
       ]
      },
      {
       "output_type": "stream",
       "stream": "stdout",
       "text": [
        "\n",
        "at iteration 90, the delta_target is 2.036506"
       ]
      },
      {
       "output_type": "stream",
       "stream": "stdout",
       "text": [
        "\n",
        "at iteration 91, the delta_target is 2.021307"
       ]
      },
      {
       "output_type": "stream",
       "stream": "stdout",
       "text": [
        "\n",
        "at iteration 92, the delta_target is 2.006222"
       ]
      },
      {
       "output_type": "stream",
       "stream": "stdout",
       "text": [
        "\n",
        "at iteration 93, the delta_target is 1.991249"
       ]
      },
      {
       "output_type": "stream",
       "stream": "stdout",
       "text": [
        "\n",
        "at iteration 94, the delta_target is 1.976388"
       ]
      },
      {
       "output_type": "stream",
       "stream": "stdout",
       "text": [
        "\n",
        "at iteration 95, the delta_target is 1.961638"
       ]
      },
      {
       "output_type": "stream",
       "stream": "stdout",
       "text": [
        "\n",
        "at iteration 96, the delta_target is 1.946998"
       ]
      },
      {
       "output_type": "stream",
       "stream": "stdout",
       "text": [
        "\n",
        "at iteration 97, the delta_target is 1.932467"
       ]
      },
      {
       "output_type": "stream",
       "stream": "stdout",
       "text": [
        "\n",
        "at iteration 98, the delta_target is 1.918045"
       ]
      },
      {
       "output_type": "stream",
       "stream": "stdout",
       "text": [
        "\n",
        "at iteration 99, the delta_target is 1.903730"
       ]
      },
      {
       "output_type": "stream",
       "stream": "stdout",
       "text": [
        "\n",
        "at iteration 100, the delta_target is 1.889522"
       ]
      },
      {
       "output_type": "stream",
       "stream": "stdout",
       "text": [
        "\n",
        "max number of iterations reached."
       ]
      },
      {
       "output_type": "stream",
       "stream": "stdout",
       "text": [
        "\n"
       ]
      }
     ],
     "prompt_number": 5
    },
    {
     "cell_type": "code",
     "collapsed": false,
     "input": [
      "aligned_lan_list = [t.apply(lan) for t, lan in zip(gpa.transforms, gpa.sources)]"
     ],
     "language": "python",
     "metadata": {},
     "outputs": [],
     "prompt_number": 6
    },
    {
     "cell_type": "code",
     "collapsed": false,
     "input": [
      "plt.hold(1)\n",
      "j=100\n",
      "for x in gpa.procrustes:\n",
      "    plt.plot(x[j].aligned_source[:,0], -x[j].aligned_source[:,1], 'o')"
     ],
     "language": "python",
     "metadata": {},
     "outputs": [
      {
       "output_type": "display_data",
       "png": "[encoded data removed]"
      }
     ],
     "prompt_number": 11
    },
    {
     "cell_type": "code",
     "collapsed": false,
     "input": [
      "plt.plot(gpa.target[:,0], -gpa.target[:,1], 'o')"
     ],
     "language": "python",
     "metadata": {},
     "outputs": [
      {
       "output_type": "pyout",
       "prompt_number": 8,
       "text": [
        "[<matplotlib.lines.Line2D at 0x39303d0>]"
       ]
      },
      {
       "output_type": "display_data",
       "png": "[encoded data removed]"
      }
     ],
     "prompt_number": 8
    },
    {
     "cell_type": "code",
     "collapsed": false,
     "input": [
      "a = gpa.procrustes[0][0]\n",
      "a.target[:,1]\n"
     ],
     "language": "python",
     "metadata": {},
     "outputs": [
      {
       "output_type": "pyout",
       "prompt_number": 10,
       "text": [
        "array([ 190.07298812,  212.66531566,  235.25696935,  257.41549004,\n",
        "        278.10460298,  296.26680844,  311.8577985 ,  324.50241115,\n",
        "        327.78685852,  324.00136586,  310.96006533,  294.91575595,\n",
        "        276.16085326,  254.87840008,  231.90253864,  208.94989499,\n",
        "        186.30950112,  170.66728456,  162.05873903,  160.05699231,\n",
        "        162.33207647,  167.65291711,  166.55733843,  160.53478466,\n",
        "        157.98785913,  159.38128232,  166.64672825,  185.118459  ,\n",
        "        200.42285435,  215.7875277 ,  231.40172175,  240.39642691,\n",
        "        243.57750712,  246.51564639,  243.27984188,  240.02739819,\n",
        "        187.51847892,  181.69380322,  181.7320353 ,  188.8042418 ,\n",
        "        191.67680111,  191.7237475 ,  187.74622568,  180.33253216,\n",
        "        179.86973046,  185.30644877,  189.68470894,  190.19092692,\n",
        "        270.24520339,  264.66834286,  262.05951646,  264.03637064,\n",
        "        261.74303824,  264.04602253,  268.60308731,  280.54359956,\n",
        "        285.75963821,  286.93388325,  286.2622735 ,  281.63433448,\n",
        "        270.90982686,  269.95333018,  270.59335949,  269.48124659,\n",
        "        269.58570283,  274.2394612 ,  275.43989309,  274.69972167])"
       ]
      }
     ],
     "prompt_number": 10
    },
    {
     "cell_type": "code",
     "collapsed": false,
     "input": [],
     "language": "python",
     "metadata": {},
     "outputs": []
    }
   ],
   "metadata": {}
  }
 ]
}