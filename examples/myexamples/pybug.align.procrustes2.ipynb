{
 "metadata": {
  "name": "pybug.align.procrustes2"
 },
 "nbformat": 3,
 "nbformat_minor": 0,
 "worksheets": [
  {
   "cells": [
    {
     "cell_type": "code",
     "collapsed": false,
     "input": [
      "import numpy as np\n",
      "from pybug.align import GeneralizedProcrustesAnalysis\n",
      "\n",
      "import os\n",
      "\n",
      "from pybug.mypackage.io import functions as myfn"
     ],
     "language": "python",
     "metadata": {},
     "outputs": [],
     "prompt_number": 1
    },
    {
     "cell_type": "code",
     "collapsed": false,
     "input": [
      "flr0 = '/data'\n",
      "flr1 = 'db'\n",
      "flr2 = 'lfpw'\n",
      "flr3 = 'train'\n",
      "path = os.path.join(flr0, flr1, flr2, flr3, '')"
     ],
     "language": "python",
     "metadata": {},
     "outputs": [],
     "prompt_number": 2
    },
    {
     "cell_type": "code",
     "collapsed": false,
     "input": [
      "ext = ['.pts', '.txt']"
     ],
     "language": "python",
     "metadata": {},
     "outputs": [],
     "prompt_number": 3
    },
    {
     "cell_type": "code",
     "collapsed": false,
     "input": [
      "lan_list = [myfn.laread(os.path.join(path,f)) for f in os.listdir(path) if os.path.splitext(f)[-1] in ext]"
     ],
     "language": "python",
     "metadata": {},
     "outputs": [],
     "prompt_number": 4
    },
    {
     "cell_type": "code",
     "collapsed": false,
     "input": [
      "gpa = GeneralizedProcrustesAnalysis(lan_list)"
     ],
     "language": "python",
     "metadata": {},
     "outputs": [
      {
       "output_type": "stream",
       "stream": "stdout",
       "text": [
        "at iteration 1, the delta_target is 22.243723\n",
        "at iteration 2, the delta_target is 60.917662"
       ]
      },
      {
       "output_type": "stream",
       "stream": "stdout",
       "text": [
        "\n",
        "at iteration 3, the delta_target is 161.197104"
       ]
      },
      {
       "output_type": "stream",
       "stream": "stdout",
       "text": [
        "\n",
        "at iteration 4, the delta_target is 209.883814"
       ]
      },
      {
       "output_type": "stream",
       "stream": "stdout",
       "text": [
        "\n",
        "at iteration 5, the delta_target is 79.573011"
       ]
      },
      {
       "output_type": "stream",
       "stream": "stdout",
       "text": [
        "\n",
        "at iteration 6, the delta_target is 5.804621"
       ]
      },
      {
       "output_type": "stream",
       "stream": "stdout",
       "text": [
        "\n",
        "at iteration 7, the delta_target is 0.034609"
       ]
      },
      {
       "output_type": "stream",
       "stream": "stdout",
       "text": [
        "\n",
        "at iteration 8, the delta_target is 0.001768"
       ]
      },
      {
       "output_type": "stream",
       "stream": "stdout",
       "text": [
        "\n",
        "at iteration 9, the delta_target is 0.000024"
       ]
      },
      {
       "output_type": "stream",
       "stream": "stdout",
       "text": [
        "\n",
        "at iteration 10, the delta_target is 0.000000"
       ]
      },
      {
       "output_type": "stream",
       "stream": "stdout",
       "text": [
        "\n",
        "delta_target sufficiently small, stopping.\n"
       ]
      }
     ],
     "prompt_number": 5
    },
    {
     "cell_type": "code",
     "collapsed": false,
     "input": [
      "aligned_lan_list = [t.apply(lan) for t, lan in zip(gpa.transforms, gpa.sources)]\n",
      "    "
     ],
     "language": "python",
     "metadata": {},
     "outputs": [
      {
       "ename": "IndentationError",
       "evalue": "unexpected indent (<ipython-input-11-6d22fa5fa858>, line 3)",
       "output_type": "pyerr",
       "traceback": [
        "\u001b[1;36m  File \u001b[1;32m\"<ipython-input-11-6d22fa5fa858>\"\u001b[1;36m, line \u001b[1;32m3\u001b[0m\n\u001b[1;33m    scatter(aligned_lan_list[:,0],aligned_lan_list[:,1])\u001b[0m\n\u001b[1;37m    ^\u001b[0m\n\u001b[1;31mIndentationError\u001b[0m\u001b[1;31m:\u001b[0m unexpected indent\n"
       ]
      }
     ],
     "prompt_number": 11
    },
    {
     "cell_type": "code",
     "collapsed": false,
     "input": [
      "aligned_lan_list"
     ],
     "language": "python",
     "metadata": {},
     "outputs": [
      {
       "output_type": "pyout",
       "prompt_number": 10,
       "text": [
        "array([[ 254.08917344,  233.6783609 ],\n",
        "       [ 254.08917345,  233.67836089],\n",
        "       [ 254.08917346,  233.67836087],\n",
        "       [ 254.08917347,  233.67836085],\n",
        "       [ 254.08917348,  233.67836083],\n",
        "       [ 254.08917348,  233.67836082],\n",
        "       [ 254.08917348,  233.6783608 ],\n",
        "       [ 254.08917347,  233.67836078],\n",
        "       [ 254.08917346,  233.67836077],\n",
        "       [ 254.08917344,  233.67836076],\n",
        "       [ 254.08917342,  233.67836076],\n",
        "       [ 254.0891734 ,  233.67836076],\n",
        "       [ 254.08917338,  233.67836076],\n",
        "       [ 254.08917337,  233.67836077],\n",
        "       [ 254.08917336,  233.67836078],\n",
        "       [ 254.08917334,  233.6783608 ],\n",
        "       [ 254.08917333,  233.67836082],\n",
        "       [ 254.08917343,  233.6783609 ],\n",
        "       [ 254.08917342,  233.6783609 ],\n",
        "       [ 254.08917341,  233.6783609 ],\n",
        "       [ 254.0891734 ,  233.67836089],\n",
        "       [ 254.08917339,  233.67836089],\n",
        "       [ 254.08917337,  233.67836087],\n",
        "       [ 254.08917336,  233.67836087],\n",
        "       [ 254.08917335,  233.67836086],\n",
        "       [ 254.08917334,  233.67836085],\n",
        "       [ 254.08917334,  233.67836085],\n",
        "       [ 254.08917339,  233.67836087],\n",
        "       [ 254.0891734 ,  233.67836086],\n",
        "       [ 254.0891734 ,  233.67836085],\n",
        "       [ 254.08917341,  233.67836084],\n",
        "       [ 254.08917343,  233.67836084],\n",
        "       [ 254.08917342,  233.67836083],\n",
        "       [ 254.08917342,  233.67836083],\n",
        "       [ 254.08917341,  233.67836083],\n",
        "       [ 254.0891734 ,  233.67836082],\n",
        "       [ 254.08917342,  233.67836089],\n",
        "       [ 254.08917341,  233.67836089],\n",
        "       [ 254.08917341,  233.67836088],\n",
        "       [ 254.0891734 ,  233.67836087],\n",
        "       [ 254.08917341,  233.67836088],\n",
        "       [ 254.08917342,  233.67836088],\n",
        "       [ 254.08917337,  233.67836085],\n",
        "       [ 254.08917337,  233.67836085],\n",
        "       [ 254.08917336,  233.67836085],\n",
        "       [ 254.08917336,  233.67836084],\n",
        "       [ 254.08917336,  233.67836084],\n",
        "       [ 254.08917337,  233.67836085],\n",
        "       [ 254.08917345,  233.67836083],\n",
        "       [ 254.08917344,  233.67836083],\n",
        "       [ 254.08917343,  233.67836083],\n",
        "       [ 254.08917342,  233.67836082],\n",
        "       [ 254.08917341,  233.67836082],\n",
        "       [ 254.0891734 ,  233.67836081],\n",
        "       [ 254.0891734 ,  233.6783608 ],\n",
        "       [ 254.08917341,  233.67836079],\n",
        "       [ 254.08917343,  233.67836079],\n",
        "       [ 254.08917344,  233.6783608 ],\n",
        "       [ 254.08917345,  233.67836081],\n",
        "       [ 254.08917345,  233.67836082],\n",
        "       [ 254.08917345,  233.67836083],\n",
        "       [ 254.08917343,  233.67836082],\n",
        "       [ 254.08917343,  233.67836081],\n",
        "       [ 254.08917342,  233.67836081],\n",
        "       [ 254.0891734 ,  233.6783608 ],\n",
        "       [ 254.08917342,  233.6783608 ],\n",
        "       [ 254.08917343,  233.67836081],\n",
        "       [ 254.08917344,  233.67836081]])"
       ]
      }
     ],
     "prompt_number": 10
    },
    {
     "cell_type": "code",
     "collapsed": false,
     "input": [],
     "language": "python",
     "metadata": {},
     "outputs": []
    }
   ],
   "metadata": {}
  }
 ]
}