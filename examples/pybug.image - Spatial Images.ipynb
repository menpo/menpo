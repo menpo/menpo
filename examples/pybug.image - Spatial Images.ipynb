{
 "metadata": {
  "name": ""
 },
 "nbformat": 3,
 "nbformat_minor": 0,
 "worksheets": [
  {
   "cells": [
    {
     "cell_type": "markdown",
     "metadata": {},
     "source": [
      "**Spatial Images** are images which use their channels to encode spatial information. These are the natural output of most depth cameras, and also have uses in establishing correspondence between shapes.\n",
      "\n",
      "Currently, only 2D spatial images `(i, j)`are supported. This covers must use cases, outside of volumetric alignment. Such support could be added at a later date.\n",
      "\n",
      "There are two kinds of spatial image that we support:\n",
      "\n",
      "- **`ShapeImage`** `(i, j, <x,y,z>)`\n",
      "    - 2D image where each pixel encodes a 3D `(x,y,z)` point in 3 channels.\n",
      "    - Useful as shape can be fully described - no ambiguity in `(x,y)` units\n",
      "    - Higher storage requirements, potential redundency in data as `(x,y)` be inferred from `(i,j)`\n",
      "\n",
      "\n",
      "- **`DepthImage`** `(i, j, <z>)` \n",
      "    - 2D image where each pixel encodes a depth `z` point in a single channel\n",
      "    - 3x lighter memory requirement\n",
      "    - Ambiguous scale on inferred `(x,y)`\n",
      "    - Images cannot be warped into same reference space to establish correspondence \n",
      "    \n",
      "Both of these classes provide the same functionality, largely encoded in their shared superclass, `AbstractSpatialImage`:\n",
      "\n",
      "- **`AbstractSpatialImage`**\n",
      "    - Direct subclass of `MaskedNDImage`, so supports landmarks, masking, gradients, cropping, viewing, and vectorization as usual \n",
      "    - has `mesh` property which is a `TriMesh` instance visualizing the spatial data.\n",
      "        - points used in `.mesh` are taken from the masked region of the image only\n",
      "        - connectivity can be provided as a `trilist` kwarg - if not is automatically generated using Delaunay on the points\n",
      "        - if a `texture` kwarg is provided, `mesh` will instead be a `TexturedTriMesh`\n",
      "        - `tcoords` kwarg can be used to provide texture coordinates - if none are provided they are generated using the assumption that there is a `1:1` mapping between texture and the spatial image\n",
      "        \n",
      "\n",
      "note that `.mesh` is generated once on creation of the spatial image. If you want to alter the spatial image and see how the mesh changes, you will need to construct a fresh object from the changed state.\n",
      "    "
     ]
    },
    {
     "cell_type": "markdown",
     "metadata": {},
     "source": [
      "The easiest way to build spatial images is from using `auto_import` from `pybug.io`. Refer to the specific importers for details of how the data is extracted from the files."
     ]
    },
    {
     "cell_type": "code",
     "collapsed": false,
     "input": [
      "from pybug.io import auto_import\n",
      "abs_path = '/vol/atlas/databases/frgc/fall2003/02463d546.abs'\n",
      "bnt_path = '/vol/hci2/Databases/video/Bosphorus/BosphorusDB/bs000/bs000_CR_RD_0.bnt'\n",
      "abs_image = auto_import(abs_path)[0]\n",
      "bnt_image = auto_import(bnt_path)[0]"
     ],
     "language": "python",
     "metadata": {},
     "outputs": []
    },
    {
     "cell_type": "markdown",
     "metadata": {},
     "source": [
      "Remember that spatial images are just normal `MaskedNDImage`s"
     ]
    },
    {
     "cell_type": "code",
     "collapsed": false,
     "input": [
      "print bnt_image\n",
      "print bnt_image.mesh"
     ],
     "language": "python",
     "metadata": {},
     "outputs": []
    },
    {
     "cell_type": "markdown",
     "metadata": {},
     "source": [
      "But they have special support for viewing. By default, you get an image as normal. You can explicitly get this with `mode='image'` too."
     ]
    },
    {
     "cell_type": "code",
     "collapsed": false,
     "input": [
      "abs_image.view()"
     ],
     "language": "python",
     "metadata": {},
     "outputs": []
    },
    {
     "cell_type": "markdown",
     "metadata": {},
     "source": [
      "As with all images, you can use the `channel` kwarg to see one channel in isolation"
     ]
    },
    {
     "cell_type": "code",
     "collapsed": false,
     "input": [
      "abs_image.view(channel=2)  # just the z values"
     ],
     "language": "python",
     "metadata": {},
     "outputs": []
    },
    {
     "cell_type": "markdown",
     "metadata": {},
     "source": [
      "Pass `mode='mesh'` to see the mesh"
     ]
    },
    {
     "cell_type": "code",
     "collapsed": false,
     "input": [
      "abs_image.view(mode='mesh')"
     ],
     "language": "python",
     "metadata": {},
     "outputs": []
    },
    {
     "cell_type": "markdown",
     "metadata": {},
     "source": [
      "Pass `mode='height'` to see the `z` height point cloud"
     ]
    },
    {
     "cell_type": "code",
     "collapsed": false,
     "input": [
      "abs_image.view(mode='height')"
     ],
     "language": "python",
     "metadata": {},
     "outputs": []
    },
    {
     "cell_type": "markdown",
     "metadata": {},
     "source": [
      "The mesh is a full blown `TriMesh` instance, in this case a `TexturedTriMesh`"
     ]
    },
    {
     "cell_type": "code",
     "collapsed": false,
     "input": [
      "print abs_image.mesh"
     ],
     "language": "python",
     "metadata": {},
     "outputs": []
    },
    {
     "cell_type": "markdown",
     "metadata": {},
     "source": [
      "Calculating per-face normals is trivial and fast"
     ]
    },
    {
     "cell_type": "code",
     "collapsed": false,
     "input": [
      "%timeit abs_image.mesh.face_normals"
     ],
     "language": "python",
     "metadata": {},
     "outputs": []
    },
    {
     "cell_type": "markdown",
     "metadata": {},
     "source": [
      "The texture is also accessable on the `.mesh` at `.mesh.texture`"
     ]
    },
    {
     "cell_type": "code",
     "collapsed": false,
     "input": [
      "texture = abs_image.mesh.texture\n",
      "print texture\n",
      "texture.view()"
     ],
     "language": "python",
     "metadata": {},
     "outputs": []
    }
   ],
   "metadata": {}
  }
 ]
}