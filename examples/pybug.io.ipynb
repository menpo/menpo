{
 "metadata": {
  "name": "pybug.io"
 },
 "nbformat": 3,
 "nbformat_minor": 0,
 "worksheets": [
  {
   "cells": [
    {
     "cell_type": "code",
     "collapsed": false,
     "input": [
      "from pybug.io import MeshImporter, ImageImporter"
     ],
     "language": "python",
     "metadata": {},
     "outputs": []
    },
    {
     "cell_type": "markdown",
     "metadata": {},
     "source": [
      "All pybug importers inherit from the abstact base class `Importer`. This specifies that:\n",
      "\n",
      "1. Importers should be constructed by passing in a path to a file\n",
      "2. Importers should impliment a `.build()` method which returns our data representation of the file in question.\n",
      "\n",
      "Try this out by setting the following paths to an image and 3D data file respectively:"
     ]
    },
    {
     "cell_type": "code",
     "collapsed": false,
     "input": [
      "image_path = '/home/jab08/Dropbox/testData/james_h.jpg'\n",
      "mesh_path = '/home/jab08/Dropbox/testData/bunny.obj'"
     ],
     "language": "python",
     "metadata": {},
     "outputs": []
    },
    {
     "cell_type": "markdown",
     "metadata": {},
     "source": [
      "we can then use the importers as specified above:"
     ]
    },
    {
     "cell_type": "code",
     "collapsed": false,
     "input": [
      "mesh_importer = MeshImporter(mesh_path)\n",
      "image_importer = ImageImporter(image_path)\n",
      "mesh = mesh_importer.build()\n",
      "image = image_importer.build()\n",
      "print mesh\n",
      "print image"
     ],
     "language": "python",
     "metadata": {},
     "outputs": []
    },
    {
     "cell_type": "markdown",
     "metadata": {},
     "source": [
      "Note that, as single mesh files can contain multiple meshes, the `MeshImporter` returns a list of meshes, even though this will commonly only contain one item. Note also that the `MeshImporter` will check to see if the mesh in question has a texture attached to it, and in this case will build a `TexturedTriMesh` instead. You can see for yourself whether Assimp found a texture by checking the `.texture_path` attribute on the `MeshImporter`:"
     ]
    },
    {
     "cell_type": "code",
     "collapsed": false,
     "input": [
      "print mesh_importer.texture_path"
     ],
     "language": "python",
     "metadata": {},
     "outputs": []
    },
    {
     "cell_type": "markdown",
     "metadata": {},
     "source": [
      "As we very commonly will want to import many things at once, and as having to seperately create an importer before `build()`'ing items is tiresome, there is the handy `auto_import` function:"
     ]
    },
    {
     "cell_type": "code",
     "collapsed": false,
     "input": [
      "from pybug.io import auto_import"
     ],
     "language": "python",
     "metadata": {},
     "outputs": []
    },
    {
     "cell_type": "markdown",
     "metadata": {},
     "source": [
      "This takes a UNIX style glob path (so you can use wildcards etc) and imports everythin in there for you. Try it!:"
     ]
    },
    {
     "cell_type": "code",
     "collapsed": false,
     "input": [
      "items = auto_import('/home/jab08/Dropbox/medicaldata/data_provided/11032910*.obj')"
     ],
     "language": "python",
     "metadata": {},
     "outputs": []
    },
    {
     "cell_type": "markdown",
     "metadata": {},
     "source": [
      "`autoimport` takes some kwargs to make life easier, check them out:"
     ]
    },
    {
     "cell_type": "code",
     "collapsed": false,
     "input": [
      "auto_import?"
     ],
     "language": "python",
     "metadata": {},
     "outputs": []
    }
   ],
   "metadata": {}
  }
 ]
}