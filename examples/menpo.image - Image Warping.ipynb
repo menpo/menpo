{
 "metadata": {
  "name": ""
 },
 "nbformat": 3,
 "nbformat_minor": 0,
 "worksheets": [
  {
   "cells": [
    {
     "cell_type": "code",
     "collapsed": false,
     "input": [
      "%matplotlib inline\n",
      "import menpo.io as pio"
     ],
     "language": "python",
     "metadata": {},
     "outputs": []
    },
    {
     "cell_type": "code",
     "collapsed": false,
     "input": [
      "breakingbad = pio.import_builtin_asset('breakingbad.jpg')\n",
      "einstein = pio.import_builtin_asset('einstein.jpg')"
     ],
     "language": "python",
     "metadata": {},
     "outputs": []
    },
    {
     "cell_type": "code",
     "collapsed": false,
     "input": [
      "breakingbad.crop_to_landmarks()\n",
      "breakingbad.constrain_mask_to_landmarks()\n",
      "breakingbad.landmarks.view()"
     ],
     "language": "python",
     "metadata": {},
     "outputs": []
    },
    {
     "cell_type": "code",
     "collapsed": false,
     "input": [
      "einstein.crop_to_landmarks()\n",
      "einstein.constrain_mask_to_landmarks()\n",
      "einstein.landmarks.view()"
     ],
     "language": "python",
     "metadata": {},
     "outputs": []
    },
    {
     "cell_type": "code",
     "collapsed": false,
     "input": [
      "from menpo.transform.tps import TPS\n",
      "from menpo.transform.piecewiseaffine import PiecewiseAffine\n",
      "\n",
      "tps_e_to_bb = TPS(einstein.landmarks['PTS'].lms, breakingbad.landmarks['PTS'].lms)\n",
      "pwa_e_to_bb = PiecewiseAffine(einstein.landmarks['PTS'].lms, breakingbad.landmarks['PTS'].lms)\n",
      "\n",
      "pwa_bb_to_e = PiecewiseAffine(breakingbad.landmarks['PTS'].lms, einstein.landmarks['PTS'].lms)"
     ],
     "language": "python",
     "metadata": {},
     "outputs": []
    },
    {
     "cell_type": "code",
     "collapsed": false,
     "input": [
      "warped_bb_to_e_pwa = breakingbad.warp_to(einstein.mask, pwa_e_to_bb)\n",
      "warped_bb_to_e_tps = breakingbad.warp_to(einstein.mask, tps_e_to_bb)"
     ],
     "language": "python",
     "metadata": {},
     "outputs": []
    },
    {
     "cell_type": "code",
     "collapsed": false,
     "input": [
      "warped_bb_to_e_pwa.view()"
     ],
     "language": "python",
     "metadata": {},
     "outputs": []
    },
    {
     "cell_type": "code",
     "collapsed": false,
     "input": [
      "warped_bb_to_e_tps.view()"
     ],
     "language": "python",
     "metadata": {},
     "outputs": []
    },
    {
     "cell_type": "code",
     "collapsed": false,
     "input": [
      "warped_e_to_bb_pwa = einstein.warp_to(breakingbad.mask, pwa_bb_to_e)"
     ],
     "language": "python",
     "metadata": {},
     "outputs": []
    },
    {
     "cell_type": "code",
     "collapsed": false,
     "input": [
      "warped_e_to_bb_pwa.view()"
     ],
     "language": "python",
     "metadata": {},
     "outputs": []
    },
    {
     "cell_type": "code",
     "collapsed": false,
     "input": [
      "warped_e_to_bb_pwa.view()"
     ],
     "language": "python",
     "metadata": {},
     "outputs": []
    }
   ],
   "metadata": {}
  }
 ]
}
