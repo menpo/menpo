{
 "metadata": {
  "name": "",
  "signature": "sha256:c14e822cdc56946b63da94c8dbad4cfd3d81020a628ed66672c9b60b3464a138"
 },
 "nbformat": 3,
 "nbformat_minor": 0,
 "worksheets": [
  {
   "cells": [
    {
     "cell_type": "code",
     "collapsed": false,
     "input": [
      "import numpy as np\n",
      "from menpo.transform.piecewiseaffine import (\n",
      "    DiscreteAffinePWATransform, CachedPWATransform, \n",
      "    TriangleContainmentError, PiecewiseAffine)"
     ],
     "language": "python",
     "metadata": {},
     "outputs": []
    },
    {
     "cell_type": "markdown",
     "metadata": {},
     "source": [
      "We build a `PiecewiseAffine` by supplying two sets of points and a shared triangle list"
     ]
    },
    {
     "cell_type": "code",
     "collapsed": false,
     "input": [
      "from menpo.shape import TriMesh, PointCloud\n",
      "a = np.array([[0, 0], [1, 0], [0, 1], [1, 1],\n",
      "              [-0.5, -0.7], [0.8, -0.4], [0.9, -2.1]])\n",
      "b = np.array([[0,0], [2, 0], [-1, 3], [2, 6],\n",
      "              [-1.0, -0.01], [1.0, -0.4], [0.8, -1.6]])\n",
      "tl = np.array([[0,2,1], [1,3,2]])\n",
      "\n",
      "src = TriMesh(a, tl)\n",
      "src_points = PointCloud(a)\n",
      "tgt = PointCloud(b)\n",
      "\n",
      "# broken until Affine is updated\n",
      "#slow_pwa = DiscreteAffinePWATransform(src, tgt)\n",
      "fast_pwa = CachedPWATransform(src, tgt)\n",
      "# pwa is just a CachedPWATransform alias\n",
      "# a PointCloud source results in Delaunay being used.\n",
      "pwa = PiecewiseAffine(src_points, tgt)"
     ],
     "language": "python",
     "metadata": {},
     "outputs": []
    },
    {
     "cell_type": "markdown",
     "metadata": {},
     "source": [
      "Lets make a random 5000 point `PointCloud` in the unit square and view it "
     ]
    },
    {
     "cell_type": "code",
     "collapsed": false,
     "input": [
      "%matplotlib inline\n",
      "points_s = PointCloud(np.random.rand(10000).reshape([-1,2]))\n",
      "points_f = PointCloud(np.random.rand(10000).reshape([-1,2]))\n",
      "points_f.view()"
     ],
     "language": "python",
     "metadata": {},
     "outputs": []
    },
    {
     "cell_type": "markdown",
     "metadata": {},
     "source": [
      "Now lets see the effect having warped"
     ]
    },
    {
     "cell_type": "code",
     "collapsed": false,
     "input": [
      "#slow_pwa.apply_inplace(points_s);\n",
      "fast_pwa.apply_inplace(points_f);\n",
      "points_f.view()"
     ],
     "language": "python",
     "metadata": {},
     "outputs": []
    },
    {
     "cell_type": "code",
     "collapsed": false,
     "input": [
      "test = np.array([[0.1,0.1], [0.7, 0.9], \n",
      "                 [0.2,0.3], [0.5, 0.6]])"
     ],
     "language": "python",
     "metadata": {},
     "outputs": []
    },
    {
     "cell_type": "code",
     "collapsed": false,
     "input": [
      "#slow_pwa.index_alpha_beta(test)\n",
      "fast_pwa.index_alpha_beta(test)"
     ],
     "language": "python",
     "metadata": {},
     "outputs": []
    },
    {
     "cell_type": "code",
     "collapsed": false,
     "input": [
      "#slow_pwa.apply_inplace(test)\n",
      "fast_pwa.apply_inplace(test)\n",
      "print test"
     ],
     "language": "python",
     "metadata": {},
     "outputs": []
    }
   ],
   "metadata": {}
  }
 ]
}
