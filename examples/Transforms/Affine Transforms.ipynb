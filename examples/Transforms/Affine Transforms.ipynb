{
 "metadata": {
  "name": "",
  "signature": "sha256:1d575acacce00c583aa128cc093fe25204962b3c9aced6b7db4fbab13e04bd5f"
 },
 "nbformat": 3,
 "nbformat_minor": 0,
 "worksheets": [
  {
   "cells": [
    {
     "cell_type": "code",
     "collapsed": false,
     "input": [
      "import numpy as np\n",
      "from menpo.transform import Rotation, Scale, Translation"
     ],
     "language": "python",
     "metadata": {},
     "outputs": []
    },
    {
     "cell_type": "code",
     "collapsed": false,
     "input": [
      "rotation = np.array([[ 0.36,  0.48, -0.80],\n",
      "                     [-0.80,  0.60,  0.00],\n",
      "                     [ 0.48,  0.64,  0.60]])\n",
      "scale = np.array([7,3, 15])\n",
      "scale2 = np.ones(3)*-3.52\n",
      "translation = np.array([-1,20])"
     ],
     "language": "python",
     "metadata": {},
     "outputs": []
    },
    {
     "cell_type": "code",
     "collapsed": false,
     "input": [
      "r = Rotation(rotation)\n",
      "nus = Scale(scale)           # NonUniformScale (Affine)\n",
      "us = Scale(2, n_dims=3)      # UniformScale (Similarity)\n",
      "t = Translation(translation)"
     ],
     "language": "python",
     "metadata": {},
     "outputs": []
    },
    {
     "cell_type": "markdown",
     "metadata": {},
     "source": [
      "All affine transforms are printable. You will see the usual homogeneous matrix, and an English decription of what the affine transform does"
     ]
    },
    {
     "cell_type": "code",
     "collapsed": false,
     "input": [
      "print r"
     ],
     "language": "python",
     "metadata": {},
     "outputs": []
    },
    {
     "cell_type": "code",
     "collapsed": false,
     "input": [
      "print nus"
     ],
     "language": "python",
     "metadata": {},
     "outputs": []
    },
    {
     "cell_type": "code",
     "collapsed": false,
     "input": [
      "print t"
     ],
     "language": "python",
     "metadata": {},
     "outputs": []
    },
    {
     "cell_type": "markdown",
     "metadata": {},
     "source": [
      "All these are instances of `DiscreteAffine`. That means we can ask any of these to invert themselves"
     ]
    },
    {
     "cell_type": "code",
     "collapsed": false,
     "input": [
      "print us\n",
      "print us.pseudoinverse"
     ],
     "language": "python",
     "metadata": {},
     "outputs": []
    },
    {
     "cell_type": "markdown",
     "metadata": {},
     "source": [
      "All affine transforms can be chained together using the `chain(another_affine_transform)` method. This produces a new `Affine`. Note that printing a general affine transform describes an equalivilent set of discrete affine transforms (that is, a sequence of discrete `Rotation`, `Translation` and `Scale` operations) that perform the same transform"
     ]
    },
    {
     "cell_type": "code",
     "collapsed": false,
     "input": [
      "rotation_followed_by_scale = r.compose_before(nus)\n",
      "print rotation_followed_by_scale"
     ],
     "language": "python",
     "metadata": {},
     "outputs": []
    },
    {
     "cell_type": "markdown",
     "metadata": {},
     "source": [
      "We can request this sequence directly by using the `decompose()` method  \n",
      "*notice how all affine transforms support eqality checking*"
     ]
    },
    {
     "cell_type": "code",
     "collapsed": false,
     "input": [
      "decomposed = rotation_followed_by_scale.decompose() \n",
      "result_of_chain = reduce(lambda x, y: x.compose_before(y), decomposed)\n",
      "print result_of_chain\n",
      "print 'Does chaining the decomposition do the same as the original? %s' % (result_of_chain == rotation_followed_by_scale)"
     ],
     "language": "python",
     "metadata": {},
     "outputs": []
    },
    {
     "cell_type": "markdown",
     "metadata": {},
     "source": [
      "Note that chaining `Similarity` objects together yields a `Similarity` instead."
     ]
    },
    {
     "cell_type": "code",
     "collapsed": false,
     "input": [
      "print r.compose_before(us)"
     ],
     "language": "python",
     "metadata": {},
     "outputs": []
    },
    {
     "cell_type": "markdown",
     "metadata": {},
     "source": [
      "Finally, note that all instances of `Transform` are guaranteed to have an `.apply()` method. Novel points can be passed in here, which will then be transformed (the result is returned, and the points left as they are). However, objects passed into `apply()` can define a `._transform()` method, signifing that this object knows how to handle it's own transformation. In this case, the trasformation is applied in place. `PointCloud` is one such class that defines this method. "
     ]
    },
    {
     "cell_type": "code",
     "collapsed": false,
     "input": [
      "%matplotlib inline\n",
      "from menpo.shape import PointCloud\n",
      "points = np.array([[0.0, 0.0],\n",
      "                   [1.0, 0.0],\n",
      "                   [1.0, 1.0],\n",
      "                   [0.0, 1.0]])\n",
      "pc = PointCloud(points)\n",
      "print pc\n",
      "print pc.points\n",
      "pc.view()"
     ],
     "language": "python",
     "metadata": {},
     "outputs": []
    },
    {
     "cell_type": "markdown",
     "metadata": {},
     "source": [
      "A transform can `.apply()` to some raw points to yield new ones... "
     ]
    },
    {
     "cell_type": "code",
     "collapsed": false,
     "input": [
      "import matplotlib.pyplot as plt\n",
      "new_points = t.apply(points)\n",
      "print new_points\n",
      "plt.scatter(new_points[:, 0], new_points[:, 1])"
     ],
     "language": "python",
     "metadata": {},
     "outputs": []
    },
    {
     "cell_type": "markdown",
     "metadata": {},
     "source": [
      "..or can apply directly to `Transformable` objects."
     ]
    },
    {
     "cell_type": "code",
     "collapsed": false,
     "input": [
      "pc3 = t.apply(pc)\n",
      "print pc3.points\n",
      "pc3.view()"
     ],
     "language": "python",
     "metadata": {},
     "outputs": []
    }
   ],
   "metadata": {}
  }
 ]
}
