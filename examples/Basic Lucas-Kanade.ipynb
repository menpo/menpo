{
 "metadata": {
  "name": ""
 },
 "nbformat": 3,
 "nbformat_minor": 0,
 "worksheets": [
  {
   "cells": [
    {
     "cell_type": "heading",
     "level": 1,
     "metadata": {},
     "source": [
      "Basic Lucas-Kanade"
     ]
    },
    {
     "cell_type": "markdown",
     "metadata": {},
     "source": [
      "Load the Takeo image from the data directory using the auto importer."
     ]
    },
    {
     "cell_type": "code",
     "collapsed": false,
     "input": [
      "from pybug.io import auto_import\n",
      "from pybug import data_path_to\n",
      "import numpy as np\n",
      "\n",
      "takeo_path = data_path_to('takeo.ppm')\n",
      "takeo = auto_import(takeo_path)[0]\n",
      "takeo.view()"
     ],
     "language": "python",
     "metadata": {},
     "outputs": []
    },
    {
     "cell_type": "markdown",
     "metadata": {},
     "source": [
      "The Takeo image is grayscale, but still has three channels:"
     ]
    },
    {
     "cell_type": "code",
     "collapsed": false,
     "input": [
      "print takeo.n_channels\n",
      "print takeo.pixels.shape"
     ],
     "language": "python",
     "metadata": {},
     "outputs": []
    },
    {
     "cell_type": "markdown",
     "metadata": {},
     "source": [
      "These are redundant. An easy way to remove them is to explicitly convert the image to greyscale"
     ]
    },
    {
     "cell_type": "code",
     "collapsed": false,
     "input": [
      "takeo = takeo.as_greyscale()\n",
      "print takeo.n_channels\n",
      "print takeo.pixels.shape\n",
      "takeo.view()"
     ],
     "language": "python",
     "metadata": {},
     "outputs": []
    },
    {
     "cell_type": "markdown",
     "metadata": {},
     "source": [
      "Since Lucas-Kanade involves matching images between a template and an input, we begin by creating a template to match to. Therefore, we import a warping function and warp the original image to create a template. Create the warp involves defining a set of initial warp parameters, which we will attempt to recover using the Lucas-Kanade algorithm. The warp parameters are defined as the elements of the transform matrix that transforms from target to source. We honour the parameter layout specified in the Lucas-Kanade 20 years on paper:\n",
      "\\begin{pmatrix}\n",
      "p1 & p3 & p5\\\\\n",
      "p2 & p4 & p6\n",
      "\\end{pmatrix}\n",
      "\n",
      "where $p5$ and $p6$ are the translation parameters."
     ]
    },
    {
     "cell_type": "code",
     "collapsed": false,
     "input": [
      "from pybug.warp import scipy_warp\n",
      "from pybug.transform import AffineTransform\n",
      "from pybug.image import Image\n",
      "\n",
      "target_params = np.array([0, 0.2, 0.1, 0, 70, 30])\n",
      "target_transform = AffineTransform.from_vector(target_params)\n",
      "# printing an affine transform tells us what it does\n",
      "print target_transform\n",
      "\n",
      "# make a blank (default filled with 0's) greyscale (default: 1 channel) image to guide the warp\n",
      "template = Image.blank((90, 90))\n",
      "\n",
      "target = scipy_warp(takeo, template, target_transform)\n",
      "target.view()"
     ],
     "language": "python",
     "metadata": {},
     "outputs": []
    },
    {
     "cell_type": "markdown",
     "metadata": {},
     "source": [
      "In order to perform the alignment, we seperate the algorithm from the similarity measure used. Therefore, we begin by creating a similarity measure which defines how we define the error between the two images. For this example, we use the most simple case, the LeastSquares pixels differences."
     ]
    },
    {
     "cell_type": "code",
     "collapsed": false,
     "input": [
      "from pybug.align.lucaskanade.residual import LSIntensity, ECC\n",
      "\n",
      "residual = LSIntensity()"
     ],
     "language": "python",
     "metadata": {},
     "outputs": []
    },
    {
     "cell_type": "markdown",
     "metadata": {},
     "source": [
      "Now, given an initial estimate, we can perform the alignment. We can either perform an inverse compositional alignment, or a forward additive. Lucas-Kanade is a gradient descent algorithm, and thus assumes a near global optimum initial parameterisaton. We therefore begin by initialising the image to roughly Takeo's face."
     ]
    },
    {
     "cell_type": "code",
     "collapsed": false,
     "input": [
      "from pybug.align.lucaskanade import ImageInverseCompositional, ImageForwardAdditive\n",
      "\n",
      "initial_params = np.array([0, 0, 0, 0, 70.5, 30.5])\n",
      "inital_transform = AffineTransform.from_vector(initial_params)\n",
      "\n",
      "inv_comp = ImageInverseCompositional(takeo, target, residual, inital_transform)\n",
      "for_add = ImageForwardAdditive(takeo, target, residual, inital_transform)"
     ],
     "language": "python",
     "metadata": {},
     "outputs": []
    },
    {
     "cell_type": "markdown",
     "metadata": {},
     "source": [
      "We then perform the alignment, and show the resulting transforms."
     ]
    },
    {
     "cell_type": "code",
     "collapsed": false,
     "input": [
      "# Set Figure to be larger\n",
      "fig = matplotlib.pyplot.gcf()\n",
      "fig.set_size_inches(12.0, 5.0)\n",
      "\n",
      "# Get Inverse Compositional optimum transform and plot\n",
      "inv_comp_transform = inv_comp.align()\n",
      "for_add_transform = for_add.align()\n",
      "\n",
      "inv_comp_res = scipy_warp(takeo, template, inv_comp_transform)\n",
      "ax = subplot(1,3,2)\n",
      "ax.set_title('Inverse Compositional')\n",
      "inv_comp_res.view()\n",
      "\n",
      "# Get Forward Additive optimum transform and plot\n",
      "for_add_transform = for_add.align()\n",
      "\n",
      "for_add_res = scipy_warp(takeo, template, for_add_transform)\n",
      "ax = subplot(1,3,3)\n",
      "ax.set_title('Forward Additive')\n",
      "for_add_res.view()\n",
      "\n",
      "# Plot target image we were warping to\n",
      "ax = subplot(1,3,1)\n",
      "ax.set_title('Original')\n",
      "target.view()"
     ],
     "language": "python",
     "metadata": {},
     "outputs": []
    },
    {
     "cell_type": "markdown",
     "metadata": {},
     "source": [
      "We can then compute the RMS point error between the original bounding box and the one proposed by our alignment algorithms. Usually, any error less than 3 pixels is considered a convergence."
     ]
    },
    {
     "cell_type": "code",
     "collapsed": false,
     "input": [
      "def compute_rms_point_error(test_pts, template_affine, M):\n",
      "    iteration_pts = M.apply(template_affine.T)\n",
      "    diff_pts = test_pts - iteration_pts\n",
      "    return np.sqrt(np.mean(diff_pts ** 2))"
     ],
     "language": "python",
     "metadata": {},
     "outputs": []
    },
    {
     "cell_type": "code",
     "collapsed": false,
     "input": [
      "original_box = np.array([[0, 0],\n",
      "                         [90, 0],\n",
      "                         [90, 90],\n",
      "                         [0, 90]]).T\n",
      "target_pts = target_transform.apply(original_box.T)\n",
      "print 'Inverse compositional RMS error: {0}'.format(compute_rms_point_error(target_pts, original_box, inv_comp_transform))\n",
      "print 'Forward additive RMS error:      {0}'.format(compute_rms_point_error(target_pts, original_box, for_add_transform))"
     ],
     "language": "python",
     "metadata": {},
     "outputs": []
    }
   ],
   "metadata": {}
  }
 ]
}