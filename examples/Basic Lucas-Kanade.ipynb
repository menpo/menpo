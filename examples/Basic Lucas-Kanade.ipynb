{
 "metadata": {
  "name": "",
  "signature": "sha256:5b3cb055751bad5cbbefc51341267b66ef47591221e9bd2c843d4acf75aa73a8"
 },
 "nbformat": 3,
 "nbformat_minor": 0,
 "worksheets": [
  {
   "cells": [
    {
     "cell_type": "heading",
     "level": 1,
     "metadata": {},
     "source": [
      "Basic Lucas-Kanade"
     ]
    },
    {
     "cell_type": "markdown",
     "metadata": {},
     "source": [
      "Load the Takeo image from the data directory using the auto importer."
     ]
    },
    {
     "cell_type": "code",
     "collapsed": false,
     "input": [
      "%matplotlib inline\n",
      "import menpo.io as pio\n",
      "import numpy as np\n",
      "import matplotlib.pyplot as plt\n",
      "\n",
      "takeo = pio.import_builtin_asset('takeo.ppm')\n",
      "takeo.view_new()"
     ],
     "language": "python",
     "metadata": {},
     "outputs": []
    },
    {
     "cell_type": "markdown",
     "metadata": {},
     "source": [
      "The Takeo image is grayscale, but still has three channels:"
     ]
    },
    {
     "cell_type": "code",
     "collapsed": false,
     "input": [
      "print takeo.n_channels\n",
      "print takeo.pixels.shape"
     ],
     "language": "python",
     "metadata": {},
     "outputs": []
    },
    {
     "cell_type": "markdown",
     "metadata": {},
     "source": [
      "These are redundant. An easy way to remove them is to explicitly convert the image to greyscale"
     ]
    },
    {
     "cell_type": "code",
     "collapsed": false,
     "input": [
      "takeo = takeo.as_greyscale()\n",
      "print takeo.n_channels\n",
      "print takeo.pixels.shape\n",
      "takeo.view_new()"
     ],
     "language": "python",
     "metadata": {},
     "outputs": []
    },
    {
     "cell_type": "markdown",
     "metadata": {},
     "source": [
      "Since Lucas-Kanade involves matching images between a template and an input, we begin by creating a template to match to. Therefore, we import a warping function and warp the original image to create a template. Create the warp involves defining a set of initial warp parameters, which we will attempt to recover using the Lucas-Kanade algorithm. The warp parameters are defined as the elements of the transform matrix that transforms from target to source. We honour the parameter layout specified in the Lucas-Kanade 20 years on paper:\n",
      "\\begin{pmatrix}\n",
      "p1 & p3 & p5\\\\\n",
      "p2 & p4 & p6\n",
      "\\end{pmatrix}\n",
      "\n",
      "where $p5$ and $p6$ are the translation parameters."
     ]
    },
    {
     "cell_type": "code",
     "collapsed": false,
     "input": [
      "from menpo.transform import Affine\n",
      "from menpo.image import BooleanImage\n",
      "\n",
      "target_params = np.array([0, 0.2, 0.1, 0, 70, 30])\n",
      "target_transform = Affine.identity(2).from_vector(target_params)\n",
      "# printing an affine transform tells us what it does\n",
      "print target_transform\n",
      "\n",
      "# make a blank (default filled with 0's) greyscale (default: 1 channel) image to guide the warp\n",
      "template = BooleanImage.blank((90, 90))\n",
      "\n",
      "target = takeo.warp_to(template, target_transform)\n",
      "target.view_new()"
     ],
     "language": "python",
     "metadata": {},
     "outputs": []
    },
    {
     "cell_type": "markdown",
     "metadata": {},
     "source": [
      "In order to perform the alignment, we seperate the algorithm from the similarity measure used. Therefore, we begin by creating a similarity measure which defines how we define the error between the two images. For this example, we use the most simple case, the LeastSquares pixels differences."
     ]
    },
    {
     "cell_type": "code",
     "collapsed": false,
     "input": [
      "from menpo.lucaskanade.residual import LSIntensity, ECC\n",
      "\n",
      "residual = LSIntensity()"
     ],
     "language": "python",
     "metadata": {},
     "outputs": []
    },
    {
     "cell_type": "markdown",
     "metadata": {},
     "source": [
      "Now, given an initial estimate, we can perform the alignment. We can either perform an inverse compositional alignment, or a forward additive. Lucas-Kanade is a gradient descent algorithm, and thus assumes a near global optimum initial parameterisaton. We therefore begin by initialising the image to roughly Takeo's face."
     ]
    },
    {
     "cell_type": "code",
     "collapsed": false,
     "input": [
      "from menpo.shape import PointCloud\n",
      "\n",
      "# Create the identity 'box' -> representing the area\n",
      "# that the target image was warped into\n",
      "corners = target.shape\n",
      "identity_box = PointCloud(np.array([[0,          0],\n",
      "                                    [corners[0], 0],\n",
      "                                    [corners[0], corners[1]],\n",
      "                                    [0,          corners[1]]]))"
     ],
     "language": "python",
     "metadata": {},
     "outputs": []
    },
    {
     "cell_type": "code",
     "collapsed": false,
     "input": [
      "from menpo.lucaskanade.image import ImageInverseCompositional, ImageForwardAdditive, ImageForwardCompositional\n",
      "from copy import deepcopy\n",
      "\n",
      "# Create the initial transform as an alignment transform\n",
      "# so that we can get more interesting fitting information,\n",
      "# since we then know the ground truth!\n",
      "initial_params = np.array([0, 0, 0, 0, 70.5, 30.5])\n",
      "inital_transform = Affine.identity(2).from_vector(initial_params)\n",
      "\n",
      "# This is the initial 'box' that we are warping into\n",
      "initial_box = inital_transform.apply(identity_box)\n",
      "inital_transform = inital_transform.align(identity_box, initial_box)\n",
      "\n",
      "inv_comp = ImageInverseCompositional(target, residual, deepcopy(inital_transform))\n",
      "for_add = ImageForwardAdditive(target, residual, deepcopy(inital_transform))\n",
      "for_comp = ImageForwardCompositional(target, residual, deepcopy(inital_transform))"
     ],
     "language": "python",
     "metadata": {},
     "outputs": []
    },
    {
     "cell_type": "markdown",
     "metadata": {},
     "source": [
      "We then perform the alignment, and show the resulting transforms."
     ]
    },
    {
     "cell_type": "code",
     "collapsed": false,
     "input": [
      "%matplotlib inline\n",
      "# Get Inverse Compositional optimum transform and plot\n",
      "inv_comp_fitting = inv_comp.align(takeo, initial_params)\n",
      "inv_comp_res = takeo.warp_to(template, inv_comp_fitting.final_transform)\n",
      "plt.subplot(141)\n",
      "inv_comp_res.view()\n",
      "\n",
      "# Get Forward Compositional optimum transform and plot\n",
      "for_comp_fitting = for_comp.align(takeo, initial_params)\n",
      "for_comp_res = takeo.warp_to(template, for_comp_fitting.final_transform)\n",
      "plt.subplot(142)\n",
      "for_comp_res.view()\n",
      "\n",
      "# Get Forward Additive optimum transform and plot\n",
      "for_add_fitting = for_add.align(takeo, initial_params)\n",
      "for_add_res = takeo.warp_to(template, for_add_fitting.final_transform)\n",
      "plt.subplot(143)\n",
      "for_add_res.view()\n",
      "\n",
      "# Plot target image we were warping to\n",
      "plt.subplot(144)\n",
      "target.view()\n",
      "\n",
      "# Set Figure to be larger\n",
      "plt.gcf().set_size_inches(12.0, 5.0)"
     ],
     "language": "python",
     "metadata": {},
     "outputs": []
    },
    {
     "cell_type": "markdown",
     "metadata": {},
     "source": [
      "We can then compute the RMS point error between the original bounding box and the one proposed by our alignment algorithms. Usually, any error less than 3 pixels is considered a convergence."
     ]
    },
    {
     "cell_type": "code",
     "collapsed": false,
     "input": [
      "# Create the target 'box' that the target was warped into\n",
      "target_box = target_transform.apply(identity_box)\n",
      "\n",
      "# Setup the fitting objects so we can generate useful results\n",
      "inv_comp_fitting.error_type = 'rmse'\n",
      "inv_comp_fitting.gt_shape = target_box\n",
      "for_add_fitting.error_type = 'rmse'\n",
      "for_add_fitting.gt_shape = target_box\n",
      "for_comp_fitting.error_type = 'rmse'\n",
      "for_comp_fitting.gt_shape = target_box\n",
      "\n",
      "print 'Inverse compositional RMS error: {0}'.format(inv_comp_fitting.final_error)\n",
      "print 'Forward additive RMS error:      {0}'.format(for_add_fitting.final_error)\n",
      "print 'Forward compositional RMS error: {0}'.format(for_comp_fitting.final_error)"
     ],
     "language": "python",
     "metadata": {},
     "outputs": []
    }
   ],
   "metadata": {}
  }
 ]
}
