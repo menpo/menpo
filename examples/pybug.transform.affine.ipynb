{
 "metadata": {
  "name": "pybug.transform.affine"
 },
 "nbformat": 3,
 "nbformat_minor": 0,
 "worksheets": [
  {
   "cells": [
    {
     "cell_type": "code",
     "collapsed": false,
     "input": [
      "import numpy as np\n",
      "from pybug.transform import Rotation, Scale, Translation"
     ],
     "language": "python",
     "metadata": {},
     "outputs": []
    },
    {
     "cell_type": "code",
     "collapsed": false,
     "input": [
      "rotation = np.array([[ 0.36,  0.48, -0.80],\n",
      "                     [-0.80,  0.60,  0.00],\n",
      "                     [ 0.48,  0.64,  0.60]])\n",
      "scale = np.array([7,3, 15])\n",
      "translation = np.array([-1,20,3])"
     ],
     "language": "python",
     "metadata": {},
     "outputs": []
    },
    {
     "cell_type": "code",
     "collapsed": false,
     "input": [
      "r = Rotation(rotation)\n",
      "s = Scale(scale)\n",
      "t = Translation(translation)"
     ],
     "language": "python",
     "metadata": {},
     "outputs": []
    },
    {
     "cell_type": "markdown",
     "metadata": {},
     "source": [
      "All affine transforms are printable. You will see the usual homogeneous matrix, and an English decription of what the affine transform does"
     ]
    },
    {
     "cell_type": "code",
     "collapsed": false,
     "input": [
      "print r"
     ],
     "language": "python",
     "metadata": {},
     "outputs": []
    },
    {
     "cell_type": "code",
     "collapsed": false,
     "input": [
      "print s"
     ],
     "language": "python",
     "metadata": {},
     "outputs": []
    },
    {
     "cell_type": "code",
     "collapsed": false,
     "input": [
      "print t"
     ],
     "language": "python",
     "metadata": {},
     "outputs": []
    },
    {
     "cell_type": "markdown",
     "metadata": {},
     "source": [
      "All affine transforms can be chained together using the `chain(another_affine_transform)` method. This produces a new `AffineTransform`. Note that printing a general affine transform describes an equalivilent set of discrete affine transforms (that is, a sequence of discrete `Rotation`, `Translation` and `Scale` operations) that perform the same transform"
     ]
    },
    {
     "cell_type": "code",
     "collapsed": false,
     "input": [
      "rotation_followed_by_scale = r.chain(s)\n",
      "print rotation_followed_by_scale"
     ],
     "language": "python",
     "metadata": {},
     "outputs": []
    },
    {
     "cell_type": "markdown",
     "metadata": {},
     "source": [
      "We can request this sequence directly by using the `decompose()` method  \n",
      "*notice how all affine transforms support eqality checking*"
     ]
    },
    {
     "cell_type": "code",
     "collapsed": false,
     "input": [
      "decomposed = rotation_followed_by_scale.decompose() \n",
      "result_of_chain = reduce(lambda x, y: x.chain(y), decomposed)\n",
      "print result_of_chain\n",
      "print 'Does chaining the decomposition do the same as the original? %s' % (result_of_chain == rotation_followed_by_scale)"
     ],
     "language": "python",
     "metadata": {},
     "outputs": []
    }
   ],
   "metadata": {}
  }
 ]
}