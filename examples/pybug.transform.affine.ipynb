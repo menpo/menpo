{
 "metadata": {
  "name": "pybug.transform.affine"
 },
 "nbformat": 3,
 "nbformat_minor": 0,
 "worksheets": [
  {
   "cells": [
    {
     "cell_type": "code",
     "collapsed": false,
     "input": [
      "import numpy as np\n",
      "from pybug.transform import Rotation, Scale, Translation"
     ],
     "language": "python",
     "metadata": {},
     "outputs": []
    },
    {
     "cell_type": "code",
     "collapsed": false,
     "input": [
      "rotation = np.array([[ 0.36,  0.48, -0.80],\n",
      "                     [-0.80,  0.60,  0.00],\n",
      "                     [ 0.48,  0.64,  0.60]])\n",
      "scale = np.array([7,3, 15])\n",
      "scale2 = np.ones(3)*-3.52\n",
      "translation = np.array([-1,20])"
     ],
     "language": "python",
     "metadata": {},
     "outputs": []
    },
    {
     "cell_type": "code",
     "collapsed": false,
     "input": [
      "r = Rotation(rotation)\n",
      "nus = Scale(scale)  # NonUniformScale (Affine)\n",
      "us = Scale(2, n_dim=3)  # UniformScale (Similarity)\n",
      "t = Translation(translation)"
     ],
     "language": "python",
     "metadata": {},
     "outputs": []
    },
    {
     "cell_type": "markdown",
     "metadata": {},
     "source": [
      "All affine transforms are printable. You will see the usual homogeneous matrix, and an English decription of what the affine transform does"
     ]
    },
    {
     "cell_type": "code",
     "collapsed": false,
     "input": [
      "print r"
     ],
     "language": "python",
     "metadata": {},
     "outputs": []
    },
    {
     "cell_type": "code",
     "collapsed": false,
     "input": [
      "print nus"
     ],
     "language": "python",
     "metadata": {},
     "outputs": []
    },
    {
     "cell_type": "code",
     "collapsed": false,
     "input": [
      "print t"
     ],
     "language": "python",
     "metadata": {},
     "outputs": []
    },
    {
     "cell_type": "markdown",
     "metadata": {},
     "source": [
      "All these are instances of `DiscreteAffineTransform`. That means we can ask any of these to invert themselves"
     ]
    },
    {
     "cell_type": "code",
     "collapsed": false,
     "input": [
      "print us\n",
      "print us.inverse"
     ],
     "language": "python",
     "metadata": {},
     "outputs": []
    },
    {
     "cell_type": "markdown",
     "metadata": {},
     "source": [
      "All affine transforms can be chained together using the `chain(another_affine_transform)` method. This produces a new `AffineTransform`. Note that printing a general affine transform describes an equalivilent set of discrete affine transforms (that is, a sequence of discrete `Rotation`, `Translation` and `Scale` operations) that perform the same transform"
     ]
    },
    {
     "cell_type": "code",
     "collapsed": false,
     "input": [
      "rotation_followed_by_scale = r.chain(nus)\n",
      "print rotation_followed_by_scale"
     ],
     "language": "python",
     "metadata": {},
     "outputs": []
    },
    {
     "cell_type": "markdown",
     "metadata": {},
     "source": [
      "We can request this sequence directly by using the `decompose()` method  \n",
      "*notice how all affine transforms support eqality checking*"
     ]
    },
    {
     "cell_type": "code",
     "collapsed": false,
     "input": [
      "decomposed = rotation_followed_by_scale.decompose() \n",
      "result_of_chain = reduce(lambda x, y: x.chain(y), decomposed)\n",
      "print result_of_chain\n",
      "print 'Does chaining the decomposition do the same as the original? %s' % (result_of_chain == rotation_followed_by_scale)"
     ],
     "language": "python",
     "metadata": {},
     "outputs": []
    },
    {
     "cell_type": "markdown",
     "metadata": {},
     "source": [
      "Note that chaining `SimilarityTransform` objects together yields a `SimilarityTransform` instead."
     ]
    },
    {
     "cell_type": "code",
     "collapsed": false,
     "input": [
      "print r.chain(us)"
     ],
     "language": "python",
     "metadata": {},
     "outputs": []
    },
    {
     "cell_type": "markdown",
     "metadata": {},
     "source": [
      "Finally, note that all instances of `Transform` are guaranteed to have an `.apply()` method. Novel points can be passed in here, which will then be transformed (the result is returned, and the points left as they are). However, objects passed into `apply()` can define a `._transform()` method, signifing that this object knows how to handle it's own transformation. In this case, the trasformation is applied in place. `PointCloud` is one such class that defines this method. "
     ]
    },
    {
     "cell_type": "code",
     "collapsed": false,
     "input": [
      "from pybug.shape import PointCloud\n",
      "points = np.array([ 0.0, 0.0,\n",
      "                   1.0, 0.0,\n",
      "                   1.0, 1.0,\n",
      "                   0.0, 1.0]).reshape([-1,2])\n",
      "pc = PointCloud(points)\n",
      "print pc\n",
      "print pc.points"
     ],
     "language": "python",
     "metadata": {},
     "outputs": []
    },
    {
     "cell_type": "markdown",
     "metadata": {},
     "source": [
      "A transform can `.apply()` to some raw points to yield new ones... "
     ]
    },
    {
     "cell_type": "code",
     "collapsed": false,
     "input": [
      "new_points = t.apply(points)\n",
      "print new_points"
     ],
     "language": "python",
     "metadata": {},
     "outputs": []
    },
    {
     "cell_type": "markdown",
     "metadata": {},
     "source": [
      "..or can apply directly to `Transformable` objects."
     ]
    },
    {
     "cell_type": "code",
     "collapsed": false,
     "input": [
      "t.apply(pc)\n",
      "print pc.points"
     ],
     "language": "python",
     "metadata": {},
     "outputs": []
    }
   ],
   "metadata": {}
  }
 ]
}