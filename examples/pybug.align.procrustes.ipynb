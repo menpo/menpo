{
 "metadata": {
  "name": "pybug.align.procrustes"
 },
 "nbformat": 3,
 "nbformat_minor": 0,
 "worksheets": [
  {
   "cells": [
    {
     "cell_type": "code",
     "collapsed": false,
     "input": [
      "import numpy as np\n",
      "from pybug.align import GeneralizedProcrustesAnalysis"
     ],
     "language": "python",
     "metadata": {},
     "outputs": []
    },
    {
     "cell_type": "code",
     "collapsed": false,
     "input": [
      "src_1 = np.array([ 0.0, 0.0,\n",
      "                   1.0, 0.0,\n",
      "                   1.0, 1.0,\n",
      "                   0.0, 1.0]).reshape([-1,2])\n",
      "src_2 = np.array([ 0.0, 0.0,\n",
      "                   2.0, 0.1,\n",
      "                   2.0, 2.0,\n",
      "                   0.1, 2.0]).reshape([-1,2])\n",
      "src_3 = np.array([-1.0, 0.0,\n",
      "                   0.0, 0.0,\n",
      "                   0.0, 1.0,\n",
      "                  -1.0, 1.0]).reshape([-1,2])"
     ],
     "language": "python",
     "metadata": {},
     "outputs": []
    },
    {
     "cell_type": "markdown",
     "metadata": {},
     "source": [
      "Building a `GeneralizedProcrustesAnalysis` causes it to run it's iterative alignment process."
     ]
    },
    {
     "cell_type": "code",
     "collapsed": false,
     "input": [
      "gpa = GeneralizedProcrustesAnalysis([src_1, src_2, src_3])"
     ],
     "language": "python",
     "metadata": {},
     "outputs": []
    },
    {
     "cell_type": "markdown",
     "metadata": {},
     "source": [
      "Printing the object gives you a summary of what happened"
     ]
    },
    {
     "cell_type": "code",
     "collapsed": false,
     "input": [
      "print gpa"
     ],
     "language": "python",
     "metadata": {},
     "outputs": []
    },
    {
     "cell_type": "markdown",
     "metadata": {},
     "source": [
      "Being an instance of `MultipleAlignment`, we know it will provide a property `transforms`, giving one transform per source that aligns it to the target frame. The target frame is also accessable"
     ]
    },
    {
     "cell_type": "code",
     "collapsed": false,
     "input": [
      "print gpa.transforms\n",
      "print gpa.target"
     ],
     "language": "python",
     "metadata": {},
     "outputs": []
    },
    {
     "cell_type": "markdown",
     "metadata": {},
     "source": [
      "Each step of the procrustes step is visable - there is a `procrustes` attribute, which is a list of length `n_sources`. Each element of this list is a list of `Procrustes` objects, each one specifying one step in the iteration for the source in question. The following example shows how to interpret these objects."
     ]
    },
    {
     "cell_type": "markdown",
     "metadata": {},
     "source": [
      "*all the `Procrustes` objects used to align `src_1` are:* "
     ]
    },
    {
     "cell_type": "code",
     "collapsed": false,
     "input": [
      "src_1_proc_objects = gpa.procrustes[0]\n",
      "print src_1_proc_objects"
     ],
     "language": "python",
     "metadata": {},
     "outputs": []
    },
    {
     "cell_type": "markdown",
     "metadata": {},
     "source": [
      "*and for `src_2` we used:*"
     ]
    },
    {
     "cell_type": "code",
     "collapsed": false,
     "input": [
      "src_2_proc_objects = gpa.procrustes[1]\n",
      "print src_2_proc_objects"
     ],
     "language": "python",
     "metadata": {},
     "outputs": []
    },
    {
     "cell_type": "markdown",
     "metadata": {},
     "source": [
      "*the first item of `src_1_proc_objects` has a `source` which is the same as `src_1`:*"
     ]
    },
    {
     "cell_type": "code",
     "collapsed": false,
     "input": [
      "print src_1_proc_objects[0].source\n",
      "print np.all(src_1 == src_1_proc_objects[0].source)"
     ],
     "language": "python",
     "metadata": {},
     "outputs": []
    },
    {
     "cell_type": "markdown",
     "metadata": {},
     "source": [
      "*the target of this object was set in the first iteration of the algorithm to the mean of all the sources:*"
     ]
    },
    {
     "cell_type": "code",
     "collapsed": false,
     "input": [
      "print src_1_proc_objects[0].target"
     ],
     "language": "python",
     "metadata": {},
     "outputs": []
    },
    {
     "cell_type": "markdown",
     "metadata": {},
     "source": [
      "*the closest alignment that could be achieved in this first step is the `aligned_source` field. We can see that this was the `source` input to the next stage of the iteration, which is the next item in the list:*"
     ]
    },
    {
     "cell_type": "code",
     "collapsed": false,
     "input": [
      "print src_1_proc_objects[0].aligned_source\n",
      "print np.all(src_1_proc_objects[0].aligned_source == src_1_proc_objects[1].source)"
     ],
     "language": "python",
     "metadata": {},
     "outputs": []
    },
    {
     "cell_type": "markdown",
     "metadata": {},
     "source": [
      "Its simple to manually check how the alignment did (this will be added to the object in a future as `.view()`)"
     ]
    },
    {
     "cell_type": "code",
     "collapsed": false,
     "input": [
      "for t, a_c in zip(gpa.transforms, gpa.sources):\n",
      "    aligned_src = t.apply(a_c)\n",
      "    scatter(aligned_src[:,0], aligned_src[:,1])"
     ],
     "language": "python",
     "metadata": {},
     "outputs": []
    }
   ],
   "metadata": {}
  }
 ]
}