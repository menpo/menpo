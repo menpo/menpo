{
 "metadata": {
  "name": ""
 },
 "nbformat": 3,
 "nbformat_minor": 0,
 "worksheets": [
  {
   "cells": [
    {
     "cell_type": "heading",
     "level": 1,
     "metadata": {},
     "source": [
      "Active Appearance Model (AAM)"
     ]
    },
    {
     "cell_type": "markdown",
     "metadata": {},
     "source": [
      "Load the aligned bw faces image from the data directory using the auto importer."
     ]
    },
    {
     "cell_type": "code",
     "collapsed": false,
     "input": [
      "import numpy as np\n",
      "\n",
      "structure_el = np.zeros([5,5],dtype=np.bool)\n",
      "structure_el[1:4, 1:4] = True\n",
      "structure_el[2] = True\n",
      "structure_el[:, 2] = True"
     ],
     "language": "python",
     "metadata": {},
     "outputs": []
    },
    {
     "cell_type": "code",
     "collapsed": false,
     "input": [
      "import scipy.io as sio\n",
      "from pybug.image import Image\n",
      "from pybug.shape import PointCloud\n",
      "from pybug.warp import scipy_warp\n",
      "\n",
      "from pybug import data_path_to\n",
      "model = sio.loadmat(data_path_to('alignedshapetexture.mat'))\n",
      "\n",
      "old_mask  = model['mask']\n",
      "textures = model['textures'].astype(np.float64)\n",
      "t_coords = model['texturecoords'].astype(np.uint32)\n",
      "shapes = model['shapes'].astype(np.float64)\n",
      "\n",
      "# make a template for storing out image pixels to\n",
      "image_template = np.zeros_like(old_mask, dtype=np.float64)\n",
      "# create the mask by filling all coordinate squares with True\n",
      "mask = np.zeros_like(old_mask, dtype=np.bool)\n",
      "mask[t_coords[:,1], t_coords[:,0]] = True\n",
      "# erode the mask to allow for successful gradient calcs\n",
      "mask = morphology.binary_erosion(mask, structure=structure_el)\n",
      "# loop through building complete images + masks\n",
      "images = []\n",
      "for i in range(textures.shape[-1]):\n",
      "    image_template[t_coords[:,1], t_coords[:,0]]  = textures[...,i]\n",
      "    images.append(Image(image_template, mask=mask))\n",
      "# note that we flip the x,y ordering of landmarks that we import.\n",
      "# we always consider the first dim to index axis 0 of the image (commonly \n",
      "# refered to as y).\n",
      "pointclouds = []\n",
      "for i in range(shapes.shape[-1]):\n",
      "    pointclouds.append(PointCloud(shapes[...,i][...,::-1]))"
     ],
     "language": "python",
     "metadata": {},
     "outputs": []
    },
    {
     "cell_type": "markdown",
     "metadata": {},
     "source": [
      "Split our data into test and sample for both shape and appearance"
     ]
    },
    {
     "cell_type": "code",
     "collapsed": false,
     "input": [
      "n_samples = 1 \n",
      "sample_images = images[:-n_samples]\n",
      "test_images = images[-n_samples:]\n",
      "sample_shapes = pointclouds[:-n_samples]\n",
      "test_shapes = pointclouds[-n_samples:]"
     ],
     "language": "python",
     "metadata": {},
     "outputs": []
    },
    {
     "cell_type": "markdown",
     "metadata": {},
     "source": [
      "Build the appearance model and shape model, saving one pointcloud and one image as an out of sample test"
     ]
    },
    {
     "cell_type": "code",
     "collapsed": false,
     "input": [
      "from pybug.model.linear import PCAModel\n",
      "from pybug.align.nonrigid.tps import TPS\n",
      "from pybug.transform.statisticallydriven import StatisticallyDrivenTransform\n",
      "\n",
      "appearance_model = PCAModel(sample_images)\n",
      "shape_model = PCAModel(sample_shapes, n_components=5)\n",
      "\n",
      "def tps_constructor(src_landmarks, tgt_landmarks):\n",
      "    tps = TPS(src_landmarks, tgt_landmarks)\n",
      "    return tps.transform\n",
      "\n",
      "transform = StatisticallyDrivenTransform(shape_model, tps_constructor)"
     ],
     "language": "python",
     "metadata": {},
     "outputs": []
    },
    {
     "cell_type": "markdown",
     "metadata": {},
     "source": [
      "We now need some test data to check the AAM is working. We make a novel shape from the `shape_model` and make a `TPS` object that will warp an appearance into this shape, visualizating how the TPS will work."
     ]
    },
    {
     "cell_type": "code",
     "collapsed": false,
     "input": [
      "fig = matplotlib.pyplot.gcf()\n",
      "fig.set_size_inches(12.0, 5.0)\n",
      "\n",
      "# build a test shape that we know is sensible from the shape model\n",
      "test_shape = shape_model.instance(np.array([40, 10]))\n",
      "\n",
      "# make a TPS that warps from the test shape to the mean shape\n",
      "tps = TPS(test_shape.points, shape_model.mean.points)\n",
      "\n",
      "ax = subplot(1,3,1)\n",
      "ax.set_title('TPS Warp')\n",
      "tps.view(image=True)\n",
      "\n",
      "ax = subplot(1,3,2)\n",
      "ax.set_title('Mean face')\n",
      "appearance_model.mean.view()\n",
      "shape_model.mean.view()\n",
      "\n",
      "# building the test image\n",
      "test_appearance = test_images[0]\n",
      "# make a blank template\n",
      "template = Image.blank(test_appearance.image_shape)\n",
      "# warp the appearance sample to create the test face\n",
      "test_face = scipy_warp(appearance_model.mean, template, tps.transform)\n",
      "ax = subplot(1,3,3)\n",
      "ax.set_title('Test face')\n",
      "test_face.view()\n",
      "test_shape.view()\n",
      "\n",
      "# finally we want to know what the shape model parameters are that best produce this model.\n",
      "params = shape_model.project(test_shape)\n",
      "print 'weightings we hope to find are {}'.format(params)"
     ],
     "language": "python",
     "metadata": {},
     "outputs": []
    },
    {
     "cell_type": "markdown",
     "metadata": {},
     "source": [
      "Align the image to the AAM"
     ]
    },
    {
     "cell_type": "code",
     "collapsed": false,
     "input": [
      "from pybug.align.lucaskanade.residual import LSIntensity\n",
      "from pybug.align.lucaskanade.base import ProjectOutAppearanceForwardAdditive\n",
      "\n",
      "residual = LSIntensity()\n",
      "project_out = ProjectOutAppearanceForwardAdditive(test_face, appearance_model, residual, transform)\n",
      "images = project_out.align()"
     ],
     "language": "python",
     "metadata": {},
     "outputs": []
    }
   ],
   "metadata": {}
  }
 ]
}