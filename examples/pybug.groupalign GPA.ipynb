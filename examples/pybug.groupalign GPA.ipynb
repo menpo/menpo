{
 "metadata": {
  "name": ""
 },
 "nbformat": 3,
 "nbformat_minor": 0,
 "worksheets": [
  {
   "cells": [
    {
     "cell_type": "code",
     "collapsed": false,
     "input": [
      "import numpy as np\n",
      "from pybug.groupalign import GeneralizedProcrustesAnalysis\n",
      "from pybug.shape import PointCloud"
     ],
     "language": "python",
     "metadata": {},
     "outputs": []
    },
    {
     "cell_type": "code",
     "collapsed": false,
     "input": [
      "a = PointCloud(np.array([[0, 0], [1, 0], [0, 1], [1, 1],\n",
      "                         [-0.5, -0.7], [0.8, -0.4], [0.9, -2.1]]))\n",
      "b = PointCloud(np.array([[0,0], [2, 0], [-1, 3], [2, 6],\n",
      "                         [-1.0, -0.01], [1.0, -0.4], [0.8, -1.6]]))\n",
      "\n",
      "gpa = GeneralizedProcrustesAnalysis([a,b])"
     ],
     "language": "python",
     "metadata": {},
     "outputs": []
    }
   ],
   "metadata": {}
  }
 ]
}